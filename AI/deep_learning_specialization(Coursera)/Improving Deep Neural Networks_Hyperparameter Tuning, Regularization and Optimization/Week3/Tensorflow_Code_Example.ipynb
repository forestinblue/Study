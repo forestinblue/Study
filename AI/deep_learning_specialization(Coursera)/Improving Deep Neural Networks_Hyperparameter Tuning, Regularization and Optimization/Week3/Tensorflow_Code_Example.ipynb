{
  "nbformat": 4,
  "nbformat_minor": 0,
  "metadata": {
    "colab": {
      "private_outputs": true,
      "provenance": []
    },
    "kernelspec": {
      "name": "python3",
      "display_name": "Python 3"
    },
    "language_info": {
      "name": "python"
    }
  },
  "cells": [
    {
      "cell_type": "code",
      "execution_count": null,
      "metadata": {
        "id": "8XIwnk9OdjPQ"
      },
      "outputs": [],
      "source": [
        "import numpy as np\n",
        "import tensorflow as tf"
      ]
    },
    {
      "cell_type": "code",
      "source": [
        "w = tf.Variable(0, dtype = tf.float32)\n",
        "optimizer = tf.keras.optimizers.Adam(0.1)\n",
        "\n",
        "def train_step():\n",
        "    with tf.GradientTape() as tape:\n",
        "        cost = w ** 2 - 10 * w + 25\n",
        "    trainable_variables = [w]\n",
        "    grads = tape.gradient(cost, trainable_variables)\n",
        "    optimizer.apply_gradients(zip(grads, trainable_variables))\n",
        "\n",
        "print(w)"
      ],
      "metadata": {
        "id": "4zWXAjrpdrQX"
      },
      "execution_count": null,
      "outputs": []
    },
    {
      "cell_type": "code",
      "source": [
        "train_step()\n",
        "print(w)"
      ],
      "metadata": {
        "id": "Q2zqzeiLgizz"
      },
      "execution_count": null,
      "outputs": []
    },
    {
      "cell_type": "code",
      "source": [
        "for i in range(1000):\n",
        "    train_step()\n",
        "print(w)"
      ],
      "metadata": {
        "id": "6mr7_0AHhLnX"
      },
      "execution_count": null,
      "outputs": []
    },
    {
      "cell_type": "code",
      "source": [
        "w = tf.Variable(0, dtype = tf.float32)\n",
        "x = np.array([1.0, -10.0, 25.0], dtype = np.float32)\n",
        "optimizer = tf.keras.optimizers.Adam(0.1)\n",
        "\n",
        "def training(x, w, optimizer):\n",
        "    def cost_fn():\n",
        "        return x[0] * w **2 + x[1] * w + x[2]\n",
        "    for i in range(1000):\n",
        "        optimizer.minimize(cost_fn, [w])\n",
        "    return w\n",
        "\n",
        "w = training(x, w, optimizer)\n",
        "print(w)"
      ],
      "metadata": {
        "id": "q8R5cYHChZvw"
      },
      "execution_count": null,
      "outputs": []
    },
    {
      "cell_type": "code",
      "source": [],
      "metadata": {
        "id": "LzCPipyOiNC6"
      },
      "execution_count": null,
      "outputs": []
    }
  ]
}