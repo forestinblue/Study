{
 "cells": [
  {
   "cell_type": "markdown",
   "id": "18455f4d",
   "metadata": {},
   "source": [
    "## 문제 1"
   ]
  },
  {
   "cell_type": "code",
   "execution_count": 21,
   "id": "4a9608bf",
   "metadata": {},
   "outputs": [
    {
     "name": "stdout",
     "output_type": "stream",
     "text": [
      "구구단의 단을 입력하세요 : 0\n"
     ]
    }
   ],
   "source": [
    "while True:\n",
    "    question = input(\"구구단의 단을 입력하세요 : \")\n",
    "    if question != '0':\n",
    "        print(question, \" x 9 = \",int(question)*9)\n",
    "        print(question, \" x 8 = \",int(question)*8)\n",
    "        print(question, \" x 7 = \",int(question)*7)\n",
    "        print(question, \" x 6 = \",int(question)*6)\n",
    "        print(question, \" x 5 = \",int(question)*5)\n",
    "        print(question, \" x 4 = \",int(question)*4)\n",
    "        print(question, \" x 3 = \",int(question)*3)\n",
    "        print(question, \" x 2 = \",int(question)*2)\n",
    "        print(question, \" x 1 = \",int(question)*1)\n",
    "    else: break\n"
   ]
  },
  {
   "cell_type": "markdown",
   "id": "fb8544f1",
   "metadata": {},
   "source": [
    "## 문제2"
   ]
  },
  {
   "cell_type": "code",
   "execution_count": 42,
   "id": "47c4dc46",
   "metadata": {},
   "outputs": [
    {
     "name": "stdout",
     "output_type": "stream",
     "text": [
      "Data Structure in Python\n",
      "DATA STRUCTURE IN PYTHON\n",
      "data structure in python\n",
      "dATA  sTRUCTURE  IN  pYTHON"
     ]
    }
   ],
   "source": [
    "msg = \"Data Structure in Python\"\n",
    "print(msg)\n",
    "print(msg.upper())\n",
    "print(msg.lower())\n",
    "\n",
    "for i in list(msg):\n",
    "    if i == i.upper():\n",
    "        print(i.lower(), end=\"\")\n",
    "    if i ==i.lower():\n",
    "        print(i.upper(), end=\"\")"
   ]
  },
  {
   "cell_type": "markdown",
   "id": "ec7c0934",
   "metadata": {},
   "source": [
    "## 문제3"
   ]
  },
  {
   "cell_type": "code",
   "execution_count": 50,
   "id": "34ae88ce",
   "metadata": {},
   "outputs": [
    {
     "name": "stdout",
     "output_type": "stream",
     "text": [
      "{'콩나물해장국': 4000, '갈비탕': 9000, '돈가스': 8000}\n",
      "{'콩나물해장국': 4000, '갈비탕': 9000, '돈가스': 8000, '펫타이': 7000}\n",
      "{'콩나물해장국': 3500, '갈비탕': 8500, '돈가스': 7500, '펫타이': 6500}\n"
     ]
    }
   ],
   "source": [
    "price = {'콩나물해장국': 4000, '갈비탕': 9000, '돈가스': 8000}\n",
    "print(price)\n",
    "price['펫타이'] = 7000\n",
    "print(price)\n",
    "for i in price:\n",
    "    price[i] =price[i] - 500\n",
    "print(price)"
   ]
  },
  {
   "cell_type": "markdown",
   "id": "c99dfc17",
   "metadata": {},
   "source": [
    "## 문제4"
   ]
  },
  {
   "cell_type": "code",
   "execution_count": 53,
   "id": "9207f8f1",
   "metadata": {},
   "outputs": [],
   "source": [
    "lst = [7,2,5,6,1]\n",
    "\n",
    "def sum_lst(lst):\n",
    "    m = 0\n",
    "    for i in lst:\n",
    "        m += i\n",
    "    return m"
   ]
  },
  {
   "cell_type": "code",
   "execution_count": 54,
   "id": "25af892d",
   "metadata": {},
   "outputs": [
    {
     "data": {
      "text/plain": [
       "21"
      ]
     },
     "execution_count": 54,
     "metadata": {},
     "output_type": "execute_result"
    }
   ],
   "source": [
    "sum_lst(lst)"
   ]
  },
  {
   "cell_type": "markdown",
   "id": "30bea461",
   "metadata": {},
   "source": [
    "## 문제 5"
   ]
  },
  {
   "cell_type": "code",
   "execution_count": 73,
   "id": "78516bee",
   "metadata": {},
   "outputs": [
    {
     "name": "stdout",
     "output_type": "stream",
     "text": [
      "구구단의 단을 입력하세요 : 4\n",
      "2 x 1 =  2   3 x 1 =  3   4 x 1 =  4   \n",
      "\n",
      "2 x 2 =  4   3 x 2 =  6   4 x 2 =  8   \n",
      "\n",
      "2 x 3 =  6   3 x 3 =  9   4 x 3 =  12   \n",
      "\n",
      "2 x 4 =  8   3 x 4 =  12   4 x 4 =  16   \n",
      "\n",
      "2 x 5 =  10   3 x 5 =  15   4 x 5 =  20   \n",
      "\n",
      "2 x 6 =  12   3 x 6 =  18   4 x 6 =  24   \n",
      "\n",
      "2 x 7 =  14   3 x 7 =  21   4 x 7 =  28   \n",
      "\n",
      "2 x 8 =  16   3 x 8 =  24   4 x 8 =  32   \n",
      "\n",
      "2 x 9 =  18   3 x 9 =  27   4 x 9 =  36   \n",
      "\n",
      "구구단의 단을 입력하세요 : 6\n",
      "2 x 1 =  2   3 x 1 =  3   4 x 1 =  4   5 x 1 =  5   6 x 1 =  6   \n",
      "\n",
      "2 x 2 =  4   3 x 2 =  6   4 x 2 =  8   5 x 2 =  10   6 x 2 =  12   \n",
      "\n",
      "2 x 3 =  6   3 x 3 =  9   4 x 3 =  12   5 x 3 =  15   6 x 3 =  18   \n",
      "\n",
      "2 x 4 =  8   3 x 4 =  12   4 x 4 =  16   5 x 4 =  20   6 x 4 =  24   \n",
      "\n",
      "2 x 5 =  10   3 x 5 =  15   4 x 5 =  20   5 x 5 =  25   6 x 5 =  30   \n",
      "\n",
      "2 x 6 =  12   3 x 6 =  18   4 x 6 =  24   5 x 6 =  30   6 x 6 =  36   \n",
      "\n",
      "2 x 7 =  14   3 x 7 =  21   4 x 7 =  28   5 x 7 =  35   6 x 7 =  42   \n",
      "\n",
      "2 x 8 =  16   3 x 8 =  24   4 x 8 =  32   5 x 8 =  40   6 x 8 =  48   \n",
      "\n",
      "2 x 9 =  18   3 x 9 =  27   4 x 9 =  36   5 x 9 =  45   6 x 9 =  54   \n",
      "\n",
      "구구단의 단을 입력하세요 : 7\n",
      "2 x 1 =  2   3 x 1 =  3   4 x 1 =  4   5 x 1 =  5   6 x 1 =  6   7 x 1 =  7   \n",
      "\n",
      "2 x 2 =  4   3 x 2 =  6   4 x 2 =  8   5 x 2 =  10   6 x 2 =  12   7 x 2 =  14   \n",
      "\n",
      "2 x 3 =  6   3 x 3 =  9   4 x 3 =  12   5 x 3 =  15   6 x 3 =  18   7 x 3 =  21   \n",
      "\n",
      "2 x 4 =  8   3 x 4 =  12   4 x 4 =  16   5 x 4 =  20   6 x 4 =  24   7 x 4 =  28   \n",
      "\n",
      "2 x 5 =  10   3 x 5 =  15   4 x 5 =  20   5 x 5 =  25   6 x 5 =  30   7 x 5 =  35   \n",
      "\n",
      "2 x 6 =  12   3 x 6 =  18   4 x 6 =  24   5 x 6 =  30   6 x 6 =  36   7 x 6 =  42   \n",
      "\n",
      "2 x 7 =  14   3 x 7 =  21   4 x 7 =  28   5 x 7 =  35   6 x 7 =  42   7 x 7 =  49   \n",
      "\n",
      "2 x 8 =  16   3 x 8 =  24   4 x 8 =  32   5 x 8 =  40   6 x 8 =  48   7 x 8 =  56   \n",
      "\n",
      "2 x 9 =  18   3 x 9 =  27   4 x 9 =  36   5 x 9 =  45   6 x 9 =  54   7 x 9 =  63   \n",
      "\n"
     ]
    },
    {
     "ename": "KeyboardInterrupt",
     "evalue": "Interrupted by user",
     "output_type": "error",
     "traceback": [
      "\u001b[1;31m---------------------------------------------------------------------------\u001b[0m",
      "\u001b[1;31mKeyboardInterrupt\u001b[0m                         Traceback (most recent call last)",
      "\u001b[1;32m<ipython-input-73-3086508b82fd>\u001b[0m in \u001b[0;36m<module>\u001b[1;34m\u001b[0m\n\u001b[0;32m      1\u001b[0m \u001b[1;32mwhile\u001b[0m \u001b[1;32mTrue\u001b[0m\u001b[1;33m:\u001b[0m\u001b[1;33m\u001b[0m\u001b[1;33m\u001b[0m\u001b[0m\n\u001b[1;32m----> 2\u001b[1;33m     \u001b[0mquestion\u001b[0m \u001b[1;33m=\u001b[0m \u001b[0minput\u001b[0m\u001b[1;33m(\u001b[0m\u001b[1;34m\"구구단의 단을 입력하세요 : \"\u001b[0m\u001b[1;33m)\u001b[0m\u001b[1;33m\u001b[0m\u001b[1;33m\u001b[0m\u001b[0m\n\u001b[0m\u001b[0;32m      3\u001b[0m     \u001b[1;32mif\u001b[0m \u001b[0mquestion\u001b[0m \u001b[1;33m!=\u001b[0m \u001b[1;34m'0'\u001b[0m\u001b[1;33m:\u001b[0m\u001b[1;33m\u001b[0m\u001b[1;33m\u001b[0m\u001b[0m\n\u001b[0;32m      4\u001b[0m         \u001b[1;32mfor\u001b[0m \u001b[0mi\u001b[0m \u001b[1;32min\u001b[0m \u001b[0mrange\u001b[0m\u001b[1;33m(\u001b[0m\u001b[1;36m2\u001b[0m\u001b[1;33m,\u001b[0m\u001b[0mint\u001b[0m\u001b[1;33m(\u001b[0m\u001b[0mquestion\u001b[0m\u001b[1;33m)\u001b[0m\u001b[1;33m+\u001b[0m\u001b[1;36m1\u001b[0m\u001b[1;33m)\u001b[0m\u001b[1;33m:\u001b[0m\u001b[1;33m\u001b[0m\u001b[1;33m\u001b[0m\u001b[0m\n\u001b[0;32m      5\u001b[0m             \u001b[0mprint\u001b[0m\u001b[1;33m(\u001b[0m\u001b[0mi\u001b[0m\u001b[1;33m,\u001b[0m \u001b[1;34m'x 1 = '\u001b[0m\u001b[1;33m,\u001b[0m\u001b[0mi\u001b[0m\u001b[1;33m*\u001b[0m\u001b[1;36m1\u001b[0m\u001b[1;33m,\u001b[0m\u001b[0mend\u001b[0m\u001b[1;33m=\u001b[0m\u001b[1;34m'   '\u001b[0m\u001b[1;33m)\u001b[0m\u001b[1;33m\u001b[0m\u001b[1;33m\u001b[0m\u001b[0m\n",
      "\u001b[1;32m~\\anaconda3\\lib\\site-packages\\ipykernel\\kernelbase.py\u001b[0m in \u001b[0;36mraw_input\u001b[1;34m(self, prompt)\u001b[0m\n\u001b[0;32m    858\u001b[0m                 \u001b[1;34m\"raw_input was called, but this frontend does not support input requests.\"\u001b[0m\u001b[1;33m\u001b[0m\u001b[1;33m\u001b[0m\u001b[0m\n\u001b[0;32m    859\u001b[0m             )\n\u001b[1;32m--> 860\u001b[1;33m         return self._input_request(str(prompt),\n\u001b[0m\u001b[0;32m    861\u001b[0m             \u001b[0mself\u001b[0m\u001b[1;33m.\u001b[0m\u001b[0m_parent_ident\u001b[0m\u001b[1;33m,\u001b[0m\u001b[1;33m\u001b[0m\u001b[1;33m\u001b[0m\u001b[0m\n\u001b[0;32m    862\u001b[0m             \u001b[0mself\u001b[0m\u001b[1;33m.\u001b[0m\u001b[0m_parent_header\u001b[0m\u001b[1;33m,\u001b[0m\u001b[1;33m\u001b[0m\u001b[1;33m\u001b[0m\u001b[0m\n",
      "\u001b[1;32m~\\anaconda3\\lib\\site-packages\\ipykernel\\kernelbase.py\u001b[0m in \u001b[0;36m_input_request\u001b[1;34m(self, prompt, ident, parent, password)\u001b[0m\n\u001b[0;32m    902\u001b[0m             \u001b[1;32mexcept\u001b[0m \u001b[0mKeyboardInterrupt\u001b[0m\u001b[1;33m:\u001b[0m\u001b[1;33m\u001b[0m\u001b[1;33m\u001b[0m\u001b[0m\n\u001b[0;32m    903\u001b[0m                 \u001b[1;31m# re-raise KeyboardInterrupt, to truncate traceback\u001b[0m\u001b[1;33m\u001b[0m\u001b[1;33m\u001b[0m\u001b[1;33m\u001b[0m\u001b[0m\n\u001b[1;32m--> 904\u001b[1;33m                 \u001b[1;32mraise\u001b[0m \u001b[0mKeyboardInterrupt\u001b[0m\u001b[1;33m(\u001b[0m\u001b[1;34m\"Interrupted by user\"\u001b[0m\u001b[1;33m)\u001b[0m \u001b[1;32mfrom\u001b[0m \u001b[1;32mNone\u001b[0m\u001b[1;33m\u001b[0m\u001b[1;33m\u001b[0m\u001b[0m\n\u001b[0m\u001b[0;32m    905\u001b[0m             \u001b[1;32mexcept\u001b[0m \u001b[0mException\u001b[0m \u001b[1;32mas\u001b[0m \u001b[0me\u001b[0m\u001b[1;33m:\u001b[0m\u001b[1;33m\u001b[0m\u001b[1;33m\u001b[0m\u001b[0m\n\u001b[0;32m    906\u001b[0m                 \u001b[0mself\u001b[0m\u001b[1;33m.\u001b[0m\u001b[0mlog\u001b[0m\u001b[1;33m.\u001b[0m\u001b[0mwarning\u001b[0m\u001b[1;33m(\u001b[0m\u001b[1;34m\"Invalid Message:\"\u001b[0m\u001b[1;33m,\u001b[0m \u001b[0mexc_info\u001b[0m\u001b[1;33m=\u001b[0m\u001b[1;32mTrue\u001b[0m\u001b[1;33m)\u001b[0m\u001b[1;33m\u001b[0m\u001b[1;33m\u001b[0m\u001b[0m\n",
      "\u001b[1;31mKeyboardInterrupt\u001b[0m: Interrupted by user"
     ]
    }
   ],
   "source": [
    "while True:\n",
    "    question = input(\"구구단의 단을 입력하세요 : \")\n",
    "    if question != '0':\n",
    "        for i in range(2,int(question)+1):\n",
    "            print(i, 'x 1 = ',i*1,end='   ')\n",
    "        print('\\n')\n",
    "        for i in range(2,int(question)+1):\n",
    "            print(i, 'x 2 = ',i*2,end='   ')\n",
    "        print('\\n')\n",
    "        for i in range(2,int(question)+1):\n",
    "            print(i, 'x 3 = ',i*3,end='   ')\n",
    "        print('\\n')\n",
    "        for i in range(2,int(question)+1):\n",
    "            print(i, 'x 4 = ',i*4,end='   ')\n",
    "        print('\\n')\n",
    "        for i in range(2,int(question)+1):\n",
    "            print(i, 'x 5 = ',i*5,end='   ')\n",
    "        print('\\n')\n",
    "        for i in range(2,int(question)+1):\n",
    "            print(i, 'x 6 = ',i*6,end='   ')\n",
    "        print('\\n')\n",
    "        for i in range(2,int(question)+1):\n",
    "            print(i, 'x 7 = ',i*7,end='   ')\n",
    "        print('\\n')\n",
    "        for i in range(2,int(question)+1):\n",
    "            print(i, 'x 8 = ',i*8,end='   ')\n",
    "        print('\\n')\n",
    "        for i in range(2,int(question)+1):\n",
    "            print(i, 'x 9 = ',i*9,end='   ')\n",
    "        print('\\n')\n",
    "\n",
    "    else: break"
   ]
  },
  {
   "cell_type": "markdown",
   "id": "7a29595e",
   "metadata": {},
   "source": [
    "## 문제 6"
   ]
  },
  {
   "cell_type": "code",
   "execution_count": 87,
   "id": "2ed720f1",
   "metadata": {},
   "outputs": [
    {
     "name": "stdout",
     "output_type": "stream",
     "text": [
      "숫자를 입력하세요: 5\n",
      "\n",
      "\n",
      "\n",
      "\n",
      "1 \n",
      "\n",
      "1 3 \n",
      "\n",
      "\n",
      "\n",
      "1 \n",
      "\n",
      "1 3 \n",
      "\n",
      "1 3 5 \n",
      "\n",
      "1 3 5 7 \n",
      "\n",
      "\n",
      "\n",
      "1 \n",
      "\n",
      "1 3 \n",
      "\n",
      "1 3 5 \n",
      "\n",
      "1 3 5 7 \n",
      "\n",
      "1 3 5 7 9 \n",
      "\n",
      "1 3 5 7 9 11 \n",
      "\n",
      "\n",
      "\n",
      "1 \n",
      "\n",
      "1 3 \n",
      "\n",
      "1 3 5 \n",
      "\n",
      "1 3 5 7 \n",
      "\n",
      "1 3 5 7 9 \n",
      "\n",
      "1 3 5 7 9 11 \n",
      "\n",
      "1 3 5 7 9 11 13 \n",
      "\n",
      "1 3 5 7 9 11 13 15 \n",
      "\n"
     ]
    }
   ],
   "source": [
    "n = int(input('숫자를 입력하세요: '))\n",
    "for i in range(n):\n",
    "    for j in range(2*i + 1):\n",
    "        for k in range(j):\n",
    "            print(2*k+1,end=' ')\n",
    "        print('\\n')\n",
    "        #print(\"\\t\",i,\"\\t\")\n",
    "        "
   ]
  },
  {
   "cell_type": "code",
   "execution_count": null,
   "id": "65a511ea",
   "metadata": {},
   "outputs": [],
   "source": []
  }
 ],
 "metadata": {
  "kernelspec": {
   "display_name": "Python 3",
   "language": "python",
   "name": "python3"
  },
  "language_info": {
   "codemirror_mode": {
    "name": "ipython",
    "version": 3
   },
   "file_extension": ".py",
   "mimetype": "text/x-python",
   "name": "python",
   "nbconvert_exporter": "python",
   "pygments_lexer": "ipython3",
   "version": "3.8.10"
  }
 },
 "nbformat": 4,
 "nbformat_minor": 5
}
