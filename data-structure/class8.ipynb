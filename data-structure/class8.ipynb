{
 "cells": [
  {
   "cell_type": "markdown",
   "id": "5c927dd9",
   "metadata": {},
   "source": [
    "## 버블 정렬 알고리즘"
   ]
  },
  {
   "cell_type": "code",
   "execution_count": null,
   "id": "952359b9",
   "metadata": {},
   "outputs": [],
   "source": [
    "def bubble_sort(A):\n",
    "    n = len(A)\n",
    "    for i in range(n-1, 0, -1):\n",
    "        bChanged = False\n",
    "        for j in range(i):\n",
    "            if (A[j] > A[j+1]):\n",
    "                A[j] , A[j+1] = A[j+1], A[j]\n",
    "                bChanged = True\n",
    "        if not bChanged: \n",
    "            break;\n",
    "        printStep(A,n-i);"
   ]
  },
  {
   "cell_type": "markdown",
   "id": "56330090",
   "metadata": {},
   "source": [
    "## 버블 정렬 - 가장 작은 데이터를 왼쪽 끝으로"
   ]
  },
  {
   "cell_type": "code",
   "execution_count": null,
   "id": "ad6d1608",
   "metadata": {},
   "outputs": [],
   "source": [
    "def bubblesort(A):\n",
    "    n = len(A)\n",
    "    for i in range(n-1):\n",
    "        for j in range(n-1, i , -1):\n",
    "            if A[j-1] > A[j]:\n",
    "                A[j-1], A[j] = A[j], A[j-1]"
   ]
  },
  {
   "cell_type": "markdown",
   "id": "e9cb7d16",
   "metadata": {},
   "source": [
    "## 선택 정렬 알고리즘"
   ]
  },
  {
   "cell_type": "code",
   "execution_count": 1,
   "id": "2790d95a",
   "metadata": {},
   "outputs": [],
   "source": [
    "def selection_sort(A):\n",
    "    n = len(A)\n",
    "    for i in range(n-1):\n",
    "        least = i;\n",
    "        for j in range(i+1, n):\n",
    "            if (A[j] < A[least]):\n",
    "                least = j\n",
    "        A[i], A[least] = A[least], A[i]\n",
    "        printStep(A, i+1)"
   ]
  },
  {
   "cell_type": "code",
   "execution_count": 2,
   "id": "05ec5d79",
   "metadata": {},
   "outputs": [
    {
     "name": "stdout",
     "output_type": "stream",
     "text": [
      "Original :  [5, 3, 8, 3, 9, 1, 6, 2, 7]\n"
     ]
    },
    {
     "ename": "NameError",
     "evalue": "name 'printStep' is not defined",
     "output_type": "error",
     "traceback": [
      "\u001b[1;31m---------------------------------------------------------------------------\u001b[0m",
      "\u001b[1;31mNameError\u001b[0m                                 Traceback (most recent call last)",
      "\u001b[1;32mC:\\Users\\KIMJUN~1\\AppData\\Local\\Temp/ipykernel_21360/2724399083.py\u001b[0m in \u001b[0;36m<module>\u001b[1;34m\u001b[0m\n\u001b[0;32m      1\u001b[0m \u001b[0mdata\u001b[0m \u001b[1;33m=\u001b[0m \u001b[1;33m[\u001b[0m\u001b[1;36m5\u001b[0m\u001b[1;33m,\u001b[0m\u001b[1;36m3\u001b[0m\u001b[1;33m,\u001b[0m\u001b[1;36m8\u001b[0m\u001b[1;33m,\u001b[0m\u001b[1;36m3\u001b[0m\u001b[1;33m,\u001b[0m\u001b[1;36m9\u001b[0m\u001b[1;33m,\u001b[0m\u001b[1;36m1\u001b[0m\u001b[1;33m,\u001b[0m\u001b[1;36m6\u001b[0m\u001b[1;33m,\u001b[0m\u001b[1;36m2\u001b[0m\u001b[1;33m,\u001b[0m\u001b[1;36m7\u001b[0m\u001b[1;33m]\u001b[0m\u001b[1;33m\u001b[0m\u001b[1;33m\u001b[0m\u001b[0m\n\u001b[0;32m      2\u001b[0m \u001b[0mprint\u001b[0m\u001b[1;33m(\u001b[0m\u001b[1;34m\"Original : \"\u001b[0m\u001b[1;33m,\u001b[0m \u001b[0mdata\u001b[0m\u001b[1;33m)\u001b[0m\u001b[1;33m\u001b[0m\u001b[1;33m\u001b[0m\u001b[0m\n\u001b[1;32m----> 3\u001b[1;33m \u001b[0mselection_sort\u001b[0m\u001b[1;33m(\u001b[0m\u001b[0mdata\u001b[0m\u001b[1;33m)\u001b[0m\u001b[1;33m\u001b[0m\u001b[1;33m\u001b[0m\u001b[0m\n\u001b[0m\u001b[0;32m      4\u001b[0m \u001b[0mprint\u001b[0m\u001b[1;33m(\u001b[0m\u001b[1;34m\"Selection : \"\u001b[0m\u001b[1;33m,\u001b[0m \u001b[0mdata\u001b[0m\u001b[1;33m)\u001b[0m\u001b[1;33m\u001b[0m\u001b[1;33m\u001b[0m\u001b[0m\n",
      "\u001b[1;32mC:\\Users\\KIMJUN~1\\AppData\\Local\\Temp/ipykernel_21360/3394390910.py\u001b[0m in \u001b[0;36mselection_sort\u001b[1;34m(A)\u001b[0m\n\u001b[0;32m      7\u001b[0m                 \u001b[0mleast\u001b[0m \u001b[1;33m=\u001b[0m \u001b[0mj\u001b[0m\u001b[1;33m\u001b[0m\u001b[1;33m\u001b[0m\u001b[0m\n\u001b[0;32m      8\u001b[0m         \u001b[0mA\u001b[0m\u001b[1;33m[\u001b[0m\u001b[0mi\u001b[0m\u001b[1;33m]\u001b[0m\u001b[1;33m,\u001b[0m \u001b[0mA\u001b[0m\u001b[1;33m[\u001b[0m\u001b[0mleast\u001b[0m\u001b[1;33m]\u001b[0m \u001b[1;33m=\u001b[0m \u001b[0mA\u001b[0m\u001b[1;33m[\u001b[0m\u001b[0mleast\u001b[0m\u001b[1;33m]\u001b[0m\u001b[1;33m,\u001b[0m \u001b[0mA\u001b[0m\u001b[1;33m[\u001b[0m\u001b[0mi\u001b[0m\u001b[1;33m]\u001b[0m\u001b[1;33m\u001b[0m\u001b[1;33m\u001b[0m\u001b[0m\n\u001b[1;32m----> 9\u001b[1;33m         \u001b[0mprintStep\u001b[0m\u001b[1;33m(\u001b[0m\u001b[0mA\u001b[0m\u001b[1;33m,\u001b[0m \u001b[0mi\u001b[0m\u001b[1;33m+\u001b[0m\u001b[1;36m1\u001b[0m\u001b[1;33m)\u001b[0m\u001b[1;33m\u001b[0m\u001b[1;33m\u001b[0m\u001b[0m\n\u001b[0m",
      "\u001b[1;31mNameError\u001b[0m: name 'printStep' is not defined"
     ]
    }
   ],
   "source": [
    "data = [5,3,8,3,9,1,6,2,7]\n",
    "print(\"Original : \", data)\n",
    "selection_sort(data)\n",
    "print(\"Selection : \", data)"
   ]
  },
  {
   "cell_type": "markdown",
   "id": "9ba4cddc",
   "metadata": {},
   "source": [
    "## 삽입 정렬 알고리즘"
   ]
  },
  {
   "cell_type": "code",
   "execution_count": null,
   "id": "268b7be7",
   "metadata": {},
   "outputs": [],
   "source": [
    "def insertion_sort(A):\n",
    "    n = len(A)\n",
    "    for i in range(1, n):\n",
    "        key = A[i]\n",
    "        j = i -1\n",
    "        while j >= 0 and a[j] > key :\n",
    "            A[j+1] = A[j]\n",
    "            j -= 1\n",
    "        A[j + 1] = key\n",
    "        printStep(A, i)"
   ]
  },
  {
   "cell_type": "markdown",
   "id": "fe4d314d",
   "metadata": {},
   "source": [
    "### 정렬 응용: 집합 다시 보기 - 시간이 있으면 해봐라 (그냥 지나가다)"
   ]
  },
  {
   "cell_type": "code",
   "execution_count": null,
   "id": "678345b1",
   "metadata": {},
   "outputs": [],
   "source": [
    "def insert(self, elem):  #정렬된 상태를 유지하면서 elem\n",
    "    if elem in self.items:  #이미 있음\n",
    "        return   \n",
    "    for idx in range(len(self.items)):  #loop: n번\n",
    "        if elem < self.items[idx]:   #삽입할 위치 idx를 찾음\n",
    "            self.items.insert(idx, elem)  #그 위치에 삽입\n",
    "            return\n",
    "    self.items.append(elem)  #맨 뒤에 삽입"
   ]
  },
  {
   "cell_type": "markdown",
   "id": "f9a05f78",
   "metadata": {},
   "source": [
    "### 비교 연산: __eq__"
   ]
  },
  {
   "cell_type": "code",
   "execution_count": null,
   "id": "9eabaf81",
   "metadata": {},
   "outputs": [],
   "source": [
    "def __eq__(self, setB):   #두 집합 self, setB가 같은 집합인가?\n",
    "    if self.size() != setB.size():  #원소의 개수가 같아야 함\n",
    "        return False\n",
    "    for idx in range(len(self.items)):  #loop: n번\n",
    "        if self.items[idx] != setB.items[idx]:  #원소별로 같은지 검사\n",
    "            return False\n",
    "    return True"
   ]
  },
  {
   "cell_type": "markdown",
   "id": "4dad5deb",
   "metadata": {},
   "source": [
    "### 개선된 합집합 알고리즘"
   ]
  },
  {
   "cell_type": "code",
   "execution_count": null,
   "id": "8fd4e965",
   "metadata": {},
   "outputs": [],
   "source": [
    "def union(self, setB):  #집합 self와 집합 setB의 합집합\n",
    "    newSet = Set()   #반환할 합집합\n",
    "    a = 0   #집합 self의 원소에 대한 인덱스\n",
    "    b = 0   #집합 setB의 원소에 대한 인덱스\n",
    "    while a < len(self.items) and b < len(setB.items):\n",
    "        valueA = self.items[a]  #집합 self의 현재 원소\n",
    "        valueB = setB.items[b]  #집합 setB의 현재 원소\n",
    "        if valueA < valueB:   #self의 원소가 더 작으면\n",
    "            newSet.items.append(valueA) #이 원소를 합집합에 추가\n",
    "            a += 1   #self의  현재 우너소 인덱스 증가\n",
    "        elif valueA > valueB:  # setB의 원소가 더 작으면\n",
    "            newSet.items.append(valueB)  #이 원소를 합집합에 추가 \n",
    "            b += 1  #setB의 현재원소 인덱스 증가\n",
    "        else:  #중복되는 원소\n",
    "            newSet.items.append(valueA)  #하나만 추가\n",
    "            a += 1  #self와 setB의 인덱스 모두 증가\n",
    "            b += 1\n",
    "    while a < len(self.items):  #self에 남은 원소를 모두 추가\n",
    "        newSet.items.append(self.items[a])\n",
    "        a += 1\n",
    "    while b < len(setB.items):  #setB에 남은 원소를 모두 추가\n",
    "        newSet.items.append(setB.items[b])\n",
    "        b+= 1\n",
    "    return newSet  #합집합 반환"
   ]
  },
  {
   "cell_type": "markdown",
   "id": "9f74f34b",
   "metadata": {},
   "source": [
    "집합의 연산: insert(e), __eq__, union, ...., 별로 중요하지 않으니 보고 넘어가라"
   ]
  },
  {
   "cell_type": "markdown",
   "id": "571f9743",
   "metadata": {},
   "source": [
    " 순차 탐색, 이진 탐색 잘 알아두기 바란다"
   ]
  },
  {
   "cell_type": "markdown",
   "id": "fd06d7d5",
   "metadata": {},
   "source": [
    "### 순차 탐색 알고리즘"
   ]
  },
  {
   "cell_type": "code",
   "execution_count": null,
   "id": "ae48c0f4",
   "metadata": {},
   "outputs": [],
   "source": [
    "def sequential_search(A, key, low, high):  #순차 탐색\n",
    "    for i in range(low, high+1):  #i : low , low+1, ... , high\n",
    "        if A[i].key == key:  # 탐색 성공하면\n",
    "            return i  #인덱스 반환\n",
    "    return None  #탐색에 실패하면 None 반환"
   ]
  },
  {
   "cell_type": "markdown",
   "id": "82d2761b",
   "metadata": {},
   "source": [
    "### 이진 탐색 알고리즘 (재귀적인 방법)"
   ]
  },
  {
   "cell_type": "code",
   "execution_count": null,
   "id": "5e0e9c56",
   "metadata": {},
   "outputs": [],
   "source": [
    "def binary_search(A, key, low, high) :\n",
    "    if (low <= high):  #항목들이 남아 있으면 (종료조건)\n",
    "        middle = (low + high) //2  #정수 나눗셈 //에 주의할 것.\n",
    "        if key == A[middle].key:   #탐색 성공\n",
    "            return middle\n",
    "        elif (key<A[middle].key):   #왼쪽 부분리스트 탐색\n",
    "            return binary_search(A, key, low , middle - 1)\n",
    "        else:   #오른쪽 부분리스트 탐색\n",
    "            return binary_search(A, key, middle+1, high)\n",
    "    return None   #탐색 실패"
   ]
  },
  {
   "cell_type": "markdown",
   "id": "284fd44c",
   "metadata": {},
   "source": [
    "### 이진 탐색 알고리즘 (반복적인 방법)"
   ]
  },
  {
   "cell_type": "code",
   "execution_count": null,
   "id": "08be0224",
   "metadata": {},
   "outputs": [],
   "source": [
    "def binarySearch(A, target):\n",
    "    low = 0\n",
    "    high = len(A) - 1\n",
    "    while low <= high:\n",
    "        mid = (low + high) // 2\n",
    "        if A[mid] == target:\n",
    "            return mid\n",
    "        elif target < A[mid]:\n",
    "            high = mid - 1\n",
    "        else:\n",
    "            low = mid + 1\n",
    "    return -1"
   ]
  },
  {
   "cell_type": "markdown",
   "id": "9a94db73",
   "metadata": {},
   "source": [
    "### 해시 함수"
   ]
  },
  {
   "cell_type": "code",
   "execution_count": null,
   "id": "a1c338d2",
   "metadata": {},
   "outputs": [],
   "source": [
    "def hashFn(key):\n",
    "    sum = 0\n",
    "    for c in key:  #문자열의 모든 문자에 대해\n",
    "        sum = sum + ord(c)  # 그 문자의 아스키 값을 sum에 더함\n",
    "    return sum % M"
   ]
  },
  {
   "cell_type": "markdown",
   "id": "8f8f6c8b",
   "metadata": {},
   "source": [
    "### 맵의 응용: 나의 단어장"
   ]
  },
  {
   "cell_type": "code",
   "execution_count": null,
   "id": "2a8b6384",
   "metadata": {},
   "outputs": [],
   "source": [
    "class Entry:\n",
    "    def __init__(self, key, value):\n",
    "        self.key = key\n",
    "        self.value = value\n",
    "        \n",
    "    def __str__(self):\n",
    "        return str(\"%s:%s\"%(self.key, self.value))\n",
    "    \n",
    "    "
   ]
  },
  {
   "cell_type": "markdown",
   "id": "d15bd23f",
   "metadata": {},
   "source": [
    "### 리스트를 이용한 순차탐색 맵"
   ]
  },
  {
   "cell_type": "code",
   "execution_count": 4,
   "id": "27eb7c38",
   "metadata": {},
   "outputs": [],
   "source": [
    "class SequentialMap:   #순차 탐색 맵\n",
    "    def __init__(self):\n",
    "        self.table = []  #맵의 레코드 테이블\n",
    "    def insert(self, key, value):  #삽입 연산\n",
    "        self.table.append(Entry(key, value))  #리스트의 맨 뒤에 추가\n",
    "        \n",
    "    def search(self, key):  #순차 탐색 연산\n",
    "        pos = sequential_search(self.table, key, 0, self.size() - 1)\n",
    "        if pos is not None :\n",
    "            return self.table[pos]\n",
    "        else:\n",
    "            return None\n",
    "    def delete(self, key):  #삭제 연산: 항목 위치를 찾아 pop\n",
    "        for i in range(self.size()):\n",
    "            if self.table[i].key == key:  # 삭제할 위치를 먼저 찾고\n",
    "                self.table.pop(i)  #리스트의 pop으로 삭제\n",
    "                return"
   ]
  },
  {
   "cell_type": "code",
   "execution_count": 5,
   "id": "7d8a3354",
   "metadata": {},
   "outputs": [
    {
     "ename": "NameError",
     "evalue": "name 'Entry' is not defined",
     "output_type": "error",
     "traceback": [
      "\u001b[1;31m---------------------------------------------------------------------------\u001b[0m",
      "\u001b[1;31mNameError\u001b[0m                                 Traceback (most recent call last)",
      "\u001b[1;32mC:\\Users\\KIMJUN~1\\AppData\\Local\\Temp/ipykernel_21360/4159873927.py\u001b[0m in \u001b[0;36m<module>\u001b[1;34m\u001b[0m\n\u001b[0;32m      1\u001b[0m \u001b[0mmap\u001b[0m \u001b[1;33m=\u001b[0m \u001b[0mSequentialMap\u001b[0m\u001b[1;33m(\u001b[0m\u001b[1;33m)\u001b[0m\u001b[1;33m\u001b[0m\u001b[1;33m\u001b[0m\u001b[0m\n\u001b[1;32m----> 2\u001b[1;33m \u001b[0mmap\u001b[0m\u001b[1;33m.\u001b[0m\u001b[0minsert\u001b[0m\u001b[1;33m(\u001b[0m\u001b[1;34m'data'\u001b[0m\u001b[1;33m,\u001b[0m \u001b[1;34m'자료'\u001b[0m\u001b[1;33m)\u001b[0m\u001b[1;33m\u001b[0m\u001b[1;33m\u001b[0m\u001b[0m\n\u001b[0m\u001b[0;32m      3\u001b[0m \u001b[0mmap\u001b[0m\u001b[1;33m.\u001b[0m\u001b[0minsert\u001b[0m\u001b[1;33m(\u001b[0m\u001b[1;34m'structure'\u001b[0m\u001b[1;33m,\u001b[0m \u001b[1;34m'구조'\u001b[0m\u001b[1;33m)\u001b[0m\u001b[1;33m\u001b[0m\u001b[1;33m\u001b[0m\u001b[0m\n\u001b[0;32m      4\u001b[0m \u001b[0mmap\u001b[0m\u001b[1;33m.\u001b[0m\u001b[0minsert\u001b[0m\u001b[1;33m(\u001b[0m\u001b[1;34m'sequential search'\u001b[0m\u001b[1;33m,\u001b[0m \u001b[1;34m'선형 탐색'\u001b[0m\u001b[1;33m)\u001b[0m\u001b[1;33m\u001b[0m\u001b[1;33m\u001b[0m\u001b[0m\n\u001b[0;32m      5\u001b[0m \u001b[0mmap\u001b[0m\u001b[1;33m.\u001b[0m\u001b[0minsert\u001b[0m\u001b[1;33m(\u001b[0m\u001b[1;34m'game'\u001b[0m\u001b[1;33m,\u001b[0m \u001b[1;34m'게임'\u001b[0m\u001b[1;33m)\u001b[0m\u001b[1;33m\u001b[0m\u001b[1;33m\u001b[0m\u001b[0m\n",
      "\u001b[1;32mC:\\Users\\KIMJUN~1\\AppData\\Local\\Temp/ipykernel_21360/1950204580.py\u001b[0m in \u001b[0;36minsert\u001b[1;34m(self, key, value)\u001b[0m\n\u001b[0;32m      3\u001b[0m         \u001b[0mself\u001b[0m\u001b[1;33m.\u001b[0m\u001b[0mtable\u001b[0m \u001b[1;33m=\u001b[0m \u001b[1;33m[\u001b[0m\u001b[1;33m]\u001b[0m  \u001b[1;31m#맵의 레코드 테이블\u001b[0m\u001b[1;33m\u001b[0m\u001b[1;33m\u001b[0m\u001b[0m\n\u001b[0;32m      4\u001b[0m     \u001b[1;32mdef\u001b[0m \u001b[0minsert\u001b[0m\u001b[1;33m(\u001b[0m\u001b[0mself\u001b[0m\u001b[1;33m,\u001b[0m \u001b[0mkey\u001b[0m\u001b[1;33m,\u001b[0m \u001b[0mvalue\u001b[0m\u001b[1;33m)\u001b[0m\u001b[1;33m:\u001b[0m  \u001b[1;31m#삽입 연산\u001b[0m\u001b[1;33m\u001b[0m\u001b[1;33m\u001b[0m\u001b[0m\n\u001b[1;32m----> 5\u001b[1;33m         \u001b[0mself\u001b[0m\u001b[1;33m.\u001b[0m\u001b[0mtable\u001b[0m\u001b[1;33m.\u001b[0m\u001b[0mappend\u001b[0m\u001b[1;33m(\u001b[0m\u001b[0mEntry\u001b[0m\u001b[1;33m(\u001b[0m\u001b[0mkey\u001b[0m\u001b[1;33m,\u001b[0m \u001b[0mvalue\u001b[0m\u001b[1;33m)\u001b[0m\u001b[1;33m)\u001b[0m  \u001b[1;31m#리스트의 맨 뒤에 추가\u001b[0m\u001b[1;33m\u001b[0m\u001b[1;33m\u001b[0m\u001b[0m\n\u001b[0m\u001b[0;32m      6\u001b[0m \u001b[1;33m\u001b[0m\u001b[0m\n\u001b[0;32m      7\u001b[0m     \u001b[1;32mdef\u001b[0m \u001b[0msearch\u001b[0m\u001b[1;33m(\u001b[0m\u001b[0mself\u001b[0m\u001b[1;33m,\u001b[0m \u001b[0mkey\u001b[0m\u001b[1;33m)\u001b[0m\u001b[1;33m:\u001b[0m  \u001b[1;31m#순차 탐색 연산\u001b[0m\u001b[1;33m\u001b[0m\u001b[1;33m\u001b[0m\u001b[0m\n",
      "\u001b[1;31mNameError\u001b[0m: name 'Entry' is not defined"
     ]
    }
   ],
   "source": [
    "map = SequentialMap()\n",
    "map.insert('data', '자료')\n",
    "map.insert('structure', '구조')\n",
    "map.insert('sequential search', '선형 탐색')\n",
    "map.insert('game', '게임')\n",
    "map.insert('binary search', '이진 탐색')\n",
    "map.display(\"나의 단어장: \")\n",
    "\n",
    "print(\"탐색:game --> \", map.search('game'))\n",
    "print(\"탐색:over --> \", map.search('over'))\n",
    "print(\"탐색:data --> \", map.search('data'))\n",
    "\n",
    "map.delete('game')\n",
    "map.display('나의 단어장: ')"
   ]
  },
  {
   "cell_type": "markdown",
   "id": "ee651285",
   "metadata": {},
   "source": [
    "### 파이썬의 딕셔너리를 이용한 구현"
   ]
  },
  {
   "cell_type": "code",
   "execution_count": null,
   "id": "591b74d4",
   "metadata": {},
   "outputs": [],
   "source": [
    "d = {}\n",
    "d['ata']"
   ]
  },
  {
   "cell_type": "markdown",
   "id": "7dec652e",
   "metadata": {},
   "source": [
    "### 체이닝을 이용한 해시 맵 (실습 과제)"
   ]
  },
  {
   "cell_type": "code",
   "execution_count": null,
   "id": "69747322",
   "metadata": {},
   "outputs": [],
   "source": [
    "class HashChainMap:\n",
    "    def __init__(self, M):\n",
    "        self.table = [None]*M\n",
    "        self.M = M\n",
    "        \n",
    "    def hashFn(self, key):\n",
    "        sum = 0\n",
    "        for c in key:\n",
    "            sum = sum + ord(c)\n",
    "        return sum % self.M\n",
    "    \n",
    "    def insert(self, key, value):  #(key,value) 입력\n",
    "        idx = self.hashFn(key)  #해시 주소 계산\n",
    "        self.table[idx] = Node(Entry(key, value), self.table[idx])  #전단 삽입\n",
    "        entry = Entry(key, value) #(1) 엔트리를 생성\n",
    "        node = Node(entry)  #(2) 엔트리로 노드를 생성\n",
    "        node.link = self.table[idx] #(3) 노드의 링크필드 처리\n",
    "        self.table[idx] = node  #(4) 테이블의 idx 항목: node로 시작"
   ]
  }
 ],
 "metadata": {
  "kernelspec": {
   "display_name": "Python 3 (ipykernel)",
   "language": "python",
   "name": "python3"
  },
  "language_info": {
   "codemirror_mode": {
    "name": "ipython",
    "version": 3
   },
   "file_extension": ".py",
   "mimetype": "text/x-python",
   "name": "python",
   "nbconvert_exporter": "python",
   "pygments_lexer": "ipython3",
   "version": "3.8.10"
  }
 },
 "nbformat": 4,
 "nbformat_minor": 5
}
