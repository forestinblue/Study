{
 "cells": [
  {
   "cell_type": "markdown",
   "id": "a8fb726e",
   "metadata": {},
   "source": [
    "## 단순연결리스트 응용: 연결된 스택"
   ]
  },
  {
   "cell_type": "code",
   "execution_count": 1,
   "id": "7920604e",
   "metadata": {},
   "outputs": [],
   "source": [
    "class Node:   #단순연결리스트를 위한 노드 클래스\n",
    "    def __init__(self, elem, link=None):   #생성자, 디폴트 인수 사용\n",
    "        self.data = elem   #데이터 맴버 생성 및 초기화\n",
    "        self.link = link   #링크 생성 및 초기화"
   ]
  },
  {
   "cell_type": "code",
   "execution_count": null,
   "id": "24cb71b5",
   "metadata": {},
   "outputs": [],
   "source": [
    "class LinkedStack:\n",
    "    def __init__(self):  #생성자\n",
    "        self.top = None  # top 생성 및 초기화\n",
    "        \n",
    "    def isEmpty(self):   #공백 상태 검사 \n",
    "        return self.top == None\n",
    "    \n",
    "    def clear(self):   #스택 초기화\n",
    "        self.top = None\n",
    "    \n",
    "    def push(self, item):  #연결된 스택의 삽입연산\n",
    "        n = Node(item, self.top)  #step1 +step2\n",
    "        self.top = n   #step3\n",
    "    \n",
    "    def pop(self):    #연결된 스택의 삭제 연산\n",
    "        if not self.isEmpty():  #공백이 아니면\n",
    "            n = self.top   #STEP1\n",
    "            self.top = self.n.link  #STEP2\n",
    "            return n.data  #STEP3\n",
    "        \n",
    "    #전체 노드의 방문\n",
    "    def size(self):     #스택의 항목 수 계산\n",
    "        node = self.top   #시작 노드\n",
    "        count = 0\n",
    "        while not node == None :   #Node가 None이 아닐 때 까지\n",
    "            node = node.link   #다음 노드로 이동\n",
    "            count += 1   #count 증가\n",
    "        return count    #count 반환"
   ]
  },
  {
   "cell_type": "markdown",
   "id": "e0d02519",
   "metadata": {},
   "source": [
    "## 단순연결리스트 응용: 연결 리스트"
   ]
  },
  {
   "cell_type": "code",
   "execution_count": 2,
   "id": "67024231",
   "metadata": {},
   "outputs": [],
   "source": [
    "class LinkedList:     #연결된 리스트 클래스\n",
    "    def __init__(self):\n",
    "        self.head = None\n",
    "        \n",
    "    def isEmpty(self):    #공백상태 검사\n",
    "        return self.head == None\n",
    "    \n",
    "    def clear(self):   #리스트 초기화\n",
    "        self.head = None\n",
    "        \n",
    "    #def size(self):  #self.top -> self.head로 수정. 코드 동일\n",
    "     #   ....\n",
    "    \n",
    "   # def display(self,msg):  #self.top -> self.head로 수정, 코드 동일\n",
    "    #    ....\n",
    "    \n",
    "    #연결 리스트 메소드\n",
    "    \n",
    "    #pos번째 노드 반환: getNode(pos)\n",
    "    def getNode(self, pos):   #pos번째 노드 반환\n",
    "        if pos < 0 :   \n",
    "            return None\n",
    "        node = self.head;   #node는 head부터 시작\n",
    "        while pos > 0 and node != None:  #pos반 반복\n",
    "            node = node.link   #node를 다음 노드로 이동\n",
    "            pos -= 1    #남은 반복 횟수 줄임\n",
    "        return node    #최종 노드 반환\n",
    "    \n",
    "    #getEntry(pos), replace(pos,elem), find(val)\n",
    "    def getEntry(self, pos):   #pos번째 노드의 데이터 변환\n",
    "        node = self.getMode(pos)   #pos번째 노드\n",
    "        if node == None:   #찾는 노드가 없는 경우\n",
    "            return None\n",
    "        else:    # 그 노드의 데이터 필드 변환\n",
    "            return node.data\n",
    "        \n",
    "    #삽입연산: insert(pos,elem)\n",
    "    def insert(self, pos, elem):\n",
    "        before = self.getNode(pos-1)   #before 노드를 찾음\n",
    "        if before == None:   #맨 앞에 삽입하는 경유\n",
    "            self.head = Node(elem, self.head)  #맨 앞에 삽입함\n",
    "            \n",
    "        else:   #중간에 앞에 삽입하는 경우\n",
    "            node = Node(elem, before.link)  #노드 생성 + step1\n",
    "            before.link = node  #step2 \n",
    "            \n",
    "    #삭제연산: delete(pos)\n",
    "    def delete(self, pos):\n",
    "        before = self.getNode(pos-1)   #before 노드를 찾음\n",
    "        if before == None :   #시작노드를 삭제\n",
    "            if self.head is not None:  #공백이 아니면\n",
    "                self.head = self.head.link  #head를 다음으로 이동\n",
    "            elif before.link != None:  #중간에 있는 노드 삭제\n",
    "                before.link = before.link.link  #Step1"
   ]
  },
  {
   "cell_type": "code",
   "execution_count": 6,
   "id": "88ce2c1b",
   "metadata": {},
   "outputs": [
    {
     "ename": "AttributeError",
     "evalue": "'LinkedList' object has no attribute 'display'",
     "output_type": "error",
     "traceback": [
      "\u001b[1;31m---------------------------------------------------------------------------\u001b[0m",
      "\u001b[1;31mAttributeError\u001b[0m                            Traceback (most recent call last)",
      "\u001b[1;32mC:\\Users\\KIMJUN~1\\AppData\\Local\\Temp/ipykernel_23220/93804962.py\u001b[0m in \u001b[0;36m<module>\u001b[1;34m\u001b[0m\n\u001b[0;32m      1\u001b[0m \u001b[0ms\u001b[0m \u001b[1;33m=\u001b[0m \u001b[0mLinkedList\u001b[0m\u001b[1;33m(\u001b[0m\u001b[1;33m)\u001b[0m\u001b[1;33m\u001b[0m\u001b[1;33m\u001b[0m\u001b[0m\n\u001b[1;32m----> 2\u001b[1;33m \u001b[0ms\u001b[0m\u001b[1;33m.\u001b[0m\u001b[0mdisplay\u001b[0m\u001b[1;33m(\u001b[0m\u001b[1;34m'단순연결리스트로 구현한 리스트(초기상태):'\u001b[0m\u001b[1;33m)\u001b[0m\u001b[1;33m\u001b[0m\u001b[1;33m\u001b[0m\u001b[0m\n\u001b[0m\u001b[0;32m      3\u001b[0m \u001b[0ms\u001b[0m\u001b[1;33m.\u001b[0m\u001b[0minsert\u001b[0m\u001b[1;33m(\u001b[0m\u001b[1;36m0\u001b[0m\u001b[1;33m,\u001b[0m \u001b[1;36m10\u001b[0m\u001b[1;33m)\u001b[0m\u001b[1;33m;\u001b[0m  \u001b[0ms\u001b[0m\u001b[1;33m.\u001b[0m\u001b[0minsert\u001b[0m\u001b[1;33m(\u001b[0m\u001b[1;36m0\u001b[0m\u001b[1;33m,\u001b[0m \u001b[1;36m20\u001b[0m\u001b[1;33m)\u001b[0m\u001b[1;33m;\u001b[0m  \u001b[0ms\u001b[0m\u001b[1;33m.\u001b[0m\u001b[0minsert\u001b[0m\u001b[1;33m(\u001b[0m\u001b[1;36m1\u001b[0m\u001b[1;33m,\u001b[0m \u001b[1;36m30\u001b[0m\u001b[1;33m)\u001b[0m\u001b[1;33m\u001b[0m\u001b[1;33m\u001b[0m\u001b[0m\n\u001b[0;32m      4\u001b[0m \u001b[0ms\u001b[0m\u001b[1;33m.\u001b[0m\u001b[0minsert\u001b[0m\u001b[1;33m(\u001b[0m\u001b[0ms\u001b[0m\u001b[1;33m.\u001b[0m\u001b[0msize\u001b[0m\u001b[1;33m(\u001b[0m\u001b[1;33m)\u001b[0m\u001b[1;33m,\u001b[0m \u001b[1;36m40\u001b[0m\u001b[1;33m)\u001b[0m\u001b[1;33m;\u001b[0m  \u001b[0ms\u001b[0m\u001b[1;33m.\u001b[0m\u001b[0minsert\u001b[0m\u001b[1;33m(\u001b[0m\u001b[1;36m2\u001b[0m\u001b[1;33m,\u001b[0m \u001b[1;36m50\u001b[0m\u001b[1;33m)\u001b[0m\u001b[1;33m\u001b[0m\u001b[1;33m\u001b[0m\u001b[0m\n\u001b[0;32m      5\u001b[0m \u001b[1;31m#s.display(\"단순연결리스트로 구현한 리스트(삽입x5):\")\u001b[0m\u001b[1;33m\u001b[0m\u001b[1;33m\u001b[0m\u001b[1;33m\u001b[0m\u001b[0m\n",
      "\u001b[1;31mAttributeError\u001b[0m: 'LinkedList' object has no attribute 'display'"
     ]
    }
   ],
   "source": [
    "s = LinkedList()\n",
    "s.display('단순연결리스트로 구현한 리스트(초기상태):')\n",
    "s.insert(0, 10);  s.insert(0, 20);  s.insert(1, 30)\n",
    "s.insert(s.size(), 40);  s.insert(2, 50)\n",
    "s.display(\"단순연결리스트로 구현한 리스트(삽입x5):\")\n",
    "s.replace(2, 90)\n",
    "s.display(\"단순연결리스트로 구현한 리스트(교체x1):\")\n",
    "s.delete(2); s.delete(s.size() - 1); s.delete(0)\n",
    "s.display(\"단순연결리스트로 구현한 리스트(삭제x3):\")\n",
    "s.clear()\n",
    "s.display(\"단순연결리스트로 구현한 리스트(정리후):\")\n",
    "\n"
   ]
  },
  {
   "cell_type": "markdown",
   "id": "3824e05d",
   "metadata": {},
   "source": [
    "## UnsortedLinkedList"
   ]
  },
  {
   "cell_type": "code",
   "execution_count": null,
   "id": "d861e61f",
   "metadata": {},
   "outputs": [],
   "source": [
    "class Node:\n",
    "    def __init__(self, it, nt = None):\n",
    "        self.item = it\n",
    "        self.next = nt\n",
    "        \n",
    "class UnsortedLinkedList:\n",
    "    def __init__(self):\n",
    "        self.head = None\n",
    "    def isEmpty(self):\n",
    "    def clear(self):\n",
    "    def insertFirst(self, data):\n",
    "        newNode = Node(data,self.head)\n",
    "        self.head = newNode\n",
    "    def insertLast(self, data):\n",
    "        if self.head is None:   #처음 데이터 삭제\n",
    "            self.head = Node(data, self.head)\n",
    "        else:   # 맨 마지막 노드 다음에 새로운 노드 삽입\n",
    "            tmp = self.head\n",
    "            while temp.next is not None:\n",
    "                tmp = tmp.next\n",
    "            tmp.next = Node(data)\n",
    "    def remove(self, data):\n",
    "         if self.isEmpty():\n",
    "                raise Exception(\"List is empty\")\n",
    "            prev = None\n",
    "            curr = self.head\n",
    "            while curr is not None:\n",
    "                if curr.item == data:\n",
    "                    break\n",
    "                prev = curr\n",
    "                curr = curr.next\n",
    "            if curr is None:  #리스트 끝까지 갔지만 data 찾지 못함\n",
    "                return False\n",
    "            elif prev is None:\n",
    "                self.head = self.head.next\n",
    "            else:   # 중간 또는 맨 끝 노드의 데이터와 일치\n",
    "                prev.next = curr.next\n",
    "            return True\n",
    "    def find(self, data):\n",
    "    def print(self):"
   ]
  },
  {
   "cell_type": "code",
   "execution_count": null,
   "id": "be3f020e",
   "metadata": {},
   "outputs": [],
   "source": [
    "lst = UnsortedLinkedList()\n",
    "...\n",
    "try:\n",
    "    if lst.remove(elem):\n",
    "        print(elem, \"removed\")\n",
    "    else:\n",
    "        print(\"No such element\")\n",
    "except Exception as e:\n",
    "    print(e)"
   ]
  },
  {
   "cell_type": "markdown",
   "id": "6f1987eb",
   "metadata": {},
   "source": [
    "### 연결된 큐 클래스"
   ]
  },
  {
   "cell_type": "code",
   "execution_count": 7,
   "id": "c4502a34",
   "metadata": {},
   "outputs": [],
   "source": [
    "class CircularLinkedQueue:\n",
    "    def __init__(self):   # 생성자 함수\n",
    "        self.tail = None  # tail: 유일한 데이터\n",
    "    def isEmpty(self):   #공백상태 검사\n",
    "        return self.tail == None  \n",
    "    def clear(self):  #큐 초기화\n",
    "        self.tail = None  #peek  연산\n",
    "    def peek(self):  #peek 연산\n",
    "        if not self.isEmpty():  #공백이 아니면\n",
    "            return self.tail.link.data  #front의 data를 반환\n",
    "    def enequeue(self, item):\n",
    "        node = Node(item, None)\n",
    "        if self.isEmpty():\n",
    "            node.link = node\n",
    "            self.tail = node\n",
    "        else:\n",
    "            node.link = self.tail.link\n",
    "            self.tail.link = node\n",
    "            self.tail = node\n",
    "    def dequeue(self):\n",
    "        if not self.isEmpty():\n",
    "            data = self.tail.link.data\n",
    "            if self.tail.link == self.tail:\n",
    "                self.tail = None\n",
    "            else:\n",
    "                self.tail.link = self.tail.link.link\n",
    "            return data\n",
    "    #전체 노드의 방문\n",
    "    def size(self):\n",
    "        if self.isEmpty():   #공백: 0반환\n",
    "            return 0    \n",
    "        else:     #공백이 아니면\n",
    "            count = 1   #count는 최소 1\n",
    "            node = self.tail.link  #node는 front부터 출발\n",
    "            while not node == self.tail:   #node가 rear가 아닌 동안\n",
    "                node = node.link    #이동\n",
    "                count += 1    #count 증가\n",
    "            return count   #최종 count 반환"
   ]
  },
  {
   "cell_type": "code",
   "execution_count": 9,
   "id": "ca752f41",
   "metadata": {},
   "outputs": [
    {
     "data": {
      "text/plain": [
       "<__main__.CircularLinkedQueue at 0x2acdbd159a0>"
      ]
     },
     "execution_count": 9,
     "metadata": {},
     "output_type": "execute_result"
    }
   ],
   "source": [
    "q = CircularLinkedQueue()  #연결된 큐 만들기\n"
   ]
  },
  {
   "cell_type": "code",
   "execution_count": null,
   "id": "15c3a7a3",
   "metadata": {},
   "outputs": [],
   "source": []
  }
 ],
 "metadata": {
  "kernelspec": {
   "display_name": "Python 3 (ipykernel)",
   "language": "python",
   "name": "python3"
  },
  "language_info": {
   "codemirror_mode": {
    "name": "ipython",
    "version": 3
   },
   "file_extension": ".py",
   "mimetype": "text/x-python",
   "name": "python",
   "nbconvert_exporter": "python",
   "pygments_lexer": "ipython3",
   "version": "3.8.10"
  }
 },
 "nbformat": 4,
 "nbformat_minor": 5
}
