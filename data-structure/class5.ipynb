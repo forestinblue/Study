{
 "cells": [
  {
   "cell_type": "markdown",
   "id": "da259eb7",
   "metadata": {},
   "source": [
    "# 원형 큐의 구현"
   ]
  },
  {
   "cell_type": "code",
   "execution_count": 9,
   "id": "1bc93657",
   "metadata": {},
   "outputs": [
    {
     "name": "stdout",
     "output_type": "stream",
     "text": [
      "[1]\n"
     ]
    }
   ],
   "source": [
    "A = [1,2,3,4,5]\n",
    "print(A[0:1])\n"
   ]
  },
  {
   "cell_type": "code",
   "execution_count": 6,
   "id": "31d643b6",
   "metadata": {},
   "outputs": [],
   "source": [
    "MAX_QSIZE = 10  #원형 큐의 크기\n",
    "class CircularQueue:\n",
    "    def __init__(self):   #CircularQueue 생성자\n",
    "        self.front= 0   #큐의 전단 위치\n",
    "        self.rear = 0 #큐의 후단 위치\n",
    "        self.items =[None] * MAX_QSIZE  #항목 저장용 리스트 [None, None,...]\n",
    "        \n",
    "    def isEmpty(self): return self.front == self.rear\n",
    "    def isFull(self): return self.front ==(self.rear+1)% MAX_QSIZE\n",
    "    def clear(self): self.front ==self.rear\n",
    "        \n",
    "    def enqueue(self, item):\n",
    "        if not self.isFull():      # 포화상태가 아니면\n",
    "            self.rear = (self.rear + 1)% MAX_QSIZE  #rear 회전\n",
    "            self.items[self.rear] = item   #rear 위치에 삽입 \n",
    "            \n",
    "    def dequeue(self):\n",
    "        if not self.isEmpty():      #공백 상태가 아니면\n",
    "            self.front = (self.front+1)%MAX_QSIZE    #front 회전\n",
    "            return self.items[self.front]  #front 위치의 항목 반환\n",
    "        \n",
    "    def peek(self):\n",
    "        if not self.isEmpty():\n",
    "            return self.items[(self.front + 1) % MAX_QSIZE]\n",
    "        \n",
    "    def size(self):\n",
    "        return (self.rear - self.front + MAX_QSIZE) % MAX_QSIZE\n",
    "    \n",
    "    def display(self):\n",
    "        out = []\n",
    "        if self.front < self.rear:\n",
    "            out = self.items[self.front+1: self.rear+1]    # 슬라이싱\n",
    "            \n",
    "        else:\n",
    "            out = self.items[self.front+1:MAX_QSIZE]   + self.items[0:self.rear+1]                  #슬라이싱\n",
    "        print(\"[f=%s, r=%d] ==> \"%(self.front, self.rear), out)"
   ]
  },
  {
   "cell_type": "markdown",
   "id": "4fe72285",
   "metadata": {},
   "source": [
    "## 테스트 프로그램"
   ]
  },
  {
   "cell_type": "code",
   "execution_count": 7,
   "id": "f020427d",
   "metadata": {},
   "outputs": [
    {
     "name": "stdout",
     "output_type": "stream",
     "text": [
      "[None, None, None, None, None, None, None, None, None, None]\n",
      "[f=0, r=8] ==>  [0, 1, 2, 3, 4, 5, 6, 7]\n",
      "[f=5, r=8] ==>  [5, 6, 7]\n",
      "[f=5, r=4] ==>  [5, 6, 7, 8, 9, 10, 11, 12, 13]\n"
     ]
    }
   ],
   "source": [
    "q = CircularQueue()    #원형큐 만들기 (MAX_QSIZE=10)\n",
    "for i in range(8):    #0,1,...7 삽입 (f=0, r=8)\n",
    "    q.enqueue(i)     #원형 큐에서 구현한 print()호출\n",
    "q.display()      \n",
    "for i in range(5):    #5번 삭제(f=5, r=8)\n",
    "    q.dequeue();\n",
    "q.display()\n",
    "for i in range(8,14):   #8,9,...13 삽입 (f=5, r=4)\n",
    "    q.enqueue(i)\n",
    "q.display()"
   ]
  },
  {
   "cell_type": "markdown",
   "id": "f4365162",
   "metadata": {},
   "source": [
    "## 용량 제한 없는 큐의 구현"
   ]
  },
  {
   "cell_type": "code",
   "execution_count": 41,
   "id": "fbe5b3fc",
   "metadata": {},
   "outputs": [],
   "source": [
    "MAX_SIZE = 10\n",
    "class CircularQueue:\n",
    "    def __init__(self):\n",
    "        self.items = [None] * MAX_SIZE\n",
    "        self.front = 0\n",
    "        self.rear = 0\n",
    "        self.count = 0\n",
    "        self.maxSize = MAX_SIZE\n",
    "    \n",
    "    def isEmpty(self):\n",
    "        return self.count == 0 \n",
    "    \n",
    "    def isFull(self):\n",
    "        return self.front == (self.rear + 1 ) % self.maxSize\n",
    "    def clear(self):\n",
    "        self.front = 0\n",
    "        self.rear = 0\n",
    "        self.count = 0\n",
    "        self.maxSize = MAX_SIZE\n",
    "        \n",
    "    def peek(self):\n",
    "        if not self.isEmpty():\n",
    "            return self.items[(self.front + 1) % self.maxSize]\n",
    "        \n",
    "    def size(self):\n",
    "        return self.count\n",
    "    \n",
    "    def enqueue(self, item):\n",
    "        if self.isFull():\n",
    "            self.resize()\n",
    "            \n",
    "        self.rear = (self.rear + 1) % self.maxSize\n",
    "        self.items[self.rear] = item\n",
    "        self.count +=1\n",
    "            \n",
    "    def dequeue(self):\n",
    "        if not self.isEmpty():\n",
    "            self.front = (self.front + 1) % self.maxSize\n",
    "            self.count -= 1\n",
    "            return self.items[self.front]\n",
    "        \n",
    "    def resize(self):\n",
    "        newitems = [None] * 2 * self.maxSize\n",
    "        scan = (self.front + 1) % self.maxSize\n",
    "        for i in range(self.count):\n",
    "            newitems[i+1] = self.items[scan]\n",
    "            scan = (scan + 1) % self.maxSize\n",
    "        self.items = newitems\n",
    "        self.front = 0\n",
    "        self.rear =self.count\n",
    "        self.maxSize = 2 * self.maxSize\n",
    "        \n",
    "    def print(self):\n",
    "        out = []\n",
    "        if self.front < self.rear:\n",
    "            out = self.items[self.front + 1: self.rear + 1]\n",
    "        elif self.front > self.rear:\n",
    "            out = self.items[self.front + 1: self.maxSize] \\\n",
    "                + self.items[0: self.rear + 1]\n",
    "        print(out)"
   ]
  },
  {
   "cell_type": "markdown",
   "id": "58b837ce",
   "metadata": {},
   "source": [
    "# 너비우선탐색 알고리즘"
   ]
  },
  {
   "cell_type": "code",
   "execution_count": 42,
   "id": "a37c3452",
   "metadata": {},
   "outputs": [],
   "source": [
    "def BFS():  #너비우선탐색 함수\n",
    "    que = CircularQueue()\n",
    "    que.enqueue((0,1))\n",
    "    print('BFS: ')  #출력을 'BFS'로 변경\n",
    "    \n",
    "    while not que.isEmpty():\n",
    "        here = que.dequeue()\n",
    "        print(here, end='->')\n",
    "        x,y = here\n",
    "        if (map[y][x] == 'x'): return True\n",
    "        else:\n",
    "            map[y][x] = '.'\n",
    "            if isValidPos(x, y-1): que.enequeue((x, y-1))  #상\n",
    "            if isValidPos(x, y+1): que.enequeue((x, y+1))  #하\n",
    "            if isValidPos(x-1, y): que.enequeue((x-1, y))  #좌\n",
    "            if isValidPos(x+1, y): que.enequeue((x+1, y))  #우\n",
    "    return False"
   ]
  },
  {
   "cell_type": "markdown",
   "id": "cf53ef5d",
   "metadata": {},
   "source": [
    "## 테스트 프로그램"
   ]
  },
  {
   "cell_type": "code",
   "execution_count": 43,
   "id": "ab07ea5a",
   "metadata": {},
   "outputs": [
    {
     "name": "stdout",
     "output_type": "stream",
     "text": [
      "BFS: \n",
      "(0, 1)->"
     ]
    },
    {
     "ename": "NameError",
     "evalue": "name 'isValidPos' is not defined",
     "output_type": "error",
     "traceback": [
      "\u001b[1;31m---------------------------------------------------------------------------\u001b[0m",
      "\u001b[1;31mNameError\u001b[0m                                 Traceback (most recent call last)",
      "\u001b[1;32mC:\\Users\\KIMJUN~1\\AppData\\Local\\Temp/ipykernel_8644/455125349.py\u001b[0m in \u001b[0;36m<module>\u001b[1;34m\u001b[0m\n\u001b[0;32m      7\u001b[0m     ['1','1','1','1','1','1']]\n\u001b[0;32m      8\u001b[0m \u001b[0mMAZE_SIZE\u001b[0m \u001b[1;33m=\u001b[0m \u001b[1;36m6\u001b[0m\u001b[1;33m\u001b[0m\u001b[1;33m\u001b[0m\u001b[0m\n\u001b[1;32m----> 9\u001b[1;33m \u001b[0mresult\u001b[0m \u001b[1;33m=\u001b[0m \u001b[0mBFS\u001b[0m\u001b[1;33m(\u001b[0m\u001b[1;33m)\u001b[0m\u001b[1;33m\u001b[0m\u001b[1;33m\u001b[0m\u001b[0m\n\u001b[0m\u001b[0;32m     10\u001b[0m \u001b[1;32mif\u001b[0m \u001b[0mresult\u001b[0m\u001b[1;33m:\u001b[0m \u001b[0mprint\u001b[0m\u001b[1;33m(\u001b[0m\u001b[1;34m' --> 미로탐색 성공'\u001b[0m\u001b[1;33m)\u001b[0m\u001b[1;33m\u001b[0m\u001b[1;33m\u001b[0m\u001b[0m\n\u001b[0;32m     11\u001b[0m \u001b[1;32melse\u001b[0m\u001b[1;33m:\u001b[0m \u001b[0mprint\u001b[0m\u001b[1;33m(\u001b[0m\u001b[1;34m' --> 미로탐색 실패'\u001b[0m\u001b[1;33m)\u001b[0m\u001b[1;33m\u001b[0m\u001b[1;33m\u001b[0m\u001b[0m\n",
      "\u001b[1;32mC:\\Users\\KIMJUN~1\\AppData\\Local\\Temp/ipykernel_8644/4194461986.py\u001b[0m in \u001b[0;36mBFS\u001b[1;34m()\u001b[0m\n\u001b[0;32m     11\u001b[0m         \u001b[1;32melse\u001b[0m\u001b[1;33m:\u001b[0m\u001b[1;33m\u001b[0m\u001b[1;33m\u001b[0m\u001b[0m\n\u001b[0;32m     12\u001b[0m             \u001b[0mmap\u001b[0m\u001b[1;33m[\u001b[0m\u001b[0my\u001b[0m\u001b[1;33m]\u001b[0m\u001b[1;33m[\u001b[0m\u001b[0mx\u001b[0m\u001b[1;33m]\u001b[0m \u001b[1;33m=\u001b[0m \u001b[1;34m'.'\u001b[0m\u001b[1;33m\u001b[0m\u001b[1;33m\u001b[0m\u001b[0m\n\u001b[1;32m---> 13\u001b[1;33m             \u001b[1;32mif\u001b[0m \u001b[0misValidPos\u001b[0m\u001b[1;33m(\u001b[0m\u001b[0mx\u001b[0m\u001b[1;33m,\u001b[0m \u001b[0my\u001b[0m\u001b[1;33m-\u001b[0m\u001b[1;36m1\u001b[0m\u001b[1;33m)\u001b[0m\u001b[1;33m:\u001b[0m \u001b[0mque\u001b[0m\u001b[1;33m.\u001b[0m\u001b[0menequeue\u001b[0m\u001b[1;33m(\u001b[0m\u001b[1;33m(\u001b[0m\u001b[0mx\u001b[0m\u001b[1;33m,\u001b[0m \u001b[0my\u001b[0m\u001b[1;33m-\u001b[0m\u001b[1;36m1\u001b[0m\u001b[1;33m)\u001b[0m\u001b[1;33m)\u001b[0m  \u001b[1;31m#상\u001b[0m\u001b[1;33m\u001b[0m\u001b[1;33m\u001b[0m\u001b[0m\n\u001b[0m\u001b[0;32m     14\u001b[0m             \u001b[1;32mif\u001b[0m \u001b[0misValidPos\u001b[0m\u001b[1;33m(\u001b[0m\u001b[0mx\u001b[0m\u001b[1;33m,\u001b[0m \u001b[0my\u001b[0m\u001b[1;33m+\u001b[0m\u001b[1;36m1\u001b[0m\u001b[1;33m)\u001b[0m\u001b[1;33m:\u001b[0m \u001b[0mque\u001b[0m\u001b[1;33m.\u001b[0m\u001b[0menequeue\u001b[0m\u001b[1;33m(\u001b[0m\u001b[1;33m(\u001b[0m\u001b[0mx\u001b[0m\u001b[1;33m,\u001b[0m \u001b[0my\u001b[0m\u001b[1;33m+\u001b[0m\u001b[1;36m1\u001b[0m\u001b[1;33m)\u001b[0m\u001b[1;33m)\u001b[0m  \u001b[1;31m#하\u001b[0m\u001b[1;33m\u001b[0m\u001b[1;33m\u001b[0m\u001b[0m\n\u001b[0;32m     15\u001b[0m             \u001b[1;32mif\u001b[0m \u001b[0misValidPos\u001b[0m\u001b[1;33m(\u001b[0m\u001b[0mx\u001b[0m\u001b[1;33m-\u001b[0m\u001b[1;36m1\u001b[0m\u001b[1;33m,\u001b[0m \u001b[0my\u001b[0m\u001b[1;33m)\u001b[0m\u001b[1;33m:\u001b[0m \u001b[0mque\u001b[0m\u001b[1;33m.\u001b[0m\u001b[0menequeue\u001b[0m\u001b[1;33m(\u001b[0m\u001b[1;33m(\u001b[0m\u001b[0mx\u001b[0m\u001b[1;33m-\u001b[0m\u001b[1;36m1\u001b[0m\u001b[1;33m,\u001b[0m \u001b[0my\u001b[0m\u001b[1;33m)\u001b[0m\u001b[1;33m)\u001b[0m  \u001b[1;31m#좌\u001b[0m\u001b[1;33m\u001b[0m\u001b[1;33m\u001b[0m\u001b[0m\n",
      "\u001b[1;31mNameError\u001b[0m: name 'isValidPos' is not defined"
     ]
    }
   ],
   "source": [
    "map= [\n",
    "    ['1','1','1','1','1','1'],\n",
    "    ['e','0','1','0','0','1'],\n",
    "    ['1','0','0','0','1','1'],\n",
    "    ['1','0','1','0','1','1'],\n",
    "    ['1','0','1','0','0','x'],\n",
    "    ['1','1','1','1','1','1']]\n",
    "MAZE_SIZE = 6\n",
    "result = BFS()\n",
    "if result: print(' --> 미로탐색 성공')\n",
    "else: print(' --> 미로탐색 실패')"
   ]
  },
  {
   "cell_type": "markdown",
   "id": "3c4d1d24",
   "metadata": {},
   "source": [
    "## 파이썬의  queue 모듈"
   ]
  },
  {
   "cell_type": "code",
   "execution_count": 44,
   "id": "11f33bb4",
   "metadata": {},
   "outputs": [],
   "source": [
    "import queue  #파이썬의 큐 모듈 포포함"
   ]
  },
  {
   "cell_type": "code",
   "execution_count": 45,
   "id": "7602cdc8",
   "metadata": {},
   "outputs": [],
   "source": [
    "Q = queue.Queue(maxsize=20)  #큐 객체 생성(최대크기 20)\n"
   ]
  },
  {
   "cell_type": "code",
   "execution_count": 47,
   "id": "1801da48",
   "metadata": {},
   "outputs": [
    {
     "name": "stdout",
     "output_type": "stream",
     "text": [
      "큐의 내용: 1 2 3 4 5 6 7 8 9 \n"
     ]
    }
   ],
   "source": [
    "for v in range(1,10):\n",
    "    Q.put(v)\n",
    "print(\"큐의 내용: \",end='')\n",
    "for _ in  range(1,10):\n",
    "    print(Q.get(), end= ' ')\n",
    "print()"
   ]
  },
  {
   "cell_type": "markdown",
   "id": "6413bda4",
   "metadata": {},
   "source": [
    "## 덱의 구현"
   ]
  },
  {
   "cell_type": "code",
   "execution_count": 49,
   "id": "cb1f03db",
   "metadata": {},
   "outputs": [],
   "source": [
    "class CircularDeque(CircularQueue): #CircularQueue에서 상속\n",
    "    def __init__(self):  #CircularDeque의 생성자\n",
    "        super().__init__()  #부모 클래스의 생성자를 호출함\n",
    "        \n",
    "    def addRear(self, item):\n",
    "        self.enqueue(item)  #enqueue 호출\n",
    "    def deleteFront(self):\n",
    "        return self.dequeue()  #반환에 주의\n",
    "    def getFront(self):\n",
    "        return self.peek()  #반환에 주의\n",
    "    def addFront(self, item):   #새로운 기능: 전단 삽입\n",
    "        if not self.isFull():\n",
    "            self.items[self.front] = item   #항목 저장\n",
    "            self.front = self.front - 1   #반시계 방향으로 회전\n",
    "            if self.front < 0 :\n",
    "                     self.front = MAX_QSIZE - 1\n",
    "    def deleteRear(self):     #새로운 기능: 후단 삭제\n",
    "        if not self.isEmpty():\n",
    "            item = self.items[self.rear];   #항목 복사\n",
    "            self.rear = self.rear - 1     #반시계 방향으로 회전\n",
    "            if self.rear < 0:\n",
    "                self.rear = MAX_QSIZE - 1\n",
    "            return item    #항목 반환\n",
    "                     \n",
    "    def getRear(self):       # 새로운 기능: 후단 peek\n",
    "        return self.items[self.rear]\n",
    "                     \n",
    "    "
   ]
  },
  {
   "cell_type": "markdown",
   "id": "9593627e",
   "metadata": {},
   "source": [
    "## 테스트 프로그램"
   ]
  },
  {
   "cell_type": "code",
   "execution_count": 51,
   "id": "08035ca3",
   "metadata": {},
   "outputs": [
    {
     "ename": "AttributeError",
     "evalue": "'CircularDeque' object has no attribute 'display'",
     "output_type": "error",
     "traceback": [
      "\u001b[1;31m---------------------------------------------------------------------------\u001b[0m",
      "\u001b[1;31mAttributeError\u001b[0m                            Traceback (most recent call last)",
      "\u001b[1;32mC:\\Users\\KIMJUN~1\\AppData\\Local\\Temp/ipykernel_8644/4050773310.py\u001b[0m in \u001b[0;36m<module>\u001b[1;34m\u001b[0m\n\u001b[0;32m      4\u001b[0m     \u001b[1;32melse\u001b[0m \u001b[1;33m:\u001b[0m \u001b[0mdq\u001b[0m\u001b[1;33m.\u001b[0m\u001b[0maddFront\u001b[0m\u001b[1;33m(\u001b[0m\u001b[0mi\u001b[0m\u001b[1;33m)\u001b[0m    \u001b[1;31m#홀수는 전단에 삽입\u001b[0m\u001b[1;33m\u001b[0m\u001b[1;33m\u001b[0m\u001b[0m\n\u001b[0;32m      5\u001b[0m \u001b[1;33m\u001b[0m\u001b[0m\n\u001b[1;32m----> 6\u001b[1;33m \u001b[0mdq\u001b[0m\u001b[1;33m.\u001b[0m\u001b[0mdisplay\u001b[0m\u001b[1;33m(\u001b[0m\u001b[1;33m)\u001b[0m    \u001b[1;31m#front=6, rear=5\u001b[0m\u001b[1;33m\u001b[0m\u001b[1;33m\u001b[0m\u001b[0m\n\u001b[0m\u001b[0;32m      7\u001b[0m \u001b[1;32mfor\u001b[0m \u001b[0mi\u001b[0m \u001b[1;32min\u001b[0m \u001b[0mrange\u001b[0m\u001b[1;33m(\u001b[0m\u001b[1;36m2\u001b[0m\u001b[1;33m)\u001b[0m\u001b[1;33m:\u001b[0m  \u001b[1;31m#전단에서 두 번의 삭제: f = 8\u001b[0m\u001b[1;33m\u001b[0m\u001b[1;33m\u001b[0m\u001b[0m\n\u001b[0;32m      8\u001b[0m     \u001b[0mdq\u001b[0m\u001b[1;33m.\u001b[0m\u001b[0mdeleteFront\u001b[0m\u001b[1;33m(\u001b[0m\u001b[1;33m)\u001b[0m  \u001b[1;31m#후단에서 세 번의 삭제: r = 2\u001b[0m\u001b[1;33m\u001b[0m\u001b[1;33m\u001b[0m\u001b[0m\n",
      "\u001b[1;31mAttributeError\u001b[0m: 'CircularDeque' object has no attribute 'display'"
     ]
    }
   ],
   "source": [
    "dq = CircularDeque()    #덱 객체 생성  f=r=0\n",
    "for i in range(9):    #i : 0,1,2,3,....8\n",
    "    if i%2==0  : dq.addRear(i)  #짝수는 후단에 삽입\n",
    "    else : dq.addFront(i)    #홀수는 전단에 삽입\n",
    "        \n",
    "dq.display()    #front=6, rear=5\n",
    "for i in range(2):  #전단에서 두 번의 삭제: f = 8\n",
    "    dq.deleteFront()  #후단에서 세 번의 삭제: r = 2\n",
    "for i in range(3):\n",
    "    dq.deleteRear()\n",
    "dq.display()\n",
    "\n",
    "for i in range(9,14):   #i : 9, 10, ....13: f = 3\n",
    "    dq.addFront(i)\n",
    "dq.display()"
   ]
  },
  {
   "cell_type": "markdown",
   "id": "73e6d3fc",
   "metadata": {},
   "source": [
    "# 용량 제한 없는원현 덱 ?? -> 실습 문제"
   ]
  },
  {
   "cell_type": "code",
   "execution_count": null,
   "id": "d863de78",
   "metadata": {},
   "outputs": [],
   "source": []
  }
 ],
 "metadata": {
  "kernelspec": {
   "display_name": "Python 3 (ipykernel)",
   "language": "python",
   "name": "python3"
  },
  "language_info": {
   "codemirror_mode": {
    "name": "ipython",
    "version": 3
   },
   "file_extension": ".py",
   "mimetype": "text/x-python",
   "name": "python",
   "nbconvert_exporter": "python",
   "pygments_lexer": "ipython3",
   "version": "3.8.10"
  }
 },
 "nbformat": 4,
 "nbformat_minor": 5
}
