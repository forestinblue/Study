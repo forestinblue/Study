{
 "cells": [
  {
   "cell_type": "markdown",
   "id": "44340c69",
   "metadata": {},
   "source": [
    "# 스택의 구현(함수 버전)\n"
   ]
  },
  {
   "cell_type": "code",
   "execution_count": 25,
   "id": "e311a74e",
   "metadata": {},
   "outputs": [],
   "source": [
    "top = [] #스택의 데이터: 항목을 위한 공백 리스트\n",
    "def isEmpty():\n",
    "    return len(top) == 0  #len(top)==0 의 계산 결과가 True/False\n",
    "def push(item):\n",
    "    top.append(item) #리스트의 맨 뒤에 item을 추가함\n",
    "def pop():\n",
    "    if not isEmpty():  #공백상태가 아니면\n",
    "        return top.pop(-1)  #리스트의 맨 뒤에서 항목을 하나 꺼내고 반환\n",
    "def peek():   #맨 위의 항목을 삭제하지 않고 반환\n",
    "    if not isEmpty():  #공백상태가 아니면\n",
    "        return top.pop(-1)  #맨 뒷 항목을 반환(삭제하지 않음)\n",
    "def size():\n",
    "    return len(top)  #스택의 크기\n",
    "def clear():\n",
    "    global top  #top은 전|역변수임을 지정함\n",
    "    top = []\n",
    "    \n",
    "    \n",
    "    "
   ]
  },
  {
   "cell_type": "code",
   "execution_count": 26,
   "id": "e0fdc2c2",
   "metadata": {},
   "outputs": [
    {
     "name": "stdout",
     "output_type": "stream",
     "text": [
      " push 5회:  [1, 2, 3, 4, 5]\n",
      " pop() -->  5\n",
      " pop() -->  4\n",
      " pop 2회:  [1, 2, 3]\n"
     ]
    }
   ],
   "source": [
    "for i in range(1, 6):  # i =1,2,3,4,5\n",
    "    push(i)  #push 연산 5회\n",
    "    \n",
    "print(' push 5회: ',top)  #스택 내용 출력\n",
    "print(' pop() --> ',pop())  #pop연산 및 반환 항목 출력\n",
    "print(' pop() --> ',pop())  #pop연산 및 반환 항목 출력\n",
    "print(' pop 2회: ',top)  #스택 내용 출력(str(top)도 동일함)"
   ]
  },
  {
   "cell_type": "markdown",
   "id": "ce579aa1",
   "metadata": {},
   "source": [
    "# 스택의 구현 (클래스 버전)"
   ]
  },
  {
   "cell_type": "code",
   "execution_count": 27,
   "id": "6e2c01c6",
   "metadata": {},
   "outputs": [],
   "source": [
    "class Stack:\n",
    "    def __init__(self):  #생성자\n",
    "        self.top = []  #top이 이제 클래스의 맴버 변수가 됨\n",
    "        \n",
    "    def isEmpty(self):\n",
    "        return len(self.top) == 0\n",
    "    def size(self): \n",
    "        return len(self.top)\n",
    "    def clear(self):\n",
    "        self.top = []  #주의: 이제 전역변수 선언이 필요없다\n",
    "        \n",
    "    def push(self, item):  #리스트의 맨 뒤에 item을 추가함\n",
    "        self.top.append(item)\n",
    "        \n",
    "    def pop(self):  #리스트의 맨 뒤에서 항목을 하나 꺼내고 반환\n",
    "        if not self.isEmpty():\n",
    "            return self.top.pop(-1)\n",
    "        \n",
    "    def peek(self):  #맨 위의 항목을 삭제하지 않고 반환\n",
    "        if not self.isEmpty():\n",
    "            return self.top[-1]"
   ]
  },
  {
   "cell_type": "code",
   "execution_count": 28,
   "id": "44879426",
   "metadata": {},
   "outputs": [
    {
     "name": "stdout",
     "output_type": "stream",
     "text": [
      " 스택 even push 5회:  <__main__.Stack object at 0x000002B13C8F1D00>\n",
      " 스택 odd push 5회:  <__main__.Stack object at 0x000002B13C8F1D90>\n",
      " 스택 even     peek:  8\n",
      " 스택 odd      peek:  9\n",
      " 스택 even   pop 2회:  <__main__.Stack object at 0x000002B13C8F1D00>\n",
      " 스택 odd    pop 3회:  <__main__.Stack object at 0x000002B13C8F1D90>\n"
     ]
    }
   ],
   "source": [
    "odd = Stack()  #홀수 저장을 위한 스택\n",
    "even = Stack()  #짝수 저장을 위한 스택\n",
    "for i in range(10):  #i=0,1,2,..,9\n",
    "    if i%2 == 0:     #짝수는 even에 push\n",
    "        even.push(i)  #홀수는 even에 push\n",
    "    else:\n",
    "        odd.push(i)\n",
    "        \n",
    "print(' 스택 even push 5회: ', even)  #even 스택 출력\n",
    "print(' 스택 odd push 5회: ',odd)   #odd 스택 출력\n",
    "print(' 스택 even     peek: ',even.peek())  #even 스택 peek()\n",
    "print(' 스택 odd      peek: ',odd.peek())  #odd 스택 peek()\n",
    "for _ in range(2):\n",
    "    even.pop()  #even 스택에서 두번 pop()\n",
    "for _ in range(3):\n",
    "    odd.pop()  #odd스택에서 세번 pop()\n",
    "    \n",
    "print(' 스택 even   pop 2회: ', even)  #even 스택 출력\n",
    "print(' 스택 odd    pop 3회: ', odd)  #odd 스택 출력"
   ]
  },
  {
   "cell_type": "markdown",
   "id": "95b51360",
   "metadata": {},
   "source": [
    "## 스택의 출력 방법 수정\n",
    "### 방법 1"
   ]
  },
  {
   "cell_type": "code",
   "execution_count": 29,
   "id": "090d91dc",
   "metadata": {},
   "outputs": [
    {
     "name": "stdout",
     "output_type": "stream",
     "text": [
      " 스택 even push 5회:  [0, 2, 4]\n",
      " 스택 odd push 5회:  [1, 3]\n"
     ]
    }
   ],
   "source": [
    "print(' 스택 even push 5회: ', even.top)  #even 스택 출력\n",
    "print(' 스택 odd push 5회: ',odd.top)   #odd 스택 출력"
   ]
  },
  {
   "cell_type": "markdown",
   "id": "e1e64c3f",
   "metadata": {},
   "source": [
    "### 방법 2: 연산자 중복 + 슬라이싱 기법"
   ]
  },
  {
   "cell_type": "code",
   "execution_count": 30,
   "id": "0cd1d760",
   "metadata": {},
   "outputs": [
    {
     "ename": "TypeError",
     "evalue": "'tuple' object is not callable",
     "output_type": "error",
     "traceback": [
      "\u001b[1;31m---------------------------------------------------------------------------\u001b[0m",
      "\u001b[1;31mTypeError\u001b[0m                                 Traceback (most recent call last)",
      "\u001b[1;32m<ipython-input-30-0defd072455a>\u001b[0m in \u001b[0;36m<module>\u001b[1;34m\u001b[0m\n\u001b[0;32m      1\u001b[0m \u001b[1;32mdef\u001b[0m \u001b[0m__str__\u001b[0m\u001b[1;33m(\u001b[0m\u001b[0mself\u001b[0m\u001b[1;33m)\u001b[0m\u001b[1;33m:\u001b[0m\u001b[1;33m\u001b[0m\u001b[1;33m\u001b[0m\u001b[0m\n\u001b[0;32m      2\u001b[0m     \u001b[1;32mreturn\u001b[0m \u001b[0mstr\u001b[0m\u001b[1;33m(\u001b[0m\u001b[0mself\u001b[0m\u001b[1;33m.\u001b[0m\u001b[0mtop\u001b[0m\u001b[1;33m[\u001b[0m\u001b[1;33m:\u001b[0m\u001b[1;33m:\u001b[0m\u001b[1;33m-\u001b[0m\u001b[1;36m1\u001b[0m\u001b[1;33m]\u001b[0m\u001b[1;33m)\u001b[0m  \u001b[1;31m#연순으로 출력, 최근의 항목을 먼저.\u001b[0m\u001b[1;33m\u001b[0m\u001b[1;33m\u001b[0m\u001b[0m\n\u001b[1;32m----> 3\u001b[1;33m \u001b[0mprint\u001b[0m\u001b[1;33m(\u001b[0m\u001b[0m__str__\u001b[0m\u001b[1;33m(\u001b[0m\u001b[0meven\u001b[0m\u001b[1;33m)\u001b[0m\u001b[1;33m)\u001b[0m\u001b[1;33m\u001b[0m\u001b[1;33m\u001b[0m\u001b[0m\n\u001b[0m\u001b[0;32m      4\u001b[0m \u001b[0mprint\u001b[0m\u001b[1;33m(\u001b[0m\u001b[0m__str__\u001b[0m\u001b[1;33m(\u001b[0m\u001b[0modd\u001b[0m\u001b[1;33m)\u001b[0m\u001b[1;33m)\u001b[0m\u001b[1;33m\u001b[0m\u001b[1;33m\u001b[0m\u001b[0m\n",
      "\u001b[1;32m<ipython-input-30-0defd072455a>\u001b[0m in \u001b[0;36m__str__\u001b[1;34m(self)\u001b[0m\n\u001b[0;32m      1\u001b[0m \u001b[1;32mdef\u001b[0m \u001b[0m__str__\u001b[0m\u001b[1;33m(\u001b[0m\u001b[0mself\u001b[0m\u001b[1;33m)\u001b[0m\u001b[1;33m:\u001b[0m\u001b[1;33m\u001b[0m\u001b[1;33m\u001b[0m\u001b[0m\n\u001b[1;32m----> 2\u001b[1;33m     \u001b[1;32mreturn\u001b[0m \u001b[0mstr\u001b[0m\u001b[1;33m(\u001b[0m\u001b[0mself\u001b[0m\u001b[1;33m.\u001b[0m\u001b[0mtop\u001b[0m\u001b[1;33m[\u001b[0m\u001b[1;33m:\u001b[0m\u001b[1;33m:\u001b[0m\u001b[1;33m-\u001b[0m\u001b[1;36m1\u001b[0m\u001b[1;33m]\u001b[0m\u001b[1;33m)\u001b[0m  \u001b[1;31m#연순으로 출력, 최근의 항목을 먼저.\u001b[0m\u001b[1;33m\u001b[0m\u001b[1;33m\u001b[0m\u001b[0m\n\u001b[0m\u001b[0;32m      3\u001b[0m \u001b[0mprint\u001b[0m\u001b[1;33m(\u001b[0m\u001b[0m__str__\u001b[0m\u001b[1;33m(\u001b[0m\u001b[0meven\u001b[0m\u001b[1;33m)\u001b[0m\u001b[1;33m)\u001b[0m\u001b[1;33m\u001b[0m\u001b[1;33m\u001b[0m\u001b[0m\n\u001b[0;32m      4\u001b[0m \u001b[0mprint\u001b[0m\u001b[1;33m(\u001b[0m\u001b[0m__str__\u001b[0m\u001b[1;33m(\u001b[0m\u001b[0modd\u001b[0m\u001b[1;33m)\u001b[0m\u001b[1;33m)\u001b[0m\u001b[1;33m\u001b[0m\u001b[1;33m\u001b[0m\u001b[0m\n",
      "\u001b[1;31mTypeError\u001b[0m: 'tuple' object is not callable"
     ]
    }
   ],
   "source": [
    "def __str__(self):\n",
    "    return str(self.top[::-1])  #연순으로 출력, 최근의 항목을 먼저.\n",
    "print(__str__(even))\n",
    "print(__str__(odd))"
   ]
  },
  {
   "cell_type": "markdown",
   "id": "157794df",
   "metadata": {},
   "source": [
    "# 괄호 검사 알고리즘"
   ]
  },
  {
   "cell_type": "code",
   "execution_count": 34,
   "id": "e6d9de2f",
   "metadata": {},
   "outputs": [],
   "source": [
    "def checkBrackets(statement):\n",
    "    stack = Stack()\n",
    "    for ch in statement:  #문자열의 각 문자에 대해\n",
    "        if ch in ('{','[','('):  #in '{[('도 동일하게 동작함\n",
    "            stack.push(ch)\n",
    "        elif ch in ('}',']',')'): # in '}])'도 동일하게 동작함\n",
    "            if stack.isEmpty():\n",
    "                return False  #조건 2 위반\n",
    "            else:\n",
    "                left = stack.pop()\n",
    "                if (ch==\"}\" and left != \"{\") or \\\n",
    "                    (ch == \"]\" and left != \"[\") or \\\n",
    "                    (ch ==\")\"  and left != \"(\"):\n",
    "                \n",
    "                    return False  #조건 3 위반\n",
    "            \n",
    "    return stack.isEmpty()  #False이면 조건 1 위반"
   ]
  },
  {
   "cell_type": "code",
   "execution_count": 35,
   "id": "16f4ff9a",
   "metadata": {},
   "outputs": [
    {
     "name": "stdout",
     "output_type": "stream",
     "text": [
      "{ A[i+1] = 0;}  --->  True\n",
      "if( (i=0) && (j=0)  --->  False\n",
      "A[(i+1]) = 0;  --->  False\n"
     ]
    }
   ],
   "source": [
    "str = (\"{ A[i+1] = 0;}\", \"if( (i=0) && (j=0)\", \"A[(i+1]) = 0;\")\n",
    "for s in str:\n",
    "    m = checkBrackets(s)\n",
    "    print(s, \" ---> \", m)"
   ]
  },
  {
   "cell_type": "markdown",
   "id": "ab3a1f03",
   "metadata": {},
   "source": [
    "## 소스 파일의 괄호 검사"
   ]
  },
  {
   "cell_type": "code",
   "execution_count": 33,
   "id": "0f49218c",
   "metadata": {},
   "outputs": [
    {
     "ename": "FileNotFoundError",
     "evalue": "[Errno 2] No such file or directory: 'ArrayStack.h'",
     "output_type": "error",
     "traceback": [
      "\u001b[1;31m---------------------------------------------------------------------------\u001b[0m",
      "\u001b[1;31mFileNotFoundError\u001b[0m                         Traceback (most recent call last)",
      "\u001b[1;32m<ipython-input-33-194ac14562b0>\u001b[0m in \u001b[0;36m<module>\u001b[1;34m\u001b[0m\n\u001b[0;32m      1\u001b[0m \u001b[0mfilename\u001b[0m \u001b[1;33m=\u001b[0m \u001b[1;34m\"ArrayStack.h\"\u001b[0m   \u001b[1;31m#괄호를 검사할 소스 파일\u001b[0m\u001b[1;33m\u001b[0m\u001b[1;33m\u001b[0m\u001b[0m\n\u001b[1;32m----> 2\u001b[1;33m \u001b[0minfile\u001b[0m \u001b[1;33m=\u001b[0m \u001b[0mopen\u001b[0m\u001b[1;33m(\u001b[0m\u001b[0mfilename\u001b[0m\u001b[1;33m,\u001b[0m \u001b[1;34m\"r\"\u001b[0m\u001b[1;33m)\u001b[0m  \u001b[1;31m#파일 열기\u001b[0m\u001b[1;33m\u001b[0m\u001b[1;33m\u001b[0m\u001b[0m\n\u001b[0m\u001b[0;32m      3\u001b[0m \u001b[0mlines\u001b[0m \u001b[1;33m=\u001b[0m \u001b[0minfile\u001b[0m\u001b[1;33m.\u001b[0m\u001b[0mreadlines\u001b[0m\u001b[1;33m(\u001b[0m\u001b[1;33m)\u001b[0m\u001b[1;33m;\u001b[0m  \u001b[1;31m#파일 전체를 라인별로 읽은 리스트\u001b[0m\u001b[1;33m\u001b[0m\u001b[1;33m\u001b[0m\u001b[0m\n\u001b[0;32m      4\u001b[0m \u001b[0minfile\u001b[0m\u001b[1;33m.\u001b[0m\u001b[0mclose\u001b[0m\u001b[1;33m(\u001b[0m\u001b[1;33m)\u001b[0m   \u001b[1;31m#파일 닫기\u001b[0m\u001b[1;33m\u001b[0m\u001b[1;33m\u001b[0m\u001b[0m\n\u001b[0;32m      5\u001b[0m \u001b[1;33m\u001b[0m\u001b[0m\n",
      "\u001b[1;31mFileNotFoundError\u001b[0m: [Errno 2] No such file or directory: 'ArrayStack.h'"
     ]
    }
   ],
   "source": [
    "filename = \"ArrayStack.h\"   #괄호를 검사할 소스 파일\n",
    "infile = open(filename, \"r\")  #파일 열기\n",
    "lines = infile.readlines();  #파일 전체를 라인별로 읽은 리스트\n",
    "infile.close()   #파일 닫기\n",
    "\n",
    "result = checkBracketsV2(lines)  #검사 함수 호출 (약간 수정 팔요)\n",
    "print(filename, \"--->\",result)   #검사 출력"
   ]
  },
  {
   "cell_type": "code",
   "execution_count": null,
   "id": "0708465c",
   "metadata": {},
   "outputs": [],
   "source": [
    "def checkBracketsV2(lines):\n",
    "    stack = Stack()\n",
    "     for line in lines:   #리스트의 모든 문자열에 대해\n",
    "        for ch in statement:\n",
    "            ..."
   ]
  },
  {
   "cell_type": "markdown",
   "id": "b82527d3",
   "metadata": {},
   "source": [
    "## 후위 표기 수식 계산 알고리즘"
   ]
  },
  {
   "cell_type": "code",
   "execution_count": 13,
   "id": "98ce69f6",
   "metadata": {},
   "outputs": [],
   "source": [
    "\n",
    "\n",
    "def evalPostfix( expr):\n",
    "    s = Stack()   #스택 객체 생성\n",
    "    for token in expr :   #리스트의 모든 항목에 대해\n",
    "        if token in \"+-*/\":   #항목이 연산자이면\n",
    "            val2 = s.pop()   #피연산자2\n",
    "            val1 = s.pop()   #피연산자1\n",
    "            if (token == '+'):\n",
    "                s.push(val1 + val2)   #각 연산 수행\n",
    "            elif (token == '-'):\n",
    "                s.push(val1 - val2)   #결과는 스택에\n",
    "            elif (token == '*'):\n",
    "                s.push(val1 * val2) #다시 저장\n",
    "            elif (token =='/'):\n",
    "                s.push(val1 / val2)  \n",
    "        else:                     #항목이 피얀산자이면\n",
    "            s.push(float(token))   #실수로 변경해서 스택에 저장\n",
    "    return s.pop()  #최종 결과를 반환\n",
    "            "
   ]
  },
  {
   "cell_type": "code",
   "execution_count": 14,
   "id": "205b3877",
   "metadata": {},
   "outputs": [
    {
     "name": "stdout",
     "output_type": "stream",
     "text": [
      "['8', '2', '/', '3', '-', '3', '2', '*', '+']  -->  7.0\n",
      "['1', '2', '/', '4', '*', '1', '4', '/', '*']  -->  0.5\n"
     ]
    }
   ],
   "source": [
    "expr1 =['8','2','/','3','-','3','2','*','+']\n",
    "expr2 = ['1','2','/','4','*','1','4','/','*']\n",
    "print(expr1,' --> ', evalPostfix(expr1))\n",
    "print(expr2,' --> ', evalPostfix(expr2))"
   ]
  },
  {
   "cell_type": "code",
   "execution_count": 15,
   "id": "4ad0bfa1",
   "metadata": {},
   "outputs": [],
   "source": [
    "def precedence(op):\n",
    "    if op =='(' or op==')':\n",
    "        return 0\n",
    "    elif op == '+' or op == '-':\n",
    "        return 1\n",
    "    elif op == '*' or op =='/':\n",
    "        return 2\n",
    "    else:\n",
    "        return -1\n",
    "    \n",
    "def Infix2Postfix( expr ):     #expr: 입력 리스트(중위 표기식)\n",
    "    s = Stack()\n",
    "    output = []                #output: 출력 리스트(후위 표기식)\n",
    "    for term in expr:\n",
    "        if term in '(':        #왼쪽 괄호이면\n",
    "            s.push('(')         #스택에 삽입\n",
    "        elif term in ')':       #오른쪽 괄호이면\n",
    "            while not s.isEmpty():\n",
    "                op = s.pop()\n",
    "                if op == '(' :break;   #왼쪽 괄호가 나올 때 까지\n",
    "                else:                   # 스택에서 연산자를 꺼내 출력\n",
    "                    output.append(op)\n",
    "                    \n",
    "        elif term in \"+-*/\":           #연산자이면\n",
    "            while not s.isEmpty():     # 우선순위가 높거나 같은 연산자를\n",
    "                op = s.peek()           #스택에서 모두 꺼내 출력\n",
    "                if (precedence(term) <= precedence(op)):\n",
    "                    output.append(op)\n",
    "                    s.pop()\n",
    "                else:\n",
    "                    break\n",
    "            s.push(term)           #마지막으로 현재 연산자 삽입\n",
    "        else:                     #피연산자이면\n",
    "            output.append(term)    #바로 출력\n",
    "                \n",
    "    while not s.isEmpty():        #처리가 끝났으면 스택에 남은 항목을\n",
    "        output.append(s.pop())     #모두 출력\n",
    "            \n",
    "    return output               #결과(후위표기식 리스트)를 반환"
   ]
  },
  {
   "cell_type": "code",
   "execution_count": 17,
   "id": "4bf2f81f",
   "metadata": {},
   "outputs": [
    {
     "name": "stdout",
     "output_type": "stream",
     "text": [
      " 중위표기:  ['8', '/', '2', '-', '3', '+', '(', '3', '*', '2', ')']\n",
      " 후위표기:  ['8', '2', '/', '3', '-', '3', '2', '*', '+']\n",
      " 계산결과:  7.0\n",
      "\n",
      " 중위표기:  ['1', '/', '2', '*', '4', '*', '(', '1', '/', '4', ')']\n",
      " 후위표기:  ['1', '2', '/', '4', '*', '1', '4', '/', '*']\n",
      " 계산결과:  0.5\n"
     ]
    }
   ],
   "source": [
    "infix1 = ['8', '/','2','-','3','+','(','3','*','2',')']\n",
    "infix2 =['1','/','2','*','4','*','(','1','/','4',')']\n",
    "postfix1 = Infix2Postfix(infix1)\n",
    "postfix2 = Infix2Postfix(infix2)\n",
    "result1 = evalPostfix(postfix1)\n",
    "result2 = evalPostfix(postfix2)\n",
    "print(' 중위표기: ',infix1)\n",
    "print(' 후위표기: ',postfix1)\n",
    "print(' 계산결과: ',result1, end='\\n\\n')\n",
    "print(' 중위표기: ',infix2)\n",
    "print(' 후위표기: ',postfix2)\n",
    "print(' 계산결과: ',result2)"
   ]
  },
  {
   "cell_type": "markdown",
   "id": "8e5a64b4",
   "metadata": {},
   "source": [
    "## 깊이우선탐색 알고리즘"
   ]
  },
  {
   "cell_type": "code",
   "execution_count": 20,
   "id": "43c05715",
   "metadata": {},
   "outputs": [],
   "source": [
    "def DFS(): #깊이 우선 참색 함수\n",
    "    stack = Stack()  #사용할 스택 객체를 준비\n",
    "    stack.push((0,1))  #시작 위치 삽입, (0,1)은 튜플\n",
    "    print('DFS: ')\n",
    "    \n",
    "    while not stack.isEmpty():  #공백이 아닐 동안\n",
    "        here = stack.pop()  #항목을 꺼냄(pop)\n",
    "        print(here, end='->')\n",
    "        (x,y) = here   #스택에 저장된 튜플은 (x,y) 순서임.\n",
    "        if (map[x][y] == 'x'):  #출구이면 탐색 성공. True 반환\n",
    "            return True\n",
    "        else: \n",
    "            map[x][y] ='.'   #현재위치를 지나왔다고 '.'표시\n",
    "            #4방향의 이웃을 검사해 갈 수 있으면 스택에 삽입\n",
    "            if isValidPos(x,y - 1):\n",
    "                stack.push((x,y-1))  #상\n",
    "            if isValidPos(x, y +1):\n",
    "                stack.push((x, y+1))  #하\n",
    "            if isValidPos(x-1, y):\n",
    "                stack.push((x-1,y))  #좌\n",
    "            if isValidPos(x+1,y):\n",
    "                stack.push((x+1,y))  #우\n",
    "        print(' 현재 스택: ',stack)  #현재 스택 내용 출력\n",
    "    return False   #탐색 실패. False 반환"
   ]
  },
  {
   "cell_type": "code",
   "execution_count": 21,
   "id": "14294dfc",
   "metadata": {},
   "outputs": [
    {
     "name": "stdout",
     "output_type": "stream",
     "text": [
      "DFS: \n",
      "(0, 1)->"
     ]
    },
    {
     "ename": "TypeError",
     "evalue": "'type' object is not subscriptable",
     "output_type": "error",
     "traceback": [
      "\u001b[1;31m---------------------------------------------------------------------------\u001b[0m",
      "\u001b[1;31mTypeError\u001b[0m                                 Traceback (most recent call last)",
      "\u001b[1;32m<ipython-input-21-f057b730d0cc>\u001b[0m in \u001b[0;36m<module>\u001b[1;34m\u001b[0m\n\u001b[1;32m----> 1\u001b[1;33m \u001b[0mresult\u001b[0m \u001b[1;33m=\u001b[0m \u001b[0mDFS\u001b[0m\u001b[1;33m(\u001b[0m\u001b[1;33m)\u001b[0m\u001b[1;33m\u001b[0m\u001b[1;33m\u001b[0m\u001b[0m\n\u001b[0m\u001b[0;32m      2\u001b[0m \u001b[1;32mif\u001b[0m \u001b[0mresult\u001b[0m\u001b[1;33m:\u001b[0m\u001b[1;33m\u001b[0m\u001b[1;33m\u001b[0m\u001b[0m\n\u001b[0;32m      3\u001b[0m     \u001b[0mprint\u001b[0m\u001b[1;33m(\u001b[0m\u001b[1;34m' --> 미로탐색 성공'\u001b[0m\u001b[1;33m)\u001b[0m\u001b[1;33m\u001b[0m\u001b[1;33m\u001b[0m\u001b[0m\n\u001b[0;32m      4\u001b[0m \u001b[1;32melse\u001b[0m\u001b[1;33m:\u001b[0m\u001b[1;33m\u001b[0m\u001b[1;33m\u001b[0m\u001b[0m\n\u001b[0;32m      5\u001b[0m     \u001b[0mprint\u001b[0m\u001b[1;33m(\u001b[0m\u001b[1;34m' --> 미로 탐색 실패'\u001b[0m\u001b[1;33m)\u001b[0m\u001b[1;33m\u001b[0m\u001b[1;33m\u001b[0m\u001b[0m\n",
      "\u001b[1;32m<ipython-input-20-9c4dc27ad0d6>\u001b[0m in \u001b[0;36mDFS\u001b[1;34m()\u001b[0m\n\u001b[0;32m      8\u001b[0m         \u001b[0mprint\u001b[0m\u001b[1;33m(\u001b[0m\u001b[0mhere\u001b[0m\u001b[1;33m,\u001b[0m \u001b[0mend\u001b[0m\u001b[1;33m=\u001b[0m\u001b[1;34m'->'\u001b[0m\u001b[1;33m)\u001b[0m\u001b[1;33m\u001b[0m\u001b[1;33m\u001b[0m\u001b[0m\n\u001b[0;32m      9\u001b[0m         \u001b[1;33m(\u001b[0m\u001b[0mx\u001b[0m\u001b[1;33m,\u001b[0m\u001b[0my\u001b[0m\u001b[1;33m)\u001b[0m \u001b[1;33m=\u001b[0m \u001b[0mhere\u001b[0m   \u001b[1;31m#스택에 저장된 튜플은 (x,y) 순서임.\u001b[0m\u001b[1;33m\u001b[0m\u001b[1;33m\u001b[0m\u001b[0m\n\u001b[1;32m---> 10\u001b[1;33m         \u001b[1;32mif\u001b[0m \u001b[1;33m(\u001b[0m\u001b[0mmap\u001b[0m\u001b[1;33m[\u001b[0m\u001b[0mx\u001b[0m\u001b[1;33m]\u001b[0m\u001b[1;33m[\u001b[0m\u001b[0my\u001b[0m\u001b[1;33m]\u001b[0m \u001b[1;33m==\u001b[0m \u001b[1;34m'x'\u001b[0m\u001b[1;33m)\u001b[0m\u001b[1;33m:\u001b[0m  \u001b[1;31m#출구이면 탐색 성공. True 반환\u001b[0m\u001b[1;33m\u001b[0m\u001b[1;33m\u001b[0m\u001b[0m\n\u001b[0m\u001b[0;32m     11\u001b[0m             \u001b[1;32mreturn\u001b[0m \u001b[1;32mTrue\u001b[0m\u001b[1;33m\u001b[0m\u001b[1;33m\u001b[0m\u001b[0m\n\u001b[0;32m     12\u001b[0m         \u001b[1;32melse\u001b[0m\u001b[1;33m:\u001b[0m\u001b[1;33m\u001b[0m\u001b[1;33m\u001b[0m\u001b[0m\n",
      "\u001b[1;31mTypeError\u001b[0m: 'type' object is not subscriptable"
     ]
    }
   ],
   "source": [
    "result = DFS()\n",
    "if result:\n",
    "    print(' --> 미로탐색 성공')\n",
    "else:\n",
    "    print(' --> 미로 탐색 실패')"
   ]
  },
  {
   "cell_type": "markdown",
   "id": "4807d485",
   "metadata": {},
   "source": [
    "## 클래스 Date, __gt__()-- 다른 학생 코드 -> 교수 피드백"
   ]
  },
  {
   "cell_type": "code",
   "execution_count": 22,
   "id": "23c4e032",
   "metadata": {},
   "outputs": [],
   "source": [
    "class Date:\n",
    "    def __init__(self, year, month, day):\n",
    "        self.year = year\n",
    "        self.month = month\n",
    "        self.day =day\n",
    "        \n",
    "    def __gt__(self, rhs):\n",
    "        l = self.year*10000 + self.month*100 + self.day  #이런식의 비교는 좋지 않다. 년에 10000을 곱하고, 월에1000 을 곱하고\n",
    "        r = rhs.year*10000 + rhs.month*100 + rhs.day\n",
    "        \n",
    "        if l > r :\n",
    "            return True\n",
    "        else:\n",
    "            return False\n",
    "        \n",
    "def findMinMax(lst):\n",
    "    min = max = lst[0]\n",
    "    for i in range(1, len(lst)):\n",
    "        if lst[i] < min:\n",
    "            min = lst[i]\n",
    "        elif lst[i] > max:\n",
    "            max = lst[i]\n",
    "    return min, max"
   ]
  },
  {
   "cell_type": "code",
   "execution_count": null,
   "id": "0f3f1679",
   "metadata": {},
   "outputs": [],
   "source": [
    "class Date:\n",
    "    def __init__(self, year, month, day):\n",
    "        self.year = year\n",
    "        self.month = month\n",
    "        self.day =day\n",
    "        \n",
    "    def __gt__(self, rhs):\n",
    "        if self.year > rhs.year :\n",
    "            return True\n",
    "        elif self.year < rhs.year:  #년도에서 크면 여기서 끝내다\n",
    "            return False\n",
    "        elif self.month > rhs.month:  #연도가 같은 경우 -> month를 비교하다\n",
    "            return False\n",
    "        elif self.day > self.day:\n",
    "            return True\n",
    "        elif self.day < self.day:\n",
    "            return False\n",
    "        else:\n",
    "            return False  #년월일이 다 같으면 __gt__가 성립되지 않으므로  False\n",
    "        \n",
    "def findMinMax(lst):\n",
    "    min = max = lst[0]\n",
    "    for i in range(1, len(lst)):\n",
    "        if lst[i] < min:\n",
    "            min = lst[i]\n",
    "        elif lst[i] > max:\n",
    "            max = lst[i]\n",
    "    return min, max\n",
    "\n",
    "\n",
    "#이 코드가 보편적인 코드이다\n",
    "#판이썬으로 하면 이것보다 더 간단하게 코드를 짤 수 있다."
   ]
  },
  {
   "cell_type": "code",
   "execution_count": null,
   "id": "9248ada1",
   "metadata": {},
   "outputs": [],
   "source": [
    "class Date:\n",
    "    def __init__(self, year, month, day):\n",
    "        self.year = year\n",
    "        self.month = month\n",
    "        self.day =day\n",
    "    def __gt__(self, rhs):\n",
    "        return ((self.year , self.month, self.day) >   #년월일을 튜플로 만들어서 비교하다. 한꺼번에 비교하다\n",
    "                (rhs.year , rhs.month , rhs.day))\n",
    "    \n",
    "def findMinMax(lst):\n",
    "    min = max = lst[0]\n",
    "    for i in range(1, len(lst)):\n",
    "        if lst[i] < min:\n",
    "            min = lst[i]\n",
    "        elif lst[i] > max:\n",
    "            max = lst[i]'\n",
    "    return min , max\n",
    "\n",
    "#파이썬으로 간단하게 만든 코드 !!"
   ]
  },
  {
   "cell_type": "markdown",
   "id": "8b910da0",
   "metadata": {},
   "source": [
    "## 클래스 Date, increment()"
   ]
  },
  {
   "cell_type": "code",
   "execution_count": null,
   "id": "9dd92607",
   "metadata": {},
   "outputs": [],
   "source": [
    "def increment(self):\n",
    "    if self.day == self.lastDayOfTheMonth():\n",
    "        self.day = 1  #한달의 마지막 날이면\n",
    "        if self.month == 12:   #12월이되면 년도 증가\n",
    "            self.month = 1\n",
    "            self.year += 1\n",
    "        else:\n",
    "            self.month += 1\n",
    "    else:\n",
    "        self.day += 1\n",
    "    return self\n",
    "\n",
    "def lastDayOfTheMonth(self):\n",
    "    if self.month in (1,3,5,7,8, 10,12):\n",
    "        daysInAMonth = 31\n",
    "    elif self.month in (4,6, 9, 11):\n",
    "        daysInAMonth = 30\n",
    "    elif self.isLeapYear():\n",
    "        daysInAMonth = 29\n",
    "    else:\n",
    "        daysInAMonth = 28\n",
    "    return daysInAMonth\n",
    "\n",
    "def isLeapYear(self):\n",
    "    if (self.year % 4 == 0 and self.year % 100 != 0 ) or self.year % 400 == 0:   #윤년 계산\n",
    "        return True\n",
    "    else:\n",
    "        return False"
   ]
  }
 ],
 "metadata": {
  "kernelspec": {
   "display_name": "Python 3 (ipykernel)",
   "language": "python",
   "name": "python3"
  },
  "language_info": {
   "codemirror_mode": {
    "name": "ipython",
    "version": 3
   },
   "file_extension": ".py",
   "mimetype": "text/x-python",
   "name": "python",
   "nbconvert_exporter": "python",
   "pygments_lexer": "ipython3",
   "version": "3.8.10"
  }
 },
 "nbformat": 4,
 "nbformat_minor": 5
}
