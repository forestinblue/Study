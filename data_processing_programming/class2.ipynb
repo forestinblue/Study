{
 "cells": [
  {
   "cell_type": "code",
   "execution_count": 1,
   "metadata": {},
   "outputs": [
    {
     "name": "stdout",
     "output_type": "stream",
     "text": [
      ">점수입력 ?100\n",
      "입력점수= 100 점\n",
      "합격\n"
     ]
    }
   ],
   "source": [
    "score = int(input(\">점수입력 ?\")) #입력된 수치형 문자를 정수형으로 변환\n",
    "print (\"입력점수=\", score, \"점\")\n",
    "if score >=70:\n",
    "    print (\"합격\")\n",
    "else:\n",
    "    print(\"불합격\")"
   ]
  },
  {
   "cell_type": "code",
   "execution_count": 3,
   "metadata": {},
   "outputs": [
    {
     "name": "stdout",
     "output_type": "stream",
     "text": [
      ">점수입력 ? 80\n",
      "입력점수= 80 점\n",
      "합격\n",
      "처리 종료\n"
     ]
    }
   ],
   "source": [
    "# if문 예, 점수입력 후 합격만 처리\n",
    "score = int(input(\">점수입력 ? \"))\n",
    "print (\"입력점수=\", score, \"점\")\n",
    "if score >=70:\n",
    "    print (\"합격\")\n",
    "print(\"처리 종료\")\n"
   ]
  },
  {
   "cell_type": "code",
   "execution_count": 5,
   "metadata": {},
   "outputs": [
    {
     "name": "stdout",
     "output_type": "stream",
     "text": [
      ">점수입력 ? 60\n",
      "입력점수= 60 점\n",
      "불합격\n",
      "처리 종료\n"
     ]
    }
   ],
   "source": [
    "#if-else 문 예, 점수 입력 후 합격, 불합격 처리\n",
    "score =int(input(\">점수입력 ? \"))\n",
    "print (\"입력점수=\", score, \"점\")\n",
    "if score >=70:\n",
    "    print (\"합격\")\n",
    "else:\n",
    "    print(\"불합격\")\n",
    "print(\"처리 종료\")"
   ]
  },
  {
   "cell_type": "code",
   "execution_count": 7,
   "metadata": {},
   "outputs": [
    {
     "name": "stdout",
     "output_type": "stream",
     "text": [
      ">점수입력 ? 65\n",
      "입력점수= 65 점\n",
      "재시\n",
      "처리 종료\n"
     ]
    }
   ],
   "source": [
    "#if-elif-else문 예,\n",
    "# 점수입력 후 70이상이면, 합격,\n",
    "# 60-70 사이이면 재시, 60미만이면 불합격 처리\n",
    "\n",
    "score = int(input(\">점수입력 ? \"))\n",
    "print (\"입력점수=\", score, \"점\")\n",
    "if score >=70:\n",
    "    print (\"합격\")\n",
    "elif score >= 60:\n",
    "    print(\"재시\")\n",
    "else:\n",
    "    print(\"불합격\")\n",
    "print(\"처리 종료\")"
   ]
  },
  {
   "cell_type": "code",
   "execution_count": null,
   "metadata": {},
   "outputs": [],
   "source": [
    "#점수의 범위에 따른 학점처리\n",
    "score = int(input(\">점수입력 ? \"))\n",
    "print (\"입력점수=\",score, \"점\")\n",
    "if score >=90:\n",
    "    grade = 'A';\n",
    "elif score >= 80:    #score < 90 그리고 score >= 80\n",
    "    grade = 'B';\n",
    "elif score >= 70:    #score < 80 그리고 score >= 70\n",
    "    grade = 'C';\n",
    "elif score >= 60:    #score < 70 그리고 score >= 60\n",
    "    grade = 'D';\n",
    "else:                #score < 60\n",
    "    grade = 'F';\n",
    "    \n",
    "print(\"학점 =\", grade);"
   ]
  },
  {
   "cell_type": "code",
   "execution_count": 8,
   "metadata": {},
   "outputs": [
    {
     "name": "stdout",
     "output_type": "stream",
     "text": [
      ">a 입력 ? 10\n",
      ">b 입력 ? 20\n",
      "a= 10  b= 20\n",
      "a > b :  False\n",
      "a >= 8 :  True\n",
      "a < 10 :  False\n",
      "a == b :  False\n",
      "a != b :  True\n"
     ]
    }
   ],
   "source": [
    "#관계연산자 예\n",
    "a = int(input(\">a 입력 ? \"))\n",
    "b = int(input(\">b 입력 ? \"))\n",
    "print (\"a=\", a, \" b=\", b)\n",
    "print (\"a > b : \", (a > b))\n",
    "print (\"a >= 8 : \", (a >= 8))\n",
    "print (\"a < 10 : \", (a < 10))\n",
    "print (\"a == b : \", (a == b))\n",
    "print (\"a != b : \", (a != b))"
   ]
  },
  {
   "cell_type": "code",
   "execution_count": 11,
   "metadata": {},
   "outputs": [
    {
     "name": "stdout",
     "output_type": "stream",
     "text": [
      ">x 입력 ? 5\n",
      ">y 입력 ? -5\n",
      "x= 5  y= -5\n",
      "max =  5\n"
     ]
    }
   ],
   "source": [
    "#두 수를 입력하여 두수중 큰 수를 출력하는 문제\n",
    "x = int(input(\">x 입력 ? \"))\n",
    "y = int(input(\">y 입력 ? \"))\n",
    "print (\"x=\", x, \" y=\", y)\n",
    "print (\"max = \", end= \" \")\n",
    "if x > y:\n",
    "    print(x)\n",
    "else:\n",
    "    print(y)"
   ]
  },
  {
   "cell_type": "code",
   "execution_count": 15,
   "metadata": {},
   "outputs": [
    {
     "name": "stdout",
     "output_type": "stream",
     "text": [
      ">키 입력(m) ? 1.68\n",
      ">몸무게 입력(kg) ? 60\n",
      "키 : 1.68 m\n",
      "몸무게 :  60.00 kg\n",
      "BMI : 21.26\n",
      "비만여부 :  표준\n"
     ]
    }
   ],
   "source": [
    "#키와 몸무게를 변수에 저장하여 BMI(Body Mass Index) 체질량지수를  계산하여 출력\n",
    "\n",
    "h = float(input(\">키 입력(m) ? \"))\n",
    "w = float(input(\">몸무게 입력(kg) ? \"))\n",
    "BMI = w / (h ** 2) # BMI = 몸무게(kg) / 키(m)의 제곱\n",
    "out = '키 : {0:.2f} m' #입력되는 키는 m단위 사용, 소수점 아래 두자리 까지\n",
    "print (out.format(h))\n",
    "out = '몸무게 : {0: .2f} kg'\n",
    "print (out.format(w))\n",
    "out = 'BMI : {0:.2f}'\n",
    "print (out.format(BMI))\n",
    "\n",
    "#(1)BMI가 30이상이면 \"비만\"으로 아니면 \"표준\"으로 출력하는 프로그램 작성\n",
    "# if-else문\n",
    "if BMI >= 30:\n",
    "    f = \"비만\"\n",
    "else:\n",
    "    f = \"표준\"\n",
    "print(\"비만여부 : \", f)"
   ]
  },
  {
   "cell_type": "code",
   "execution_count": 16,
   "metadata": {},
   "outputs": [
    {
     "name": "stdout",
     "output_type": "stream",
     "text": [
      "비만여부 :  표준\n"
     ]
    }
   ],
   "source": [
    "#(2)BMI가 30이상 비만, 30-25 과체중 25미만 표준\n",
    "#if -elif -else문\n",
    "if BMI >= 30:\n",
    "    f = \"비만\"\n",
    "elif BMI >= 25:\n",
    "    f = \"과체중\"\n",
    "else:\n",
    "    f = \"표준\"\n",
    "print(\"비만여부 : \", f)"
   ]
  },
  {
   "cell_type": "code",
   "execution_count": 17,
   "metadata": {},
   "outputs": [
    {
     "name": "stdout",
     "output_type": "stream",
     "text": [
      "b1 =  True b2 =  False\n",
      "b1 and b2 :  False\n",
      "b1 or b2 :  True\n",
      "not b1 :  False\n",
      "a =  10 b =  20\n",
      "(a < b) and (b >= 20) :  True\n",
      "(a > b) or (b >= a) :  True\n",
      "not(a >= b ) :  True\n"
     ]
    }
   ],
   "source": [
    "#논리연산자 예\n",
    "#논리값을 이용한 논리연산결과 확인 예\n",
    "b1 = True\n",
    "b2 = False\n",
    "print(\"b1 = \", b1, \"b2 = \", b2)\n",
    "print(\"b1 and b2 : \", b1 and b2 )\n",
    "print(\"b1 or b2 : \", b1 or b2)\n",
    "print(\"not b1 : \", not b1)\n",
    "\n",
    "#비교연산자의 결과로 논리연산결과 확인 예\n",
    "a=10\n",
    "b=20\n",
    "print(\"a = \", a, \"b = \", b)\n",
    "print(\"(a < b) and (b >= 20) : \", (a < b) and (b >= 20))\n",
    "print(\"(a > b) or (b >= a) : \", (a > b) or (b >= a))\n",
    "print(\"not(a >= b ) : \", not(a >= b))"
   ]
  },
  {
   "cell_type": "code",
   "execution_count": 21,
   "metadata": {},
   "outputs": [
    {
     "name": "stdout",
     "output_type": "stream",
     "text": [
      ">나이 입력 ? 7\n",
      "age = 7\n",
      "연령대 :  ?\n"
     ]
    }
   ],
   "source": [
    "#나이를 입력하여 연령대를 출력\n",
    "age = int(input(\">나이 입력 ? \"))\n",
    "r = '?'\n",
    "print (\"age =\", age)\n",
    "if (age < 0 ) or (age > 200 ):\n",
    "    r = \"범위오류\"\n",
    "if (age >= 10) and (age < 20):\n",
    "    r = \"10대\"\n",
    "if (age >= 20) and (age < 30):\n",
    "    r = \"20대\"\n",
    "if (age >= 30) and (age < 40):\n",
    "    r = \"30대\"\n",
    "print(\"연령대 : \", r)"
   ]
  },
  {
   "cell_type": "code",
   "execution_count": 26,
   "metadata": {},
   "outputs": [
    {
     "name": "stdout",
     "output_type": "stream",
     "text": [
      ">x 입력 ? 10\n",
      ">y 입력 ? 20\n",
      "x= 10  y= 20\n",
      "x * y =  200\n",
      "x + y =  30\n"
     ]
    }
   ],
   "source": [
    "#두 수의 양수 여부에 따른 처리 문제\n",
    "x = int(input(\">x 입력 ? \"))\n",
    "y = int(input(\">y 입력 ? \"))\n",
    "print (\"x=\", x, \" y=\", y)\n",
    "if (x >= 0) and (y >= 0):\n",
    "    S = x * y\n",
    "    print (\"x * y = \", S)\n",
    "if (x >= 0) or ( y >= 0):\n",
    "    S = x + y\n",
    "    print (\"x + y = \", S)"
   ]
  },
  {
   "cell_type": "code",
   "execution_count": 27,
   "metadata": {},
   "outputs": [
    {
     "name": "stdout",
     "output_type": "stream",
     "text": [
      ">년도 입력 ? 2021\n",
      "year =  2021\n",
      "평년\n"
     ]
    }
   ],
   "source": [
    "#윤년조선, 년도가 4로 나누어지면서 100으로 나누어지지않는 년도 또는 400으로 나누어지는 년도\n",
    "year = int(input(\">년도 입력 ? \"))\n",
    "print (\"year = \", year)\n",
    "if ((year % 4 == 0 and year % 100 != 0) or year % 400 == 0):\n",
    "    print(\"윤년\")\n",
    "else:\n",
    "    print(\"평년\")"
   ]
  },
  {
   "cell_type": "code",
   "execution_count": 31,
   "metadata": {},
   "outputs": [
    {
     "name": "stdout",
     "output_type": "stream",
     "text": [
      "성명입력 ? kim\n",
      "성명 : kim\n",
      "kim은 ['kim', 'lee', 'min']에 포함\n"
     ]
    }
   ],
   "source": [
    "names = ['kim', 'lee', 'min']\n",
    "name = input(\"성명입력 ? \")\n",
    "print(\"성명 : \" + name)\n",
    "if name in names:\n",
    "    print (\"{0}은 {1}에 포함\".format(name,names))\n",
    "else:\n",
    "    print(\"{0}은 {1}에 포함 안됨\".format(name, names))"
   ]
  },
  {
   "cell_type": "code",
   "execution_count": 35,
   "metadata": {},
   "outputs": [
    {
     "name": "stdout",
     "output_type": "stream",
     "text": [
      "단어입력 ? sky\n",
      "입력된 단어 : sky\n",
      "sky 는 단어장에 존재합니다.\n",
      "단어장 :  ['dream', 'sky', 'moon']\n"
     ]
    }
   ],
   "source": [
    "#단어장 추가 문제\n",
    "words = ['dream', 'sky', 'moon']\n",
    "word = input(\"단어입력 ? \")\n",
    "print(\"입력된 단어 : \" + word)\n",
    "if word not in words:\n",
    "    print(word, \"를 단어장에 추가합니다.\")\n",
    "    words.append(word)\n",
    "else:\n",
    "    print(word, \"는 단어장에 존재합니다.\")\n",
    "print(\"단어장 : \", words)"
   ]
  },
  {
   "cell_type": "code",
   "execution_count": 33,
   "metadata": {},
   "outputs": [
    {
     "name": "stdout",
     "output_type": "stream",
     "text": [
      "친구와 영화관에 간다\n",
      ">학생이면 [예]를 입력 ? 아니오\n",
      ">나이 입력 ? 30\n",
      "지불액 :  10000.0  할인율 :  0 %\n",
      "영화를 본다\n",
      "헤어져 집에 간다\n"
     ]
    }
   ],
   "source": [
    "print(\"친구와 영화관에 간다\")\n",
    "st= input(\">학생이면 [예]를 입력 ? \")\n",
    "\n",
    "if st == '예':\n",
    "    discount = 20\n",
    "else:\n",
    "    age = int(input(\">나이 입력 ? \"))\n",
    "    if age < 30:\n",
    "        discount = 10\n",
    "    else:\n",
    "        discount = 0\n",
    "        \n",
    "ticket = 10000  #티켓 가격 1만원\n",
    "payment = ticket - (ticket *(discount/100)) #지불액\n",
    "print(\"지불액 : \", payment, \" 할인율 : \", discount, \"%\")\n",
    "print(\"영화를 본다\")\n",
    "print(\"헤어져 집에 간다\")    "
   ]
  },
  {
   "cell_type": "code",
   "execution_count": null,
   "metadata": {},
   "outputs": [],
   "source": []
  }
 ],
 "metadata": {
  "kernelspec": {
   "display_name": "Python 3",
   "language": "python",
   "name": "python3"
  },
  "language_info": {
   "codemirror_mode": {
    "name": "ipython",
    "version": 3
   },
   "file_extension": ".py",
   "mimetype": "text/x-python",
   "name": "python",
   "nbconvert_exporter": "python",
   "pygments_lexer": "ipython3",
   "version": "3.8.5"
  }
 },
 "nbformat": 4,
 "nbformat_minor": 4
}
