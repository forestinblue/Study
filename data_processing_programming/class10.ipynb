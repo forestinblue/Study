{
 "cells": [
  {
   "cell_type": "code",
   "execution_count": 2,
   "metadata": {},
   "outputs": [
    {
     "name": "stdout",
     "output_type": "stream",
     "text": [
      "**Arrays**\n",
      "a= [2 3 4]\n",
      "a.ndim= 1\n",
      "a.shape= (3,)\n",
      "a.itemsize= 4\n",
      "a.size= 3\n",
      "type(a)= <class 'numpy.ndarray'>\n",
      "b.ndim= 2\n",
      "b.shape= (2, 3)\n"
     ]
    }
   ],
   "source": [
    "# The Basics\n",
    "import numpy as np\n",
    "a = np.array([2,3,4])   #1차원 배열 생성\n",
    "print(\"**Arrays**\")\n",
    "print(\"a=\", a)\n",
    "print(\"a.ndim=\", a.ndim)   #a배열의 차원\n",
    "print(\"a.shape=\",a.shape)  #a배열의 각 차원의 크기\n",
    "print(\"a.itemsize=\", a.itemsize)  #배열요소의 바이트 수\n",
    "print(\"a.size=\", a.size)\n",
    "print(\"type(a)=\",type(a))\n",
    "\n",
    "\n",
    "b = np.array([[1,2,3], [5,6,7]])  #2차원 배열 생성\n",
    "print(\"b.ndim=\",b.ndim)\n",
    "print(\"b.shape=\",b.shape)"
   ]
  },
  {
   "cell_type": "code",
   "execution_count": 3,
   "metadata": {},
   "outputs": [
    {
     "name": "stdout",
     "output_type": "stream",
     "text": [
      "**Array creation**\n",
      "a1 [20 30 40]\n",
      "a2 [[10 20 30]\n",
      " [50 60 70]]\n",
      "f1 =  [0.  0.4 0.8 1.2 1.6]\n",
      "f2 =  [0.  0.4 0.8 1.2 1.6 2. ]\n",
      "zeros= [[0. 0.]\n",
      " [0. 0.]]\n",
      "ones= [[1. 1.]]\n",
      "full= [[7 7]\n",
      " [7 7]]\n",
      "eye= [[1. 0.]\n",
      " [0. 1.]]\n",
      "random1= [0 0 1 1 0 0 0 1 0 1]\n",
      "random2= [[9 5 9]\n",
      " [1 3 1]]\n",
      "random3= [[3 3 4]\n",
      " [2 5 3]\n",
      " [4 6 6]\n",
      " [1 6 4]\n",
      " [1 2 3]]\n"
     ]
    }
   ],
   "source": [
    "#Array creation, 배열 만들기\n",
    "print(\"**Array creation**\")\n",
    "a1=np.array([20,30,40])  #1차원 배열 생성\n",
    "a2=np.array([[10,20,30],[50,60,70]])   #2차원 배열 생성\n",
    "f1 = np.arange(0, 2, 0.4)  #0~2 범위 내 0.4 간격으로 실수값 배열 생성\n",
    "f2 = np.linspace(0, 2, 6)  #0~2 범위 내 6개 배열 생성\n",
    "z = np.zeros((2,2))  #모든 값이 0인 배열 생성\n",
    "o = np.ones((1,2))   #모든 값이 1인 배열 생성\n",
    "c = np.full((2,2),7)  #모든 값이 특정 상수인 배열 생성\n",
    "e = np.eye(2)\n",
    "r1 = np.random.randint(2, size=10)  #0~1 , 10개 정수 난수\n",
    "r2 = np.random.randint(10,size=(2,3)) #0~9, 2X3 array\n",
    "r3 = np.random.randint(1, 7, size=(5,3))  #1~6, 5X3 array\n",
    "\n",
    "print(\"a1\",a1)\n",
    "print(\"a2\",a2)\n",
    "print(\"f1 = \",f1)\n",
    "print(\"f2 = \",f2)\n",
    "print(\"zeros=\",z)\n",
    "print(\"ones=\",o)\n",
    "print(\"full=\",c)\n",
    "print(\"eye=\",e)\n",
    "print(\"random1=\",r1)\n",
    "print(\"random2=\",r2)\n",
    "print(\"random3=\",r3)"
   ]
  },
  {
   "cell_type": "code",
   "execution_count": 4,
   "metadata": {},
   "outputs": [
    {
     "data": {
      "text/plain": [
       "array([0.82166933, 0.47096974, 0.36361929])"
      ]
     },
     "execution_count": 4,
     "metadata": {},
     "output_type": "execute_result"
    }
   ],
   "source": [
    "np.random.rand(3)"
   ]
  },
  {
   "cell_type": "code",
   "execution_count": 5,
   "metadata": {},
   "outputs": [
    {
     "data": {
      "text/plain": [
       "array([[0.77251056, 0.30537243],\n",
       "       [0.30946882, 0.85774   ],\n",
       "       [0.18251512, 0.43208857]])"
      ]
     },
     "execution_count": 5,
     "metadata": {},
     "output_type": "execute_result"
    }
   ],
   "source": [
    "np.random.rand(3,2)"
   ]
  },
  {
   "cell_type": "code",
   "execution_count": 6,
   "metadata": {},
   "outputs": [
    {
     "data": {
      "text/plain": [
       "0.22040695940209915"
      ]
     },
     "execution_count": 6,
     "metadata": {},
     "output_type": "execute_result"
    }
   ],
   "source": [
    "np.random.randn()  #평균 0, 표준편차 1인 표준정규분포 난수 1개 발생"
   ]
  },
  {
   "cell_type": "code",
   "execution_count": 7,
   "metadata": {},
   "outputs": [
    {
     "data": {
      "text/plain": [
       "array([-0.23738354,  1.1347436 , -0.12682357,  0.17594984, -0.56418393])"
      ]
     },
     "execution_count": 7,
     "metadata": {},
     "output_type": "execute_result"
    }
   ],
   "source": [
    "np.random.randn(5)  #평균 0, 표준편차 1인 표준정규분포 난수 5개 발생"
   ]
  },
  {
   "cell_type": "code",
   "execution_count": 8,
   "metadata": {},
   "outputs": [
    {
     "data": {
      "text/plain": [
       "array([[-1.08700064,  0.39492971,  0.87134165, -0.36072051],\n",
       "       [ 0.23424319, -0.91444819,  1.30027407, -0.46956851]])"
      ]
     },
     "execution_count": 8,
     "metadata": {},
     "output_type": "execute_result"
    }
   ],
   "source": [
    "np.random.randn(2,4)  #평균 0, 표준편차 1인 표준정규분포 난수 2 x 4 개 발생\n"
   ]
  },
  {
   "cell_type": "code",
   "execution_count": 9,
   "metadata": {},
   "outputs": [
    {
     "name": "stdout",
     "output_type": "stream",
     "text": [
      "[11.33914581 15.44531255  6.30311199 10.5311792   5.22215002  4.37864578\n",
      " 16.34675893 13.02510561  6.80038852  7.90346922]\n"
     ]
    }
   ],
   "source": [
    "mean = 10\n",
    "std = 5\n",
    "r = np.random.normal(mean,std,10)  #평균 mean, 표준편차 std인 정규분포\n",
    "print(r)"
   ]
  },
  {
   "cell_type": "code",
   "execution_count": 10,
   "metadata": {},
   "outputs": [
    {
     "data": {
      "text/plain": [
       "array([0, 2, 1, 0, 2, 2, 1, 0, 0, 2])"
      ]
     },
     "execution_count": 10,
     "metadata": {},
     "output_type": "execute_result"
    }
   ],
   "source": [
    "np.random.randint(3, size=10)  #0~2, 10개 정수 난수"
   ]
  },
  {
   "cell_type": "code",
   "execution_count": 11,
   "metadata": {},
   "outputs": [
    {
     "data": {
      "image/png": "[encoded data removed]",
      "text/plain": [
       "<Figure size 432x288 with 1 Axes>"
      ]
     },
     "metadata": {
      "needs_background": "light"
     },
     "output_type": "display_data"
    },
    {
     "data": {
      "image/png": "[encoded data removed]",
      "text/plain": [
       "<Figure size 432x288 with 1 Axes>"
      ]
     },
     "metadata": {
      "needs_background": "light"
     },
     "output_type": "display_data"
    },
    {
     "data": {
      "image/png": "[encoded data removed]",
      "text/plain": [
       "<Figure size 432x288 with 1 Axes>"
      ]
     },
     "metadata": {
      "needs_background": "light"
     },
     "output_type": "display_data"
    }
   ],
   "source": [
    "# Random number\n",
    "\n",
    "#그래프로 랜덤값 분포 확인\n",
    "import matplotlib.pyplot as plt\n",
    "\n",
    "r1 = np.random.rand(100)  #0~1 사이 균일 분포\n",
    "plt.hist(r1)   #히스토그램, 데이터 분포 확인\n",
    "plt.show()\n",
    "\n",
    "r2 = np.random.randn(100)   #평균0, 표준편차 1인 표준 정규분포 (가우시안 분포)\n",
    "plt.hist(r2)\n",
    "plt.show()\n",
    "\n",
    "#평균, 표준편차를 알고 있는 정규 분포에서 표본 추출\n",
    "mean = 160\n",
    "std = 40\n",
    "r3 = np.random.normal(mean, std, 100)  #평균 mean, 표준편차  std인 정규분포\n",
    "plt.hist(r3)\n",
    "plt.show()\n"
   ]
  },
  {
   "cell_type": "code",
   "execution_count": 12,
   "metadata": {},
   "outputs": [
    {
     "name": "stdout",
     "output_type": "stream",
     "text": [
      "**Array operation\n",
      "a =  [0 1 2 3 4]\n",
      "b =  [5 6 7 8 9]\n",
      "a + 2 =  [2 3 4 5 6]\n",
      "a ** 2 =  [ 0  1  4  9 16]\n",
      "a < 2 =  [ True  True False False False]\n",
      "a + b =  [ 5  7  9 11 13]\n",
      "max(a) =  4\n",
      "sum(a) =  10\n",
      "a.sum() =  10\n",
      "b.mean() =  7.0\n",
      "b.std() =  1.4142135623730951\n"
     ]
    }
   ],
   "source": [
    "#1차원 배열 연산\n",
    "print(\"**Array operation\")\n",
    "a = np.arange(5)\n",
    "b = np.array([5,6,7,8,9])\n",
    "print(\"a = \",a)\n",
    "print(\"b = \",b)\n",
    "print(\"a + 2 = \", a + 2)  #배열 요소에 2를 더한 결과\n",
    "print(\"a ** 2 = \", a ** 2)  #배열 요소를 제곱한 결과\n",
    "print(\"a < 2 = \", a < 2)   #배열 요소가 2보다 작으면 True, 아니면 False\n",
    "print(\"a + b = \", a + b)  #a 배열 요소와 b 배열 요소의 합\n",
    "print(\"max(a) = \",max(a))  #a배열 요소이 최대값 구하는 함수 호출\n",
    "print(\"sum(a) = \",sum(a))  #a배열 요소의 합의 구하는 함수 호출\n",
    "print(\"a.sum() = \", a.sum())   #배열 요소의 합을 구하는 함수 호출\n",
    "print(\"b.mean() = \", b.mean())  #b배열요소의 평균을 구하는 함수 호출\n",
    "print(\"b.std() = \", b.std())   #b배열요소의 표준편차를 구하는 함수 호출"
   ]
  },
  {
   "cell_type": "code",
   "execution_count": 13,
   "metadata": {},
   "outputs": [
    {
     "name": "stdout",
     "output_type": "stream",
     "text": [
      "**Array indexing, Slicing**\n",
      "a =  [0 1 2 3 4]\n",
      "a[0] =  0\n",
      "a[2:4] =  [2 3]\n",
      "a[:2] =  [0 1]\n",
      "a[-1] =  4\n",
      "a[1:4:2] =  [1 3]\n",
      "** index arrays**\n",
      "type(a)= <class 'numpy.ndarray'>\n",
      "i =  [1, 3, 4]\n",
      "a[i] =  [1 3 4]\n",
      "** mask index arrays**\n",
      "f =  [True, False, True, True, False]\n",
      "a[f] =  [0 2 3]\n",
      "** Assigning values **\n",
      "a =  [100  -2  -2   3   4]\n"
     ]
    }
   ],
   "source": [
    "#indexing, Slicing\n",
    "print(\"**Array indexing, Slicing**\")\n",
    "a = np.arange(5)\n",
    "print(\"a = \",a)\n",
    "print(\"a[0] = \",a[0])\n",
    "a1 = a[2:4]\n",
    "print(\"a[2:4] = \",a1)\n",
    "a2 = a[:2]    #~(2-1)\n",
    "print(\"a[:2] = \",a2)\n",
    "a3 = a[-1]    #reverse index, ..... -2 -1\n",
    "print(\"a[-1] = \", a3)\n",
    "a4 = a[1:4:2]    #1에서 (4-1)까지 step2\n",
    "print(\"a[1:4:2] = \",a4)\n",
    "\n",
    "\n",
    "#numpy,ndarray : index arrays, Fancy indexing\n",
    "print(\"** index arrays**\")\n",
    "i = [1,3,4]\n",
    "print(\"type(a)=\",type(a))  #numpy.ndarray\n",
    "print(\"i = \", i)\n",
    "print(\"a[i] = \",a[i])\n",
    "\n",
    "#Boolean or \"mask\"   index arrays\n",
    "print(\"** mask index arrays**\")\n",
    "f = [True, False, True, True, False]\n",
    "print(\"f = \", f)\n",
    "print(\"a[f] = \", a[f])   #참인 인덱스 값만 추출\n",
    "\n",
    "#Assinging values\n",
    "print(\"** Assigning values **\")\n",
    "a[0]=100\n",
    "a[1:3] = -2   #1~(3-1)인덱스에 해당하는 요소에 -2 대입\n",
    "print(\"a = \", a)"
   ]
  },
  {
   "cell_type": "code",
   "execution_count": 14,
   "metadata": {},
   "outputs": [
    {
     "name": "stdout",
     "output_type": "stream",
     "text": [
      "m1 =  [[1 2]\n",
      " [1 0]]\n",
      "m2 =  [[1 2]\n",
      " [3 2]]\n",
      "m1.sum(axis=0) =  [2 2]\n",
      "m1.sum(axis=1) =  [3 1]\n",
      "m1 + m2= [[2 4]\n",
      " [4 2]]\n",
      "m1 * m2= [[1 4]\n",
      " [3 0]]\n",
      "m1.dot(m2)= [[7 6]\n",
      " [1 2]]\n",
      "m1 < 2 = [[ True False]\n",
      " [ True  True]]\n"
     ]
    }
   ],
   "source": [
    "#2차원 행렬 생성, 연산\n",
    "m1 = np.array([[1,2], [1,0]])\n",
    "m2 = np.array([[1,2], [3,2]])\n",
    "print(\"m1 = \", m1)\n",
    "print(\"m2 = \", m2)\n",
    "print(\"m1.sum(axis=0) = \", m1.sum(axis=0))  #열의 합\n",
    "print(\"m1.sum(axis=1) = \",m1.sum(axis=1))  #행의 합\n",
    "print(\"m1 + m2=\",m1+m2)\n",
    "print(\"m1 * m2=\",m1*m2)  #배열 요소 곱\n",
    "print(\"m1.dot(m2)=\", m1.dot(m2))  # 행렬 내적\n",
    "print(\"m1 < 2 =\", m1 < 2)"
   ]
  },
  {
   "cell_type": "code",
   "execution_count": 15,
   "metadata": {},
   "outputs": [
    {
     "name": "stdout",
     "output_type": "stream",
     "text": [
      "** 2차원 Indexing, Slicing, index arrays**\n",
      "a2 =  [[ 1  2  3  4]\n",
      " [10 20 30 40]\n",
      " [ 6  7  8  9]]\n",
      "a2[1,2] =  30\n",
      "a2[:, 1] =  [ 2 20  7]\n",
      "a2[1:3, 2:4] =  [[30 40]\n",
      " [ 8  9]]\n",
      "a2[1:2, :] =  [[10 20 30 40]]\n",
      "a2[1,:] =  [6 7 8 9]\n",
      "a2[1, :] =  [10 20 30 40]\n",
      "a2[1,...] =  [10 20 30 40]\n",
      "m= [[ True  True  True  True]\n",
      " [False False False False]\n",
      " [ True  True  True  True]]\n",
      "a2[m] =  [1 2 3 4 6 7 8 9]\n",
      "** 2차원 iterator **\n",
      "[1 2 3 4]\n",
      "[10 20 30 40]\n",
      "[6 7 8 9]\n",
      "** 1차원 변경 iterator **\n",
      "1 2 3 4 10 20 30 40 6 7 8 9 "
     ]
    }
   ],
   "source": [
    "#2차원 배열, indexing, Slicing, index arrays\n",
    "print(\"** 2차원 Indexing, Slicing, index arrays**\")\n",
    "a2 = np.array([[1,2,3,4],[10,20,30,40],[6,7,8,9]])\n",
    "print(\"a2 = \",a2)\n",
    "print(\"a2[1,2] = \", a2[1,2])  #1행, 2열\n",
    "print(\"a2[:, 1] = \", a2[:,1])  #1열의 모든 행\n",
    "print(\"a2[1:3, 2:4] = \", a2[1:3,2:4])  #1~(3-1)행, 2~(4-1)열\n",
    "print(\"a2[1:2, :] = \", a2[1:2,:])\n",
    "print(\"a2[1,:] = \", a2[-1])  #마지막 행\n",
    "print(\"a2[1, :] = \", a2[1, :])  #1행의 모든 열\n",
    "print(\"a2[1,...] = \", a2[1,...]) #1행의 모든 열\n",
    "\n",
    "m = a2 < 10   #조건에 맞는 mask 생성\n",
    "print(\"m=\", m)\n",
    "print(\"a2[m] = \", a2[m])  #조건에 맞는 배열 요소만 추출\n",
    "\n",
    "#iterator\n",
    "print(\"** 2차원 iterator **\")\n",
    "for r in a2:   #행 단위 접근\n",
    "    print(r)\n",
    "    \n",
    "#2차원을 1차원으로 변경 \n",
    "print(\"** 1차원 변경 iterator **\")\n",
    "#a1 =a2.revel()\n",
    "a1  = a2.flat\n",
    "for e in a1:   #1차원으로 접근\n",
    "    print(e, end=\" \")\n",
    " "
   ]
  },
  {
   "cell_type": "code",
   "execution_count": 30,
   "metadata": {},
   "outputs": [
    {
     "name": "stdout",
     "output_type": "stream",
     "text": [
      "a= [[9 4 4 0]\n",
      " [4 5 6 0]\n",
      " [5 5 5 5]]\n",
      "a.shape (3, 4)\n",
      "a.ravel()= [9 4 4 0 4 5 6 0 5 5 5 5]\n",
      "a.reshape(-1)= [9 4 4 0 4 5 6 0 5 5 5 5]\n",
      "a.reshape(6,2) =  [[9 4]\n",
      " [4 0]\n",
      " [4 5]\n",
      " [6 0]\n",
      " [5 5]\n",
      " [5 5]]\n",
      "a.T =  [[9 4 5]\n",
      " [4 5 5]\n",
      " [4 6 5]\n",
      " [0 0 5]]\n",
      "a.a.T.shape =  (4, 3)\n",
      "a.reshape(2,6) =  [[9 4 4 0 4 5]\n",
      " [6 0 5 5 5 5]]\n",
      "\n",
      "a.reshape(2,6) =  None\n",
      "a.reshape(3,-1) =  [[9 4 4 0]\n",
      " [4 5 6 0]\n",
      " [5 5 5 5]]\n"
     ]
    }
   ],
   "source": [
    "#차원 변경, Shape Manipulation\n",
    "\n",
    "a = np.random.randint(10, size=(3,4))  #3 X 4 배열에 random number (0~9)\n",
    "print(\"a=\",a)\n",
    "print(\"a.shape\", a.shape)\n",
    "b= a.ravel()   #2차배열이 펼쳐진 1차배열로 반환\n",
    "print(\"a.ravel()=\",b)\n",
    "b2= a.reshape(-1)  #2차 배열이 펼쳐진 1차 배열로 반환\n",
    "print(\"a.reshape(-1)=\",b2)\n",
    "c=a.reshape(6,2)   #a의 형태가 6행 2열로 수정되어 반환\n",
    "print(\"a.reshape(6,2) = \", c)\n",
    "at = a.T  #a의 전치행렬 반환 (행, 열이 교환된 행렬)\n",
    "print(\"a.T = \", at)\n",
    "print(\"a.a.T.shape = \", a.T.shape)\n",
    "d = a.resize((2,6))  #a의 shape를 수정, 반환 없음\n",
    "print(\"a.reshape(2,6) = \",a)\n",
    "print()\n",
    "print(\"a.reshape(2,6) = \",d)\n",
    "e = a.reshape(3, -1)   #행 크기 3에 맞추어 열 크기 자동으로 변경\n",
    "print(\"a.reshape(3,-1) = \",e)"
   ]
  },
  {
   "cell_type": "code",
   "execution_count": 17,
   "metadata": {},
   "outputs": [
    {
     "name": "stdout",
     "output_type": "stream",
     "text": [
      "a= [ 0  1  2  3  4  5  6  7  8  9 10 11]\n",
      "b= [ 0  1  2  3  4  5  6  7  8  9 10 11]\n",
      "b is a  True\n",
      "b.shape= (3, 4)\n",
      "a.shape= (3, 4)\n",
      "a= [[ 0  1  2  3]\n",
      " [ 4  5  6  7]\n",
      " [ 8  9 10 11]]\n",
      "b= [[ 0  1  2  3]\n",
      " [ 4  5  6  7]\n",
      " [ 8  9 10 11]]\n",
      "c= [[ 0  1  2  3]\n",
      " [ 4  5  6  7]\n",
      " [ 8  9 10 11]]\n",
      "c is a  False\n",
      "c.base is a  True\n",
      "c.shape= (2, 6)\n",
      "a.shape= (3, 4)\n",
      "c= [[   0    1    2    3 1234    5]\n",
      " [   6    7    8    9   10   11]]\n",
      "a= [[   0    1    2    3]\n",
      " [1234    5    6    7]\n",
      " [   8    9   10   11]]\n",
      "d= [[   0    1    2    3]\n",
      " [1234    5    6    7]\n",
      " [   8    9   10   11]]\n",
      "d is a  False\n",
      "d.base is a False\n",
      "d= [[  99    1    2    3]\n",
      " [1234    5    6    7]\n",
      " [   8    9   10   11]]\n",
      "a= [[   0    1    2    3]\n",
      " [1234    5    6    7]\n",
      " [   8    9   10   11]]\n"
     ]
    }
   ],
   "source": [
    "#View, Shallow Copy\n",
    "a = np.arange(12)\n",
    "b = a   #b는 새로운 객체가 아닌 a를 참조\n",
    "print(\"a=\", a)\n",
    "print(\"b=\", b)\n",
    "print(\"b is a \", b is a)  #a and b are two names for the sa,e ndarray object\n",
    "b.shape=3,4  #changes the shape of a\n",
    "print(\"b.shape=\", b.shape)\n",
    "print(\"a.shape=\", a.shape)\n",
    "print(\"a=\", a)\n",
    "print(\"b=\", b)\n",
    "\n",
    "c = a.view()   #view: a와 다른 객체이지만 데이터는 공유\n",
    "print(\"c=\", c)\n",
    "print(\"c is a \", c is a)\n",
    "print(\"c.base is a \", c.base is a)\n",
    "c.shape = 2,6  #a's shape doesn't chage\n",
    "c[0,4] =1234\n",
    "print(\"c.shape=\", c.shape)\n",
    "print(\"a.shape=\", a.shape)\n",
    "print(\"c=\", c)\n",
    "print(\"a=\", a)\n",
    "\n",
    "#Deep Copy\n",
    "d = a.copy()   #copy : a와는 다른 객체로 데이터 복제\n",
    "print(\"d=\", d)\n",
    "print(\"d is a \", d is a)\n",
    "print(\"d.base is a\", d.base is a)\n",
    "d[0,0] = 99\n",
    "print(\"d=\", d)\n",
    "print(\"a=\", a)\n"
   ]
  },
  {
   "cell_type": "code",
   "execution_count": 18,
   "metadata": {},
   "outputs": [
    {
     "name": "stdout",
     "output_type": "stream",
     "text": [
      "[0 2 4 6 8]\n",
      "[0 1 2 3 4]\n",
      "[[0 2 4 6 8]\n",
      " [0 1 2 3 4]]\n",
      "\n",
      "[0 2 4 6 8 0 1 2 3 4]\n"
     ]
    }
   ],
   "source": [
    "#Vector Stacking, 벡터 결합\n",
    "#vstack: 행으로 결합\n",
    "#hstack: 열로 결합\n",
    "\n",
    "x = np.arange(0, 10, 2)  #x=([0,2,4,6,8])\n",
    "y = np.arange(5)   #y=([0,1,2,3,4])\n",
    "m = np.vstack([x,y])   #m=([[0,2,4,6,8],[0,1,2,3,4]])\n",
    "xy = np.hstack([x,y])    #xy = ([0,2,4,6,8,0,1,2,3,4])\n",
    "\n",
    "print(x)\n",
    "print(y)\n",
    "print(m)\n",
    "print()\n",
    "print(xy)"
   ]
  },
  {
   "cell_type": "code",
   "execution_count": 19,
   "metadata": {},
   "outputs": [],
   "source": [
    "#사용할 라이브러리 import\n",
    "import numpy as np\n",
    "import pandas as pd\n",
    "from IPython.display import display"
   ]
  },
  {
   "cell_type": "code",
   "execution_count": 20,
   "metadata": {},
   "outputs": [
    {
     "data": {
      "text/plain": [
       "'s1='"
      ]
     },
     "metadata": {},
     "output_type": "display_data"
    },
    {
     "data": {
      "text/plain": [
       "0    10\n",
       "1    20\n",
       "2    30\n",
       "3    40\n",
       "4    50\n",
       "dtype: int64"
      ]
     },
     "metadata": {},
     "output_type": "display_data"
    },
    {
     "name": "stdout",
     "output_type": "stream",
     "text": [
      "index= RangeIndex(start=0, stop=5, step=1)\n",
      "Values= [10 20 30 40 50]\n"
     ]
    },
    {
     "data": {
      "text/plain": [
       "'s2='"
      ]
     },
     "metadata": {},
     "output_type": "display_data"
    },
    {
     "data": {
      "text/plain": [
       "a    10\n",
       "b    20\n",
       "c    30\n",
       "d    40\n",
       "e    50\n",
       "dtype: int64"
      ]
     },
     "metadata": {},
     "output_type": "display_data"
    },
    {
     "name": "stdout",
     "output_type": "stream",
     "text": [
      "index= Index(['a', 'b', 'c', 'd', 'e'], dtype='object')\n",
      "values= [10 20 30 40 50]\n"
     ]
    }
   ],
   "source": [
    "#Series , python list로 생성, 인덱스 자동 생성(순번)\n",
    "s1 = pd.Series([10,20,30,40,50])\n",
    "display(\"s1=\",s1)\n",
    "print(\"index=\", s1.index)\n",
    "print(\"Values=\", s1.values)\n",
    "\n",
    "#Series, python list로 생성, 인덱스(레이블)  포함\n",
    "s2 = pd.Series([10,20,30,40,50], index=['a', 'b', 'c', 'd', 'e'])\n",
    "display(\"s2=\", s2)\n",
    "print(\"index=\", s2.index)\n",
    "print(\"values=\", s2.values)"
   ]
  },
  {
   "cell_type": "code",
   "execution_count": 21,
   "metadata": {},
   "outputs": [
    {
     "data": {
      "text/plain": [
       "'s1='"
      ]
     },
     "metadata": {},
     "output_type": "display_data"
    },
    {
     "data": {
      "text/plain": [
       "0    1.281481\n",
       "1    0.189307\n",
       "2   -0.883710\n",
       "3   -1.049572\n",
       "4   -0.458822\n",
       "dtype: float64"
      ]
     },
     "metadata": {},
     "output_type": "display_data"
    },
    {
     "data": {
      "text/plain": [
       "'s2='"
      ]
     },
     "metadata": {},
     "output_type": "display_data"
    },
    {
     "data": {
      "text/plain": [
       "a   -1.719948\n",
       "b    1.119653\n",
       "c    0.740317\n",
       "d    0.012804\n",
       "e    1.212252\n",
       "dtype: float64"
      ]
     },
     "metadata": {},
     "output_type": "display_data"
    },
    {
     "data": {
      "text/plain": [
       "'s3='"
      ]
     },
     "metadata": {},
     "output_type": "display_data"
    },
    {
     "data": {
      "text/plain": [
       "b    1\n",
       "a    0\n",
       "c    2\n",
       "dtype: int64"
      ]
     },
     "metadata": {},
     "output_type": "display_data"
    },
    {
     "data": {
      "text/plain": [
       "'s4='"
      ]
     },
     "metadata": {},
     "output_type": "display_data"
    },
    {
     "data": {
      "text/plain": [
       "a    5.0\n",
       "b    5.0\n",
       "c    5.0\n",
       "d    5.0\n",
       "e    5.0\n",
       "dtype: float64"
      ]
     },
     "metadata": {},
     "output_type": "display_data"
    },
    {
     "name": "stdout",
     "output_type": "stream",
     "text": [
      "s1.ndim= 1\n",
      "s1.shape= (5,)\n",
      "s1.dtype= float64\n"
     ]
    }
   ],
   "source": [
    "#Series, numpy ndarray로 생성\n",
    "s1 = pd.Series(np.random.randn(5))\n",
    "s2 = pd.Series(np.random.randn(5), index=['a','b','c','d','e'])\n",
    "display(\"s1=\", s1)\n",
    "display(\"s2=\",s2)\n",
    "\n",
    "#Series, 파이썬 dicts, KEY-VALUE로 생성\n",
    "d = {'b': 1,'a':0, 'c':2}\n",
    "s3 = pd.Series(d)  #Key는 레이블로 처리\n",
    "display(\"s3=\", s3)\n",
    "\n",
    "#Series, 하나의 값으로 생성, scaler value\n",
    "s4= pd.Series(5., index=['a', 'b', 'c', 'd', 'e'])\n",
    "display(\"s4=\", s4)\n",
    "\n",
    "#Series, numpy의 ndarray와 유사한 속성으로 차원, 형태, 타입 확인\n",
    "print(\"s1.ndim=\", s1.ndim)\n",
    "print(\"s1.shape=\", s1.shape)\n",
    "print(\"s1.dtype=\", s1.dtype)"
   ]
  },
  {
   "cell_type": "code",
   "execution_count": 22,
   "metadata": {},
   "outputs": [
    {
     "data": {
      "text/plain": [
       "'s1='"
      ]
     },
     "metadata": {},
     "output_type": "display_data"
    },
    {
     "data": {
      "text/plain": [
       "0    1.281481\n",
       "1    0.189307\n",
       "2   -0.883710\n",
       "3   -1.049572\n",
       "4   -0.458822\n",
       "dtype: float64"
      ]
     },
     "metadata": {},
     "output_type": "display_data"
    },
    {
     "data": {
      "text/plain": [
       "'s1[0]='"
      ]
     },
     "metadata": {},
     "output_type": "display_data"
    },
    {
     "data": {
      "text/plain": [
       "1.281480978206475"
      ]
     },
     "metadata": {},
     "output_type": "display_data"
    },
    {
     "data": {
      "text/plain": [
       "'s1[:2]='"
      ]
     },
     "metadata": {},
     "output_type": "display_data"
    },
    {
     "data": {
      "text/plain": [
       "0    1.281481\n",
       "1    0.189307\n",
       "dtype: float64"
      ]
     },
     "metadata": {},
     "output_type": "display_data"
    },
    {
     "data": {
      "text/plain": [
       "'s1[1:5:2]='"
      ]
     },
     "metadata": {},
     "output_type": "display_data"
    },
    {
     "data": {
      "text/plain": [
       "1    0.189307\n",
       "3   -1.049572\n",
       "dtype: float64"
      ]
     },
     "metadata": {},
     "output_type": "display_data"
    },
    {
     "data": {
      "text/plain": [
       "'s1[3:]='"
      ]
     },
     "metadata": {},
     "output_type": "display_data"
    },
    {
     "data": {
      "text/plain": [
       "3   -1.049572\n",
       "4   -0.458822\n",
       "dtype: float64"
      ]
     },
     "metadata": {},
     "output_type": "display_data"
    },
    {
     "data": {
      "text/plain": [
       "'s1[-2:]='"
      ]
     },
     "metadata": {},
     "output_type": "display_data"
    },
    {
     "data": {
      "text/plain": [
       "3   -1.049572\n",
       "4   -0.458822\n",
       "dtype: float64"
      ]
     },
     "metadata": {},
     "output_type": "display_data"
    },
    {
     "name": "stdout",
     "output_type": "stream",
     "text": [
      "s3['a']= 0\n",
      "s3.get('a')= 0\n",
      "'c' in s3 =  True\n"
     ]
    }
   ],
   "source": [
    "#Series, numpy의 ndarray와 유사한 인덱싱, 슬라이싱\n",
    "display(\"s1=\", s1)\n",
    "display(\"s1[0]=\", s1[0])  #index 0에 해당하는 값\n",
    "display(\"s1[:2]=\", s1[:2])  #처음부터 index (2-1)\n",
    "display(\"s1[1:5:2]=\", s1[1:5:2])   #1부터 index (5-1), step 2\n",
    "display(\"s1[3:]=\", s1[3:])   #3부터 끝까지\n",
    "display(\"s1[-2:]=\", s1[-2:]) #끝에서 두번째부터 끝까지\n",
    "\n",
    "#Series, 파이썬 dicts와 유사하 인덱싱\n",
    "print(\"s3['a']=\", s3['a'])   #'a' 인덱스의 값 추출\n",
    "print(\"s3.get('a')=\", s3.get('a'))\n",
    "print(\"'c' in s3 = \",'c' in s3)  #s3 인덱스에 'c'존재여부 판단"
   ]
  },
  {
   "cell_type": "code",
   "execution_count": 23,
   "metadata": {},
   "outputs": [
    {
     "data": {
      "text/html": [
       "<div>\n",
       "<style scoped>\n",
       "    .dataframe tbody tr th:only-of-type {\n",
       "        vertical-align: middle;\n",
       "    }\n",
       "\n",
       "    .dataframe tbody tr th {\n",
       "        vertical-align: top;\n",
       "    }\n",
       "\n",
       "    .dataframe thead th {\n",
       "        text-align: right;\n",
       "    }\n",
       "</style>\n",
       "<table border=\"1\" class=\"dataframe\">\n",
       "  <thead>\n",
       "    <tr style=\"text-align: right;\">\n",
       "      <th></th>\n",
       "      <th>A</th>\n",
       "      <th>B</th>\n",
       "      <th>C</th>\n",
       "    </tr>\n",
       "  </thead>\n",
       "  <tbody>\n",
       "    <tr>\n",
       "      <th>0</th>\n",
       "      <td>6</td>\n",
       "      <td>4</td>\n",
       "      <td>0</td>\n",
       "    </tr>\n",
       "    <tr>\n",
       "      <th>1</th>\n",
       "      <td>0</td>\n",
       "      <td>0</td>\n",
       "      <td>0</td>\n",
       "    </tr>\n",
       "    <tr>\n",
       "      <th>2</th>\n",
       "      <td>3</td>\n",
       "      <td>4</td>\n",
       "      <td>7</td>\n",
       "    </tr>\n",
       "    <tr>\n",
       "      <th>3</th>\n",
       "      <td>5</td>\n",
       "      <td>5</td>\n",
       "      <td>2</td>\n",
       "    </tr>\n",
       "    <tr>\n",
       "      <th>4</th>\n",
       "      <td>6</td>\n",
       "      <td>0</td>\n",
       "      <td>5</td>\n",
       "    </tr>\n",
       "  </tbody>\n",
       "</table>\n",
       "</div>"
      ],
      "text/plain": [
       "   A  B  C\n",
       "0  6  4  0\n",
       "1  0  0  0\n",
       "2  3  4  7\n",
       "3  5  5  2\n",
       "4  6  0  5"
      ]
     },
     "metadata": {},
     "output_type": "display_data"
    }
   ],
   "source": [
    "#DataFrame 생성\n",
    "#DataFrame: data + index + columns\n",
    "#DataFrame, From ndarrays, list \n",
    "data = np.random.randint(8, size=(5, 3))  #random number\n",
    "idx = np.arange(5)\n",
    "col = list('ABC')\n",
    "df = pd.DataFrame(data, index=idx, columns=col)  #data, 행, 열 레이블 설정\n",
    "display(df)  #DataFrame 확인"
   ]
  },
  {
   "cell_type": "code",
   "execution_count": 24,
   "metadata": {},
   "outputs": [
    {
     "name": "stdout",
     "output_type": "stream",
     "text": [
      "[[5 9 1 5]\n",
      " [6 3 3 5]\n",
      " [6 8 0 9]\n",
      " [5 2 7 6]\n",
      " [8 5 3 7]]\n"
     ]
    }
   ],
   "source": [
    "data = np.random.randint(10, size=(5,4))\n",
    "print(data)"
   ]
  },
  {
   "cell_type": "code",
   "execution_count": 25,
   "metadata": {},
   "outputs": [
    {
     "data": {
      "text/plain": [
       "'df2='"
      ]
     },
     "metadata": {},
     "output_type": "display_data"
    },
    {
     "data": {
      "text/html": [
       "<div>\n",
       "<style scoped>\n",
       "    .dataframe tbody tr th:only-of-type {\n",
       "        vertical-align: middle;\n",
       "    }\n",
       "\n",
       "    .dataframe tbody tr th {\n",
       "        vertical-align: top;\n",
       "    }\n",
       "\n",
       "    .dataframe thead th {\n",
       "        text-align: right;\n",
       "    }\n",
       "</style>\n",
       "<table border=\"1\" class=\"dataframe\">\n",
       "  <thead>\n",
       "    <tr style=\"text-align: right;\">\n",
       "      <th></th>\n",
       "      <th>A</th>\n",
       "      <th>B</th>\n",
       "      <th>C</th>\n",
       "      <th>D</th>\n",
       "    </tr>\n",
       "  </thead>\n",
       "  <tbody>\n",
       "    <tr>\n",
       "      <th>2021-06-11</th>\n",
       "      <td>0</td>\n",
       "      <td>3</td>\n",
       "      <td>8</td>\n",
       "      <td>3</td>\n",
       "    </tr>\n",
       "    <tr>\n",
       "      <th>2021-06-12</th>\n",
       "      <td>1</td>\n",
       "      <td>3</td>\n",
       "      <td>9</td>\n",
       "      <td>9</td>\n",
       "    </tr>\n",
       "    <tr>\n",
       "      <th>2021-06-13</th>\n",
       "      <td>1</td>\n",
       "      <td>7</td>\n",
       "      <td>3</td>\n",
       "      <td>1</td>\n",
       "    </tr>\n",
       "    <tr>\n",
       "      <th>2021-06-14</th>\n",
       "      <td>3</td>\n",
       "      <td>5</td>\n",
       "      <td>4</td>\n",
       "      <td>5</td>\n",
       "    </tr>\n",
       "    <tr>\n",
       "      <th>2021-06-15</th>\n",
       "      <td>3</td>\n",
       "      <td>4</td>\n",
       "      <td>8</td>\n",
       "      <td>8</td>\n",
       "    </tr>\n",
       "  </tbody>\n",
       "</table>\n",
       "</div>"
      ],
      "text/plain": [
       "            A  B  C  D\n",
       "2021-06-11  0  3  8  3\n",
       "2021-06-12  1  3  9  9\n",
       "2021-06-13  1  7  3  1\n",
       "2021-06-14  3  5  4  5\n",
       "2021-06-15  3  4  8  8"
      ]
     },
     "metadata": {},
     "output_type": "display_data"
    },
    {
     "name": "stdout",
     "output_type": "stream",
     "text": [
      "df2.dtypes =  A    int32\n",
      "B    int32\n",
      "C    int32\n",
      "D    int32\n",
      "dtype: object\n",
      "df2.index =  DatetimeIndex(['2021-06-11', '2021-06-12', '2021-06-13', '2021-06-14',\n",
      "               '2021-06-15'],\n",
      "              dtype='datetime64[ns]', freq='D')\n",
      "df2.columns =  Index(['A', 'B', 'C', 'D'], dtype='object')\n"
     ]
    },
    {
     "data": {
      "text/plain": [
       "'df2.values='"
      ]
     },
     "metadata": {},
     "output_type": "display_data"
    },
    {
     "data": {
      "text/plain": [
       "array([[0, 3, 8, 3],\n",
       "       [1, 3, 9, 9],\n",
       "       [1, 7, 3, 1],\n",
       "       [3, 5, 4, 5],\n",
       "       [3, 4, 8, 8]])"
      ]
     },
     "metadata": {},
     "output_type": "display_data"
    }
   ],
   "source": [
    "#DataFrame 생성, From ndarrays, list\n",
    "data = np.random.randint(10, size=(5,4))  #random number\n",
    "col = list('ABCD')\n",
    "dates = pd.date_range('20210611', periods=5)\n",
    "df2 = pd.DataFrame(data)  #data만으로 생성\n",
    "df2.index = dates  #행 레이블 설정\n",
    "df2.columns = col  #열 레이블 설정\n",
    "display(\"df2=\", df2)\n",
    "\n",
    "print(\"df2.dtypes = \", df2.dtypes)  #데이터 타입들\n",
    "print(\"df2.index = \", df2.index)  #행 레이블\n",
    "print(\"df2.columns = \", df2.columns)  #열 레이블\n",
    "display(\"df2.values=\", df2.values)  # 데이터 값들"
   ]
  },
  {
   "cell_type": "code",
   "execution_count": 26,
   "metadata": {},
   "outputs": [
    {
     "data": {
      "text/plain": [
       "'df3='"
      ]
     },
     "metadata": {},
     "output_type": "display_data"
    },
    {
     "data": {
      "text/html": [
       "<div>\n",
       "<style scoped>\n",
       "    .dataframe tbody tr th:only-of-type {\n",
       "        vertical-align: middle;\n",
       "    }\n",
       "\n",
       "    .dataframe tbody tr th {\n",
       "        vertical-align: top;\n",
       "    }\n",
       "\n",
       "    .dataframe thead th {\n",
       "        text-align: right;\n",
       "    }\n",
       "</style>\n",
       "<table border=\"1\" class=\"dataframe\">\n",
       "  <thead>\n",
       "    <tr style=\"text-align: right;\">\n",
       "      <th></th>\n",
       "      <th>one</th>\n",
       "      <th>two</th>\n",
       "    </tr>\n",
       "  </thead>\n",
       "  <tbody>\n",
       "    <tr>\n",
       "      <th>0</th>\n",
       "      <td>1.0</td>\n",
       "      <td>4.0</td>\n",
       "    </tr>\n",
       "    <tr>\n",
       "      <th>1</th>\n",
       "      <td>2.0</td>\n",
       "      <td>3.0</td>\n",
       "    </tr>\n",
       "    <tr>\n",
       "      <th>2</th>\n",
       "      <td>3.0</td>\n",
       "      <td>2.0</td>\n",
       "    </tr>\n",
       "    <tr>\n",
       "      <th>3</th>\n",
       "      <td>4.0</td>\n",
       "      <td>1.0</td>\n",
       "    </tr>\n",
       "  </tbody>\n",
       "</table>\n",
       "</div>"
      ],
      "text/plain": [
       "   one  two\n",
       "0  1.0  4.0\n",
       "1  2.0  3.0\n",
       "2  3.0  2.0\n",
       "3  4.0  1.0"
      ]
     },
     "metadata": {},
     "output_type": "display_data"
    },
    {
     "data": {
      "text/plain": [
       "'df4='"
      ]
     },
     "metadata": {},
     "output_type": "display_data"
    },
    {
     "data": {
      "text/html": [
       "<div>\n",
       "<style scoped>\n",
       "    .dataframe tbody tr th:only-of-type {\n",
       "        vertical-align: middle;\n",
       "    }\n",
       "\n",
       "    .dataframe tbody tr th {\n",
       "        vertical-align: top;\n",
       "    }\n",
       "\n",
       "    .dataframe thead th {\n",
       "        text-align: right;\n",
       "    }\n",
       "</style>\n",
       "<table border=\"1\" class=\"dataframe\">\n",
       "  <thead>\n",
       "    <tr style=\"text-align: right;\">\n",
       "      <th></th>\n",
       "      <th>one</th>\n",
       "      <th>two</th>\n",
       "    </tr>\n",
       "  </thead>\n",
       "  <tbody>\n",
       "    <tr>\n",
       "      <th>a</th>\n",
       "      <td>1.0</td>\n",
       "      <td>4.0</td>\n",
       "    </tr>\n",
       "    <tr>\n",
       "      <th>b</th>\n",
       "      <td>2.0</td>\n",
       "      <td>3.0</td>\n",
       "    </tr>\n",
       "    <tr>\n",
       "      <th>c</th>\n",
       "      <td>3.0</td>\n",
       "      <td>2.0</td>\n",
       "    </tr>\n",
       "    <tr>\n",
       "      <th>d</th>\n",
       "      <td>4.0</td>\n",
       "      <td>1.0</td>\n",
       "    </tr>\n",
       "  </tbody>\n",
       "</table>\n",
       "</div>"
      ],
      "text/plain": [
       "   one  two\n",
       "a  1.0  4.0\n",
       "b  2.0  3.0\n",
       "c  3.0  2.0\n",
       "d  4.0  1.0"
      ]
     },
     "metadata": {},
     "output_type": "display_data"
    },
    {
     "data": {
      "text/plain": [
       "'df5='"
      ]
     },
     "metadata": {},
     "output_type": "display_data"
    },
    {
     "data": {
      "text/html": [
       "<div>\n",
       "<style scoped>\n",
       "    .dataframe tbody tr th:only-of-type {\n",
       "        vertical-align: middle;\n",
       "    }\n",
       "\n",
       "    .dataframe tbody tr th {\n",
       "        vertical-align: top;\n",
       "    }\n",
       "\n",
       "    .dataframe thead th {\n",
       "        text-align: right;\n",
       "    }\n",
       "</style>\n",
       "<table border=\"1\" class=\"dataframe\">\n",
       "  <thead>\n",
       "    <tr style=\"text-align: right;\">\n",
       "      <th></th>\n",
       "      <th>one</th>\n",
       "      <th>two</th>\n",
       "    </tr>\n",
       "  </thead>\n",
       "  <tbody>\n",
       "    <tr>\n",
       "      <th>a</th>\n",
       "      <td>1.0</td>\n",
       "      <td>1.0</td>\n",
       "    </tr>\n",
       "    <tr>\n",
       "      <th>b</th>\n",
       "      <td>2.0</td>\n",
       "      <td>2.0</td>\n",
       "    </tr>\n",
       "    <tr>\n",
       "      <th>c</th>\n",
       "      <td>3.0</td>\n",
       "      <td>3.0</td>\n",
       "    </tr>\n",
       "    <tr>\n",
       "      <th>d</th>\n",
       "      <td>NaN</td>\n",
       "      <td>4.0</td>\n",
       "    </tr>\n",
       "  </tbody>\n",
       "</table>\n",
       "</div>"
      ],
      "text/plain": [
       "   one  two\n",
       "a  1.0  1.0\n",
       "b  2.0  2.0\n",
       "c  3.0  3.0\n",
       "d  NaN  4.0"
      ]
     },
     "metadata": {},
     "output_type": "display_data"
    },
    {
     "data": {
      "text/plain": [
       "'df6='"
      ]
     },
     "metadata": {},
     "output_type": "display_data"
    },
    {
     "data": {
      "text/html": [
       "<div>\n",
       "<style scoped>\n",
       "    .dataframe tbody tr th:only-of-type {\n",
       "        vertical-align: middle;\n",
       "    }\n",
       "\n",
       "    .dataframe tbody tr th {\n",
       "        vertical-align: top;\n",
       "    }\n",
       "\n",
       "    .dataframe thead th {\n",
       "        text-align: right;\n",
       "    }\n",
       "</style>\n",
       "<table border=\"1\" class=\"dataframe\">\n",
       "  <thead>\n",
       "    <tr style=\"text-align: right;\">\n",
       "      <th></th>\n",
       "      <th>A</th>\n",
       "      <th>B</th>\n",
       "      <th>C</th>\n",
       "      <th>D</th>\n",
       "      <th>E</th>\n",
       "      <th>F</th>\n",
       "    </tr>\n",
       "  </thead>\n",
       "  <tbody>\n",
       "    <tr>\n",
       "      <th>0</th>\n",
       "      <td>1.0</td>\n",
       "      <td>2020-01-01</td>\n",
       "      <td>1.0</td>\n",
       "      <td>3</td>\n",
       "      <td>test</td>\n",
       "      <td>foo</td>\n",
       "    </tr>\n",
       "    <tr>\n",
       "      <th>1</th>\n",
       "      <td>1.0</td>\n",
       "      <td>2020-01-01</td>\n",
       "      <td>1.0</td>\n",
       "      <td>4</td>\n",
       "      <td>train</td>\n",
       "      <td>foo</td>\n",
       "    </tr>\n",
       "    <tr>\n",
       "      <th>2</th>\n",
       "      <td>1.0</td>\n",
       "      <td>2020-01-01</td>\n",
       "      <td>1.0</td>\n",
       "      <td>5</td>\n",
       "      <td>test</td>\n",
       "      <td>foo</td>\n",
       "    </tr>\n",
       "    <tr>\n",
       "      <th>3</th>\n",
       "      <td>1.0</td>\n",
       "      <td>2020-01-01</td>\n",
       "      <td>1.0</td>\n",
       "      <td>6</td>\n",
       "      <td>train</td>\n",
       "      <td>foo</td>\n",
       "    </tr>\n",
       "  </tbody>\n",
       "</table>\n",
       "</div>"
      ],
      "text/plain": [
       "     A          B    C  D      E    F\n",
       "0  1.0 2020-01-01  1.0  3   test  foo\n",
       "1  1.0 2020-01-01  1.0  4  train  foo\n",
       "2  1.0 2020-01-01  1.0  5   test  foo\n",
       "3  1.0 2020-01-01  1.0  6  train  foo"
      ]
     },
     "metadata": {},
     "output_type": "display_data"
    },
    {
     "name": "stdout",
     "output_type": "stream",
     "text": [
      "df6.dtypes= A           float64\n",
      "B    datetime64[ns]\n",
      "C           float32\n",
      "D             int32\n",
      "E          category\n",
      "F            object\n",
      "dtype: object\n"
     ]
    }
   ],
   "source": [
    "#DataFrame 생성, From dict of ndarrays / lists\n",
    "d = {'one': [1., 2., 3., 4.],\n",
    "    'two': [4., 3., 2., 1.]}\n",
    "\n",
    "df3 = pd.DataFrame(d)\n",
    "df4 = pd.DataFrame(d, index=['a','b','c','d'])\n",
    "display(\"df3=\", df3)\n",
    "display(\"df4=\", df4)\n",
    "\n",
    "#DataFrame 생성, From dict of Series or dicts\n",
    "d = {'one': pd.Series([1., 2., 3.], index=['a','b','c']),\n",
    "    'two':pd.Series([1., 2., 3., 4.], index=['a','b','c','d'])}\n",
    "df5 = pd.DataFrame(d)\n",
    "display(\"df5=\", df5)\n",
    "\n",
    "#서로 다른 자료형으로 구성된 데이터프레임 생성\n",
    "df6 = pd.DataFrame({'A': 1.,\n",
    "                   'B':pd.Timestamp('20200101'),\n",
    "                   'C': pd.Series(1, index=[0,1,2,3], dtype='float32'),\n",
    "                   'D': np.array([3,4,5,6], dtype='int32'),\n",
    "                   'E': pd.Categorical([\"test\",\"train\", \"test\",\"train\"]),\n",
    "                   'F': 'foo'})\n",
    "\n",
    "display(\"df6=\", df6)\n",
    "print(\"df6.dtypes=\", df6.dtypes)"
   ]
  },
  {
   "cell_type": "code",
   "execution_count": 27,
   "metadata": {},
   "outputs": [
    {
     "data": {
      "text/html": [
       "<div>\n",
       "<style scoped>\n",
       "    .dataframe tbody tr th:only-of-type {\n",
       "        vertical-align: middle;\n",
       "    }\n",
       "\n",
       "    .dataframe tbody tr th {\n",
       "        vertical-align: top;\n",
       "    }\n",
       "\n",
       "    .dataframe thead th {\n",
       "        text-align: right;\n",
       "    }\n",
       "</style>\n",
       "<table border=\"1\" class=\"dataframe\">\n",
       "  <thead>\n",
       "    <tr style=\"text-align: right;\">\n",
       "      <th></th>\n",
       "      <th>X</th>\n",
       "      <th>Y</th>\n",
       "      <th>Z</th>\n",
       "    </tr>\n",
       "  </thead>\n",
       "  <tbody>\n",
       "    <tr>\n",
       "      <th>2020-01-01</th>\n",
       "      <td>9</td>\n",
       "      <td>6</td>\n",
       "      <td>1</td>\n",
       "    </tr>\n",
       "    <tr>\n",
       "      <th>2020-01-02</th>\n",
       "      <td>7</td>\n",
       "      <td>1</td>\n",
       "      <td>3</td>\n",
       "    </tr>\n",
       "    <tr>\n",
       "      <th>2020-01-03</th>\n",
       "      <td>0</td>\n",
       "      <td>6</td>\n",
       "      <td>6</td>\n",
       "    </tr>\n",
       "    <tr>\n",
       "      <th>2020-01-04</th>\n",
       "      <td>2</td>\n",
       "      <td>6</td>\n",
       "      <td>4</td>\n",
       "    </tr>\n",
       "    <tr>\n",
       "      <th>2020-01-05</th>\n",
       "      <td>9</td>\n",
       "      <td>1</td>\n",
       "      <td>3</td>\n",
       "    </tr>\n",
       "    <tr>\n",
       "      <th>2020-01-06</th>\n",
       "      <td>5</td>\n",
       "      <td>1</td>\n",
       "      <td>4</td>\n",
       "    </tr>\n",
       "    <tr>\n",
       "      <th>2020-01-07</th>\n",
       "      <td>9</td>\n",
       "      <td>2</td>\n",
       "      <td>8</td>\n",
       "    </tr>\n",
       "  </tbody>\n",
       "</table>\n",
       "</div>"
      ],
      "text/plain": [
       "            X  Y  Z\n",
       "2020-01-01  9  6  1\n",
       "2020-01-02  7  1  3\n",
       "2020-01-03  0  6  6\n",
       "2020-01-04  2  6  4\n",
       "2020-01-05  9  1  3\n",
       "2020-01-06  5  1  4\n",
       "2020-01-07  9  2  8"
      ]
     },
     "metadata": {},
     "output_type": "display_data"
    },
    {
     "name": "stdout",
     "output_type": "stream",
     "text": [
      "df=             X  Y  Z\n",
      "2020-01-01  9  6  1\n",
      "2020-01-02  7  1  3\n",
      "2020-01-03  0  6  6\n",
      "2020-01-04  2  6  4\n",
      "2020-01-05  9  1  3\n",
      "2020-01-06  5  1  4\n",
      "2020-01-07  9  2  8\n",
      "df.head()=             X  Y  Z\n",
      "2020-01-01  9  6  1\n",
      "2020-01-02  7  1  3\n",
      "2020-01-03  0  6  6\n",
      "2020-01-04  2  6  4\n",
      "2020-01-05  9  1  3\n",
      "df.tail(3)=             X  Y  Z\n",
      "2020-01-05  9  1  3\n",
      "2020-01-06  5  1  4\n",
      "2020-01-07  9  2  8\n",
      "df.dtypes =  X    int32\n",
      "Y    int32\n",
      "Z    int32\n",
      "dtype: object\n",
      "df.index =  DatetimeIndex(['2020-01-01', '2020-01-02', '2020-01-03', '2020-01-04',\n",
      "               '2020-01-05', '2020-01-06', '2020-01-07'],\n",
      "              dtype='datetime64[ns]', freq='D')\n",
      "df.columns =  Index(['X', 'Y', 'Z'], dtype='object')\n",
      "df.values =  [[9 6 1]\n",
      " [7 1 3]\n",
      " [0 6 6]\n",
      " [2 6 4]\n",
      " [9 1 3]\n",
      " [5 1 4]\n",
      " [9 2 8]]\n"
     ]
    }
   ],
   "source": [
    "#DataFrame 생성\n",
    "data = np.random.randint(10, size=(7,3))\n",
    "col = list('XYZ')\n",
    "dates = pd.date_range('20200101', periods=7)\n",
    "df = pd.DataFrame(data,index=dates, columns=col)\n",
    "display(df)\n",
    "\n",
    "#DataFrame display\n",
    "print(\"df=\", df)  #전체 출력\n",
    "print(\"df.head()=\", df.head())  #상단행 5개\n",
    "print(\"df.tail(3)=\", df.tail(3))  #하단행 3개\n",
    "\n",
    "#DataFrame 속성\n",
    "print(\"df.dtypes = \", df.dtypes)  #데이터 타입들\n",
    "print(\"df.index = \", df.index)  #행 레이블\n",
    "print(\"df.columns = \", df.columns)  #열 레이블\n",
    "print(\"df.values = \", df.values)  #데이터"
   ]
  },
  {
   "cell_type": "code",
   "execution_count": 28,
   "metadata": {},
   "outputs": [
    {
     "name": "stdout",
     "output_type": "stream",
     "text": [
      "df.describe()=               X         Y         Z\n",
      "count  7.000000  7.000000  7.000000\n",
      "mean   5.857143  3.285714  4.142857\n",
      "std    3.670993  2.563480  2.267787\n",
      "min    0.000000  1.000000  1.000000\n",
      "25%    3.500000  1.000000  3.000000\n",
      "50%    7.000000  2.000000  4.000000\n",
      "75%    9.000000  6.000000  5.000000\n",
      "max    9.000000  6.000000  8.000000\n"
     ]
    },
    {
     "data": {
      "text/html": [
       "<div>\n",
       "<style scoped>\n",
       "    .dataframe tbody tr th:only-of-type {\n",
       "        vertical-align: middle;\n",
       "    }\n",
       "\n",
       "    .dataframe tbody tr th {\n",
       "        vertical-align: top;\n",
       "    }\n",
       "\n",
       "    .dataframe thead th {\n",
       "        text-align: right;\n",
       "    }\n",
       "</style>\n",
       "<table border=\"1\" class=\"dataframe\">\n",
       "  <thead>\n",
       "    <tr style=\"text-align: right;\">\n",
       "      <th></th>\n",
       "      <th>X</th>\n",
       "      <th>Y</th>\n",
       "      <th>Z</th>\n",
       "    </tr>\n",
       "  </thead>\n",
       "  <tbody>\n",
       "    <tr>\n",
       "      <th>2020-01-07</th>\n",
       "      <td>9</td>\n",
       "      <td>2</td>\n",
       "      <td>8</td>\n",
       "    </tr>\n",
       "    <tr>\n",
       "      <th>2020-01-06</th>\n",
       "      <td>5</td>\n",
       "      <td>1</td>\n",
       "      <td>4</td>\n",
       "    </tr>\n",
       "    <tr>\n",
       "      <th>2020-01-05</th>\n",
       "      <td>9</td>\n",
       "      <td>1</td>\n",
       "      <td>3</td>\n",
       "    </tr>\n",
       "    <tr>\n",
       "      <th>2020-01-04</th>\n",
       "      <td>2</td>\n",
       "      <td>6</td>\n",
       "      <td>4</td>\n",
       "    </tr>\n",
       "    <tr>\n",
       "      <th>2020-01-03</th>\n",
       "      <td>0</td>\n",
       "      <td>6</td>\n",
       "      <td>6</td>\n",
       "    </tr>\n",
       "    <tr>\n",
       "      <th>2020-01-02</th>\n",
       "      <td>7</td>\n",
       "      <td>1</td>\n",
       "      <td>3</td>\n",
       "    </tr>\n",
       "    <tr>\n",
       "      <th>2020-01-01</th>\n",
       "      <td>9</td>\n",
       "      <td>6</td>\n",
       "      <td>1</td>\n",
       "    </tr>\n",
       "  </tbody>\n",
       "</table>\n",
       "</div>"
      ],
      "text/plain": [
       "            X  Y  Z\n",
       "2020-01-07  9  2  8\n",
       "2020-01-06  5  1  4\n",
       "2020-01-05  9  1  3\n",
       "2020-01-04  2  6  4\n",
       "2020-01-03  0  6  6\n",
       "2020-01-02  7  1  3\n",
       "2020-01-01  9  6  1"
      ]
     },
     "metadata": {},
     "output_type": "display_data"
    },
    {
     "data": {
      "text/html": [
       "<div>\n",
       "<style scoped>\n",
       "    .dataframe tbody tr th:only-of-type {\n",
       "        vertical-align: middle;\n",
       "    }\n",
       "\n",
       "    .dataframe tbody tr th {\n",
       "        vertical-align: top;\n",
       "    }\n",
       "\n",
       "    .dataframe thead th {\n",
       "        text-align: right;\n",
       "    }\n",
       "</style>\n",
       "<table border=\"1\" class=\"dataframe\">\n",
       "  <thead>\n",
       "    <tr style=\"text-align: right;\">\n",
       "      <th></th>\n",
       "      <th>X</th>\n",
       "      <th>Y</th>\n",
       "      <th>Z</th>\n",
       "    </tr>\n",
       "  </thead>\n",
       "  <tbody>\n",
       "    <tr>\n",
       "      <th>2020-01-02</th>\n",
       "      <td>7</td>\n",
       "      <td>1</td>\n",
       "      <td>3</td>\n",
       "    </tr>\n",
       "    <tr>\n",
       "      <th>2020-01-05</th>\n",
       "      <td>9</td>\n",
       "      <td>1</td>\n",
       "      <td>3</td>\n",
       "    </tr>\n",
       "    <tr>\n",
       "      <th>2020-01-06</th>\n",
       "      <td>5</td>\n",
       "      <td>1</td>\n",
       "      <td>4</td>\n",
       "    </tr>\n",
       "    <tr>\n",
       "      <th>2020-01-07</th>\n",
       "      <td>9</td>\n",
       "      <td>2</td>\n",
       "      <td>8</td>\n",
       "    </tr>\n",
       "    <tr>\n",
       "      <th>2020-01-01</th>\n",
       "      <td>9</td>\n",
       "      <td>6</td>\n",
       "      <td>1</td>\n",
       "    </tr>\n",
       "    <tr>\n",
       "      <th>2020-01-03</th>\n",
       "      <td>0</td>\n",
       "      <td>6</td>\n",
       "      <td>6</td>\n",
       "    </tr>\n",
       "    <tr>\n",
       "      <th>2020-01-04</th>\n",
       "      <td>2</td>\n",
       "      <td>6</td>\n",
       "      <td>4</td>\n",
       "    </tr>\n",
       "  </tbody>\n",
       "</table>\n",
       "</div>"
      ],
      "text/plain": [
       "            X  Y  Z\n",
       "2020-01-02  7  1  3\n",
       "2020-01-05  9  1  3\n",
       "2020-01-06  5  1  4\n",
       "2020-01-07  9  2  8\n",
       "2020-01-01  9  6  1\n",
       "2020-01-03  0  6  6\n",
       "2020-01-04  2  6  4"
      ]
     },
     "metadata": {},
     "output_type": "display_data"
    }
   ],
   "source": [
    "#통계 요약\n",
    "print(\"df.describe()=\", df.describe())\n",
    "\n",
    "#Sorting by an axis:\n",
    "dfsi = df.sort_index(ascending=False)  #인덱스 역순으로 정렬\n",
    "display(dfsi)\n",
    "\n",
    "#Sorting by values:\n",
    "dfvy= df.sort_values(by='Y')  #'Y'열을 기준으로 정렬\n",
    "display(dfvy)"
   ]
  },
  {
   "cell_type": "code",
   "execution_count": 33,
   "metadata": {},
   "outputs": [
    {
     "name": "stdout",
     "output_type": "stream",
     "text": [
      "a= [[8 1 0 7]\n",
      " [3 4 6 0]\n",
      " [3 1 8 2]]\n",
      "a.shape (3, 4)\n",
      "a.ravel()= [8 1 0 7 3 4 6 0 3 1 8 2]\n",
      "a.reshape(-1)= [8 1 0 7 3 4 6 0 3 1 8 2]\n",
      "a.reshape(6,2) =  [[8 1]\n",
      " [0 7]\n",
      " [3 4]\n",
      " [6 0]\n",
      " [3 1]\n",
      " [8 2]]\n",
      "a.T =  [[8 3 3]\n",
      " [1 4 1]\n",
      " [0 6 8]\n",
      " [7 0 2]]\n",
      "a.a.T.shape =  (4, 3)\n",
      "a= [[8 1 0 7]\n",
      " [3 4 6 0]\n",
      " [3 1 8 2]]\n",
      "a= [[8 1 0 7 3 4]\n",
      " [6 0 3 1 8 2]]\n",
      "d= None\n",
      "a.reshape(2,6) =  [[8 1 0 7 3 4]\n",
      " [6 0 3 1 8 2]]\n",
      "\n",
      "a.reshape(2,6) =  None\n",
      "a.reshape(3,-1) =  [[8 1 0 7]\n",
      " [3 4 6 0]\n",
      " [3 1 8 2]]\n"
     ]
    }
   ],
   "source": [
    "#차원 변경, Shape Manipulation\n",
    "\n",
    "a = np.random.randint(10, size=(3,4))  #3 X 4 배열에 random number (0~9)\n",
    "print(\"a=\",a)\n",
    "print(\"a.shape\", a.shape)\n",
    "b= a.ravel()   #2차배열이 펼쳐진 1차배열로 반환\n",
    "print(\"a.ravel()=\",b)\n",
    "b2= a.reshape(-1)  #2차 배열이 펼쳐진 1차 배열로 반환\n",
    "print(\"a.reshape(-1)=\",b2)\n",
    "c=a.reshape(6,2)   #a의 형태가 6행 2열로 수정되어 반환\n",
    "print(\"a.reshape(6,2) = \", c)\n",
    "at = a.T  #a의 전치행렬 반환 (행, 열이 교환된 행렬)\n",
    "print(\"a.T = \", at)\n",
    "print(\"a.a.T.shape = \", a.T.shape)\n",
    "print(\"a=\",a)\n",
    "d = a.resize((2,6))  #a의 shape를 수정, 반환 없음\n",
    "print(\"a=\",a)\n",
    "print(\"d=\",d)\n",
    "print(\"a.reshape(2,6) = \",a)\n",
    "print()\n",
    "print(\"a.reshape(2,6) = \",d)\n",
    "e = a.reshape(3, -1)   #행 크기 3에 맞추어 열 크기 자동으로 변경\n",
    "print(\"a.reshape(3,-1) = \",e)"
   ]
  },
  {
   "cell_type": "code",
   "execution_count": null,
   "metadata": {},
   "outputs": [],
   "source": []
  }
 ],
 "metadata": {
  "kernelspec": {
   "display_name": "Python 3",
   "language": "python",
   "name": "python3"
  },
  "language_info": {
   "codemirror_mode": {
    "name": "ipython",
    "version": 3
   },
   "file_extension": ".py",
   "mimetype": "text/x-python",
   "name": "python",
   "nbconvert_exporter": "python",
   "pygments_lexer": "ipython3",
   "version": "3.8.5"
  }
 },
 "nbformat": 4,
 "nbformat_minor": 4
}
