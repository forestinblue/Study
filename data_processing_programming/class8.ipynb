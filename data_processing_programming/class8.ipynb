{
 "cells": [
  {
   "cell_type": "code",
   "execution_count": 21,
   "metadata": {},
   "outputs": [],
   "source": [
    "#soccerplayer class 선언\n",
    "#soccer player class를 선언하기 위하여 class soccer player 이름으로\n",
    "#괄호안에 object로 부터 상속받은 class를 선언한 것이다.\n",
    "#soccer class안에는 init이라는 속성 초기화가 안에 있으며\n",
    "#self를 통해속성 변수에 접근 할 수 있다.\n",
    "#name, positiom, back_number 이용하여 속성 변수인 self.name에 name값을 \n",
    "#self.position에 position 값을 , self.back_nember에 back_number 값을 초기화 할 수 있다.\n",
    "\n",
    "class SoccerPlayer(object):  \n",
    "    #속성 초기화 함수\n",
    "    def __init__(self, name, position, back_number):\n",
    "        self.name = name\n",
    "        self.position = position\n",
    "        self.back_number = back_number\n",
    "    #함수 선언\n",
    "    def change_back_number(self, new_number):\n",
    "        print(\"선수의 등번호를 변경한다: From %d to %d\" % (self.back_number, new_number))\n",
    "        self.back_number = new_number\n",
    "#함수 선언으로 change_back_number 정리하다\n",
    "#객체 함수로, 매개 변수로, self가 포함되어 있으며 new_number를 통하여 self.back_number를\n",
    "#new_number로 변경시키는 기능을 하는 함수이다."
   ]
  },
  {
   "cell_type": "code",
   "execution_count": 22,
   "metadata": {},
   "outputs": [
    {
     "name": "stdout",
     "output_type": "stream",
     "text": [
      "손흥민 선수의 등번호는 : 7\n",
      "이승우 선수의 등번호는: 10\n",
      "선수의 등번호를 변경한다: From 10 to 18\n",
      "이승우 선수의 등번호는: 18\n"
     ]
    }
   ],
   "source": [
    "#SoccerPlayer 클래스의 속성 초기화 함수로 객체 생성 및 속성 초기화값 설정\n",
    "player1 = SoccerPlayer(\"손흥민\", \"SS\", 7)\n",
    "print(\"{0} 선수의 등번호는 : {1}\".format(player1.name, player1.back_number))\n",
    "player2 = SoccerPlayer(\"이승우\", \"MF\", 10)\n",
    "print(\"{0} 선수의 등번호는: {1}\".format(player2.name, player2.back_number))\n",
    "#객체(instance) 함수호출\n",
    "player2.change_back_number(18)\n",
    "print(\"{0} 선수의 등번호는: {1}\".format(player2.name, player2.back_number))"
   ]
  },
  {
   "cell_type": "code",
   "execution_count": 14,
   "metadata": {},
   "outputs": [],
   "source": [
    "#Car class 선언\n",
    "#속도를 올리거나, 내리는 기능을 넣다\n",
    "#이름(namw), 색깔(color), 속도(speed)변수를 집어 넣다\n",
    "class Car(object):\n",
    "    #속성 초기화 함수\n",
    "    def __int__(self, name, color, speed):\n",
    "        self.name = name\n",
    "        self.color = color  #속성값 선언하다\n",
    "        self.speed = speed  #매개 변수 값으로, name speed color 값으로 초기화 하다 \n",
    "    #함수 선언\n",
    "    def printCar(self):  #printcar 라는 함수 안에서 self를 통하여 속성변수인 name, color , speed를 정의한 것이다.\n",
    "        print (\"Car name : \", self.name)\n",
    "        print(\"Car color : \", self.color)\n",
    "        print(\"Car speed : \", self.speed)\n",
    "    def upSpeed(self, value):   #upspeed 함수는 매개변수로 들어오는 value 값을 속성값인 self.speed에 더하여 속도를 올린 처리를 하다\n",
    "        self.speed += value\n",
    "    def downSpeed(self, value): #매개변수로 value값을 전달받아, self.speed로 빼어 속도를 down 처리 하다\n",
    "        self.speed -= value"
   ]
  },
  {
   "cell_type": "code",
   "execution_count": 16,
   "metadata": {},
   "outputs": [
    {
     "ename": "TypeError",
     "evalue": "Car() takes no arguments",
     "output_type": "error",
     "traceback": [
      "\u001b[1;31m---------------------------------------------------------------------------\u001b[0m",
      "\u001b[1;31mTypeError\u001b[0m                                 Traceback (most recent call last)",
      "\u001b[1;32m<ipython-input-16-7b11386a3ae1>\u001b[0m in \u001b[0;36m<module>\u001b[1;34m\u001b[0m\n\u001b[0;32m      1\u001b[0m \u001b[1;31m#car 객체 생성\u001b[0m\u001b[1;33m\u001b[0m\u001b[1;33m\u001b[0m\u001b[1;33m\u001b[0m\u001b[0m\n\u001b[1;32m----> 2\u001b[1;33m \u001b[0mcar1\u001b[0m \u001b[1;33m=\u001b[0m \u001b[0mCar\u001b[0m\u001b[1;33m(\u001b[0m\u001b[1;34m\"소나타\"\u001b[0m\u001b[1;33m,\u001b[0m \u001b[1;34m\"빨강\"\u001b[0m\u001b[1;33m,\u001b[0m \u001b[1;34m\"0\"\u001b[0m\u001b[1;33m)\u001b[0m\u001b[1;33m\u001b[0m\u001b[1;33m\u001b[0m\u001b[0m\n\u001b[0m\u001b[0;32m      3\u001b[0m \u001b[0mcar2\u001b[0m \u001b[1;33m=\u001b[0m \u001b[0mCar\u001b[0m\u001b[1;33m(\u001b[0m\u001b[1;34m\"티코\"\u001b[0m\u001b[1;33m,\u001b[0m \u001b[1;34m\"노랑\"\u001b[0m\u001b[1;33m,\u001b[0m \u001b[1;34m\"0\"\u001b[0m\u001b[1;33m)\u001b[0m\u001b[1;33m\u001b[0m\u001b[1;33m\u001b[0m\u001b[0m\n\u001b[0;32m      4\u001b[0m \u001b[1;33m\u001b[0m\u001b[0m\n\u001b[0;32m      5\u001b[0m \u001b[1;31m#Car 객체의 속성 확인, printcar() 함수 호출\u001b[0m\u001b[1;33m\u001b[0m\u001b[1;33m\u001b[0m\u001b[1;33m\u001b[0m\u001b[0m\n",
      "\u001b[1;31mTypeError\u001b[0m: Car() takes no arguments"
     ]
    }
   ],
   "source": [
    "#car 객체 생성\n",
    "car1 = Car(\"소나타\", \"빨강\", 0)  #car type의 객체 생성하다\n",
    "car2 = Car(\"티코\", \"노랑\", 0)\n",
    "\n",
    "#Car 객체의 속성 확인, printcar() 함수 호출\n",
    "print(car1.name)\n",
    "car1.printCar()  #car1이 가지고 있는 속성값을 출력한 printcar 함수를 호출하다\n",
    "car2.printCar()\n",
    "\n",
    "#Car 속도 변경\n",
    "car1.upSpeed(50)  #매개변수 50이 value로 전달 되어, speed가 50만큼 더해진 결과를 확인 할 수 있다\n",
    "print(\"car1.upSpeed(50) ==> \")\n",
    "car1.printCar()\n",
    "print(\"car1.downSpeed(20) ==> \")\n",
    "car1.downSpeed(20)   #20 값 value 로 전달되어 car 값이 30임을 확인 할 수 있다\n",
    "car1.printCar()"
   ]
  },
  {
   "cell_type": "code",
   "execution_count": 17,
   "metadata": {},
   "outputs": [],
   "source": [
    "#Circle class 선언\n",
    "class Circle(object):\n",
    "    #속성 초기화 함수\n",
    "    def __init__(self, radius):  #__init__에서는 매개변수로 radius에 해당하는 반지름을\n",
    "        self.radius = radius   #받아서 개체 속성함수인 self.radius에 초기화 한 것이다\n",
    "    #함수 선언\n",
    "    def getArea(self):  #getArea는 circle 객체가 가지고 있는 반지름인 self.radius를 이용하여\n",
    "        a = self.radius * self.radius * 3.14 #면적을 구하고 그것을 return 하다\n",
    "        return a\n",
    "    def getCircum(self): #\n",
    "        c = 2 * 3.14 * self.radius\n",
    "        return c\n"
   ]
  },
  {
   "cell_type": "code",
   "execution_count": 18,
   "metadata": {},
   "outputs": [
    {
     "name": "stdout",
     "output_type": "stream",
     "text": [
      "> 반지름 입력 (종료: 0) ? 3.6\n",
      "반지름 : 3.60 \n",
      "원넓이 : 40.69 원둘레 : 22.61\n",
      "> 반지름 입력 (종료: 0) ? -4\n",
      "> 반지름은 양수만 가능합니다.\n",
      "> 반지름 입력 (종료: 0) ? 70.1\n",
      "반지름 : 70.10 \n",
      "원넓이 : 15429.99 원둘레 : 440.23\n",
      "> 반지름 입력 (종료: 0) ? 0\n"
     ]
    }
   ],
   "source": [
    "#객체를 생성하고, 생성된 객체로 둘레와 면적을 구하는 프로그램이다\n",
    "while True:\n",
    "    r = float(input(\"> 반지름 입력 (종료: 0) ? \"))\n",
    "    if (r == 0):\n",
    "        break\n",
    "    elif (r < 0):\n",
    "        print(\"> 반지름은 양수만 가능합니다.\")\n",
    "        continue\n",
    "    else:\n",
    "        circle1 = Circle(r)   \n",
    "        a = circle1.getArea() #class circle 이용하여 객체를 생성하고, 생성된 객체 이름은 circle1으로 하다\n",
    "        c = circle1.getCircum() #circle1 객체 명을 통하여  getArea(), getCircum()함수로 면적과 둘레를 계산하고 \n",
    "        print(\"반지름 : {0:.2f} \".format(circle1.radius)) #circle1.radius를 이용하여 반지름을 접근하여 값을 얻어온 것이다.\n",
    "        print(\"원넓이 : {0:.2f} 원둘레 : {1:.2f}\".format(a, c))\n",
    "        \n",
    "\n",
    "#따라서, 반지름을 3.6으로 하면  3.6을 매개변수로 한 Circle 객체가 생성되어 circle1이 생성되고\n",
    "#circle1 넓이와 둘레를 계산하여, a= 40.69 , c= 22.61 이라는 값이 생성된다.\n",
    "#이것을 출력하기 위하여 print 문을 사용한 것이다.\n",
    "#반지름을 접근하기 위하여는 circle1.radius로 입력된 값인 3.6이 매개변수로 전달되어\n",
    "#객체가 생성된 것이므로, 반지름은 3.6이 출력되고 \n",
    "#원넓이는 circle1.getArea()로 부터 얻어온 a값인 40.69 \n",
    "#원둘레는 22.61이 출력됨을 확인할 수 있다."
   ]
  },
  {
   "cell_type": "code",
   "execution_count": 19,
   "metadata": {},
   "outputs": [],
   "source": [
    "#Car class 선언\n",
    "class Car(object):\n",
    "    #속성 초기화 함수\n",
    "    def __init__(self, name, color, speed):\n",
    "        self.name=name\n",
    "        self.color=color\n",
    "        self.speed = speed\n",
    "#def str로 함수 선언을 하여 car class가 가지고 있는 객체 속성값인  \n",
    "#self. name과 color, speed를 하나의 문자열로 결합하여 그것을 return을 통하여 반환한 것이다.\n",
    "#\n",
    "    #문자열 반환 함수 선언\n",
    "    def __str__(self):\n",
    "        contents = \"name : \" + self.name + \", \"\n",
    "        contents += \"color : \" + self.color + \", \"\n",
    "        contents += \"speed : \" + str(self.speed)\n",
    "        return contents"
   ]
  },
  {
   "cell_type": "code",
   "execution_count": 23,
   "metadata": {},
   "outputs": [
    {
     "name": "stdout",
     "output_type": "stream",
     "text": [
      "car1= name : 소나타, color : 빨강, speed : 0\n",
      "car2= name : 티코, color : 노랑, speed : 0\n"
     ]
    }
   ],
   "source": [
    "#Car 객체 생성\n",
    "car1 = Car(\"소나타\", \"빨강\", 0)\n",
    "car2 = Car(\"티코\",\"노랑\", 0)\n",
    "\n",
    "#Car 객체의 속성을 문자열로 반환하여 출력\n",
    "print(\"car1=\", car1)\n",
    "print(\"car2=\", car2)"
   ]
  },
  {
   "cell_type": "code",
   "execution_count": 24,
   "metadata": {},
   "outputs": [],
   "source": [
    "#Circle class 선언\n",
    "class Circle(object):\n",
    "    #속성 초기화 함수\n",
    "    def __init__(self, radius):\n",
    "        self.radius = radius\n",
    "    #함수 선언\n",
    "    def getArea(self):\n",
    "        a = self.radius * self.radius * 3.14\n",
    "        return a\n",
    "    def getCircum(self):\n",
    "        c = 2 * 3.14 * self.radius\n",
    "        return c\n",
    "    #문자열 반환 함수 선언\n",
    "    def __str__(self):\n",
    "        contents = \"반지름 : {0:.2f}\".format(self.radius) + \", \"\n",
    "        contents += \"원넓이 : {0:.2f}\".format(self.getArea())+\", \"\n",
    "        contents += \" 원둘레 : {0:.2f}\".format(self.getCircum())\n",
    "        return contents"
   ]
  },
  {
   "cell_type": "code",
   "execution_count": 25,
   "metadata": {},
   "outputs": [
    {
     "name": "stdout",
     "output_type": "stream",
     "text": [
      "circle1 =  반지름 : 30.50, 원넓이 : 2920.99,  원둘레 : 191.54\n",
      "circle2 =  반지름 : 5.30, 원넓이 : 88.20,  원둘레 : 33.28\n"
     ]
    }
   ],
   "source": [
    "circle1 = Circle(30.5)\n",
    "print(\"circle1 = \",circle1)\n",
    "circle2 = Circle(5.3)\n",
    "print(\"circle2 = \", circle2)"
   ]
  },
  {
   "cell_type": "code",
   "execution_count": 27,
   "metadata": {},
   "outputs": [],
   "source": [
    "class Student:\n",
    "    university = '강원대'   #모든 객체(인스턴스)에 공유되는 클래스 변수\n",
    "    def __init__(self, name, age):\n",
    "        self.name = name   #각 객체(인스턴스)에 대한 유일한 인스턴스 변수\n",
    "        self.age = age\n",
    "    def __str__(self):\n",
    "        return Student.university + \" \"+ self.name"
   ]
  },
  {
   "cell_type": "code",
   "execution_count": 28,
   "metadata": {},
   "outputs": [
    {
     "name": "stdout",
     "output_type": "stream",
     "text": [
      "st1= 강원대 홍길동\n",
      "st2= 강원대 성춘향\n",
      "st3= 서울대 이몽룡\n",
      "st2= 서울대 성미향\n"
     ]
    }
   ],
   "source": [
    "st1 = Student('홍길동', 20)\n",
    "st2 = Student('성춘향', 21)\n",
    "\n",
    "print(\"st1=\", st1)\n",
    "print(\"st2=\", st2)\n",
    "\n",
    "st3 = Student('이몽룡', 22)\n",
    "Student.university = \"서울대\"  #클래스명으로 클래스 변수 접근\n",
    "print(\"st3=\", st3)\n",
    "st2.name = '성미향'  #객체명으로 인스턴스 변수 접근\n",
    "print(\"st2=\", st2)"
   ]
  },
  {
   "cell_type": "code",
   "execution_count": 29,
   "metadata": {},
   "outputs": [],
   "source": [
    "class StudentNo:\n",
    "    no = 0   #학생 객체의 순번 부여를 위한 클래스 변수\n",
    "    def __init__(self, name, age):\n",
    "        self.name = name\n",
    "        self.age = age\n",
    "        StudentNo.no += 1   #클래스 변수 값 증가\n",
    "        self.no = StudentNo.no  #학생객체의 순번 부여\n",
    "    def __str__(self):\n",
    "        s=\"학번:{0}  성명:{1} 나이:{2}\".format(self.no, self.name, self.age)\n",
    "        return s"
   ]
  },
  {
   "cell_type": "code",
   "execution_count": 31,
   "metadata": {},
   "outputs": [
    {
     "name": "stdout",
     "output_type": "stream",
     "text": [
      "st1= 학번:4  성명:홍길동 나이:20\n",
      "st2= 학번:5  성명:성춘향 나이:21\n",
      "st3= 학번:6  성명:이몽룡 나이:22\n",
      "StudentNo.no= 6\n"
     ]
    }
   ],
   "source": [
    "st1 = StudentNo('홍길동', 20)\n",
    "st2 = StudentNo('성춘향', 21)\n",
    "st3 = StudentNo('이몽룡', 22)\n",
    "\n",
    "print(\"st1=\", st1)\n",
    "print(\"st2=\", st2)\n",
    "print(\"st3=\", st3)\n",
    "print(\"StudentNo.no=\", StudentNo.no)"
   ]
  },
  {
   "cell_type": "code",
   "execution_count": 38,
   "metadata": {},
   "outputs": [],
   "source": [
    "#circle class 선언\n",
    "class Circle(object):\n",
    "    no = 0  #순번부여를 위한 클래스 변수\n",
    "    #속성 초기화 함수 (생성자)\n",
    "    def __init__(self, radius):\n",
    "        self.radius =radius\n",
    "        Circle.no += 1\n",
    "        self.no = Circle.no #클래스 변수값으로 순번 부여\n",
    "    #함수 선언\n",
    "    def getArea(self):\n",
    "        a = self.radius * self.radius *  3.14\n",
    "        return a\n",
    "    def getCircum(self):\n",
    "        c = 2 * 3.14 *self.radius\n",
    "        return c\n",
    "    #문자열 반환 함수 선언\n",
    "    def __str__(self):\n",
    "        contents = \"번호 : {0}\".format(self.no) + \", \"\n",
    "        contents += \"반지름 : {0:.2f}\".format(self.radius) +\", \"\n",
    "        contents += \"원넓이 : {0:.2f}\".format(self.getArea()) + \", \"\n",
    "        contents +=\" 원둘레 : {0:.2f}\".format(self.getCircum())\n",
    "        return contents"
   ]
  },
  {
   "cell_type": "code",
   "execution_count": 39,
   "metadata": {},
   "outputs": [
    {
     "name": "stdout",
     "output_type": "stream",
     "text": [
      "circle1 =  번호 : 1, 반지름 : 30.50, 원넓이 : 2920.99,  원둘레 : 191.54\n",
      "circle2 =  번호 : 2, 반지름 : 5.30, 원넓이 : 88.20,  원둘레 : 33.28\n"
     ]
    }
   ],
   "source": [
    "circle1 = Circle(30.5)\n",
    "print(\"circle1 = \", circle1)\n",
    "circle2= Circle(5.3)\n",
    "print(\"circle2 = \",circle2)"
   ]
  },
  {
   "cell_type": "code",
   "execution_count": 46,
   "metadata": {},
   "outputs": [],
   "source": [
    "class Note(object):\n",
    "    def __init__(self, contents):\n",
    "        self.contents = contents\n",
    "        \n",
    "    def remove(self):\n",
    "        self.contents = '삭제된 노트입니다'\n",
    "    def __str__(self):\n",
    "        return self.contents"
   ]
  },
  {
   "cell_type": "code",
   "execution_count": 65,
   "metadata": {},
   "outputs": [],
   "source": [
    "class NoteBook(object):\n",
    "    def __init__(self, title):\n",
    "        self.title = title\n",
    "        self.nextpage = 1\n",
    "        self.notes = {}\n",
    "        \n",
    "    def add_note(self, note, page=0):\n",
    "        if len(self.notes.keys()) < 300:\n",
    "            if (page == 0):\n",
    "                self.notes[self.nextpage] = note\n",
    "                print(self.nextpage, \"page 추가합니다.\")\n",
    "                self.nextpage += 1\n",
    "            else:\n",
    "                if (page not in self.notes.keys()):\n",
    "                    self.notes[page] = note\n",
    "                    print(page, \"page 삽입합니다.\")\n",
    "                else:\n",
    "                    print(page, \"page에 노트가 존재합니다.\")\n",
    "        else:\n",
    "            print(\"더 이상 노트를 추가하지 못합니다\")\n",
    "    "
   ]
  },
  {
   "cell_type": "code",
   "execution_count": 66,
   "metadata": {},
   "outputs": [],
   "source": [
    "    def remove_note(self, page):\n",
    "        if (page in self.notes.keys()):\n",
    "            del self.notes[page]\n",
    "            print(page, \"page 노트를 삭제합니다.\")\n",
    "        else:\n",
    "            print(page, \"page는 존재하지 않습니다.\")\n",
    "\n",
    "    def print_all_pages(self):\n",
    "            s = sorted(self.notes.items())\n",
    "            for k,v in s:\n",
    "                print(k,v)\n",
    "\n",
    "    def __str__(self):\n",
    "        return \"노트북 제목 : \" +self.title +\", 총페이지수 : \" + str(len(self.notes.keys()))"
   ]
  },
  {
   "cell_type": "code",
   "execution_count": 67,
   "metadata": {},
   "outputs": [
    {
     "name": "stdout",
     "output_type": "stream",
     "text": [
      "진정한 벗은 제2의 자신이다. -아리스토텔레스\n",
      "삭제된 노트입니다\n"
     ]
    }
   ],
   "source": [
    "#Note 생성 및 삭제\n",
    "good_sentence =  \"\"\"진정한 벗은 제2의 자신이다. -아리스토텔레스\"\"\"\n",
    "note_1 = Note(good_sentence)\n",
    "\n",
    "print(note_1)\n",
    "note_1.remove()\n",
    "print(note_1)"
   ]
  },
  {
   "cell_type": "code",
   "execution_count": 68,
   "metadata": {},
   "outputs": [
    {
     "name": "stdout",
     "output_type": "stream",
     "text": [
      "<__main__.NoteBook object at 0x000002B053528730>\n",
      "1 page 추가합니다.\n",
      "2 page 추가합니다.\n",
      "<__main__.NoteBook object at 0x000002B053528730>\n"
     ]
    },
    {
     "ename": "AttributeError",
     "evalue": "'NoteBook' object has no attribute 'print_all_pages'",
     "output_type": "error",
     "traceback": [
      "\u001b[1;31m---------------------------------------------------------------------------\u001b[0m",
      "\u001b[1;31mAttributeError\u001b[0m                            Traceback (most recent call last)",
      "\u001b[1;32m<ipython-input-68-431844c22b01>\u001b[0m in \u001b[0;36m<module>\u001b[1;34m\u001b[0m\n\u001b[0;32m     11\u001b[0m \u001b[0mwise_saying_notebook\u001b[0m\u001b[1;33m.\u001b[0m\u001b[0madd_note\u001b[0m\u001b[1;33m(\u001b[0m\u001b[0mnote_3\u001b[0m\u001b[1;33m)\u001b[0m  \u001b[1;31m#다음 페이지에 추가\u001b[0m\u001b[1;33m\u001b[0m\u001b[1;33m\u001b[0m\u001b[0m\n\u001b[0;32m     12\u001b[0m \u001b[0mprint\u001b[0m\u001b[1;33m(\u001b[0m\u001b[0mwise_saying_notebook\u001b[0m\u001b[1;33m)\u001b[0m\u001b[1;33m\u001b[0m\u001b[1;33m\u001b[0m\u001b[0m\n\u001b[1;32m---> 13\u001b[1;33m \u001b[0mwise_saying_notebook\u001b[0m\u001b[1;33m.\u001b[0m\u001b[0mprint_all_pages\u001b[0m\u001b[1;33m(\u001b[0m\u001b[1;33m)\u001b[0m\u001b[1;33m\u001b[0m\u001b[1;33m\u001b[0m\u001b[0m\n\u001b[0m\u001b[0;32m     14\u001b[0m \u001b[1;31m#NoteBook에서 Note 삭제\u001b[0m\u001b[1;33m\u001b[0m\u001b[1;33m\u001b[0m\u001b[1;33m\u001b[0m\u001b[0m\n\u001b[0;32m     15\u001b[0m \u001b[0mwise_saying_notebook\u001b[0m\u001b[1;33m.\u001b[0m\u001b[0mremove_note\u001b[0m\u001b[1;33m(\u001b[0m\u001b[1;36m1\u001b[0m\u001b[1;33m)\u001b[0m  \u001b[1;31m#페이지 삭제\u001b[0m\u001b[1;33m\u001b[0m\u001b[1;33m\u001b[0m\u001b[0m\n",
      "\u001b[1;31mAttributeError\u001b[0m: 'NoteBook' object has no attribute 'print_all_pages'"
     ]
    }
   ],
   "source": [
    "#NoteBook 생성\n",
    "wise_saying_notebook = NoteBook(\"명언 노트\")\n",
    "print(wise_saying_notebook)\n",
    "#Note 생성\n",
    "good_sentence = \"\"\"오늘보다 더 가치있는 것은 없다. -괴테\"\"\"\n",
    "note_2 = Note(good_sentence)\n",
    "good_sentence = \"\"\"시간은 모든 것을 밝혀낸다. -에라스무스\"\"\"\n",
    "note_3 = Note(good_sentence)\n",
    "#NoteBook에 Note 추가\n",
    "wise_saying_notebook.add_note(note_2)  #다음 페이지에 추가\n",
    "wise_saying_notebook.add_note(note_3)  #다음 페이지에 추가\n",
    "print(wise_saying_notebook)\n",
    "wise_saying_notebook.print_all_pages()\n",
    "#NoteBook에서 Note 삭제\n",
    "wise_saying_notebook.remove_note(1)  #페이지 삭제\n",
    "print(wise_saying_notebook)\n",
    "wise_saying_notebook.print_all_pages()\n",
    "#NoteBook에서 Note 추가\n",
    "good_sentence = \"\"\"진정한 벗은 제2의 자신이다.  - 아리스토텔레스\"\"\"\n",
    "note_1 = Note(good_sentence)\n",
    "wise_saying_notebook.add_note(note_1)  #다음 페이지에 추가\n",
    "print(wise_saying_notebook)\n",
    "wise_saying_notebook.print_all_pages()\n",
    "#NoteBook에서 Note 삽입\n",
    "wise_saying_notebook.add_note(note_2,1)  #1 page에 삽입\n",
    "print(wise_saying_notebook)\n",
    "wise_saying_notebook.print_all_pages()"
   ]
  },
  {
   "cell_type": "code",
   "execution_count": null,
   "metadata": {},
   "outputs": [],
   "source": []
  },
  {
   "cell_type": "code",
   "execution_count": null,
   "metadata": {},
   "outputs": [],
   "source": []
  }
 ],
 "metadata": {
  "kernelspec": {
   "display_name": "Python 3",
   "language": "python",
   "name": "python3"
  },
  "language_info": {
   "codemirror_mode": {
    "name": "ipython",
    "version": 3
   },
   "file_extension": ".py",
   "mimetype": "text/x-python",
   "name": "python",
   "nbconvert_exporter": "python",
   "pygments_lexer": "ipython3",
   "version": "3.8.5"
  }
 },
 "nbformat": 4,
 "nbformat_minor": 4
}
