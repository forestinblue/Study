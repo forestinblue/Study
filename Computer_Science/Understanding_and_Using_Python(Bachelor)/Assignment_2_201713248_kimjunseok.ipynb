{
  "nbformat": 4,
  "nbformat_minor": 0,
  "metadata": {
    "colab": {
      "provenance": [],
      "include_colab_link": true
    },
    "kernelspec": {
      "name": "python3",
      "display_name": "Python 3"
    },
    "language_info": {
      "name": "python"
    }
  },
  "cells": [
    {
      "cell_type": "markdown",
      "metadata": {
        "id": "view-in-github",
        "colab_type": "text"
      },
      "source": [
        "<a href=\"https://colab.research.google.com/github/forestinblue/University-Lecture-DataScience/blob/main/Understanding_and_Using_Python/Assignment_2_201713248_kimjunseok.ipynb\" target=\"_parent\"><img src=\"https://colab.research.google.com/assets/colab-badge.svg\" alt=\"Open In Colab\"/></a>"
      ]
    },
    {
      "cell_type": "markdown",
      "source": [
        "# 본 노트북 파일은 '파이썬이해와활용' 과제2에 대한 skeleton code 입니다."
      ],
      "metadata": {
        "id": "ptagKm2LZT5u"
      }
    },
    {
      "cell_type": "markdown",
      "source": [
        "# 문제 1"
      ],
      "metadata": {
        "id": "HesWbWIzjRXL"
      }
    },
    {
      "cell_type": "markdown",
      "source": [
        "문제 1. 랜덤한 은행 계좌번호를 생성하는 함수를 account_number를 완성하라. 계좌번호는 3자리-2자리-6자리형태로 생성되며, 0을 통해 자리수가 항상 고정되어야 한하며, 숫자사이에는 ‘-’가 들어간다. (e.g. 001-24-554421)\n",
        "\n",
        "정상 결과 예제:\n",
        "016-11-084504\n",
        "\n",
        "잘못된 결과 예제:\n",
        "16-11-84504\n",
        "\n"
      ],
      "metadata": {
        "id": "T1u2DsziaUKI"
      }
    },
    {
      "cell_type": "code",
      "source": [
        "import random \n",
        "#random_number = random.randint(0, 11)\n",
        "#print(random_number)\n",
        "random_number = ''\n",
        "for i in range (11):\n",
        "    random_number += str(random.randint(0,9)) \n",
        "    if i == 2 or i == 4 :\n",
        "        random_number += '-'\n",
        "print(random_number)"
      ],
      "metadata": {
        "colab": {
          "base_uri": "https://localhost:8080/"
        },
        "id": "vEucuuKOG2Pb",
        "outputId": "5c7001ed-ae01-4212-9fe1-2eadbc3aba63"
      },
      "execution_count": 7,
      "outputs": [
        {
          "output_type": "stream",
          "name": "stdout",
          "text": [
            "570-86-411703\n"
          ]
        }
      ]
    },
    {
      "cell_type": "code",
      "execution_count": 8,
      "metadata": {
        "id": "pD9ZypEzZCcW",
        "colab": {
          "base_uri": "https://localhost:8080/",
          "height": 36
        },
        "outputId": "34f9f354-30d4-4fde-baf4-44359d9ee8c2"
      },
      "outputs": [
        {
          "output_type": "execute_result",
          "data": {
            "text/plain": [
              "'117-09-786281'"
            ],
            "application/vnd.google.colaboratory.intrinsic+json": {
              "type": "string"
            }
          },
          "metadata": {},
          "execution_count": 8
        }
      ],
      "source": [
        "import random\n",
        "\n",
        "def account_number_generator():\n",
        "\n",
        "    ### Modify code here ###\n",
        "\n",
        "    account_number = ''\n",
        "    for i in range (11):\n",
        "        account_number += str(random.randint(0,9)) \n",
        "        if i == 2 or i == 4 :\n",
        "            account_number += '-'\n",
        "\n",
        "\n",
        "    ### End of your code ###\n",
        "\n",
        "    return account_number\n",
        "    \n",
        "\n",
        "account_number_generator()\n"
      ]
    },
    {
      "cell_type": "markdown",
      "source": [
        "# 문제 2"
      ],
      "metadata": {
        "id": "6YRs4Wn2jVkB"
      }
    },
    {
      "cell_type": "markdown",
      "source": [
        "문제 2. 학생의 정보를 저장하기 위한 클래스 student를 정의하고자 한다. 다음을 고려하여 클래스를 정의하라. \n",
        "1. 학생의 이름(name)과 학번(id)를 입력받는 생성자 __init__(..)를 정의하라\n",
        "2. 학생의 이름과 학번을 출력하는 메서드 print_info(..)를 정의하라(출력내용에 이름:, 학번: 포함)\n",
        "\n",
        "결과 예제:\n",
        "\n",
        "이름: 홍길동, 학번: 11132\n"
      ],
      "metadata": {
        "id": "qA5UYissioW-"
      }
    },
    {
      "cell_type": "code",
      "source": [
        "class Student:\n",
        "\n",
        "    def __init__(self, name, id):\n",
        "    ### Modify code here ###\n",
        "        self.name = name\n",
        "        self.id =id    \n",
        "\n",
        "    ### End of your code ###\n",
        "\n",
        "    def print_info(self):\n",
        "    ### Modify code here ###\n",
        "       print('이름 : ', self.name )\n",
        "       print('학번 : ', self.id)\n",
        "       \n",
        "        \n",
        "\n",
        "    ### End of your code ###\n",
        "\n",
        "    \n",
        "st1 = Student(\"홍길동\", \"11132\")\n",
        "st1.print_info()  "
      ],
      "metadata": {
        "id": "TAfeoP-OionZ",
        "colab": {
          "base_uri": "https://localhost:8080/"
        },
        "outputId": "91ceb22d-3eee-4441-cae3-f0172f4c6ee0"
      },
      "execution_count": 11,
      "outputs": [
        {
          "output_type": "stream",
          "name": "stdout",
          "text": [
            "이름 :  홍길동\n",
            "학번 :  11132\n"
          ]
        }
      ]
    },
    {
      "cell_type": "code",
      "source": [],
      "metadata": {
        "id": "4IhDRXtXJ4b7"
      },
      "execution_count": null,
      "outputs": []
    }
  ]
}