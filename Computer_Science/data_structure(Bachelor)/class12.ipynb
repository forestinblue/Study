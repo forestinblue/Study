{
 "cells": [
  {
   "cell_type": "markdown",
   "id": "f987e017",
   "metadata": {},
   "source": [
    "## 파이썬을 이용한 인접리스트 표현"
   ]
  },
  {
   "cell_type": "code",
   "execution_count": 3,
   "id": "9db35af4",
   "metadata": {},
   "outputs": [],
   "source": [
    "graph = {'A':set(['B', 'C']),\n",
    "        'B':set(['A', 'D']),\n",
    "        'C':set(['A', 'D','E']),\n",
    "        'D':set(['B','C','F']),\n",
    "        'E':set(['C','G','H']),\n",
    "        'F':set(['D']),\n",
    "        'G':set(['E','H']),\n",
    "        'H':set(['E','G'])}"
   ]
  },
  {
   "cell_type": "code",
   "execution_count": 4,
   "id": "8994f3d1",
   "metadata": {},
   "outputs": [
    {
     "name": "stdout",
     "output_type": "stream",
     "text": [
      "A\n",
      "D\n",
      "E\n"
     ]
    }
   ],
   "source": [
    "for v in graph['C']:  #정점 C의 인접 정점 집합의 모든 원소에 대해 \n",
    "    print(v)  #그 원소를 화면에 출력"
   ]
  },
  {
   "cell_type": "markdown",
   "id": "fdbc8c72",
   "metadata": {},
   "source": [
    "## 그래프의 탐색 - 깊이 우선 참색, 너비 우선 탐색 아주 중요하다, 시험에 많이 나온다."
   ]
  },
  {
   "cell_type": "markdown",
   "id": "cf9313e9",
   "metadata": {},
   "source": [
    "### 깊이 우선 탐색 알고리즘 "
   ]
  },
  {
   "cell_type": "code",
   "execution_count": null,
   "id": "895b8f7d",
   "metadata": {},
   "outputs": [],
   "source": [
    "def dfs(graph, start, visited = set()):  #처음 호출할때 visited 공집합\n",
    "    if start not in visited:  #start가 방문하지 않은 정점이면\n",
    "        visited.add(start)  #start를 방문한 노드 집합에 추가\n",
    "        print(start, end = ' ')  #start를 방문했다고 출력함\n",
    "        nbr = graph[start] - visited  #nbr: 차집합 연산 이용\n",
    "        for v in nbr:   #v (포함한다) {인접정점} - {방문정점}\n",
    "            dfs(graph, v, visited)  #v에 대해 dfs를 순환적으로 호출"
   ]
  },
  {
   "cell_type": "markdown",
   "id": "269e7bd0",
   "metadata": {},
   "source": [
    "### 너비 우선 탐색 알고리즘 "
   ]
  },
  {
   "cell_type": "code",
   "execution_count": null,
   "id": "88d96fb2",
   "metadata": {},
   "outputs": [],
   "source": [
    "def bfs(graph, start):\n",
    "    visited = set([start])  #맨 처음에는 start만 방문한 정점임\n",
    "    queue = collections.deque([start]) #컬렉션의 덱 객체 생성 (큐로 생성)\n",
    "    while queue:   #공백이 아닐 때 까지\n",
    "        vertex = queue.popleft()  #큐에서 하나의 정점 vertex를 빼냄\n",
    "        print(vertex, end- ' ')  #vertex는 방문했을을 출력\n",
    "        nbr = graph[vertex] - visited  #nbr: 차집합 연산 이용\n",
    "        for v in nbr:  #v (포함한다) {인접정점} - {방문정점}\n",
    "            visited.add(v)  #이제 v는 방문했음\n",
    "            queue.append(v)# v를 큐에 삽입"
   ]
  }
 ],
 "metadata": {
  "kernelspec": {
   "display_name": "Python 3 (ipykernel)",
   "language": "python",
   "name": "python3"
  },
  "language_info": {
   "codemirror_mode": {
    "name": "ipython",
    "version": 3
   },
   "file_extension": ".py",
   "mimetype": "text/x-python",
   "name": "python",
   "nbconvert_exporter": "python",
   "pygments_lexer": "ipython3",
   "version": "3.8.10"
  }
 },
 "nbformat": 4,
 "nbformat_minor": 5
}
