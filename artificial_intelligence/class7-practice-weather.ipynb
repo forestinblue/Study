{
 "cells": [
  {
   "cell_type": "markdown",
   "metadata": {
    "colab_type": "text",
    "id": "mgKnWaQi0Ygg"
   },
   "source": [
    "# 날씨 데이터 예측\n",
    "- 선형\n",
    "- 나이브\n",
    "- 프로핏\n"
   ]
  },
  {
   "cell_type": "code",
   "execution_count": 11,
   "metadata": {
    "colab": {},
    "colab_type": "code",
    "id": "2uPsZz6Z0Ygi"
   },
   "outputs": [],
   "source": [
    "import pandas as pd\n",
    "import matplotlib.pyplot as plt\n",
    "from sklearn.linear_model import LinearRegression\n",
    "from sklearn.metrics import r2_score  #회귀분석 관련 라이브러리\n",
    "import numpy as np\n",
    "%config InlineBackend.figure_format = 'retina'"
   ]
  },
  {
   "cell_type": "markdown",
   "metadata": {},
   "source": [
    "# 데이터\n",
    "- 날씨 데이터"
   ]
  },
  {
   "cell_type": "code",
   "execution_count": 12,
   "metadata": {
    "colab": {
     "base_uri": "https://localhost:8080/",
     "height": 35
    },
    "colab_type": "code",
    "executionInfo": {
     "elapsed": 2093,
     "status": "ok",
     "timestamp": 1573631194343,
     "user": {
      "displayName": "김화종",
      "photoUrl": "https://lh3.googleusercontent.com/a-/AAuE7mCOtXjyLykQ_8l9Pq2rL3r5y110ynjRS1eb1EzpcQ=s64",
      "userId": "17353049580175403985"
     },
     "user_tz": -540
    },
    "id": "j78wbP3P0Ygp",
    "outputId": "b622d5c7-c97e-4642-dc79-ea5ca4e5e605"
   },
   "outputs": [
    {
     "data": {
      "text/plain": [
       "(4018, 4)"
      ]
     },
     "execution_count": 12,
     "metadata": {},
     "output_type": "execute_result"
    }
   ],
   "source": [
    "df = pd.read_csv('https://raw.githubusercontent.com/StillWork/data/master/new_weather.csv')\n",
    "df.shape"
   ]
  },
  {
   "cell_type": "code",
   "execution_count": 13,
   "metadata": {
    "scrolled": true
   },
   "outputs": [
    {
     "data": {
      "text/html": [
       "<div>\n",
       "<style scoped>\n",
       "    .dataframe tbody tr th:only-of-type {\n",
       "        vertical-align: middle;\n",
       "    }\n",
       "\n",
       "    .dataframe tbody tr th {\n",
       "        vertical-align: top;\n",
       "    }\n",
       "\n",
       "    .dataframe thead th {\n",
       "        text-align: right;\n",
       "    }\n",
       "</style>\n",
       "<table border=\"1\" class=\"dataframe\">\n",
       "  <thead>\n",
       "    <tr style=\"text-align: right;\">\n",
       "      <th></th>\n",
       "      <th>연월일</th>\n",
       "      <th>기온</th>\n",
       "      <th>품질</th>\n",
       "      <th>균질</th>\n",
       "    </tr>\n",
       "  </thead>\n",
       "  <tbody>\n",
       "    <tr>\n",
       "      <th>0</th>\n",
       "      <td>2006/1/1</td>\n",
       "      <td>3.6</td>\n",
       "      <td>8</td>\n",
       "      <td>1</td>\n",
       "    </tr>\n",
       "    <tr>\n",
       "      <th>1</th>\n",
       "      <td>2006/1/2</td>\n",
       "      <td>4.0</td>\n",
       "      <td>8</td>\n",
       "      <td>1</td>\n",
       "    </tr>\n",
       "    <tr>\n",
       "      <th>2</th>\n",
       "      <td>2006/1/3</td>\n",
       "      <td>3.7</td>\n",
       "      <td>8</td>\n",
       "      <td>1</td>\n",
       "    </tr>\n",
       "    <tr>\n",
       "      <th>3</th>\n",
       "      <td>2006/1/4</td>\n",
       "      <td>4.0</td>\n",
       "      <td>8</td>\n",
       "      <td>1</td>\n",
       "    </tr>\n",
       "    <tr>\n",
       "      <th>4</th>\n",
       "      <td>2006/1/5</td>\n",
       "      <td>3.6</td>\n",
       "      <td>8</td>\n",
       "      <td>1</td>\n",
       "    </tr>\n",
       "    <tr>\n",
       "      <th>...</th>\n",
       "      <td>...</td>\n",
       "      <td>...</td>\n",
       "      <td>...</td>\n",
       "      <td>...</td>\n",
       "    </tr>\n",
       "    <tr>\n",
       "      <th>4013</th>\n",
       "      <td>2016/12/27</td>\n",
       "      <td>11.1</td>\n",
       "      <td>8</td>\n",
       "      <td>2</td>\n",
       "    </tr>\n",
       "    <tr>\n",
       "      <th>4014</th>\n",
       "      <td>2016/12/28</td>\n",
       "      <td>6.0</td>\n",
       "      <td>8</td>\n",
       "      <td>2</td>\n",
       "    </tr>\n",
       "    <tr>\n",
       "      <th>4015</th>\n",
       "      <td>2016/12/29</td>\n",
       "      <td>4.3</td>\n",
       "      <td>8</td>\n",
       "      <td>2</td>\n",
       "    </tr>\n",
       "    <tr>\n",
       "      <th>4016</th>\n",
       "      <td>2016/12/30</td>\n",
       "      <td>6.0</td>\n",
       "      <td>8</td>\n",
       "      <td>2</td>\n",
       "    </tr>\n",
       "    <tr>\n",
       "      <th>4017</th>\n",
       "      <td>2016/12/31</td>\n",
       "      <td>6.3</td>\n",
       "      <td>8</td>\n",
       "      <td>2</td>\n",
       "    </tr>\n",
       "  </tbody>\n",
       "</table>\n",
       "<p>4018 rows × 4 columns</p>\n",
       "</div>"
      ],
      "text/plain": [
       "             연월일    기온  품질  균질\n",
       "0       2006/1/1   3.6   8   1\n",
       "1       2006/1/2   4.0   8   1\n",
       "2       2006/1/3   3.7   8   1\n",
       "3       2006/1/4   4.0   8   1\n",
       "4       2006/1/5   3.6   8   1\n",
       "...          ...   ...  ..  ..\n",
       "4013  2016/12/27  11.1   8   2\n",
       "4014  2016/12/28   6.0   8   2\n",
       "4015  2016/12/29   4.3   8   2\n",
       "4016  2016/12/30   6.0   8   2\n",
       "4017  2016/12/31   6.3   8   2\n",
       "\n",
       "[4018 rows x 4 columns]"
      ]
     },
     "execution_count": 13,
     "metadata": {},
     "output_type": "execute_result"
    }
   ],
   "source": [
    "df"
   ]
  },
  {
   "cell_type": "code",
   "execution_count": 14,
   "metadata": {
    "scrolled": true
   },
   "outputs": [
    {
     "name": "stdout",
     "output_type": "stream",
     "text": [
      "<class 'pandas.core.frame.DataFrame'>\n",
      "RangeIndex: 4018 entries, 0 to 4017\n",
      "Data columns (total 4 columns):\n",
      " #   Column  Non-Null Count  Dtype  \n",
      "---  ------  --------------  -----  \n",
      " 0   연월일     4018 non-null   object \n",
      " 1   기온      4018 non-null   float64\n",
      " 2   품질      4018 non-null   int64  \n",
      " 3   균질      4018 non-null   int64  \n",
      "dtypes: float64(1), int64(2), object(1)\n",
      "memory usage: 125.7+ KB\n"
     ]
    }
   ],
   "source": [
    "df.info()"
   ]
  },
  {
   "cell_type": "code",
   "execution_count": 15,
   "metadata": {
    "colab": {},
    "colab_type": "code",
    "id": "y7g6kXrv0Yg6"
   },
   "outputs": [],
   "source": [
    "def split_seq(data, n_steps):  #n_steps 씩 data를 나누다\n",
    "    x, y = [], []  #data를 나누어 주는 함수\n",
    "    for i in range(len(data)):\n",
    "        if i > len(data) - (n_steps + 1) : break\n",
    "        x.append(data[i:i+n_steps])  #i부터 nstep 까지\n",
    "        y.append(data[i+n_steps])  # 끝에 있는 step\n",
    "    return np.array(x), np.array(y)   #게산에 사용하기 위해 나누어주는거 return 반환값을 arrayghk gkek"
   ]
  },
  {
   "cell_type": "code",
   "execution_count": 18,
   "metadata": {},
   "outputs": [
    {
     "data": {
      "text/plain": [
       "[(array([1, 2, 3, 4, 5]), 6),\n",
       " (array([2, 3, 4, 5, 6]), 7),\n",
       " (array([3, 4, 5, 6, 7]), 8),\n",
       " (array([4, 5, 6, 7, 8]), 9),\n",
       " (array([5, 6, 7, 8, 9]), 10)]"
      ]
     },
     "execution_count": 18,
     "metadata": {},
     "output_type": "execute_result"
    }
   ],
   "source": [
    "list(zip(x_train, y_train))\n",
    "\n",
    "#1,2,3 을 보고 4 예측, 234를 보고 5예측 ..."
   ]
  },
  {
   "cell_type": "code",
   "execution_count": 17,
   "metadata": {
    "colab": {
     "base_uri": "https://localhost:8080/",
     "height": 143
    },
    "colab_type": "code",
    "executionInfo": {
     "elapsed": 802,
     "status": "ok",
     "timestamp": 1573631413019,
     "user": {
      "displayName": "김화종",
      "photoUrl": "https://lh3.googleusercontent.com/a-/AAuE7mCOtXjyLykQ_8l9Pq2rL3r5y110ynjRS1eb1EzpcQ=s64",
      "userId": "17353049580175403985"
     },
     "user_tz": -540
    },
    "id": "WaH1Lw7mvE7Y",
    "outputId": "80383c6d-42be-4bca-d539-e201d7700888"
   },
   "outputs": [
    {
     "data": {
      "text/plain": [
       "[(array([1, 2, 3, 4, 5]), 6),\n",
       " (array([2, 3, 4, 5, 6]), 7),\n",
       " (array([3, 4, 5, 6, 7]), 8),\n",
       " (array([4, 5, 6, 7, 8]), 9),\n",
       " (array([5, 6, 7, 8, 9]), 10)]"
      ]
     },
     "execution_count": 17,
     "metadata": {},
     "output_type": "execute_result"
    }
   ],
   "source": [
    "data = [1,2,3,4,5,6,7,8,9,10]\n",
    "# data = [11,12,13,11,20,19,17,18,20,21]\n",
    "x_train, y_train = split_seq(data, 5)  #step 수를 3씩 나누어서 보다\n",
    "list(zip(x_train, y_train))"
   ]
  },
  {
   "cell_type": "code",
   "execution_count": 19,
   "metadata": {},
   "outputs": [
    {
     "data": {
      "text/html": [
       "<div>\n",
       "<style scoped>\n",
       "    .dataframe tbody tr th:only-of-type {\n",
       "        vertical-align: middle;\n",
       "    }\n",
       "\n",
       "    .dataframe tbody tr th {\n",
       "        vertical-align: top;\n",
       "    }\n",
       "\n",
       "    .dataframe thead th {\n",
       "        text-align: right;\n",
       "    }\n",
       "</style>\n",
       "<table border=\"1\" class=\"dataframe\">\n",
       "  <thead>\n",
       "    <tr style=\"text-align: right;\">\n",
       "      <th></th>\n",
       "      <th>0</th>\n",
       "      <th>1</th>\n",
       "      <th>2</th>\n",
       "      <th>3</th>\n",
       "      <th>4</th>\n",
       "      <th>y</th>\n",
       "    </tr>\n",
       "  </thead>\n",
       "  <tbody>\n",
       "    <tr>\n",
       "      <th>0</th>\n",
       "      <td>1</td>\n",
       "      <td>2</td>\n",
       "      <td>3</td>\n",
       "      <td>4</td>\n",
       "      <td>5</td>\n",
       "      <td>6</td>\n",
       "    </tr>\n",
       "    <tr>\n",
       "      <th>1</th>\n",
       "      <td>2</td>\n",
       "      <td>3</td>\n",
       "      <td>4</td>\n",
       "      <td>5</td>\n",
       "      <td>6</td>\n",
       "      <td>7</td>\n",
       "    </tr>\n",
       "    <tr>\n",
       "      <th>2</th>\n",
       "      <td>3</td>\n",
       "      <td>4</td>\n",
       "      <td>5</td>\n",
       "      <td>6</td>\n",
       "      <td>7</td>\n",
       "      <td>8</td>\n",
       "    </tr>\n",
       "    <tr>\n",
       "      <th>3</th>\n",
       "      <td>4</td>\n",
       "      <td>5</td>\n",
       "      <td>6</td>\n",
       "      <td>7</td>\n",
       "      <td>8</td>\n",
       "      <td>9</td>\n",
       "    </tr>\n",
       "    <tr>\n",
       "      <th>4</th>\n",
       "      <td>5</td>\n",
       "      <td>6</td>\n",
       "      <td>7</td>\n",
       "      <td>8</td>\n",
       "      <td>9</td>\n",
       "      <td>10</td>\n",
       "    </tr>\n",
       "  </tbody>\n",
       "</table>\n",
       "</div>"
      ],
      "text/plain": [
       "   0  1  2  3  4   y\n",
       "0  1  2  3  4  5   6\n",
       "1  2  3  4  5  6   7\n",
       "2  3  4  5  6  7   8\n",
       "3  4  5  6  7  8   9\n",
       "4  5  6  7  8  9  10"
      ]
     },
     "execution_count": 19,
     "metadata": {},
     "output_type": "execute_result"
    }
   ],
   "source": [
    "X = pd.DataFrame(x_train); X\n",
    "X['y'] = y_train ; X"
   ]
  },
  {
   "cell_type": "code",
   "execution_count": 20,
   "metadata": {},
   "outputs": [
    {
     "data": {
      "text/plain": [
       "pandas.core.series.Series"
      ]
     },
     "execution_count": 20,
     "metadata": {},
     "output_type": "execute_result"
    }
   ],
   "source": [
    "type(df[\"기온\"])"
   ]
  },
  {
   "cell_type": "code",
   "execution_count": 21,
   "metadata": {},
   "outputs": [
    {
     "data": {
      "text/plain": [
       "array([3.6, 4. , 3.7, ..., 4.3, 6. , 6.3])"
      ]
     },
     "execution_count": 21,
     "metadata": {},
     "output_type": "execute_result"
    }
   ],
   "source": [
    "df.기온.values"
   ]
  },
  {
   "cell_type": "code",
   "execution_count": 22,
   "metadata": {},
   "outputs": [
    {
     "name": "stderr",
     "output_type": "stream",
     "text": [
      "C:\\Users\\KIMJUN~1\\AppData\\Local\\Temp/ipykernel_23032/636372356.py:3: DeprecationWarning: `np.int` is a deprecated alias for the builtin `int`. To silence this warning, use `int` by itself. Doing this will not modify any behavior and is safe. When replacing `np.int`, you may wish to use e.g. `np.int64` or `np.int32` to specify the precision. If you wish to review your current use, check the release note link for additional information.\n",
      "Deprecated in NumPy 1.20; for more details and guidance: https://numpy.org/devdocs/release/1.20.0-notes.html#deprecations\n",
      "  cut = np.int(len(y)*ratio)  #정수여야 데이터가 끊어짐. 앞의 75%를 가져감\n"
     ]
    },
    {
     "data": {
      "text/plain": [
       "(4018, 3013, 3013, 1005)"
      ]
     },
     "execution_count": 22,
     "metadata": {},
     "output_type": "execute_result"
    }
   ],
   "source": [
    "y = df[\"기온\"].values # train_test_split 사용하면 안됨 !!  #train_test_split: 데이터가 뒤섞여짐,,\n",
    "ratio = 0.75\n",
    "cut = np.int(len(y)*ratio)  #정수여야 데이터가 끊어짐. 앞의 75%를 가져감\n",
    "train = y[:cut]\n",
    "test = y[cut:]\n",
    "len(y), cut, len(train), len(test)"
   ]
  },
  {
   "cell_type": "code",
   "execution_count": 23,
   "metadata": {},
   "outputs": [
    {
     "data": {
      "text/plain": [
       "array([3.6, 4. , 3.7, 4. , 3.6, 2.1, 2.8, 4.2, 3.7, 4.3])"
      ]
     },
     "execution_count": 23,
     "metadata": {},
     "output_type": "execute_result"
    }
   ],
   "source": [
    "train[:10]"
   ]
  },
  {
   "cell_type": "markdown",
   "metadata": {},
   "source": [
    "# 선형 예측"
   ]
  },
  {
   "cell_type": "code",
   "execution_count": 24,
   "metadata": {
    "colab": {},
    "colab_type": "code",
    "id": "GlTyv8Ez0Yg7"
   },
   "outputs": [
    {
     "name": "stdout",
     "output_type": "stream",
     "text": [
      "1 0.9279\n",
      "21 0.9371\n",
      "41 0.9387\n",
      "61 0.9384\n",
      "81 0.9388\n",
      "101 0.9383\n",
      "121 0.9365\n",
      "141 0.9346\n",
      "161 0.9339\n",
      "181 0.9325\n",
      "201 0.9347\n",
      "221 0.9357\n",
      "241 0.9362\n",
      "261 0.9341\n",
      "281 0.9318\n",
      "301 0.9286\n",
      "321 0.9239\n",
      "341 0.9209\n",
      "361 0.9176\n",
      "381 0.9239\n",
      "401 0.9246\n",
      "421 0.924\n",
      "441 0.9263\n",
      "461 0.9282\n",
      "481 0.9249\n",
      "501 0.9154\n",
      "521 0.912\n",
      "541 0.911\n",
      "561 0.9133\n",
      "581 0.9155\n"
     ]
    }
   ],
   "source": [
    "lr = LinearRegression()\n",
    "for i in range(1,600,20):   #1부터 600까지 20씩 나누어 가며 \n",
    "    n_steps=i  #n_steps을 변수로 두다\n",
    "    x_train, y_train = split_seq(train, n_steps)\n",
    "    x_test, y_test = split_seq(test, n_steps)\n",
    "    lr.fit(x_train, y_train) \n",
    "    print(n_steps, lr.score(x_test, y_test).round(4)) # R2 점수  #채점하다 소수점 4째자리 까지\n",
    "      #점점점 값이 올라간다. 과거 데이어를 많이 볼 수록 미래 값을 더 잘 맞춘다\n",
    "        #일기예보는 600일치 볼 필요는 없고, 200일치 정도만 보면 되는구나~\n",
    "        #너무 많은 과거 데이터를 보면 오히려 도움이 안되네"
   ]
  },
  {
   "cell_type": "markdown",
   "metadata": {},
   "source": [
    "## 최적값 선택"
   ]
  },
  {
   "cell_type": "code",
   "execution_count": 25,
   "metadata": {
    "colab": {
     "base_uri": "https://localhost:8080/",
     "height": 374
    },
    "colab_type": "code",
    "executionInfo": {
     "elapsed": 1439,
     "status": "ok",
     "timestamp": 1573631500222,
     "user": {
      "displayName": "김화종",
      "photoUrl": "https://lh3.googleusercontent.com/a-/AAuE7mCOtXjyLykQ_8l9Pq2rL3r5y110ynjRS1eb1EzpcQ=s64",
      "userId": "17353049580175403985"
     },
     "user_tz": -540
    },
    "id": "qdvfq8AW0Yg_",
    "outputId": "7d221285-562c-4da5-e5b8-8686ed46c72b"
   },
   "outputs": [
    {
     "name": "stdout",
     "output_type": "stream",
     "text": [
      "10 0.9359804760059094\n"
     ]
    },
    {
     "data": {
      "image/png": "[encoded data removed]",
      "text/plain": [
       "<Figure size 720x432 with 1 Axes>"
      ]
     },
     "metadata": {
      "image/png": {
       "height": 357,
       "width": 601
      },
      "needs_background": "light"
     },
     "output_type": "display_data"
    }
   ],
   "source": [
    "lr = LinearRegression()\n",
    "\n",
    "# 최적값 사용 n_steps = 10, 윈도우 크기\n",
    "\n",
    "n_steps = 10\n",
    "x_train, y_train = split_seq(train, n_steps)\n",
    "x_test, y_test = split_seq(test, n_steps)\n",
    "lr.fit(x_train, y_train) \n",
    "y_pred = lr.predict(x_test)\n",
    "print(n_steps, lr.score(x_test, y_test)) # R2\n",
    "\n",
    "# 결과 그래프\n",
    "plt.figure(figsize=(10, 6))\n",
    "plt.plot(y_test[:200], c='r')  #실제값은 Y_TEST\n",
    "plt.plot(y_pred[:200], c='b')#  예측값은 PRED\n",
    "plt.show()"
   ]
  },
  {
   "cell_type": "code",
   "execution_count": 27,
   "metadata": {
    "colab": {
     "base_uri": "https://localhost:8080/",
     "height": 71
    },
    "colab_type": "code",
    "executionInfo": {
     "elapsed": 870,
     "status": "ok",
     "timestamp": 1573631519959,
     "user": {
      "displayName": "김화종",
      "photoUrl": "https://lh3.googleusercontent.com/a-/AAuE7mCOtXjyLykQ_8l9Pq2rL3r5y110ynjRS1eb1EzpcQ=s64",
      "userId": "17353049580175403985"
     },
     "user_tz": -540
    },
    "id": "snIhFzzV0YhB",
    "outputId": "95980921-5415-4112-a9ee-e3f1e3af70c7",
    "scrolled": true
   },
   "outputs": [
    {
     "name": "stdout",
     "output_type": "stream",
     "text": [
      "MAE= 1.497897124679352\n",
      "max= 8.613561682545189\n",
      "R2= 0.9359804760059094\n"
     ]
    }
   ],
   "source": [
    "error = np.abs(y_pred - y_test)\n",
    "print(\"MAE=\", error.mean())\n",
    "print(\"max=\", max(error))  #오차중 가장 큰 오차\n",
    "print(\"R2=\",lr.score(x_test, y_test)) # R2"
   ]
  },
  {
   "cell_type": "code",
   "execution_count": 28,
   "metadata": {},
   "outputs": [
    {
     "data": {
      "text/plain": [
       "<matplotlib.collections.PathCollection at 0x197146d1d90>"
      ]
     },
     "execution_count": 28,
     "metadata": {},
     "output_type": "execute_result"
    },
    {
     "data": {
      "image/png": "[encoded data removed]",
      "text/plain": [
       "<Figure size 432x288 with 1 Axes>"
      ]
     },
     "metadata": {
      "image/png": {
       "height": 248,
       "width": 362
      },
      "needs_background": "light"
     },
     "output_type": "display_data"
    }
   ],
   "source": [
    "plt.scatter(y_test, error, s=5)\n",
    "\n",
    "#평균 오차내는 정도 \n",
    "#평균 0~2도 차이 난다"
   ]
  },
  {
   "cell_type": "markdown",
   "metadata": {},
   "source": [
    "# 나이브 모델"
   ]
  },
  {
   "cell_type": "code",
   "execution_count": 29,
   "metadata": {},
   "outputs": [],
   "source": [
    "def naive_model(x_seq):\n",
    "    return np.array(x_seq).mean(axis=1)\n",
    "#     return x_seq[-1] # persistent 모델\n",
    "#과거 날씨 평균치 return  주어진 데이터의 평균치 출력"
   ]
  },
  {
   "cell_type": "code",
   "execution_count": 30,
   "metadata": {},
   "outputs": [
    {
     "data": {
      "text/plain": [
       "[1, 2, 3, 4, 5, 6, 7, 8, 9, 10]"
      ]
     },
     "execution_count": 30,
     "metadata": {},
     "output_type": "execute_result"
    }
   ],
   "source": [
    "data"
   ]
  },
  {
   "cell_type": "code",
   "execution_count": 31,
   "metadata": {},
   "outputs": [
    {
     "ename": "AxisError",
     "evalue": "axis 1 is out of bounds for array of dimension 1",
     "output_type": "error",
     "traceback": [
      "\u001b[1;31m---------------------------------------------------------------------------\u001b[0m",
      "\u001b[1;31mAxisError\u001b[0m                                 Traceback (most recent call last)",
      "\u001b[1;32mC:\\Users\\KIMJUN~1\\AppData\\Local\\Temp/ipykernel_23032/3758011994.py\u001b[0m in \u001b[0;36m<module>\u001b[1;34m\u001b[0m\n\u001b[1;32m----> 1\u001b[1;33m \u001b[0mnaive_model\u001b[0m\u001b[1;33m(\u001b[0m\u001b[0mdata\u001b[0m\u001b[1;33m)\u001b[0m\u001b[1;33m\u001b[0m\u001b[1;33m\u001b[0m\u001b[0m\n\u001b[0m",
      "\u001b[1;32mC:\\Users\\KIMJUN~1\\AppData\\Local\\Temp/ipykernel_23032/2911789668.py\u001b[0m in \u001b[0;36mnaive_model\u001b[1;34m(x_seq)\u001b[0m\n\u001b[0;32m      1\u001b[0m \u001b[1;32mdef\u001b[0m \u001b[0mnaive_model\u001b[0m\u001b[1;33m(\u001b[0m\u001b[0mx_seq\u001b[0m\u001b[1;33m)\u001b[0m\u001b[1;33m:\u001b[0m\u001b[1;33m\u001b[0m\u001b[1;33m\u001b[0m\u001b[0m\n\u001b[1;32m----> 2\u001b[1;33m     \u001b[1;32mreturn\u001b[0m \u001b[0mnp\u001b[0m\u001b[1;33m.\u001b[0m\u001b[0marray\u001b[0m\u001b[1;33m(\u001b[0m\u001b[0mx_seq\u001b[0m\u001b[1;33m)\u001b[0m\u001b[1;33m.\u001b[0m\u001b[0mmean\u001b[0m\u001b[1;33m(\u001b[0m\u001b[0maxis\u001b[0m\u001b[1;33m=\u001b[0m\u001b[1;36m1\u001b[0m\u001b[1;33m)\u001b[0m\u001b[1;33m\u001b[0m\u001b[1;33m\u001b[0m\u001b[0m\n\u001b[0m\u001b[0;32m      3\u001b[0m \u001b[1;31m#     return x_seq[-1] # persistent 모델\u001b[0m\u001b[1;33m\u001b[0m\u001b[1;33m\u001b[0m\u001b[1;33m\u001b[0m\u001b[0m\n\u001b[0;32m      4\u001b[0m \u001b[1;31m#과거 날씨 평균치 return\u001b[0m\u001b[1;33m\u001b[0m\u001b[1;33m\u001b[0m\u001b[1;33m\u001b[0m\u001b[0m\n",
      "\u001b[1;32m~\\anaconda3\\lib\\site-packages\\numpy\\core\\_methods.py\u001b[0m in \u001b[0;36m_mean\u001b[1;34m(a, axis, dtype, out, keepdims, where)\u001b[0m\n\u001b[0;32m    164\u001b[0m     \u001b[0mis_float16_result\u001b[0m \u001b[1;33m=\u001b[0m \u001b[1;32mFalse\u001b[0m\u001b[1;33m\u001b[0m\u001b[1;33m\u001b[0m\u001b[0m\n\u001b[0;32m    165\u001b[0m \u001b[1;33m\u001b[0m\u001b[0m\n\u001b[1;32m--> 166\u001b[1;33m     \u001b[0mrcount\u001b[0m \u001b[1;33m=\u001b[0m \u001b[0m_count_reduce_items\u001b[0m\u001b[1;33m(\u001b[0m\u001b[0marr\u001b[0m\u001b[1;33m,\u001b[0m \u001b[0maxis\u001b[0m\u001b[1;33m,\u001b[0m \u001b[0mkeepdims\u001b[0m\u001b[1;33m=\u001b[0m\u001b[0mkeepdims\u001b[0m\u001b[1;33m,\u001b[0m \u001b[0mwhere\u001b[0m\u001b[1;33m=\u001b[0m\u001b[0mwhere\u001b[0m\u001b[1;33m)\u001b[0m\u001b[1;33m\u001b[0m\u001b[1;33m\u001b[0m\u001b[0m\n\u001b[0m\u001b[0;32m    167\u001b[0m     \u001b[1;32mif\u001b[0m \u001b[0mrcount\u001b[0m \u001b[1;33m==\u001b[0m \u001b[1;36m0\u001b[0m \u001b[1;32mif\u001b[0m \u001b[0mwhere\u001b[0m \u001b[1;32mis\u001b[0m \u001b[1;32mTrue\u001b[0m \u001b[1;32melse\u001b[0m \u001b[0mumr_any\u001b[0m\u001b[1;33m(\u001b[0m\u001b[0mrcount\u001b[0m \u001b[1;33m==\u001b[0m \u001b[1;36m0\u001b[0m\u001b[1;33m,\u001b[0m \u001b[0maxis\u001b[0m\u001b[1;33m=\u001b[0m\u001b[1;32mNone\u001b[0m\u001b[1;33m)\u001b[0m\u001b[1;33m:\u001b[0m\u001b[1;33m\u001b[0m\u001b[1;33m\u001b[0m\u001b[0m\n\u001b[0;32m    168\u001b[0m         \u001b[0mwarnings\u001b[0m\u001b[1;33m.\u001b[0m\u001b[0mwarn\u001b[0m\u001b[1;33m(\u001b[0m\u001b[1;34m\"Mean of empty slice.\"\u001b[0m\u001b[1;33m,\u001b[0m \u001b[0mRuntimeWarning\u001b[0m\u001b[1;33m,\u001b[0m \u001b[0mstacklevel\u001b[0m\u001b[1;33m=\u001b[0m\u001b[1;36m2\u001b[0m\u001b[1;33m)\u001b[0m\u001b[1;33m\u001b[0m\u001b[1;33m\u001b[0m\u001b[0m\n",
      "\u001b[1;32m~\\anaconda3\\lib\\site-packages\\numpy\\core\\_methods.py\u001b[0m in \u001b[0;36m_count_reduce_items\u001b[1;34m(arr, axis, keepdims, where)\u001b[0m\n\u001b[0;32m     73\u001b[0m         \u001b[0mitems\u001b[0m \u001b[1;33m=\u001b[0m \u001b[0mnt\u001b[0m\u001b[1;33m.\u001b[0m\u001b[0mintp\u001b[0m\u001b[1;33m(\u001b[0m\u001b[1;36m1\u001b[0m\u001b[1;33m)\u001b[0m\u001b[1;33m\u001b[0m\u001b[1;33m\u001b[0m\u001b[0m\n\u001b[0;32m     74\u001b[0m         \u001b[1;32mfor\u001b[0m \u001b[0max\u001b[0m \u001b[1;32min\u001b[0m \u001b[0maxis\u001b[0m\u001b[1;33m:\u001b[0m\u001b[1;33m\u001b[0m\u001b[1;33m\u001b[0m\u001b[0m\n\u001b[1;32m---> 75\u001b[1;33m             \u001b[0mitems\u001b[0m \u001b[1;33m*=\u001b[0m \u001b[0marr\u001b[0m\u001b[1;33m.\u001b[0m\u001b[0mshape\u001b[0m\u001b[1;33m[\u001b[0m\u001b[0mmu\u001b[0m\u001b[1;33m.\u001b[0m\u001b[0mnormalize_axis_index\u001b[0m\u001b[1;33m(\u001b[0m\u001b[0max\u001b[0m\u001b[1;33m,\u001b[0m \u001b[0marr\u001b[0m\u001b[1;33m.\u001b[0m\u001b[0mndim\u001b[0m\u001b[1;33m)\u001b[0m\u001b[1;33m]\u001b[0m\u001b[1;33m\u001b[0m\u001b[1;33m\u001b[0m\u001b[0m\n\u001b[0m\u001b[0;32m     76\u001b[0m     \u001b[1;32melse\u001b[0m\u001b[1;33m:\u001b[0m\u001b[1;33m\u001b[0m\u001b[1;33m\u001b[0m\u001b[0m\n\u001b[0;32m     77\u001b[0m         \u001b[1;31m# TODO: Optimize case when `where` is broadcast along a non-reduction\u001b[0m\u001b[1;33m\u001b[0m\u001b[1;33m\u001b[0m\u001b[1;33m\u001b[0m\u001b[0m\n",
      "\u001b[1;31mAxisError\u001b[0m: axis 1 is out of bounds for array of dimension 1"
     ]
    }
   ],
   "source": [
    "naive_model(data)"
   ]
  },
  {
   "cell_type": "code",
   "execution_count": null,
   "metadata": {},
   "outputs": [],
   "source": []
  },
  {
   "cell_type": "code",
   "execution_count": 35,
   "metadata": {},
   "outputs": [
    {
     "name": "stdout",
     "output_type": "stream",
     "text": [
      "0.9166216553292827\n"
     ]
    }
   ],
   "source": [
    "x_test, y_test = split_seq(test, 2) # persistent 모델\n",
    "\n",
    "#(test, 1) : 내일 날씨 맞추는 데 오늘 날씨 데이터 사용하겠다\n",
    "#(test, 2): 내일 날씨 맞추는 데 오늘, 내일 날씨 데이터 사용하겠다\n",
    "# m.fit(x_train, y_train)\n",
    "\n",
    "y_pred = naive_model(x_test)\n",
    "print(r2_score(y_test, y_pred))"
   ]
  },
  {
   "cell_type": "code",
   "execution_count": 36,
   "metadata": {},
   "outputs": [
    {
     "data": {
      "text/plain": [
       "array([[15.2, 13.8],\n",
       "       [13.8, 15.3],\n",
       "       [15.3, 11.4],\n",
       "       ...,\n",
       "       [11.1,  6. ],\n",
       "       [ 6. ,  4.3],\n",
       "       [ 4.3,  6. ]])"
      ]
     },
     "execution_count": 36,
     "metadata": {},
     "output_type": "execute_result"
    }
   ],
   "source": [
    "x_test  #2차원 array\n",
    "#각각 [], [ ], [] 행들의 평균을 구해라\n",
    "#오늘 , 내일 날씨 평균"
   ]
  },
  {
   "cell_type": "code",
   "execution_count": 48,
   "metadata": {},
   "outputs": [
    {
     "name": "stdout",
     "output_type": "stream",
     "text": [
      "MAE= 1.5845617529880478\n",
      "max= 10.4\n"
     ]
    }
   ],
   "source": [
    "error = np.abs(y_pred  - y_test)  #오늘 하루치 측정\n",
    "print(\"MAE=\", error.mean())  #일기예보는 과거 하루치만 보아도 대략 맞는구나\n",
    "print(\"max=\", max(error))\n",
    "# print(\"R2=\",lr.score(x_test, y_test)) # R2"
   ]
  },
  {
   "cell_type": "code",
   "execution_count": 46,
   "metadata": {},
   "outputs": [
    {
     "name": "stdout",
     "output_type": "stream",
     "text": [
      "MAE= 1.7031904287138584\n",
      "max= 9.899999999999999\n"
     ]
    }
   ],
   "source": [
    "error = np.abs(y_pred  - y_test)  #어제, 오늘 이틀치 측정\n",
    "print(\"MAE=\", error.mean())  #일기예보는 과거 하루치만 보아도 대략 맞는구나\n",
    "print(\"max=\", max(error))\n",
    "# print(\"R2=\",lr.score(x_test, y_test)) # R2"
   ]
  },
  {
   "cell_type": "markdown",
   "metadata": {},
   "source": [
    "## naive  모델에서 최적의 윈도우 크기\n",
    "- 과거의 평균치로 예측하는 경우를 가정\n",
    "- Baseline 모델, 새로운 모델은 이것보다는 좋아야 하는 기준"
   ]
  },
  {
   "cell_type": "code",
   "execution_count": 34,
   "metadata": {},
   "outputs": [
    {
     "name": "stdout",
     "output_type": "stream",
     "text": [
      "1 0.9266\n",
      "2 0.9166\n",
      "3 0.9113\n",
      "4 0.9074\n",
      "5 0.9037\n",
      "6 0.901\n",
      "7 0.8991\n",
      "8 0.8982\n",
      "9 0.8971\n",
      "10 0.896\n",
      "11 0.8948\n",
      "12 0.8932\n",
      "13 0.8913\n",
      "14 0.8897\n",
      "15 0.888\n",
      "16 0.8861\n",
      "17 0.8841\n",
      "18 0.8812\n",
      "19 0.8778\n"
     ]
    }
   ],
   "source": [
    "for i in range(1,20): \n",
    "    n_steps=i\n",
    "#   x_train, y_train = split_seq(train, n_steps)\n",
    "    x_test, y_test = split_seq(test, n_steps)\n",
    "    y_pred = naive_model(x_test)\n",
    "    r2_score(y_test, y_pred)\n",
    "    print(n_steps, r2_score(y_test, y_pred).round(4))\n",
    "    \n",
    "    \n",
    "    #하루치로 측정할 때가 가장 정확하다\n",
    "    #내일 날씨는 오늘 날씨랑 가장 비슷하다"
   ]
  },
  {
   "cell_type": "markdown",
   "metadata": {
    "colab_type": "text",
    "id": "sD5FmVRp0YhK"
   },
   "source": [
    "# Prophet 사용"
   ]
  },
  {
   "cell_type": "code",
   "execution_count": 32,
   "metadata": {},
   "outputs": [
    {
     "name": "stderr",
     "output_type": "stream",
     "text": [
      "ERROR: Invalid requirement: '#facebook'\n"
     ]
    }
   ],
   "source": [
    "!pip install fbprophet  #facebook 회사에서 만든 TOOL"
   ]
  },
  {
   "cell_type": "code",
   "execution_count": null,
   "metadata": {},
   "outputs": [],
   "source": []
  },
  {
   "cell_type": "code",
   "execution_count": 1,
   "metadata": {
    "colab": {},
    "colab_type": "code",
    "id": "IBrrk9t9t0RR",
    "outputId": "31ed7b9d-b92c-4d3d-d73c-c189148be121"
   },
   "outputs": [],
   "source": [
    "from fbprophet import Prophet  #시계열 예측을 정확하게 해준다"
   ]
  },
  {
   "cell_type": "code",
   "execution_count": 34,
   "metadata": {},
   "outputs": [
    {
     "data": {
      "text/html": [
       "<div>\n",
       "<style scoped>\n",
       "    .dataframe tbody tr th:only-of-type {\n",
       "        vertical-align: middle;\n",
       "    }\n",
       "\n",
       "    .dataframe tbody tr th {\n",
       "        vertical-align: top;\n",
       "    }\n",
       "\n",
       "    .dataframe thead th {\n",
       "        text-align: right;\n",
       "    }\n",
       "</style>\n",
       "<table border=\"1\" class=\"dataframe\">\n",
       "  <thead>\n",
       "    <tr style=\"text-align: right;\">\n",
       "      <th></th>\n",
       "      <th>연월일</th>\n",
       "      <th>기온</th>\n",
       "      <th>품질</th>\n",
       "      <th>균질</th>\n",
       "    </tr>\n",
       "  </thead>\n",
       "  <tbody>\n",
       "    <tr>\n",
       "      <th>0</th>\n",
       "      <td>2006/1/1</td>\n",
       "      <td>3.6</td>\n",
       "      <td>8</td>\n",
       "      <td>1</td>\n",
       "    </tr>\n",
       "    <tr>\n",
       "      <th>1</th>\n",
       "      <td>2006/1/2</td>\n",
       "      <td>4.0</td>\n",
       "      <td>8</td>\n",
       "      <td>1</td>\n",
       "    </tr>\n",
       "    <tr>\n",
       "      <th>2</th>\n",
       "      <td>2006/1/3</td>\n",
       "      <td>3.7</td>\n",
       "      <td>8</td>\n",
       "      <td>1</td>\n",
       "    </tr>\n",
       "    <tr>\n",
       "      <th>3</th>\n",
       "      <td>2006/1/4</td>\n",
       "      <td>4.0</td>\n",
       "      <td>8</td>\n",
       "      <td>1</td>\n",
       "    </tr>\n",
       "    <tr>\n",
       "      <th>4</th>\n",
       "      <td>2006/1/5</td>\n",
       "      <td>3.6</td>\n",
       "      <td>8</td>\n",
       "      <td>1</td>\n",
       "    </tr>\n",
       "    <tr>\n",
       "      <th>...</th>\n",
       "      <td>...</td>\n",
       "      <td>...</td>\n",
       "      <td>...</td>\n",
       "      <td>...</td>\n",
       "    </tr>\n",
       "    <tr>\n",
       "      <th>4013</th>\n",
       "      <td>2016/12/27</td>\n",
       "      <td>11.1</td>\n",
       "      <td>8</td>\n",
       "      <td>2</td>\n",
       "    </tr>\n",
       "    <tr>\n",
       "      <th>4014</th>\n",
       "      <td>2016/12/28</td>\n",
       "      <td>6.0</td>\n",
       "      <td>8</td>\n",
       "      <td>2</td>\n",
       "    </tr>\n",
       "    <tr>\n",
       "      <th>4015</th>\n",
       "      <td>2016/12/29</td>\n",
       "      <td>4.3</td>\n",
       "      <td>8</td>\n",
       "      <td>2</td>\n",
       "    </tr>\n",
       "    <tr>\n",
       "      <th>4016</th>\n",
       "      <td>2016/12/30</td>\n",
       "      <td>6.0</td>\n",
       "      <td>8</td>\n",
       "      <td>2</td>\n",
       "    </tr>\n",
       "    <tr>\n",
       "      <th>4017</th>\n",
       "      <td>2016/12/31</td>\n",
       "      <td>6.3</td>\n",
       "      <td>8</td>\n",
       "      <td>2</td>\n",
       "    </tr>\n",
       "  </tbody>\n",
       "</table>\n",
       "<p>4018 rows × 4 columns</p>\n",
       "</div>"
      ],
      "text/plain": [
       "             연월일    기온  품질  균질\n",
       "0       2006/1/1   3.6   8   1\n",
       "1       2006/1/2   4.0   8   1\n",
       "2       2006/1/3   3.7   8   1\n",
       "3       2006/1/4   4.0   8   1\n",
       "4       2006/1/5   3.6   8   1\n",
       "...          ...   ...  ..  ..\n",
       "4013  2016/12/27  11.1   8   2\n",
       "4014  2016/12/28   6.0   8   2\n",
       "4015  2016/12/29   4.3   8   2\n",
       "4016  2016/12/30   6.0   8   2\n",
       "4017  2016/12/31   6.3   8   2\n",
       "\n",
       "[4018 rows x 4 columns]"
      ]
     },
     "execution_count": 34,
     "metadata": {},
     "output_type": "execute_result"
    }
   ],
   "source": [
    "df"
   ]
  },
  {
   "cell_type": "code",
   "execution_count": 35,
   "metadata": {},
   "outputs": [],
   "source": [
    "df = df.drop([\"품질\", \"균질\"], axis=1)"
   ]
  },
  {
   "cell_type": "code",
   "execution_count": 36,
   "metadata": {
    "colab": {},
    "colab_type": "code",
    "id": "dR5pwmzot0RT"
   },
   "outputs": [
    {
     "data": {
      "text/html": [
       "<div>\n",
       "<style scoped>\n",
       "    .dataframe tbody tr th:only-of-type {\n",
       "        vertical-align: middle;\n",
       "    }\n",
       "\n",
       "    .dataframe tbody tr th {\n",
       "        vertical-align: top;\n",
       "    }\n",
       "\n",
       "    .dataframe thead th {\n",
       "        text-align: right;\n",
       "    }\n",
       "</style>\n",
       "<table border=\"1\" class=\"dataframe\">\n",
       "  <thead>\n",
       "    <tr style=\"text-align: right;\">\n",
       "      <th></th>\n",
       "      <th>ds</th>\n",
       "      <th>y</th>\n",
       "    </tr>\n",
       "  </thead>\n",
       "  <tbody>\n",
       "    <tr>\n",
       "      <th>0</th>\n",
       "      <td>2006/1/1</td>\n",
       "      <td>3.6</td>\n",
       "    </tr>\n",
       "    <tr>\n",
       "      <th>1</th>\n",
       "      <td>2006/1/2</td>\n",
       "      <td>4.0</td>\n",
       "    </tr>\n",
       "    <tr>\n",
       "      <th>2</th>\n",
       "      <td>2006/1/3</td>\n",
       "      <td>3.7</td>\n",
       "    </tr>\n",
       "    <tr>\n",
       "      <th>3</th>\n",
       "      <td>2006/1/4</td>\n",
       "      <td>4.0</td>\n",
       "    </tr>\n",
       "    <tr>\n",
       "      <th>4</th>\n",
       "      <td>2006/1/5</td>\n",
       "      <td>3.6</td>\n",
       "    </tr>\n",
       "    <tr>\n",
       "      <th>...</th>\n",
       "      <td>...</td>\n",
       "      <td>...</td>\n",
       "    </tr>\n",
       "    <tr>\n",
       "      <th>4013</th>\n",
       "      <td>2016/12/27</td>\n",
       "      <td>11.1</td>\n",
       "    </tr>\n",
       "    <tr>\n",
       "      <th>4014</th>\n",
       "      <td>2016/12/28</td>\n",
       "      <td>6.0</td>\n",
       "    </tr>\n",
       "    <tr>\n",
       "      <th>4015</th>\n",
       "      <td>2016/12/29</td>\n",
       "      <td>4.3</td>\n",
       "    </tr>\n",
       "    <tr>\n",
       "      <th>4016</th>\n",
       "      <td>2016/12/30</td>\n",
       "      <td>6.0</td>\n",
       "    </tr>\n",
       "    <tr>\n",
       "      <th>4017</th>\n",
       "      <td>2016/12/31</td>\n",
       "      <td>6.3</td>\n",
       "    </tr>\n",
       "  </tbody>\n",
       "</table>\n",
       "<p>4018 rows × 2 columns</p>\n",
       "</div>"
      ],
      "text/plain": [
       "              ds     y\n",
       "0       2006/1/1   3.6\n",
       "1       2006/1/2   4.0\n",
       "2       2006/1/3   3.7\n",
       "3       2006/1/4   4.0\n",
       "4       2006/1/5   3.6\n",
       "...          ...   ...\n",
       "4013  2016/12/27  11.1\n",
       "4014  2016/12/28   6.0\n",
       "4015  2016/12/29   4.3\n",
       "4016  2016/12/30   6.0\n",
       "4017  2016/12/31   6.3\n",
       "\n",
       "[4018 rows x 2 columns]"
      ]
     },
     "execution_count": 36,
     "metadata": {},
     "output_type": "execute_result"
    }
   ],
   "source": [
    "df.columns = ['ds', 'y']  #prophet을 사용하기 위해서 날짜를  ds로 바꾸다\n",
    "df"
   ]
  },
  {
   "cell_type": "code",
   "execution_count": 37,
   "metadata": {},
   "outputs": [
    {
     "name": "stdout",
     "output_type": "stream",
     "text": [
      "<class 'pandas.core.frame.DataFrame'>\n",
      "RangeIndex: 4018 entries, 0 to 4017\n",
      "Data columns (total 2 columns):\n",
      " #   Column  Non-Null Count  Dtype  \n",
      "---  ------  --------------  -----  \n",
      " 0   ds      4018 non-null   object \n",
      " 1   y       4018 non-null   float64\n",
      "dtypes: float64(1), object(1)\n",
      "memory usage: 62.9+ KB\n"
     ]
    }
   ],
   "source": [
    "df.info()"
   ]
  },
  {
   "cell_type": "code",
   "execution_count": 38,
   "metadata": {},
   "outputs": [],
   "source": [
    "df.ds = df.ds.apply(pd.to_datetime)  #ds 컬럼을 날짜형태로 변환"
   ]
  },
  {
   "cell_type": "code",
   "execution_count": 39,
   "metadata": {
    "scrolled": true
   },
   "outputs": [
    {
     "data": {
      "text/plain": [
       "0      2006-01-01\n",
       "1      2006-01-02\n",
       "2      2006-01-03\n",
       "3      2006-01-04\n",
       "4      2006-01-05\n",
       "          ...    \n",
       "4013   2016-12-27\n",
       "4014   2016-12-28\n",
       "4015   2016-12-29\n",
       "4016   2016-12-30\n",
       "4017   2016-12-31\n",
       "Name: ds, Length: 4018, dtype: datetime64[ns]"
      ]
     },
     "execution_count": 39,
     "metadata": {},
     "output_type": "execute_result"
    }
   ],
   "source": [
    "df.ds"
   ]
  },
  {
   "cell_type": "code",
   "execution_count": 40,
   "metadata": {},
   "outputs": [
    {
     "name": "stdout",
     "output_type": "stream",
     "text": [
      "<class 'pandas.core.frame.DataFrame'>\n",
      "RangeIndex: 4018 entries, 0 to 4017\n",
      "Data columns (total 2 columns):\n",
      " #   Column  Non-Null Count  Dtype         \n",
      "---  ------  --------------  -----         \n",
      " 0   ds      4018 non-null   datetime64[ns]\n",
      " 1   y       4018 non-null   float64       \n",
      "dtypes: datetime64[ns](1), float64(1)\n",
      "memory usage: 62.9 KB\n"
     ]
    }
   ],
   "source": [
    "df.info()  #datetime64로 바뀌다"
   ]
  },
  {
   "cell_type": "code",
   "execution_count": 41,
   "metadata": {},
   "outputs": [
    {
     "data": {
      "text/plain": [
       "((3500, 2), (518, 2))"
      ]
     },
     "execution_count": 41,
     "metadata": {},
     "output_type": "execute_result"
    }
   ],
   "source": [
    "train = df[:3500]# 3500 훈련데이터\n",
    "test = df[3500:]#나머지 검증 데이터\n",
    "train.shape, test.shape"
   ]
  },
  {
   "cell_type": "code",
   "execution_count": null,
   "metadata": {
    "scrolled": true
   },
   "outputs": [
    {
     "ename": "KeyError",
     "evalue": "'metric_file'",
     "output_type": "error",
     "traceback": [
      "\u001b[1;31m---------------------------------------------------------------------------\u001b[0m",
      "\u001b[1;31mKeyError\u001b[0m                                  Traceback (most recent call last)",
      "\u001b[1;31mKeyError\u001b[0m: 'metric_file'"
     ]
    }
   ],
   "source": [
    "model = Prophet()\n",
    "model.daily_seasonality=True\n",
    "model.weekly_seasonality=True\n",
    "model.fit(train)"
   ]
  },
  {
   "cell_type": "code",
   "execution_count": 42,
   "metadata": {},
   "outputs": [
    {
     "data": {
      "text/html": [
       "<div>\n",
       "<style scoped>\n",
       "    .dataframe tbody tr th:only-of-type {\n",
       "        vertical-align: middle;\n",
       "    }\n",
       "\n",
       "    .dataframe tbody tr th {\n",
       "        vertical-align: top;\n",
       "    }\n",
       "\n",
       "    .dataframe thead th {\n",
       "        text-align: right;\n",
       "    }\n",
       "</style>\n",
       "<table border=\"1\" class=\"dataframe\">\n",
       "  <thead>\n",
       "    <tr style=\"text-align: right;\">\n",
       "      <th></th>\n",
       "      <th>ds</th>\n",
       "    </tr>\n",
       "  </thead>\n",
       "  <tbody>\n",
       "    <tr>\n",
       "      <th>3500</th>\n",
       "      <td>2015-08-02</td>\n",
       "    </tr>\n",
       "    <tr>\n",
       "      <th>3501</th>\n",
       "      <td>2015-08-03</td>\n",
       "    </tr>\n",
       "    <tr>\n",
       "      <th>3502</th>\n",
       "      <td>2015-08-04</td>\n",
       "    </tr>\n",
       "    <tr>\n",
       "      <th>3503</th>\n",
       "      <td>2015-08-05</td>\n",
       "    </tr>\n",
       "    <tr>\n",
       "      <th>3504</th>\n",
       "      <td>2015-08-06</td>\n",
       "    </tr>\n",
       "    <tr>\n",
       "      <th>...</th>\n",
       "      <td>...</td>\n",
       "    </tr>\n",
       "    <tr>\n",
       "      <th>4013</th>\n",
       "      <td>2016-12-27</td>\n",
       "    </tr>\n",
       "    <tr>\n",
       "      <th>4014</th>\n",
       "      <td>2016-12-28</td>\n",
       "    </tr>\n",
       "    <tr>\n",
       "      <th>4015</th>\n",
       "      <td>2016-12-29</td>\n",
       "    </tr>\n",
       "    <tr>\n",
       "      <th>4016</th>\n",
       "      <td>2016-12-30</td>\n",
       "    </tr>\n",
       "    <tr>\n",
       "      <th>4017</th>\n",
       "      <td>2016-12-31</td>\n",
       "    </tr>\n",
       "  </tbody>\n",
       "</table>\n",
       "<p>518 rows × 1 columns</p>\n",
       "</div>"
      ],
      "text/plain": [
       "             ds\n",
       "3500 2015-08-02\n",
       "3501 2015-08-03\n",
       "3502 2015-08-04\n",
       "3503 2015-08-05\n",
       "3504 2015-08-06\n",
       "...         ...\n",
       "4013 2016-12-27\n",
       "4014 2016-12-28\n",
       "4015 2016-12-29\n",
       "4016 2016-12-30\n",
       "4017 2016-12-31\n",
       "\n",
       "[518 rows x 1 columns]"
      ]
     },
     "execution_count": 42,
     "metadata": {},
     "output_type": "execute_result"
    }
   ],
   "source": [
    "future_test = test.drop('y',axis=1);future_test"
   ]
  },
  {
   "cell_type": "code",
   "execution_count": 43,
   "metadata": {},
   "outputs": [
    {
     "ename": "NameError",
     "evalue": "name 'model' is not defined",
     "output_type": "error",
     "traceback": [
      "\u001b[1;31m---------------------------------------------------------------------------\u001b[0m",
      "\u001b[1;31mNameError\u001b[0m                                 Traceback (most recent call last)",
      "\u001b[1;32mC:\\Users\\KIMJUN~1\\AppData\\Local\\Temp/ipykernel_23032/4256709677.py\u001b[0m in \u001b[0;36m<module>\u001b[1;34m\u001b[0m\n\u001b[1;32m----> 1\u001b[1;33m \u001b[0mforecast\u001b[0m \u001b[1;33m=\u001b[0m \u001b[0mmodel\u001b[0m\u001b[1;33m.\u001b[0m\u001b[0mpredict\u001b[0m\u001b[1;33m(\u001b[0m\u001b[0mfuture_test\u001b[0m\u001b[1;33m)\u001b[0m\u001b[1;33m\u001b[0m\u001b[1;33m\u001b[0m\u001b[0m\n\u001b[0m",
      "\u001b[1;31mNameError\u001b[0m: name 'model' is not defined"
     ]
    }
   ],
   "source": [
    "forecast = model.predict(future_test)"
   ]
  },
  {
   "cell_type": "code",
   "execution_count": 58,
   "metadata": {},
   "outputs": [
    {
     "data": {
      "text/html": [
       "<div>\n",
       "<style scoped>\n",
       "    .dataframe tbody tr th:only-of-type {\n",
       "        vertical-align: middle;\n",
       "    }\n",
       "\n",
       "    .dataframe tbody tr th {\n",
       "        vertical-align: top;\n",
       "    }\n",
       "\n",
       "    .dataframe thead th {\n",
       "        text-align: right;\n",
       "    }\n",
       "</style>\n",
       "<table border=\"1\" class=\"dataframe\">\n",
       "  <thead>\n",
       "    <tr style=\"text-align: right;\">\n",
       "      <th></th>\n",
       "      <th>ds</th>\n",
       "      <th>trend</th>\n",
       "      <th>yhat_lower</th>\n",
       "      <th>yhat_upper</th>\n",
       "      <th>trend_lower</th>\n",
       "      <th>trend_upper</th>\n",
       "      <th>additive_terms</th>\n",
       "      <th>additive_terms_lower</th>\n",
       "      <th>additive_terms_upper</th>\n",
       "      <th>weekly</th>\n",
       "      <th>weekly_lower</th>\n",
       "      <th>weekly_upper</th>\n",
       "      <th>yearly</th>\n",
       "      <th>yearly_lower</th>\n",
       "      <th>yearly_upper</th>\n",
       "      <th>multiplicative_terms</th>\n",
       "      <th>multiplicative_terms_lower</th>\n",
       "      <th>multiplicative_terms_upper</th>\n",
       "      <th>yhat</th>\n",
       "    </tr>\n",
       "  </thead>\n",
       "  <tbody>\n",
       "    <tr>\n",
       "      <th>0</th>\n",
       "      <td>2015-08-02</td>\n",
       "      <td>16.561539</td>\n",
       "      <td>24.975832</td>\n",
       "      <td>31.327417</td>\n",
       "      <td>16.561539</td>\n",
       "      <td>16.561539</td>\n",
       "      <td>11.497560</td>\n",
       "      <td>11.497560</td>\n",
       "      <td>11.497560</td>\n",
       "      <td>-0.108869</td>\n",
       "      <td>-0.108869</td>\n",
       "      <td>-0.108869</td>\n",
       "      <td>11.606428</td>\n",
       "      <td>11.606428</td>\n",
       "      <td>11.606428</td>\n",
       "      <td>0.0</td>\n",
       "      <td>0.0</td>\n",
       "      <td>0.0</td>\n",
       "      <td>28.059099</td>\n",
       "    </tr>\n",
       "    <tr>\n",
       "      <th>1</th>\n",
       "      <td>2015-08-03</td>\n",
       "      <td>16.560982</td>\n",
       "      <td>24.851076</td>\n",
       "      <td>31.263351</td>\n",
       "      <td>16.560982</td>\n",
       "      <td>16.560982</td>\n",
       "      <td>11.620111</td>\n",
       "      <td>11.620111</td>\n",
       "      <td>11.620111</td>\n",
       "      <td>-0.059070</td>\n",
       "      <td>-0.059070</td>\n",
       "      <td>-0.059070</td>\n",
       "      <td>11.679181</td>\n",
       "      <td>11.679181</td>\n",
       "      <td>11.679181</td>\n",
       "      <td>0.0</td>\n",
       "      <td>0.0</td>\n",
       "      <td>0.0</td>\n",
       "      <td>28.181093</td>\n",
       "    </tr>\n",
       "    <tr>\n",
       "      <th>2</th>\n",
       "      <td>2015-08-04</td>\n",
       "      <td>16.560424</td>\n",
       "      <td>25.428946</td>\n",
       "      <td>31.410397</td>\n",
       "      <td>16.560424</td>\n",
       "      <td>16.560424</td>\n",
       "      <td>11.800380</td>\n",
       "      <td>11.800380</td>\n",
       "      <td>11.800380</td>\n",
       "      <td>0.057071</td>\n",
       "      <td>0.057071</td>\n",
       "      <td>0.057071</td>\n",
       "      <td>11.743308</td>\n",
       "      <td>11.743308</td>\n",
       "      <td>11.743308</td>\n",
       "      <td>0.0</td>\n",
       "      <td>0.0</td>\n",
       "      <td>0.0</td>\n",
       "      <td>28.360803</td>\n",
       "    </tr>\n",
       "    <tr>\n",
       "      <th>3</th>\n",
       "      <td>2015-08-05</td>\n",
       "      <td>16.559866</td>\n",
       "      <td>25.376897</td>\n",
       "      <td>31.501595</td>\n",
       "      <td>16.559866</td>\n",
       "      <td>16.559866</td>\n",
       "      <td>11.826961</td>\n",
       "      <td>11.826961</td>\n",
       "      <td>11.826961</td>\n",
       "      <td>0.028758</td>\n",
       "      <td>0.028758</td>\n",
       "      <td>0.028758</td>\n",
       "      <td>11.798203</td>\n",
       "      <td>11.798203</td>\n",
       "      <td>11.798203</td>\n",
       "      <td>0.0</td>\n",
       "      <td>0.0</td>\n",
       "      <td>0.0</td>\n",
       "      <td>28.386827</td>\n",
       "    </tr>\n",
       "    <tr>\n",
       "      <th>4</th>\n",
       "      <td>2015-08-06</td>\n",
       "      <td>16.559309</td>\n",
       "      <td>25.617295</td>\n",
       "      <td>31.665928</td>\n",
       "      <td>16.559309</td>\n",
       "      <td>16.559309</td>\n",
       "      <td>11.862754</td>\n",
       "      <td>11.862754</td>\n",
       "      <td>11.862754</td>\n",
       "      <td>0.019394</td>\n",
       "      <td>0.019394</td>\n",
       "      <td>0.019394</td>\n",
       "      <td>11.843360</td>\n",
       "      <td>11.843360</td>\n",
       "      <td>11.843360</td>\n",
       "      <td>0.0</td>\n",
       "      <td>0.0</td>\n",
       "      <td>0.0</td>\n",
       "      <td>28.422063</td>\n",
       "    </tr>\n",
       "    <tr>\n",
       "      <th>...</th>\n",
       "      <td>...</td>\n",
       "      <td>...</td>\n",
       "      <td>...</td>\n",
       "      <td>...</td>\n",
       "      <td>...</td>\n",
       "      <td>...</td>\n",
       "      <td>...</td>\n",
       "      <td>...</td>\n",
       "      <td>...</td>\n",
       "      <td>...</td>\n",
       "      <td>...</td>\n",
       "      <td>...</td>\n",
       "      <td>...</td>\n",
       "      <td>...</td>\n",
       "      <td>...</td>\n",
       "      <td>...</td>\n",
       "      <td>...</td>\n",
       "      <td>...</td>\n",
       "      <td>...</td>\n",
       "    </tr>\n",
       "    <tr>\n",
       "      <th>513</th>\n",
       "      <td>2016-12-27</td>\n",
       "      <td>16.275466</td>\n",
       "      <td>3.532455</td>\n",
       "      <td>9.784328</td>\n",
       "      <td>16.136451</td>\n",
       "      <td>16.439436</td>\n",
       "      <td>-9.730293</td>\n",
       "      <td>-9.730293</td>\n",
       "      <td>-9.730293</td>\n",
       "      <td>0.057071</td>\n",
       "      <td>0.057071</td>\n",
       "      <td>0.057071</td>\n",
       "      <td>-9.787365</td>\n",
       "      <td>-9.787365</td>\n",
       "      <td>-9.787365</td>\n",
       "      <td>0.0</td>\n",
       "      <td>0.0</td>\n",
       "      <td>0.0</td>\n",
       "      <td>6.545173</td>\n",
       "    </tr>\n",
       "    <tr>\n",
       "      <th>514</th>\n",
       "      <td>2016-12-28</td>\n",
       "      <td>16.274909</td>\n",
       "      <td>3.357342</td>\n",
       "      <td>9.303235</td>\n",
       "      <td>16.135398</td>\n",
       "      <td>16.439195</td>\n",
       "      <td>-9.873599</td>\n",
       "      <td>-9.873599</td>\n",
       "      <td>-9.873599</td>\n",
       "      <td>0.028758</td>\n",
       "      <td>0.028758</td>\n",
       "      <td>0.028758</td>\n",
       "      <td>-9.902357</td>\n",
       "      <td>-9.902357</td>\n",
       "      <td>-9.902357</td>\n",
       "      <td>0.0</td>\n",
       "      <td>0.0</td>\n",
       "      <td>0.0</td>\n",
       "      <td>6.401309</td>\n",
       "    </tr>\n",
       "    <tr>\n",
       "      <th>515</th>\n",
       "      <td>2016-12-29</td>\n",
       "      <td>16.274351</td>\n",
       "      <td>3.345148</td>\n",
       "      <td>9.398358</td>\n",
       "      <td>16.134345</td>\n",
       "      <td>16.438955</td>\n",
       "      <td>-9.992802</td>\n",
       "      <td>-9.992802</td>\n",
       "      <td>-9.992802</td>\n",
       "      <td>0.019394</td>\n",
       "      <td>0.019394</td>\n",
       "      <td>0.019394</td>\n",
       "      <td>-10.012196</td>\n",
       "      <td>-10.012196</td>\n",
       "      <td>-10.012196</td>\n",
       "      <td>0.0</td>\n",
       "      <td>0.0</td>\n",
       "      <td>0.0</td>\n",
       "      <td>6.281549</td>\n",
       "    </tr>\n",
       "    <tr>\n",
       "      <th>516</th>\n",
       "      <td>2016-12-30</td>\n",
       "      <td>16.273793</td>\n",
       "      <td>3.335084</td>\n",
       "      <td>9.204753</td>\n",
       "      <td>16.133292</td>\n",
       "      <td>16.438714</td>\n",
       "      <td>-10.031572</td>\n",
       "      <td>-10.031572</td>\n",
       "      <td>-10.031572</td>\n",
       "      <td>0.084984</td>\n",
       "      <td>0.084984</td>\n",
       "      <td>0.084984</td>\n",
       "      <td>-10.116555</td>\n",
       "      <td>-10.116555</td>\n",
       "      <td>-10.116555</td>\n",
       "      <td>0.0</td>\n",
       "      <td>0.0</td>\n",
       "      <td>0.0</td>\n",
       "      <td>6.242222</td>\n",
       "    </tr>\n",
       "    <tr>\n",
       "      <th>517</th>\n",
       "      <td>2016-12-31</td>\n",
       "      <td>16.273236</td>\n",
       "      <td>3.251400</td>\n",
       "      <td>9.106567</td>\n",
       "      <td>16.132239</td>\n",
       "      <td>16.438473</td>\n",
       "      <td>-10.237394</td>\n",
       "      <td>-10.237394</td>\n",
       "      <td>-10.237394</td>\n",
       "      <td>-0.022268</td>\n",
       "      <td>-0.022268</td>\n",
       "      <td>-0.022268</td>\n",
       "      <td>-10.215126</td>\n",
       "      <td>-10.215126</td>\n",
       "      <td>-10.215126</td>\n",
       "      <td>0.0</td>\n",
       "      <td>0.0</td>\n",
       "      <td>0.0</td>\n",
       "      <td>6.035842</td>\n",
       "    </tr>\n",
       "  </tbody>\n",
       "</table>\n",
       "<p>518 rows × 19 columns</p>\n",
       "</div>"
      ],
      "text/plain": [
       "            ds      trend  yhat_lower  yhat_upper  trend_lower  trend_upper  \\\n",
       "0   2015-08-02  16.561539   24.975832   31.327417    16.561539    16.561539   \n",
       "1   2015-08-03  16.560982   24.851076   31.263351    16.560982    16.560982   \n",
       "2   2015-08-04  16.560424   25.428946   31.410397    16.560424    16.560424   \n",
       "3   2015-08-05  16.559866   25.376897   31.501595    16.559866    16.559866   \n",
       "4   2015-08-06  16.559309   25.617295   31.665928    16.559309    16.559309   \n",
       "..         ...        ...         ...         ...          ...          ...   \n",
       "513 2016-12-27  16.275466    3.532455    9.784328    16.136451    16.439436   \n",
       "514 2016-12-28  16.274909    3.357342    9.303235    16.135398    16.439195   \n",
       "515 2016-12-29  16.274351    3.345148    9.398358    16.134345    16.438955   \n",
       "516 2016-12-30  16.273793    3.335084    9.204753    16.133292    16.438714   \n",
       "517 2016-12-31  16.273236    3.251400    9.106567    16.132239    16.438473   \n",
       "\n",
       "     additive_terms  additive_terms_lower  additive_terms_upper    weekly  \\\n",
       "0         11.497560             11.497560             11.497560 -0.108869   \n",
       "1         11.620111             11.620111             11.620111 -0.059070   \n",
       "2         11.800380             11.800380             11.800380  0.057071   \n",
       "3         11.826961             11.826961             11.826961  0.028758   \n",
       "4         11.862754             11.862754             11.862754  0.019394   \n",
       "..              ...                   ...                   ...       ...   \n",
       "513       -9.730293             -9.730293             -9.730293  0.057071   \n",
       "514       -9.873599             -9.873599             -9.873599  0.028758   \n",
       "515       -9.992802             -9.992802             -9.992802  0.019394   \n",
       "516      -10.031572            -10.031572            -10.031572  0.084984   \n",
       "517      -10.237394            -10.237394            -10.237394 -0.022268   \n",
       "\n",
       "     weekly_lower  weekly_upper     yearly  yearly_lower  yearly_upper  \\\n",
       "0       -0.108869     -0.108869  11.606428     11.606428     11.606428   \n",
       "1       -0.059070     -0.059070  11.679181     11.679181     11.679181   \n",
       "2        0.057071      0.057071  11.743308     11.743308     11.743308   \n",
       "3        0.028758      0.028758  11.798203     11.798203     11.798203   \n",
       "4        0.019394      0.019394  11.843360     11.843360     11.843360   \n",
       "..            ...           ...        ...           ...           ...   \n",
       "513      0.057071      0.057071  -9.787365     -9.787365     -9.787365   \n",
       "514      0.028758      0.028758  -9.902357     -9.902357     -9.902357   \n",
       "515      0.019394      0.019394 -10.012196    -10.012196    -10.012196   \n",
       "516      0.084984      0.084984 -10.116555    -10.116555    -10.116555   \n",
       "517     -0.022268     -0.022268 -10.215126    -10.215126    -10.215126   \n",
       "\n",
       "     multiplicative_terms  multiplicative_terms_lower  \\\n",
       "0                     0.0                         0.0   \n",
       "1                     0.0                         0.0   \n",
       "2                     0.0                         0.0   \n",
       "3                     0.0                         0.0   \n",
       "4                     0.0                         0.0   \n",
       "..                    ...                         ...   \n",
       "513                   0.0                         0.0   \n",
       "514                   0.0                         0.0   \n",
       "515                   0.0                         0.0   \n",
       "516                   0.0                         0.0   \n",
       "517                   0.0                         0.0   \n",
       "\n",
       "     multiplicative_terms_upper       yhat  \n",
       "0                           0.0  28.059099  \n",
       "1                           0.0  28.181093  \n",
       "2                           0.0  28.360803  \n",
       "3                           0.0  28.386827  \n",
       "4                           0.0  28.422063  \n",
       "..                          ...        ...  \n",
       "513                         0.0   6.545173  \n",
       "514                         0.0   6.401309  \n",
       "515                         0.0   6.281549  \n",
       "516                         0.0   6.242222  \n",
       "517                         0.0   6.035842  \n",
       "\n",
       "[518 rows x 19 columns]"
      ]
     },
     "execution_count": 58,
     "metadata": {},
     "output_type": "execute_result"
    }
   ],
   "source": [
    "forecast"
   ]
  },
  {
   "cell_type": "code",
   "execution_count": null,
   "metadata": {},
   "outputs": [],
   "source": []
  },
  {
   "cell_type": "code",
   "execution_count": 60,
   "metadata": {
    "scrolled": false
   },
   "outputs": [
    {
     "data": {
      "image/png": "[encoded data removed]",
      "text/plain": [
       "<Figure size 720x432 with 1 Axes>"
      ]
     },
     "metadata": {
      "image/png": {
       "height": 423,
       "width": 733
      }
     },
     "output_type": "display_data"
    }
   ],
   "source": [
    "model.plot(forecast)\n",
    "from datetime import datetime\n",
    "plt.xlim([datetime(2015, 1, 1), datetime(2015, 12, 1)])\n",
    "plt.show()\n",
    "\n",
    "\n",
    "#위의 walk foward 모델은 쪼금씩 보고 다음날 예측하고, 하루하루 맞추다, persistant, linear\n",
    "#반면 prophet은 한번에 미래 예측을 모두 다 하다. 이게 횔씬 더 어렵다"
   ]
  },
  {
   "cell_type": "code",
   "execution_count": 61,
   "metadata": {},
   "outputs": [
    {
     "data": {
      "text/plain": [
       "(518,)"
      ]
     },
     "execution_count": 61,
     "metadata": {},
     "output_type": "execute_result"
    }
   ],
   "source": [
    "y_pred = forecast['yhat'].values\n",
    "y_pred.shape"
   ]
  },
  {
   "cell_type": "code",
   "execution_count": 62,
   "metadata": {},
   "outputs": [
    {
     "data": {
      "text/plain": [
       "(518,)"
      ]
     },
     "execution_count": 62,
     "metadata": {},
     "output_type": "execute_result"
    }
   ],
   "source": [
    "y_test = test.y.values\n",
    "y_test.shape"
   ]
  },
  {
   "cell_type": "code",
   "execution_count": 63,
   "metadata": {},
   "outputs": [
    {
     "data": {
      "text/plain": [
       "0.8877830476016834"
      ]
     },
     "execution_count": 63,
     "metadata": {},
     "output_type": "execute_result"
    }
   ],
   "source": [
    "r2_score(y_test, y_pred)"
   ]
  },
  {
   "cell_type": "markdown",
   "metadata": {},
   "source": [
    "# 라이브러리 - x"
   ]
  },
  {
   "cell_type": "code",
   "execution_count": null,
   "metadata": {},
   "outputs": [],
   "source": [
    "cut = np.int((len(ys)*0.7))\n",
    "train = ys[:cut]\n",
    "test = ys[cut:]\n",
    "ys.shape, train.shape, test.shape, cut"
   ]
  },
  {
   "cell_type": "code",
   "execution_count": null,
   "metadata": {},
   "outputs": [],
   "source": [
    "def split_seq_2(sequence, n_steps_in, n_steps_out=1):\n",
    "  x, y = [],[]\n",
    "  for i in range(len(sequence)):\n",
    "    end_ix = i + n_steps_in\n",
    "    out_end_ix = end_ix + n_steps_out\n",
    "    if out_end_ix > len(sequence):\n",
    "        break\n",
    "    seq_x, seq_y = sequence[i:end_ix], sequence[out_end_ix-1]\n",
    "    x.append(seq_x)\n",
    "    y.append(seq_y)\n",
    "    \n",
    "    return np.array(x), np.array(y)"
   ]
  },
  {
   "cell_type": "code",
   "execution_count": null,
   "metadata": {},
   "outputs": [],
   "source": [
    "# 실제값과 예측치 비교\n",
    "def plot_y_pred(y_test, y_pred):\n",
    "    plt.figure(figsize=(8, 5))\n",
    "    plt.plot(y_test, c='r')\n",
    "    plt.plot(y_pred, c='b')\n",
    "    plt.show()\n",
    "    print(\"R2=\", r2_score(y_test, y_pred).round(3))\n",
    "    error = abs(y_test - y_pred)\n",
    "    print(\"MAE=\", error.mean().round(3))\n",
    "    print(\"rmse=\", np.sqrt((error**2).mean()).round(3))\n",
    "    print(\"max=\", max(error).round(3))"
   ]
  },
  {
   "cell_type": "code",
   "execution_count": null,
   "metadata": {},
   "outputs": [],
   "source": [
    "def scatter_errors(y_test, y_pred):\n",
    "    error = abs(y_test - y_pred)\n",
    "    plt.scatter(y_test, error, s=2)"
   ]
  },
  {
   "cell_type": "code",
   "execution_count": null,
   "metadata": {},
   "outputs": [],
   "source": [
    "lr = LinearRegression()\n",
    "n_steps_in = 3\n",
    "n_futures = range(10)\n",
    "for n_steps_out in n_futures:\n",
    "  x_train, y_train = split_seq_2(train, n_steps_in, n_steps_out)\n",
    "  x_test, y_test = split_seq_2(test, n_steps_in, n_steps_out)\n",
    "  lr.fit(x_train, y_train) \n",
    "  print(n_steps_out, ',', lr.score(x_test, y_test).round(3))"
   ]
  }
 ],
 "metadata": {
  "colab": {
   "collapsed_sections": [],
   "name": "g_30_날씨예측.ipynb",
   "provenance": []
  },
  "kernelspec": {
   "display_name": "Python 3 (ipykernel)",
   "language": "python",
   "name": "python3"
  },
  "language_info": {
   "codemirror_mode": {
    "name": "ipython",
    "version": 3
   },
   "file_extension": ".py",
   "mimetype": "text/x-python",
   "name": "python",
   "nbconvert_exporter": "python",
   "pygments_lexer": "ipython3",
   "version": "3.8.10"
  },
  "toc": {
   "base_numbering": 1,
   "nav_menu": {},
   "number_sections": true,
   "sideBar": true,
   "skip_h1_title": false,
   "title_cell": "Table of Contents",
   "title_sidebar": "Contents",
   "toc_cell": false,
   "toc_position": {},
   "toc_section_display": true,
   "toc_window_display": false
  }
 },
 "nbformat": 4,
 "nbformat_minor": 1
}
