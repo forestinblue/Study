{
  "cells": [
    {
      "cell_type": "markdown",
      "metadata": {
        "id": "view-in-github",
        "colab_type": "text"
      },
      "source": [
        "<a href=\"https://colab.research.google.com/github/forestinblue/University-Lecture-DataScience/blob/main/Understanding_and_Using_Python/SkeletonCode_Report1.ipynb\" target=\"_parent\"><img src=\"https://colab.research.google.com/assets/colab-badge.svg\" alt=\"Open In Colab\"/></a>"
      ]
    },
    {
      "cell_type": "markdown",
      "metadata": {
        "id": "o4V8swvnH0Lc"
      },
      "source": [
        "# **본 노트북 파일은 '파이썬이해와활용' 과제1에 대한 skeleton code 입니다.**"
      ]
    },
    {
      "cell_type": "markdown",
      "metadata": {
        "id": "6yow6cLXH777"
      },
      "source": [
        "문제1. 시험 점수를 입력 받으면 성적을 출력하는 코드를 완성하시오.  \n",
        "\n",
        "- 시험 점수가 90 이상이면 성적 A  \n",
        "- 시험 점수가 80 이상 90 미만이면 성적 B  \n",
        "- 시험 점수가 70 이상 80 미만이면 성적 C  \n",
        "- 시험 점수가 60 이상 70 미만이면 성적 D  \n",
        "- 시험 점수가 60 미만이면 F  \n",
        "(점수는 함수의 입력으로 주어짐)\n",
        "\n",
        "---\n",
        "\n",
        "\n",
        "함수 호출 예1)  \n",
        "\n",
        "grade = check_score(70)  \n",
        "\n",
        "print(\"성적 : \", grade)  \n",
        "<br/>\n",
        "  \n",
        "출력 결과 예1)  \n",
        "\n",
        "성적 : C  \n",
        "\n",
        "\n",
        "---\n",
        "\n",
        "\n",
        "함수 호출 예2)  \n",
        "\n",
        "grade = check_score(97)  \n",
        "\n",
        "print(\"성적 : \", grade) \n",
        "\n",
        "<br/> \n",
        "  \n",
        "출력 결과 예2)  \n",
        "\n",
        "성적 : A  "
      ]
    },
    {
      "cell_type": "code",
      "execution_count": null,
      "metadata": {
        "id": "aRWSF__HIxQR",
        "outputId": "964dc96b-48a3-477f-a4db-ef87c4f1891e",
        "colab": {
          "base_uri": "https://localhost:8080/"
        }
      },
      "outputs": [
        {
          "output_type": "stream",
          "name": "stdout",
          "text": [
            "성적 :  B\n"
          ]
        }
      ],
      "source": [
        "def check_score(score):\n",
        "    \n",
        "    grade = 'F'\n",
        "    ### Modify code here ###\n",
        "    if score >= 90:\n",
        "        grade = 'A'\n",
        "    elif score >= 80:\n",
        "        grade = 'B'\n",
        "    elif score >= 70:\n",
        "        grade = 'C'\n",
        "    elif score >= 60:\n",
        "        grade = 'D'\n",
        "    else:\n",
        "        grade = 'F'\n",
        "\n",
        "    ### End of your code ###\n",
        "    return grade\n",
        "\n",
        "grade = check_score(85)\n",
        "print(\"성적 : \", grade)"
      ]
    },
    {
      "cell_type": "markdown",
      "metadata": {
        "id": "iaPYHrCNI3pX"
      },
      "source": [
        "문제 2. n과 data를 입력 받으면 \"오늘은 10월 date일 입니다.\"를 n번 출력하는 코드를 완성하시오.\n",
        "\n",
        "이때, data가 0이하 그리고 32 이상이라면 \"data를 다시 입력해주세요.\"를 출력하시오.\n",
        "\n",
        "---\n",
        "\n",
        "함수 호출 예1)\n",
        "\n",
        "today(5, 10)\n",
        "\n",
        "<br/>\n",
        "\n",
        "출력 결과 예1)\n",
        "\n",
        "오늘은 10월 10일 입니다.\n",
        "\n",
        "오늘은 10월 10일 입니다.\n",
        "\n",
        "오늘은 10월 10일 입니다.\n",
        "\n",
        "오늘은 10월 10일 입니다.\n",
        "\n",
        "오늘은 10월 10일 입니다.\n",
        "\n",
        "---\n",
        "함수 호출 예2)\n",
        "\n",
        "today(3, 2)\n",
        "\n",
        "<br/>\n",
        "\n",
        "출력 결과 예2)\n",
        "\n",
        "오늘은 10월 2일 입니다.\n",
        "\n",
        "오늘은 10월 2일 입니다.\n",
        "\n",
        "오늘은 10월 2일 입니다.\n",
        "\n",
        "---\n",
        "함수 호출 예3)\n",
        "\n",
        "today(4, -5)\n",
        "\n",
        "<br/>\n",
        "\n",
        "출력 결과 예3)\n",
        "\n",
        "data를 다시 입력해주세요."
      ]
    },
    {
      "cell_type": "code",
      "execution_count": null,
      "metadata": {
        "id": "Nc0SQcWWLTCz",
        "outputId": "275609f0-3eb8-404c-8612-220516d4992d",
        "colab": {
          "base_uri": "https://localhost:8080/"
        }
      },
      "outputs": [
        {
          "output_type": "stream",
          "name": "stdout",
          "text": [
            "오늘은 10월 10일입니다\n",
            "오늘은 10월 10일입니다\n",
            "오늘은 10월 10일입니다\n",
            "오늘은 10월 10일입니다\n",
            "오늘은 10월 10일입니다\n"
          ]
        }
      ],
      "source": [
        "def today(n, date):\n",
        "    #### Modify code here ####\n",
        "    if date >= 1 and date <= 31:\n",
        "        for i in range (n):\n",
        "            print(\"오늘은 10월 {}일입니다\".format(date))\n",
        "    else:\n",
        "        print(\"data를 다시 입력해주세요\")\n",
        "        \n",
        "    \n",
        "\n",
        "    \n",
        "    #### End of the code ####\n",
        "\n",
        "today(5, 10)"
      ]
    },
    {
      "cell_type": "markdown",
      "metadata": {
        "id": "79ZEXY9dLZCC"
      },
      "source": [
        "문제 3. 두 정수, a와 b를 입력 받으면 a와 b의 합, 차, 평균을 구하시오.\n",
        "\n",
        "(참고 1: 차는 큰 수에서 작은 수를 빼도록 구현하시오.)\n",
        "\n",
        "(참고 2: 소수점 발생 시, 소수점 첫째 자리에서 반올림 하십시오.)\n",
        "\n",
        "---\n",
        "\n",
        "함수 호출 예1)\n",
        "\n",
        "print( \"sum = \", sum(41,8),  \" sub = \",  sub(53,15) ,  \" average = \", average(53,432) )\n",
        "\n",
        "<br/>\n",
        "\n",
        "출력 결과 예1)\n",
        "\n",
        "sum =  49 sub =  38 average =  243\n",
        "\n",
        "---\n",
        "\n",
        "함수 호출 예2)\n",
        "\n",
        "print( \"sum = \", sum(14,8),  \" sub = \",  sub(23,15) ,  \" average = \", average(53,43) )\n",
        "\n",
        "<br/>\n",
        "\n",
        "출력 결과 예2)\n",
        "\n",
        "sum =  22 sub =  8 average =  48\n"
      ]
    },
    {
      "cell_type": "code",
      "execution_count": null,
      "metadata": {
        "id": "Jg9b97nXNNCr",
        "outputId": "789bed97-2e60-4f98-f87b-c0135720d9e8",
        "colab": {
          "base_uri": "https://localhost:8080/"
        }
      },
      "outputs": [
        {
          "output_type": "stream",
          "name": "stdout",
          "text": [
            "sum =  49  sub =  38  average =  242\n"
          ]
        }
      ],
      "source": [
        "def sum(a,b):\n",
        "    sum = a + b\n",
        "    #### Modify code here ####\n",
        "    sum = round(sum)\n",
        "    \n",
        "\n",
        "    \n",
        "    #### End of the code ####\n",
        "    return sum\n",
        "\n",
        "def sub(a,b):\n",
        "    sub = abs(a-b)\n",
        "    sub = round(sub)\n",
        "    #### Modify code here ####\n",
        "    \n",
        "\n",
        "    \n",
        "    #### End of the code ####\n",
        "    return sub\n",
        "\n",
        "def average(a,b):\n",
        "    average = round((a+b)/2)\n",
        "    #### Modify code here ####\n",
        "    \n",
        "\n",
        "    \n",
        "    #### End of the code ####\n",
        "    return average\n",
        "\n",
        "print( \"sum = \", sum(41,8),  \" sub = \",  sub(53,15) ,  \" average = \", average(53,432) )"
      ]
    },
    {
      "cell_type": "code",
      "source": [],
      "metadata": {
        "id": "UpAsf86f0XFl"
      },
      "execution_count": null,
      "outputs": []
    },
    {
      "cell_type": "markdown",
      "metadata": {
        "id": "rVmSaxzXNuXh"
      },
      "source": [
        "문제 4. 크기가 1 이상인 정수 n을 입력 받은 수 n의 크기만큼 \"*\"을 출력하고\n",
        "\n",
        "n이 5 이하이면 \"Under or Equal 5\"\n",
        "\n",
        "n이 5 초과이면서 10 이하이면 \"5 and 10\"\n",
        "\n",
        "n이 10 초과이면 \"Over 10\"을 출력하시오.\n",
        "\n",
        "(참고: \"*\" 출력 후 줄바꿈이 들어가야합니다.)\n",
        "\n",
        "---\n",
        "\n",
        "함수 호출 예1)\n",
        "\n",
        "fiveTen(3)\n",
        "\n",
        "<br/>\n",
        "\n",
        "출력 결과 예1)\n",
        "\n",
        "\n",
        "*\n",
        "\n",
        "*\n",
        "\n",
        "*\n",
        "\n",
        "Under or Equal 5\n",
        "\n",
        "---\n",
        "\n",
        "함수 호출 예2)\n",
        "\n",
        "fiveTen(7)\n",
        "\n",
        "<br/>\n",
        "\n",
        "출력 결과 예2)\n",
        "\n",
        "\n",
        "*\n",
        "\n",
        "*\n",
        "\n",
        "*\n",
        "\n",
        "*\n",
        "\n",
        "*\n",
        "\n",
        "*\n",
        "\n",
        "*\n",
        "\n",
        "5 and 10\n",
        "\n",
        "---\n",
        "\n",
        "함수 호출 예3)\n",
        "\n",
        "fiveTen(11)\n",
        "\n",
        "<br/>\n",
        "\n",
        "출력 결과 예3)\n",
        "\n",
        "\n",
        "*\n",
        "\n",
        "*\n",
        "\n",
        "*\n",
        "\n",
        "*\n",
        "\n",
        "*\n",
        "\n",
        "*\n",
        "\n",
        "*\n",
        "\n",
        "*\n",
        "\n",
        "*\n",
        "\n",
        "*\n",
        "\n",
        "*\n",
        "\n",
        "Over 10"
      ]
    },
    {
      "cell_type": "code",
      "execution_count": null,
      "metadata": {
        "id": "OXn3KsVeQBne",
        "outputId": "de6133f3-7d6e-40b4-93b9-dd441d92dd55",
        "colab": {
          "base_uri": "https://localhost:8080/"
        }
      },
      "outputs": [
        {
          "output_type": "stream",
          "name": "stdout",
          "text": [
            "*\n",
            "\n",
            "*\n",
            "\n",
            "*\n",
            "\n",
            "*\n",
            "\n",
            "*\n",
            "\n",
            "*\n",
            "\n",
            "*\n",
            "\n",
            "*\n",
            "\n",
            "*\n",
            "\n",
            "*\n",
            "\n",
            "5 and 10\n"
          ]
        }
      ],
      "source": [
        "def fiveTen(n):\n",
        "    #### Modify code here ####\n",
        "    if n >= 1:\n",
        "        for i in range(n):\n",
        "            print('*\\n')\n",
        "    if n <= 5:\n",
        "        print(\"Under or Equal 5\")\n",
        "    elif n <= 10:\n",
        "        print(\"5 and 10\")\n",
        "    else:\n",
        "        print(\"Over 10\")\n",
        "\n",
        "    \n",
        "\n",
        "    \n",
        "    #### End of the code ####\n",
        "            \n",
        "fiveTen(10)"
      ]
    },
    {
      "cell_type": "markdown",
      "metadata": {
        "id": "cQ1GcYfZSIVZ"
      },
      "source": [
        "문제 5. 가변인자 *를 사용하여 최소 3가지 이상의 과일을 입력받아, 입력 받은 과일을 출력하시오.\n",
        "\n",
        "만약 입력받은 과일 중 \"apple\"이 있다면 \"apple\" 출력 후 \"RED\"를 출력하시오.\n",
        "\n",
        "---\n",
        "\n",
        "함수 호출 예1)\n",
        "\n",
        "fruit(\"banna\", \"apple\", \"watermelon\")\n",
        "\n",
        "<br/>\n",
        "\n",
        "출력 결과 예1)\n",
        "\n",
        "banna\n",
        "\n",
        "apple\n",
        "\n",
        "RED\n",
        "\n",
        "watermelon\n",
        "\n",
        "---\n",
        "\n",
        "함수 호출 예2)\n",
        "\n",
        "fruit(\"grapes\", \"pear\", \"mango\")\n",
        "\n",
        "<br/>\n",
        "\n",
        "출력 결과 예2)\n",
        "\n",
        "grapes\n",
        "\n",
        "pear\n",
        "\n",
        "mango"
      ]
    },
    {
      "cell_type": "code",
      "execution_count": null,
      "metadata": {
        "id": "ROZybu3lWBu4",
        "outputId": "a37d83de-8f41-44c8-b316-f89e614a332a",
        "colab": {
          "base_uri": "https://localhost:8080/"
        }
      },
      "outputs": [
        {
          "output_type": "stream",
          "name": "stdout",
          "text": [
            "banna\n",
            "apple\n",
            "RED\n",
            "watermelon\n"
          ]
        }
      ],
      "source": [
        "def fruit(*name):\n",
        "    #### Modify code here ####\n",
        "    for i in name :\n",
        "        print(i)\n",
        "        if i == \"apple\" :\n",
        "            print(\"RED\")\n",
        "\n",
        "    \n",
        "\n",
        "    \n",
        "    #### End of the code ####\n",
        "            \n",
        "fruit(\"banna\", \"apple\", \"watermelon\")"
      ]
    },
    {
      "cell_type": "code",
      "source": [],
      "metadata": {
        "id": "rLE4MC_b0Bzw"
      },
      "execution_count": null,
      "outputs": []
    }
  ],
  "metadata": {
    "colab": {
      "collapsed_sections": [],
      "provenance": [],
      "include_colab_link": true
    },
    "kernelspec": {
      "display_name": "Python 3.8.10 ('base')",
      "language": "python",
      "name": "python3"
    },
    "language_info": {
      "codemirror_mode": {
        "name": "ipython",
        "version": 3
      },
      "file_extension": ".py",
      "mimetype": "text/x-python",
      "name": "python",
      "nbconvert_exporter": "python",
      "pygments_lexer": "ipython3",
      "version": "3.8.10"
    },
    "vscode": {
      "interpreter": {
        "hash": "bb2adebce98d250b7fd63dcf2f268b10494db73c006860a7fd3a98b5b304c48d"
      }
    }
  },
  "nbformat": 4,
  "nbformat_minor": 0
}