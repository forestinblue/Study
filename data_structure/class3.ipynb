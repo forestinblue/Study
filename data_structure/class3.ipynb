{
 "cells": [
  {
   "cell_type": "code",
   "execution_count": 4,
   "id": "b0db15d8",
   "metadata": {},
   "outputs": [
    {
     "name": "stdout",
     "output_type": "stream",
     "text": [
      "파이썬 리스트 A의 크기는  5\n"
     ]
    }
   ],
   "source": [
    "A= [1,2,3,4,5] #리스트 선언\n",
    "\n",
    "print(\"파이썬 리스트 A의 크기는 \", len(A))# A의 크기(항목 수) 출력\n",
    "\n",
    "\n"
   ]
  },
  {
   "cell_type": "code",
   "execution_count": 5,
   "id": "149e3f91",
   "metadata": {},
   "outputs": [
    {
     "data": {
      "text/plain": [
       "[0, 1, 2, 3, 4, 5, 6, 7]"
      ]
     },
     "execution_count": 5,
     "metadata": {},
     "output_type": "execute_result"
    }
   ],
   "source": [
    "A.append(6) #항목 추가: 용량을 늘릴 수 있다.\n",
    "A.append(7)\n",
    "A.insert(0,0)  \n",
    "A"
   ]
  },
  {
   "cell_type": "markdown",
   "id": "6f629de2",
   "metadata": {},
   "source": [
    "### 테스트 프로그램(함수 버전)"
   ]
  },
  {
   "cell_type": "code",
   "execution_count": 18,
   "id": "2458d557",
   "metadata": {},
   "outputs": [],
   "source": [
    "items = [] #리스트 항목 저장을 위한 파이썬 리스트\n",
    "def insert(pos,elem):  #pos 위치에 새로운 요소 item을 삽입한다.\n",
    "    items.insert(pos, elem)   #파이썬 리스트 클래스의 insert 연산\n",
    "def delete(pos):  #pos 위치에 있는 요소를 꺼내고 반환한다.\n",
    "    return items.pop(pos)   #파이썬 리스트 클래스의  pop 연산\n",
    "def getEntry(pos): \n",
    "    return items[pos]  #pos번째 항목 반환\n",
    "def isEmpty(): \n",
    "    return len(items) ==0  #크기가 0이면 True 아니면 False\n",
    "def size(): \n",
    "    return len(items)  #리스트의 크기 반환\n",
    "def clear():\n",
    "    items = []  # items를 초기화 --> 오류\n",
    "def find(item):\n",
    "    return items.index(item)  #탐색 후 인덱스 반환\n",
    "def replace(pos, elem): \n",
    "    items[pos] = elem  #pos번째 항목 변경\n",
    "def sort():\n",
    "    items.sort()  #정렬(sort 메소드 이용)\n",
    "def merge(lst):\n",
    "    items.extend(lst)  #병합(확장)\n",
    "def display(msg='ArrayList:'):\n",
    "    print(msg, size(), items)  #메시지+크기+배열내용 출력\n",
    "    "
   ]
  },
  {
   "cell_type": "code",
   "execution_count": 19,
   "id": "42849586",
   "metadata": {},
   "outputs": [
    {
     "name": "stdout",
     "output_type": "stream",
     "text": [
      "파이썬 리스트로 구현한 리스트 테스트 0 []\n",
      "파이썬 리스트로 구현한 List(삽입x5): 5 [20, 30, 50, 10, 40]\n",
      "파이썬 리스트로 구현한 Lsit(정렬 후): 5 [10, 20, 30, 40, 50]\n",
      "파이썬 리스트로 구현한 List(교체x1): 5 [10, 20, 90, 40, 50]\n",
      "파이썬 리스트로 구현한 List(삭제x3):  2 [20, 40]\n",
      "파이썬 리스트로 구현한 List(병합): 5 [20, 40, 1, 2, 3]\n",
      "파이썬 리스트로 구현한 List(정리 후):  5 [20, 40, 1, 2, 3]\n"
     ]
    }
   ],
   "source": [
    "display('파이썬 리스트로 구현한 리스트 테스트')\n",
    "insert(0,10); insert(0, 20); insert(1,30)\n",
    "insert(size(), 40); insert(2, 50)  #한줄에 여러 문장\n",
    "display('파이썬 리스트로 구현한 List(삽입x5):')\n",
    "sort()\n",
    "display('파이썬 리스트로 구현한 Lsit(정렬 후):')\n",
    "replace(2, 90)\n",
    "display(\"파이썬 리스트로 구현한 List(교체x1):\")\n",
    "delete(2); delete(size() - 1); delete(0)\n",
    "display(\"파이썬 리스트로 구현한 List(삭제x3): \")\n",
    "lst = [1,2,3]\n",
    "merge(lst)\n",
    "display(\"파이썬 리스트로 구현한 List(병합):\")\n",
    "clear()\n",
    "display(\"파이썬 리스트로 구현한 List(정리 후): \")"
   ]
  },
  {
   "cell_type": "markdown",
   "id": "4d4f465d",
   "metadata": {},
   "source": [
    "### 배열로 구현한 리스트(클래스 버전)"
   ]
  },
  {
   "cell_type": "code",
   "execution_count": 21,
   "id": "5ef7867a",
   "metadata": {},
   "outputs": [],
   "source": [
    "class ArrayList:\n",
    "    def __init__(self):\n",
    "        self.items = []\n",
    "    def insert(self, pos, elem):\n",
    "        self.items.insert(pos,elem)\n",
    "    def delete(self, pos):\n",
    "        return self.items.pop(pos)\n",
    "    def isEmpty(self):\n",
    "        return self.size() == 0\n",
    "    def getEntry(self, pos):\n",
    "        return self.items[pos]\n",
    "    def size(self):\n",
    "        return len(self.items)\n",
    "    def clear(self):\n",
    "        self.items = []\n",
    "    def find(self, item):\n",
    "        return self.items.index(item)\n",
    "    def replace(self, pos, elem):\n",
    "        self.items[pos] = elem\n",
    "    def sort(self):\n",
    "        self.items.sort()\n",
    "    def merge(self, lst):\n",
    "        self.items.extend(lst)\n",
    "    def display(self, msg='ArrayList'):\n",
    "        print(msg, '항목수=',self.size(), self.items)"
   ]
  },
  {
   "cell_type": "code",
   "execution_count": 22,
   "id": "b6555ad9",
   "metadata": {},
   "outputs": [
    {
     "name": "stdout",
     "output_type": "stream",
     "text": [
      "파이썬 리스트로 구현한 리스트 테스트 항목수= 0 []\n",
      "파이썬 리스트로 구현한 List(삽입x5): 항목수= 5 [20, 30, 50, 10, 40]\n",
      "파이썬 리스트로 구현한 Lsit(정렬 후): 항목수= 5 [10, 20, 30, 40, 50]\n",
      "파이썬 리스트로 구현한 List(교체x1): 항목수= 5 [10, 20, 90, 40, 50]\n",
      "파이썬 리스트로 구현한 List(삭제x3):  항목수= 2 [20, 40]\n",
      "파이썬 리스트로 구현한 List(병합): 항목수= 5 [20, 40, 1, 2, 3]\n",
      "파이썬 리스트로 구현한 List(정리 후):  항목수= 0 []\n"
     ]
    }
   ],
   "source": [
    "s = ArrayList()\n",
    "s.display('파이썬 리스트로 구현한 리스트 테스트')\n",
    "s.insert(0,10); s.insert(0, 20); s.insert(1,30)\n",
    "s.insert(size(), 40); s.insert(2, 50)  #한줄에 여러 문장\n",
    "s.display('파이썬 리스트로 구현한 List(삽입x5):')\n",
    "s.sort()\n",
    "s.display('파이썬 리스트로 구현한 List(정렬 후):')\n",
    "s.replace(2, 90)\n",
    "s.display(\"파이썬 리스트로 구현한 List(교체x1):\")\n",
    "s.delete(2); s.delete(s.size() - 1); s.delete(0)\n",
    "s.display(\"파이썬 리스트로 구현한 List(삭제x3): \")\n",
    "lst = [1,2,3]\n",
    "s.merge(lst)\n",
    "s.display(\"파이썬 리스트로 구현한 List(병합):\")\n",
    "s.clear()\n",
    "s.display(\"파이썬 리스트로 구현한 List(정리 후): \")"
   ]
  },
  {
   "cell_type": "markdown",
   "id": "b9ab2eaa",
   "metadata": {},
   "source": [
    "### LineEditor"
   ]
  },
  {
   "cell_type": "code",
   "execution_count": null,
   "id": "41402cdf",
   "metadata": {},
   "outputs": [],
   "source": [
    "def myLineEditor():  #라인 편집기 주 함수\n",
    "    list = ArrayList()  #리스트 객체 생성\n",
    "    while True :\n",
    "        command = input(\"[메뉴선택]  i-입력, d-삭제, r-변경, p-출력, ㅣ-파일읽기, s-저장, q-종료=> \")\n",
    "        if  command == 'i':   #삽입 연산\n",
    "            pos = int(input(\" 입력행 번호: \")) #삽입할 행 번호 입력\n",
    "            str = input(\" 입력행 내용\")  #삽입할 행 내용 입력\n",
    "            list.insert(pos,str)  #insert 메소드로 삽입\n",
    "        elif command == 'd':\n",
    "            pos = int(input(\" 삭제행 번호: \"))  #삭제할 행 번호 입력\n",
    "            list.delete(pos)    #delete 메소드로 삭제\n",
    "        elif command == 'r':\n",
    "            pos = int(input(\" 변경행 번호: \"))  #변경할 행 번호 입력\n",
    "            str = input(\" 변경행 내용: \")  #변경할 행 내용 입력\n",
    "            list.replace(pos, str)   #replace로 변경\n",
    "        elif command =='q' :  #프로그램 종료"
   ]
  },
  {
   "cell_type": "markdown",
   "id": "2b35348f",
   "metadata": {},
   "source": [
    "## 집합의 구현\n",
    "\n",
    "### 리스트를 이용한 구현"
   ]
  },
  {
   "cell_type": "code",
   "execution_count": 29,
   "id": "dd85a55d",
   "metadata": {},
   "outputs": [],
   "source": [
    "class Set:  #집합 클래스\n",
    "    def __init__(self):  #생성자\n",
    "        self.items = []  #원소를 저장\n",
    "    def size(self):     #집합의 크기\n",
    "        return len(self.items)  #len()함수 사용\n",
    "    def display(self, msg):  #화면에 출력\n",
    "        print(msg, self.items)  #메시지 + 집합 내용 출력\n",
    "    def contains(self, item):\n",
    "        return item in self.items\n",
    "    def contains(self, item):\n",
    "        for i in range(len(self.items)):\n",
    "            if self.items[i] == item:\n",
    "                return True\n",
    "        return False\n",
    "    def insert(self, elem):\n",
    "        if elem not in self.items:\n",
    "            self.items.append(elem)\n",
    "    def delete(self, elem):\n",
    "        if elem in self.items:\n",
    "            self.items.remove(elem)\n",
    "    def union(self, setB):  #집합을 합친다\n",
    "        setC = Set()\n",
    "        setC.items = list(self.items)\n",
    "        for elem in setB.items:\n",
    "            if elem not in self.items:\n",
    "                setC.items.append(elem)\n",
    "        return setC\n",
    "    def intersect(self, setB):\n",
    "        setC = Set()\n",
    "        for elem in setB.items:\n",
    "            if elem in self.items:\n",
    "                setC.items.append(elem)\n",
    "        return setC\n",
    "    def difference(self, setB):\n",
    "        setC = Set()\n",
    "        for elem in self.items:\n",
    "            if elem not in setB.items:\n",
    "                setC.items.append(elem)\n",
    "        return setC"
   ]
  },
  {
   "cell_type": "code",
   "execution_count": 30,
   "id": "3b98e2f7",
   "metadata": {},
   "outputs": [
    {
     "name": "stdout",
     "output_type": "stream",
     "text": [
      "Set A: ['휴대폰', '지갑', '손수건']\n",
      "Set B: ['빗', '파이썬 자료구조', '야구공', '지갑']\n",
      "Set A: ['휴대폰', '지갑']\n",
      "Set B: ['빗', '파이썬 자료구조', '야구공', '지갑']\n",
      "A U B: ['휴대폰', '지갑', '빗', '파이썬 자료구조', '야구공']\n",
      "A ^ B: ['지갑']\n",
      "A - B: ['휴대폰']\n"
     ]
    }
   ],
   "source": [
    "setA= Set()\n",
    "setA.insert('휴대폰')\n",
    "setA.insert('지갑')\n",
    "setA.insert('손수건')\n",
    "setA.display('Set A:')\n",
    "\n",
    "setB = Set()\n",
    "setB.insert('빗')\n",
    "setB.insert('파이썬 자료구조')\n",
    "setB.insert('야구공')\n",
    "setB.insert('지갑')\n",
    "setB.display('Set B:')\n",
    "\n",
    "setB.insert('빗')\n",
    "setA.delete('손수건')\n",
    "setA.delete('발수건')\n",
    "setA.display('Set A:')\n",
    "setB.display('Set B:')\n",
    "\n",
    "setA.union(setB).display('A U B:')\n",
    "setA.intersect(setB).display('A ^ B:')\n",
    "setA.difference(setB).display('A - B:')"
   ]
  },
  {
   "cell_type": "markdown",
   "id": "da30402d",
   "metadata": {},
   "source": [
    "# 실습 문제 1"
   ]
  },
  {
   "cell_type": "code",
   "execution_count": 125,
   "id": "9c68c09c",
   "metadata": {},
   "outputs": [],
   "source": [
    "class ArrayList:\n",
    "    def __init__(self):\n",
    "        self.items = []\n",
    "    def add(self,elem):\n",
    "        return self.items.append(elem)\n",
    "    def remove(self, elem):\n",
    "        if elem in self.items:\n",
    "            print(\"removed\")\n",
    "            self.items.remove(elem)\n",
    "        else:\n",
    "            print(\"No such element\")\n",
    "    def search(self, elem):\n",
    "        if elem in self.items:\n",
    "            \n",
    "            print(\"found\")\n",
    "        else:\n",
    "            \n",
    "            print(\"No such element\")\n",
    "        \n",
    "    def insert(self, pos, elem):\n",
    "        self.items.insert(pos,elem)\n",
    "    def delete(self, pos):\n",
    "        return self.items.pop(pos)\n",
    "    def isEmpty(self):\n",
    "        print(len(self.items) == 0)\n",
    "    def getEntry(self, pos):\n",
    "        print(self.items[pos])\n",
    "    def size(self):\n",
    "        return len(self.items)\n",
    "    def clear(self):\n",
    "        self.items = []\n",
    "    def find(self, item):\n",
    "        return self.items.index(item)\n",
    "    def replace(self, pos, elem):\n",
    "        self.items[pos] = elem\n",
    "\n",
    "    def sort(self):\n",
    "        print(sorted(s.items))\n",
    "    def merge(self, lst):\n",
    "        self.items.extend(lst)\n",
    "    def Print(self, msg='ArrayList'):\n",
    "        return print(msg,len(self.items), self.items)"
   ]
  },
  {
   "cell_type": "code",
   "execution_count": 126,
   "id": "887a173e",
   "metadata": {
    "scrolled": false
   },
   "outputs": [
    {
     "name": "stdout",
     "output_type": "stream",
     "text": [
      "Enteer a command: i(nsert), d(elete), e(mpty), g(etEntry), c(lear), a(dd), dup, remove, search,f(ind), r(eplace), s(ort), m(erge),p(rint):a\n",
      "20\n",
      "Enteer a command: i(nsert), d(elete), e(mpty), g(etEntry), c(lear), a(dd), dup, remove, search,f(ind), r(eplace), s(ort), m(erge),p(rint):A\n",
      "Enteer a command: i(nsert), d(elete), e(mpty), g(etEntry), c(lear), a(dd), dup, remove, search,f(ind), r(eplace), s(ort), m(erge),p(rint):a\n",
      "40\n",
      "Enteer a command: i(nsert), d(elete), e(mpty), g(etEntry), c(lear), a(dd), dup, remove, search,f(ind), r(eplace), s(ort), m(erge),p(rint):a\n",
      "60\n",
      "Enteer a command: i(nsert), d(elete), e(mpty), g(etEntry), c(lear), a(dd), dup, remove, search,f(ind), r(eplace), s(ort), m(erge),p(rint):s\n",
      "['20', '40', '60']\n",
      "Enteer a command: i(nsert), d(elete), e(mpty), g(etEntry), c(lear), a(dd), dup, remove, search,f(ind), r(eplace), s(ort), m(erge),p(rint):p\n",
      "s 3 ['20', '40', '60']\n",
      "Enteer a command: i(nsert), d(elete), e(mpty), g(etEntry), c(lear), a(dd), dup, remove, search,f(ind), r(eplace), s(ort), m(erge),p(rint):m\n"
     ]
    },
    {
     "ename": "KeyboardInterrupt",
     "evalue": "Interrupted by user",
     "output_type": "error",
     "traceback": [
      "\u001b[1;31m---------------------------------------------------------------------------\u001b[0m",
      "\u001b[1;31mKeyboardInterrupt\u001b[0m                         Traceback (most recent call last)",
      "\u001b[1;32m<ipython-input-126-e13e3be338d1>\u001b[0m in \u001b[0;36m<module>\u001b[1;34m\u001b[0m\n\u001b[0;32m      3\u001b[0m \u001b[1;33m\u001b[0m\u001b[0m\n\u001b[0;32m      4\u001b[0m \u001b[1;32mwhile\u001b[0m \u001b[1;32mTrue\u001b[0m\u001b[1;33m:\u001b[0m\u001b[1;33m\u001b[0m\u001b[1;33m\u001b[0m\u001b[0m\n\u001b[1;32m----> 5\u001b[1;33m     \u001b[0mcommand\u001b[0m \u001b[1;33m=\u001b[0m \u001b[0minput\u001b[0m\u001b[1;33m(\u001b[0m\u001b[1;34m\"Enteer a command: i(nsert), d(elete), e(mpty), g(etEntry), c(lear), a(dd), dup, remove, search,f(ind), r(eplace), s(ort), m(erge),p(rint):\"\u001b[0m\u001b[1;33m)\u001b[0m\u001b[1;33m\u001b[0m\u001b[1;33m\u001b[0m\u001b[0m\n\u001b[0m\u001b[0;32m      6\u001b[0m     \u001b[1;32mif\u001b[0m  \u001b[0mcommand\u001b[0m \u001b[1;33m==\u001b[0m \u001b[1;34m'a'\u001b[0m\u001b[1;33m:\u001b[0m   \u001b[1;31m#삽입 연\u001b[0m\u001b[1;33m\u001b[0m\u001b[1;33m\u001b[0m\u001b[0m\n\u001b[0;32m      7\u001b[0m         \u001b[0mnumber\u001b[0m\u001b[1;33m=\u001b[0m \u001b[0mstr\u001b[0m\u001b[1;33m(\u001b[0m\u001b[0minput\u001b[0m\u001b[1;33m(\u001b[0m\u001b[1;33m)\u001b[0m\u001b[1;33m)\u001b[0m\u001b[1;33m\u001b[0m\u001b[1;33m\u001b[0m\u001b[0m\n",
      "\u001b[1;32m~\\anaconda3\\lib\\site-packages\\ipykernel\\kernelbase.py\u001b[0m in \u001b[0;36mraw_input\u001b[1;34m(self, prompt)\u001b[0m\n\u001b[0;32m    858\u001b[0m                 \u001b[1;34m\"raw_input was called, but this frontend does not support input requests.\"\u001b[0m\u001b[1;33m\u001b[0m\u001b[1;33m\u001b[0m\u001b[0m\n\u001b[0;32m    859\u001b[0m             )\n\u001b[1;32m--> 860\u001b[1;33m         return self._input_request(str(prompt),\n\u001b[0m\u001b[0;32m    861\u001b[0m             \u001b[0mself\u001b[0m\u001b[1;33m.\u001b[0m\u001b[0m_parent_ident\u001b[0m\u001b[1;33m,\u001b[0m\u001b[1;33m\u001b[0m\u001b[1;33m\u001b[0m\u001b[0m\n\u001b[0;32m    862\u001b[0m             \u001b[0mself\u001b[0m\u001b[1;33m.\u001b[0m\u001b[0m_parent_header\u001b[0m\u001b[1;33m,\u001b[0m\u001b[1;33m\u001b[0m\u001b[1;33m\u001b[0m\u001b[0m\n",
      "\u001b[1;32m~\\anaconda3\\lib\\site-packages\\ipykernel\\kernelbase.py\u001b[0m in \u001b[0;36m_input_request\u001b[1;34m(self, prompt, ident, parent, password)\u001b[0m\n\u001b[0;32m    902\u001b[0m             \u001b[1;32mexcept\u001b[0m \u001b[0mKeyboardInterrupt\u001b[0m\u001b[1;33m:\u001b[0m\u001b[1;33m\u001b[0m\u001b[1;33m\u001b[0m\u001b[0m\n\u001b[0;32m    903\u001b[0m                 \u001b[1;31m# re-raise KeyboardInterrupt, to truncate traceback\u001b[0m\u001b[1;33m\u001b[0m\u001b[1;33m\u001b[0m\u001b[1;33m\u001b[0m\u001b[0m\n\u001b[1;32m--> 904\u001b[1;33m                 \u001b[1;32mraise\u001b[0m \u001b[0mKeyboardInterrupt\u001b[0m\u001b[1;33m(\u001b[0m\u001b[1;34m\"Interrupted by user\"\u001b[0m\u001b[1;33m)\u001b[0m \u001b[1;32mfrom\u001b[0m \u001b[1;32mNone\u001b[0m\u001b[1;33m\u001b[0m\u001b[1;33m\u001b[0m\u001b[0m\n\u001b[0m\u001b[0;32m    905\u001b[0m             \u001b[1;32mexcept\u001b[0m \u001b[0mException\u001b[0m \u001b[1;32mas\u001b[0m \u001b[0me\u001b[0m\u001b[1;33m:\u001b[0m\u001b[1;33m\u001b[0m\u001b[1;33m\u001b[0m\u001b[0m\n\u001b[0;32m    906\u001b[0m                 \u001b[0mself\u001b[0m\u001b[1;33m.\u001b[0m\u001b[0mlog\u001b[0m\u001b[1;33m.\u001b[0m\u001b[0mwarning\u001b[0m\u001b[1;33m(\u001b[0m\u001b[1;34m\"Invalid Message:\"\u001b[0m\u001b[1;33m,\u001b[0m \u001b[0mexc_info\u001b[0m\u001b[1;33m=\u001b[0m\u001b[1;32mTrue\u001b[0m\u001b[1;33m)\u001b[0m\u001b[1;33m\u001b[0m\u001b[1;33m\u001b[0m\u001b[0m\n",
      "\u001b[1;31mKeyboardInterrupt\u001b[0m: Interrupted by user"
     ]
    }
   ],
   "source": [
    "s = ArrayList()\n",
    "\n",
    "\n",
    "while True:\n",
    "    command = input(\"Enteer a command: i(nsert), d(elete), e(mpty), g(etEntry), c(lear), a(dd), dup, remove, search,f(ind), r(eplace), s(ort), m(erge),p(rint):\")\n",
    "    if  command == 'a':   #삽입 연\n",
    "        number= str(input())\n",
    "        s.add(number)\n",
    "    elif command == 'p':\n",
    "        \n",
    "         s.Print(msg='s')\n",
    "    elif command == 'i':\n",
    "        location_number= str(input())\n",
    "        number= str(input())\n",
    "        s.insert(location_number,number)\n",
    "            \n",
    "    elif command =='e' :\n",
    "        s.isEmpty()\n",
    "    elif command =='g' :\n",
    "        number= int(input())\n",
    "        s.getEntry(number)\n",
    "    elif command =='remove' :\n",
    "        number= str(input())\n",
    "        s.remove(number)\n",
    "    elif command =='search' :\n",
    "        number= str(input())\n",
    "        s.search(number)\n",
    "        \n",
    "    elif command =='r' :\n",
    "        location_number= int(input())\n",
    "        number= int(input())\n",
    "        s.replace(location_number, number)\n",
    "    elif command =='dup' :\n",
    "        print(list(set(s)))\n",
    "        \n",
    "    elif command =='s':\n",
    "        s.sort()\n",
    "    elif command =='m':\n",
    "        \n",
    "        \n",
    "    elif command =='q':\n",
    "        break\n",
    "            \n",
    "            \n",
    "        \n"
   ]
  },
  {
   "cell_type": "code",
   "execution_count": null,
   "id": "cb9f8f29",
   "metadata": {},
   "outputs": [],
   "source": []
  },
  {
   "cell_type": "code",
   "execution_count": 124,
   "id": "08fe02e7",
   "metadata": {},
   "outputs": [
    {
     "name": "stdout",
     "output_type": "stream",
     "text": [
      "['20', '40', '60']\n"
     ]
    }
   ],
   "source": [
    "print(sorted(s.items))"
   ]
  },
  {
   "cell_type": "code",
   "execution_count": null,
   "id": "d522b989",
   "metadata": {},
   "outputs": [],
   "source": []
  },
  {
   "cell_type": "markdown",
   "id": "10d70bc8",
   "metadata": {},
   "source": [
    "# 실습 문제 3"
   ]
  },
  {
   "cell_type": "code",
   "execution_count": 16,
   "id": "911413f7",
   "metadata": {
    "scrolled": true
   },
   "outputs": [
    {
     "name": "stdout",
     "output_type": "stream",
     "text": [
      "SetA: <__main__.Set object at 0x000001E505A17310>\n",
      "SetB: <__main__.Set object at 0x000001E505A17400>\n",
      "A equal B: True\n"
     ]
    },
    {
     "ename": "TypeError",
     "evalue": "'Set' object is not iterable",
     "output_type": "error",
     "traceback": [
      "\u001b[1;31m---------------------------------------------------------------------------\u001b[0m",
      "\u001b[1;31mTypeError\u001b[0m                                 Traceback (most recent call last)",
      "\u001b[1;32m<ipython-input-16-9dfe56781c0f>\u001b[0m in \u001b[0;36m<module>\u001b[1;34m\u001b[0m\n\u001b[0;32m     81\u001b[0m     \u001b[0mtest\u001b[0m\u001b[1;33m(\u001b[0m\u001b[0msetC\u001b[0m\u001b[1;33m,\u001b[0m \u001b[0msetA\u001b[0m\u001b[1;33m)\u001b[0m\u001b[1;33m\u001b[0m\u001b[1;33m\u001b[0m\u001b[0m\n\u001b[0;32m     82\u001b[0m \u001b[1;33m\u001b[0m\u001b[0m\n\u001b[1;32m---> 83\u001b[1;33m \u001b[0mmain\u001b[0m\u001b[1;33m(\u001b[0m\u001b[1;33m)\u001b[0m\u001b[1;33m\u001b[0m\u001b[1;33m\u001b[0m\u001b[0m\n\u001b[0m",
      "\u001b[1;32m<ipython-input-16-9dfe56781c0f>\u001b[0m in \u001b[0;36mmain\u001b[1;34m()\u001b[0m\n\u001b[0;32m     77\u001b[0m     \u001b[0msetC\u001b[0m\u001b[1;33m.\u001b[0m\u001b[0mdelete\u001b[0m\u001b[1;33m(\u001b[0m\u001b[1;36m4\u001b[0m\u001b[1;33m)\u001b[0m\u001b[1;33m\u001b[0m\u001b[1;33m\u001b[0m\u001b[0m\n\u001b[0;32m     78\u001b[0m \u001b[1;33m\u001b[0m\u001b[0m\n\u001b[1;32m---> 79\u001b[1;33m     \u001b[0mtest\u001b[0m\u001b[1;33m(\u001b[0m\u001b[0msetA\u001b[0m\u001b[1;33m,\u001b[0m \u001b[0msetB\u001b[0m\u001b[1;33m)\u001b[0m\u001b[1;33m\u001b[0m\u001b[1;33m\u001b[0m\u001b[0m\n\u001b[0m\u001b[0;32m     80\u001b[0m     \u001b[0mtest\u001b[0m\u001b[1;33m(\u001b[0m\u001b[0msetA\u001b[0m\u001b[1;33m,\u001b[0m \u001b[0msetC\u001b[0m\u001b[1;33m)\u001b[0m\u001b[1;33m\u001b[0m\u001b[1;33m\u001b[0m\u001b[0m\n\u001b[0;32m     81\u001b[0m     \u001b[0mtest\u001b[0m\u001b[1;33m(\u001b[0m\u001b[0msetC\u001b[0m\u001b[1;33m,\u001b[0m \u001b[0msetA\u001b[0m\u001b[1;33m)\u001b[0m\u001b[1;33m\u001b[0m\u001b[1;33m\u001b[0m\u001b[0m\n",
      "\u001b[1;32m<ipython-input-16-9dfe56781c0f>\u001b[0m in \u001b[0;36mtest\u001b[1;34m(setA, setB)\u001b[0m\n\u001b[0;32m     49\u001b[0m         \u001b[0mprint\u001b[0m\u001b[1;33m(\u001b[0m\u001b[1;34m\"A equal B: False\"\u001b[0m\u001b[1;33m)\u001b[0m\u001b[1;33m\u001b[0m\u001b[1;33m\u001b[0m\u001b[0m\n\u001b[0;32m     50\u001b[0m     \u001b[1;31m#print(\"A subset B: \", set(setA).isSubset(set(setB)))\u001b[0m\u001b[1;33m\u001b[0m\u001b[1;33m\u001b[0m\u001b[1;33m\u001b[0m\u001b[0m\n\u001b[1;32m---> 51\u001b[1;33m     \u001b[0mprint\u001b[0m\u001b[1;33m(\u001b[0m\u001b[1;34m\"A proper subset B: \"\u001b[0m\u001b[1;33m,\u001b[0m \u001b[0mset\u001b[0m\u001b[1;33m(\u001b[0m\u001b[0msetA\u001b[0m\u001b[1;33m)\u001b[0m\u001b[1;33m.\u001b[0m\u001b[0misProperSubset\u001b[0m\u001b[1;33m(\u001b[0m\u001b[0mset\u001b[0m\u001b[1;33m(\u001b[0m\u001b[0msetB\u001b[0m\u001b[1;33m)\u001b[0m\u001b[1;33m)\u001b[0m\u001b[1;33m)\u001b[0m\u001b[1;33m\u001b[0m\u001b[1;33m\u001b[0m\u001b[0m\n\u001b[0m\u001b[0;32m     52\u001b[0m     \u001b[0mprint\u001b[0m\u001b[1;33m(\u001b[0m\u001b[1;34m\"A union B: \"\u001b[0m\u001b[1;33m,\u001b[0m \u001b[0mset\u001b[0m\u001b[1;33m(\u001b[0m\u001b[0msetA\u001b[0m\u001b[1;33m)\u001b[0m\u001b[1;33m.\u001b[0m\u001b[0munion\u001b[0m\u001b[1;33m(\u001b[0m\u001b[0mset\u001b[0m\u001b[1;33m(\u001b[0m\u001b[0msetB\u001b[0m\u001b[1;33m)\u001b[0m\u001b[1;33m)\u001b[0m\u001b[1;33m)\u001b[0m\u001b[1;33m\u001b[0m\u001b[1;33m\u001b[0m\u001b[0m\n\u001b[0;32m     53\u001b[0m     \u001b[0mprint\u001b[0m\u001b[1;33m(\u001b[0m\u001b[1;34m\"A intersect B:\"\u001b[0m\u001b[1;33m,\u001b[0m \u001b[0mset\u001b[0m\u001b[1;33m(\u001b[0m\u001b[0msetA\u001b[0m\u001b[1;33m)\u001b[0m\u001b[1;33m.\u001b[0m\u001b[0mintersect\u001b[0m\u001b[1;33m(\u001b[0m\u001b[0mset\u001b[0m\u001b[1;33m(\u001b[0m\u001b[0msetB\u001b[0m\u001b[1;33m)\u001b[0m\u001b[1;33m)\u001b[0m\u001b[1;33m)\u001b[0m\u001b[1;33m\u001b[0m\u001b[1;33m\u001b[0m\u001b[0m\n",
      "\u001b[1;31mTypeError\u001b[0m: 'Set' object is not iterable"
     ]
    }
   ],
   "source": [
    "class Set:\n",
    "    def __init__(self):\n",
    "        self.items = []\n",
    "    def __eq__(self,setB):\n",
    "        return self.items ==setB.items\n",
    "    def insert(self,elem):\n",
    "        if elem not in self.items:\n",
    "            self.items.append(elem)\n",
    "    def delete(self, elem):\n",
    "        if elem in self.items:\n",
    "            self.items.remove(elem)\n",
    "    def union(self, setB):\n",
    "        setD = Set()\n",
    "        setD.items = list(self.items)\n",
    "        for elem in setB.items:\n",
    "            if elem not in self.items:\n",
    "                setD.items.append(elem)\n",
    "    def intersect(self, setB):\n",
    "        setD = Set()\n",
    "        for elem in setB.items:\n",
    "            if elem in self.items:\n",
    "                setD.items.append(elem)\n",
    "    def difference(self, setB):\n",
    "        setC = Set()\n",
    "        for elem in self.items:\n",
    "            if elem not in setB.items:\n",
    "                setC.items.append(elem)\n",
    "        return setC\n",
    "        \n",
    "    def isSubset(self,setB):\n",
    "        print(set(self.items).issubset(set(setB.items)))\n",
    "    def isProperSubset(self, setB):\n",
    "        if set(self.items) == set(setB.items):\n",
    "            print('True')\n",
    "        else:\n",
    "            print('False')\n",
    "    def size(self):\n",
    "        return len(self.items)\n",
    "    def Print(self, msg):\n",
    "        return print(msg,len(self.items), self.items)\n",
    "\n",
    "def test(setA, setB):\n",
    "    print(\"SetA:\", setA)\n",
    "    print(\"SetB:\", setB)\n",
    "\n",
    "    if setA == setB:\n",
    "        print(\"A equal B: True\")\n",
    "    else:\n",
    "        print(\"A equal B: False\")\n",
    "    print(\"A subset B: \", setA.isSubset(setB))\n",
    "    print(\"A proper subset B: \", setA.isProperSubset(setB))\n",
    "    print(\"A union B: \", setA.union(setB))\n",
    "    print(\"A intersect B:\", setA.intersect(setB))\n",
    "    print(\"A difference B:\", setA.difference(setB))\n",
    "    print()\n",
    "    \n",
    "def main():\n",
    "    setA = Set()\n",
    "    setA.insert(2)\n",
    "    setA.insert(3)\n",
    "    setA.insert(4)\n",
    "    \n",
    "    setB = Set()\n",
    "    setA.insert(2)\n",
    "    setA.insert(3)\n",
    "    setA.insert(4)\n",
    "    \n",
    "    setB = Set()\n",
    "    setB.insert(2)\n",
    "    setB.insert(3)\n",
    "    setB.insert(4)\n",
    "    \n",
    "    setC = Set()\n",
    "    setC.insert(2)\n",
    "    setC.insert(3)\n",
    "    setC.insert(4)\n",
    "    setC.delete(4)\n",
    "    \n",
    "    test(setA, setB) \n",
    "    test(setA, setC)\n",
    "    test(setC, setA)\n",
    "    \n",
    "main()"
   ]
  },
  {
   "cell_type": "code",
   "execution_count": 18,
   "id": "e3b30719",
   "metadata": {},
   "outputs": [
    {
     "ename": "NameError",
     "evalue": "name 'setA' is not defined",
     "output_type": "error",
     "traceback": [
      "\u001b[1;31m---------------------------------------------------------------------------\u001b[0m",
      "\u001b[1;31mNameError\u001b[0m                                 Traceback (most recent call last)",
      "\u001b[1;32m<ipython-input-18-1fed17a0e702>\u001b[0m in \u001b[0;36m<module>\u001b[1;34m\u001b[0m\n\u001b[1;32m----> 1\u001b[1;33m \u001b[0msetA\u001b[0m\u001b[1;33m\u001b[0m\u001b[1;33m\u001b[0m\u001b[0m\n\u001b[0m",
      "\u001b[1;31mNameError\u001b[0m: name 'setA' is not defined"
     ]
    }
   ],
   "source": [
    "setA"
   ]
  },
  {
   "cell_type": "code",
   "execution_count": null,
   "id": "d1ae1c12",
   "metadata": {},
   "outputs": [],
   "source": [
    "class Set:  #집합 클래스\n",
    "    def __init__(self):  #생성자\n",
    "        self.items = []  #원소를 저장\n",
    "    def size(self):     #집합의 크기\n",
    "        return len(self.items)  #len()함수 사용\n",
    "    def display(self, msg):  #화면에 출력\n",
    "        print(msg, self.items)  #메시지 + 집합 내용 출력\n",
    "    def contains(self, item):\n",
    "        return item in self.items\n",
    "    def contains(self, item):\n",
    "        for i in range(len(self.items)):\n",
    "            if self.items[i] == item:\n",
    "                return True\n",
    "        return False\n",
    "    def insert(self, elem):\n",
    "        if elem not in self.items:\n",
    "            self.items.append(elem)\n",
    "    def delete(self, elem):\n",
    "        if elem in self.items:\n",
    "            self.items.remove(elem)\n",
    "    def union(self, setB):  #집합을 합친다\n",
    "        setC = Set()\n",
    "        setC.items = list(self.items)\n",
    "        for elem in setB.items:\n",
    "            if elem not in self.items:\n",
    "                setC.items.append(elem)\n",
    "        return setC\n",
    "    def intersect(self, setB):\n",
    "        setC = Set()\n",
    "        for elem in setB.items:\n",
    "            if elem in self.items:\n",
    "                setC.items.append(elem)\n",
    "        return setC\n",
    "    def difference(self, setB):\n",
    "        setC = Set()\n",
    "        for elem in self.items:\n",
    "            if elem not in setB.items:\n",
    "                setC.items.append(elem)\n",
    "        return setC\n",
    "\n",
    "setA= Set()\n",
    "setA.insert('휴대폰')\n",
    "setA.insert('지갑')\n",
    "setA.insert('손수건')\n",
    "setA.display('Set A:')\n",
    "\n",
    "setB = Set()\n",
    "setB.insert('빗')\n",
    "setB.insert('파이썬 자료구조')\n",
    "setB.insert('야구공')\n",
    "setB.insert('지갑')\n",
    "setB.display('Set B:')\n",
    "\n",
    "setB.insert('빗')\n",
    "setA.delete('손수건')\n",
    "setA.delete('발수건')\n",
    "setA.display('Set A:')\n",
    "setB.display('Set B:')\n",
    "\n",
    "setA.union(setB).display('A U B:')\n",
    "setA.intersect(setB).display('A ^ B:')\n",
    "setA.difference(setB).display('A - B:')"
   ]
  }
 ],
 "metadata": {
  "kernelspec": {
   "display_name": "Python 3 (ipykernel)",
   "language": "python",
   "name": "python3"
  },
  "language_info": {
   "codemirror_mode": {
    "name": "ipython",
    "version": 3
   },
   "file_extension": ".py",
   "mimetype": "text/x-python",
   "name": "python",
   "nbconvert_exporter": "python",
   "pygments_lexer": "ipython3",
   "version": "3.8.10"
  }
 },
 "nbformat": 4,
 "nbformat_minor": 5
}
