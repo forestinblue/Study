{
 "cells": [
  {
   "cell_type": "markdown",
   "id": "ab5203c7",
   "metadata": {},
   "source": [
    "### 셸 정렬 알고리즘, \n",
    "\n",
    "#### (외울 필요는 없고 앞에서 많이쓰는 버블, 삽입, 선택 정렬 보다는 빠르다..)"
   ]
  },
  {
   "cell_type": "code",
   "execution_count": null,
   "id": "363637e4",
   "metadata": {},
   "outputs": [],
   "source": [
    "def shell_sort(A):  #셸 정렬 알고리즘 \n",
    "    n = len(A)\n",
    "    gap = n//2  #최초의 gap: 리스트 크기의  절반\n",
    "    while gap > 0 :\n",
    "        if (gap % 2) == 0 :  #gap이 짝수이면 1을 더함\n",
    "            gap += 1\n",
    "        for i in range(gap):\n",
    "            sortGapInsertion(A, i , n-1, gap)\n",
    "        print('  Gap=', gap, A)   #중간 결과 출력용\n",
    "        gap = gap //2\n",
    "        \n",
    "def sortGapInsertion(A, first, last, gap):\n",
    "    for i in range(first+gap, last+1, gap):\n",
    "        key = A[i]\n",
    "        j = i - gap\n",
    "        while j >= first and key < A[j]:  #삽입 위치를 찾음\n",
    "            A[j + gap] = A[j]  #항목 이동\n",
    "            j = j -gap\n",
    "        A[j + gap] = key  #최종 위치에 삽입"
   ]
  },
  {
   "cell_type": "markdown",
   "id": "02c1fc5e",
   "metadata": {},
   "source": [
    "### 힙정렬"
   ]
  },
  {
   "cell_type": "code",
   "execution_count": null,
   "id": "7d8914b6",
   "metadata": {},
   "outputs": [],
   "source": [
    "def heapSort(data):\n",
    "    heap = MaxHeap()   #최대 힙 사용 (8.3절)\n",
    "    for n in data:  #모든 항목들을 힙에 넣음\n",
    "        heap.insert(n)\n",
    "        \n",
    "    for i in range(1, len(data)+1):  #1,2,,...., n\n",
    "        data[-i] = heap.delete()  #맨 뒤에서 앞으로: -1,-2,...,-n"
   ]
  },
  {
   "cell_type": "markdown",
   "id": "44e9682e",
   "metadata": {},
   "source": [
    "### Heapify 알고리즘 "
   ]
  },
  {
   "cell_type": "code",
   "execution_count": null,
   "id": "62e6a4ca",
   "metadata": {},
   "outputs": [],
   "source": [
    "def heapify(arr, n, i):\n",
    "    largest = i  #i번쨰가 가장 크다고 하자.\n",
    "    l = 2 * i + 1  #왼쪽 자식: left = 2* i + 1 (배열 0번을 사용함)\n",
    "    r = 2 * i + 2  #오른쪽 자식: right = 2*i + 2(배열 0번을 사용함)\n",
    "    \n",
    "    if l < n and arr[i] < arr[l] :\n",
    "        largest = l  #교환조건 검사\n",
    "    if r < n and arr[largest] < arr[r]:  #교환조건 검사\n",
    "        largest = r   \n",
    "        if largest != i:  #교환이 필요하면\n",
    "            arr[i], arr[largest] =arr[largest], arr[i]  #교환\n",
    "            heapify(arr, n , largest)  #순환적으로 자식 노드로 내려감"
   ]
  },
  {
   "cell_type": "markdown",
   "id": "56ca3e7a",
   "metadata": {},
   "source": [
    "### 힙 정렬 알고리즘 "
   ]
  },
  {
   "cell_type": "code",
   "execution_count": null,
   "id": "8e57cb45",
   "metadata": {},
   "outputs": [],
   "source": [
    "def heapSort(arr):\n",
    "    n = len(arr)\n",
    "    print(\"i=\", 0, arr)  #중간결과 출력용\n",
    "    for i in range(n//2, -1, -1):  #최대 힙을 만듦: i : n//2,..., 1, 0\n",
    "        heapify(arr, n ,i)  #heap 조건을 맞춤(downheap)\n",
    "        print(\"i=\",  i, arr)  #중간결과 출력용\n",
    "    print()    #중간결과 출력용\n",
    "    \n",
    "    for i in range(n-1, 0, -1):\n",
    "        arr[i], arr[0], = arr[0], arr[i]  #루트를 뒤쪽으로 옮김. 교체\n",
    "        heapify(arr, i , 0)  #heap 조건을 맞춤(downheap)\n",
    "        print(\"i=\", i , arr)  #중간결과 출력용"
   ]
  },
  {
   "cell_type": "markdown",
   "id": "1095d11a",
   "metadata": {},
   "source": [
    "### 병합 정렬 알고리즘"
   ]
  },
  {
   "cell_type": "code",
   "execution_count": null,
   "id": "259a0971",
   "metadata": {},
   "outputs": [],
   "source": [
    "def merge_sort(A, left, right):\n",
    "    if left<right:\n",
    "        mid = (left+ right) // 2\n",
    "        merge_sort(A, left, mid)\n",
    "        merge_sort(A, mid+1, right)\n",
    "        merge(A, left, mid, right)"
   ]
  },
  {
   "cell_type": "markdown",
   "id": "edbbdb13",
   "metadata": {},
   "source": [
    "### 병합 알고리즘 "
   ]
  },
  {
   "cell_type": "code",
   "execution_count": null,
   "id": "4978ef67",
   "metadata": {},
   "outputs": [],
   "source": [
    "def merge(A, left, mid, right):\n",
    "    global sorted  #병합을 위한 추가적인 배열\n",
    "    k = left  #배열 C(정렬될 리스트)의 인덱스\n",
    "    i = left  #배열 A의 인덱스\n",
    "    j = mid + 1  #배열 B의 인덱스\n",
    "    while i <= mid and j <= right:\n",
    "        if A[i] <= A[j]:\n",
    "            sorted[k] = A[i]\n",
    "            i, k = i+1, k+1\n",
    "        else:\n",
    "            sorted[k] = A[j]\n",
    "            j, k = j+1, k+1\n",
    "    if i > mid :  #한쪽에 남아 있는 레코드의 일괄 복사\n",
    "        sorted[k:k+right-j +1]= A[j:right+1]  #리스트의 슬라이싱 이용\n",
    "    else:\n",
    "        sorted[k: k+ mid -i+1]= A[i:mid+1]  #리스트의 슬라이싱 이용\n",
    "    A[left:right+1] = sorted[left:right+1]  #sorted를 원해 배열  A에 복사"
   ]
  },
  {
   "cell_type": "code",
   "execution_count": null,
   "id": "cf6dda43",
   "metadata": {},
   "outputs": [],
   "source": [
    "def mergeSort1(A):\n",
    "    if len(A) > 1:\n",
    "        mid = len(A) // 2\n",
    "        left = A[:mid]\n",
    "        right = A[mid:]\n",
    "        mergeSort1(left)\n",
    "        mergeSort1(right)\n",
    "        merge(A, left, right)\n",
    "def merge1(A, left, right):\n",
    "    i = 0\n",
    "    j = 0\n",
    "    k = 0\n",
    "    while i < len(left) and j < len(right):\n",
    "        if left[i] < right[j]:\n",
    "            A[k] = left[i]\n",
    "            k, i = k+1, i+1\n",
    "        else:\n",
    "            A[k] = right[j]\n",
    "            k, j = k+1, j+1\n",
    "    while i < len(left):\n",
    "        A[k] = left[i]\n",
    "        k, i =  k +1 , i+1\n",
    "    while j < len(right):\n",
    "        A[k] = right[j]\n",
    "        k, j = k+1, j +1\n",
    "    "
   ]
  },
  {
   "cell_type": "markdown",
   "id": "96d5ff93",
   "metadata": {},
   "source": [
    "### 퀵 정렬 알고리즘"
   ]
  },
  {
   "cell_type": "code",
   "execution_count": null,
   "id": "45f7b7f8",
   "metadata": {},
   "outputs": [],
   "source": [
    "def quick_sort(A, left , right): \n",
    "    if left < right:  #정렯 범위가 2개 이상인 경우\n",
    "        q = partition(A, left , right)  #좌우로 분할\n",
    "        quick_sort(A, left, q-1)  #왼쪽 부분리스트를 퀵정렬\n",
    "        quick_sort(A, q+1, right)  #오른쪽 부분 리스트를 퀵정렬\n",
    "        \n",
    "def partition(A, left, right):\n",
    "    low = left + 1  #왼쪽 부분 리스트의 인덱스 (증가방향)\n",
    "    high = right  #오른쪽 부분 리스트의 인덱스 (감소 방향 )\n",
    "    pivot = A[left]  #피벅 설정\n",
    "    while (low <= high):  #low와 high가 역전되지 않는 한 반복\n",
    "        while low <= right and A[low] < pivot :\n",
    "            low += 1\n",
    "        while high >= left and A[high] > pivot:\n",
    "            high -= 1\n",
    "            \n",
    "        if low < high :  #선택된 두 레코드 교환\n",
    "            A[low], A[high] = A[high], A[low]\n",
    "    A[left], A[high] = A[high], A[left]  #마지막으로 high와 피벗 항목 교환\n",
    "    return high  #피벗 위치 반환\n",
    "\n",
    "def partition(A, left, right):\n",
    "    low = left + 1  \n",
    "    high = right \n",
    "    pivot = A[left] \n",
    "    while (low <= high):\n",
    "        while low <= right and A[low] < pivot :\n",
    "            low += 1\n",
    "        while high >= left and A[high] > pivot:\n",
    "            high -= 1\n",
    "            \n",
    "        if low < high :\n",
    "            A[low], A[high] = A[high], A[low]\n",
    "            low , high = low+1, high -1\n",
    "        else: \n",
    "            break\n",
    "    A[left], A[high] = A[high], A[left]\n",
    "    return high "
   ]
  },
  {
   "cell_type": "markdown",
   "id": "0b2684c0",
   "metadata": {},
   "source": [
    "### 이중 피벗 퀵 정렬  \n",
    "#### 여기까지 할 과정이 아니다 그냥 알아두다"
   ]
  },
  {
   "cell_type": "code",
   "execution_count": null,
   "id": "a0ed5844",
   "metadata": {},
   "outputs": [],
   "source": [
    "def dp_quick_sort(A, low, high):\n",
    "    if low < high :\n",
    "        lp, rp = partitionDP(A, low, high)  #좌우 피벗의 인덱스를 반환받음\n",
    "        dp_quick_sort(A, low, lp-1)  #low ~ lp -1 정렬\n",
    "        dp_quick_sort(A, lp+1, rp-1) #lp + 1 ~ rp - 1 정렬\n",
    "        dp_quick_sort(A, rp+1, high)  #rp + 1~ high 정렬"
   ]
  },
  {
   "cell_type": "markdown",
   "id": "4057a7b7",
   "metadata": {},
   "source": [
    "## 기수 정렬 무엇인지 그냥 보기만 하다\n",
    "## 힙정렬, 쉘 정렬, 병합 정렬, 퀵정렬 그정도만 알아두면 된다"
   ]
  },
  {
   "cell_type": "code",
   "execution_count": null,
   "id": "67204602",
   "metadata": {},
   "outputs": [],
   "source": []
  }
 ],
 "metadata": {
  "kernelspec": {
   "display_name": "Python 3 (ipykernel)",
   "language": "python",
   "name": "python3"
  },
  "language_info": {
   "codemirror_mode": {
    "name": "ipython",
    "version": 3
   },
   "file_extension": ".py",
   "mimetype": "text/x-python",
   "name": "python",
   "nbconvert_exporter": "python",
   "pygments_lexer": "ipython3",
   "version": "3.8.10"
  }
 },
 "nbformat": 4,
 "nbformat_minor": 5
}
