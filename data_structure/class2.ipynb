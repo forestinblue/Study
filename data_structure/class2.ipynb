{
 "cells": [
  {
   "cell_type": "code",
   "execution_count": 48,
   "id": "08f18e23",
   "metadata": {},
   "outputs": [],
   "source": [
    "class Car:\n",
    "    def __init__(self, color, speed=0):\n",
    "        self.color = color\n",
    "        self.speed = speed\n",
    "    def speedUp(self): self.speed += 10\n",
    "    def speedDown(self): self.speed -= 10\n",
    "    def __eq__(self, carB): return self.color == carB.color\n",
    "    def __str__(self):\n",
    "        return \"color = %s, speed= %d\" % (self.color, self.speed)"
   ]
  },
  {
   "cell_type": "code",
   "execution_count": 9,
   "id": "cbbbd04f",
   "metadata": {},
   "outputs": [],
   "source": [
    "car1 = Car('black', 0)\n",
    "car2 = Car('red', 120)\n",
    "car3 = Car('yellow', 30)\n",
    "car4 = Car('blue', 0)\n",
    "car5 = Car('green')"
   ]
  },
  {
   "cell_type": "code",
   "execution_count": 10,
   "id": "11ca5b64",
   "metadata": {},
   "outputs": [],
   "source": [
    "car2.speedDown()\n",
    "car4.speedUp()"
   ]
  },
  {
   "cell_type": "code",
   "execution_count": 12,
   "id": "f80e14de",
   "metadata": {},
   "outputs": [],
   "source": [
    "car3.color = 'purple'\n",
    "car5.speed = 100\n"
   ]
  },
  {
   "cell_type": "code",
   "execution_count": 43,
   "id": "33d7083d",
   "metadata": {},
   "outputs": [
    {
     "name": "stdout",
     "output_type": "stream",
     "text": [
      "car2==car5:  False\n"
     ]
    }
   ],
   "source": [
    "print(\"car2==car5: \", car2==car5)"
   ]
  },
  {
   "cell_type": "code",
   "execution_count": 44,
   "id": "88167fa8",
   "metadata": {},
   "outputs": [
    {
     "name": "stdout",
     "output_type": "stream",
     "text": [
      "[car3] <__main__.Car object at 0x000001FAD4427670>\n"
     ]
    }
   ],
   "source": [
    "print(\"[car3]\", car3)"
   ]
  },
  {
   "cell_type": "code",
   "execution_count": 55,
   "id": "c351c960",
   "metadata": {},
   "outputs": [],
   "source": [
    "class SuperCar(Car):\n",
    "    def __init__(self, color, speed = 0, bTurbo = True):\n",
    "        super().__init__(color,speed)\n",
    "        self.bTurbo= bTurbo\n",
    "    def setTurbo(self, bTurbo = True):\n",
    "        self.bTurbo = bTurbo\n",
    "    def speedUp(self):\n",
    "        if self.bTurbo:\n",
    "            self.speed+= 50\n",
    "        else:\n",
    "            super().speedUp()\n",
    "    def __str__(self):\n",
    "        if self.bTurbo:\n",
    "            return \"[%s] [speed = %d] 터보모드\" %(self.color, self.speed)\n",
    "        else:\n",
    "            return \"[%s] [speed = %d] 일반모드\" %(self.color, self.speed)"
   ]
  },
  {
   "cell_type": "code",
   "execution_count": 56,
   "id": "93227600",
   "metadata": {},
   "outputs": [],
   "source": [
    "s1 = SuperCar(\"Gold\", 0, True)\n",
    "s2 = SuperCar(\"White\", 0,False)\n",
    "s1.speedUp()"
   ]
  },
  {
   "cell_type": "code",
   "execution_count": 57,
   "id": "2da60d92",
   "metadata": {},
   "outputs": [],
   "source": [
    "s2.speedUp()"
   ]
  },
  {
   "cell_type": "code",
   "execution_count": 58,
   "id": "1e5caf92",
   "metadata": {},
   "outputs": [
    {
     "name": "stdout",
     "output_type": "stream",
     "text": [
      "슈퍼카1: [Gold] [speed = 50] 터보모드\n",
      "슈퍼카2: [White] [speed = 10] 일반모드\n"
     ]
    }
   ],
   "source": [
    "print(\"슈퍼카1:\", s1)\n",
    "print(\"슈퍼카2:\",s2)"
   ]
  },
  {
   "cell_type": "markdown",
   "id": "7acec6c5",
   "metadata": {},
   "source": [
    "Bag(): 비어있는 가방을 새로 만든다\n",
    "insert(e):가방에 항목 e를 넣는다\n",
    "remove(e):가방에 e가 있는지 검사하여 있으면 이 항목을 꺼낸다.\n",
    "contains(e): e가 들어있으면 True를 없으면 False를 반환한다.\n",
    "count(): 가방에 들어 있는 항목들의 수를 반환한다"
   ]
  },
  {
   "cell_type": "code",
   "execution_count": 36,
   "id": "632a05c8",
   "metadata": {},
   "outputs": [],
   "source": [
    "def contains(bag, e):\n",
    "    return e in bag\n",
    "\n",
    "def insert(bag, e):\n",
    "    bag.append(e)\n",
    "    \n",
    "def remove(bag,e):\n",
    "    bag.remove(e)\n",
    "\n",
    "def count(bag):\n",
    "    return len(bag)"
   ]
  },
  {
   "cell_type": "code",
   "execution_count": 65,
   "id": "4041d4dc",
   "metadata": {},
   "outputs": [
    {
     "name": "stdout",
     "output_type": "stream",
     "text": [
      "가방속의 물건: ['휴대폰', '지갑', '손수건', '빗', '자료구조', '야구공']\n",
      "가방속의 물건: ['휴대폰', '지갑', '빗', '자료구조', '야구공', '빗']\n"
     ]
    }
   ],
   "source": [
    "myBag = []\n",
    "insert(myBag, '휴대폰')\n",
    "insert(myBag, '지갑')\n",
    "insert(myBag, '손수건')\n",
    "insert(myBag, '빗')\n",
    "insert(myBag, '자료구조')\n",
    "insert(myBag, '야구공')\n",
    "print('가방속의 물건:', myBag)\n",
    "\n",
    "insert(myBag,'빗')\n",
    "remove(myBag,'손수건')\n",
    "print('가방속의 물건:', myBag)"
   ]
  },
  {
   "cell_type": "code",
   "execution_count": 103,
   "id": "35132e1e",
   "metadata": {},
   "outputs": [],
   "source": [
    "class Bag:\n",
    "    \n",
    "    def __init__(self):\n",
    "        self.items = list()\n",
    "\n",
    "# 구현 해야할 멤버 함수 \n",
    "    def contains(self, e):\n",
    "        print('contain')\n",
    "        return e in self\n",
    "    def insert(self, e):\n",
    "        \n",
    "        #self = self +','+ e \n",
    "        self.items.append(e)\n",
    "        \n",
    "        #return self\n",
    "    def remove(self, e):\n",
    "        self.items.remove(e)\n",
    "    def count(self):\n",
    "        return len(self.items)\n",
    "    #def __str__(self): \n"
   ]
  },
  {
   "cell_type": "code",
   "execution_count": 120,
   "id": "a7b6f126",
   "metadata": {},
   "outputs": [
    {
     "name": "stdout",
     "output_type": "stream",
     "text": [
      "가방속 물건:  ['휴대폰', '지갑', '손수건', '빗', '연필']\n",
      "가방속 물건:  ['휴대폰', '지갑', '빗', '연필', '빗', '자료 구조 책']\n",
      "가방속 물건 갯수: 6\n",
      "contain\n"
     ]
    },
    {
     "ename": "TypeError",
     "evalue": "argument of type 'Bag' is not iterable",
     "output_type": "error",
     "traceback": [
      "\u001b[1;31m---------------------------------------------------------------------------\u001b[0m",
      "\u001b[1;31mTypeError\u001b[0m                                 Traceback (most recent call last)",
      "\u001b[1;32m<ipython-input-120-abab72c9b7bb>\u001b[0m in \u001b[0;36m<module>\u001b[1;34m\u001b[0m\n\u001b[0;32m     13\u001b[0m \u001b[0mprint\u001b[0m\u001b[1;33m(\u001b[0m\u001b[1;34m\"가방속 물건: \"\u001b[0m\u001b[1;33m,\u001b[0m \u001b[0mmyBag\u001b[0m\u001b[1;33m.\u001b[0m\u001b[0mitems\u001b[0m\u001b[1;33m)\u001b[0m\u001b[1;33m\u001b[0m\u001b[1;33m\u001b[0m\u001b[0m\n\u001b[0;32m     14\u001b[0m \u001b[0mprint\u001b[0m\u001b[1;33m(\u001b[0m\u001b[1;34m\"가방속 물건 갯수: %d\"\u001b[0m \u001b[1;33m%\u001b[0m\u001b[0mmyBag\u001b[0m\u001b[1;33m.\u001b[0m\u001b[0mcount\u001b[0m\u001b[1;33m(\u001b[0m\u001b[1;33m)\u001b[0m\u001b[1;33m)\u001b[0m\u001b[1;33m\u001b[0m\u001b[1;33m\u001b[0m\u001b[0m\n\u001b[1;32m---> 15\u001b[1;33m \u001b[0mprint\u001b[0m\u001b[1;33m(\u001b[0m\u001b[1;34m\"가방속 지갑 유무: %s\"\u001b[0m \u001b[1;33m%\u001b[0m\u001b[0mmyBag\u001b[0m\u001b[1;33m.\u001b[0m\u001b[0mcontains\u001b[0m\u001b[1;33m(\u001b[0m\u001b[1;34m'지갑'\u001b[0m\u001b[1;33m)\u001b[0m\u001b[1;33m)\u001b[0m\u001b[1;33m\u001b[0m\u001b[1;33m\u001b[0m\u001b[0m\n\u001b[0m\u001b[0;32m     16\u001b[0m \u001b[0mprint\u001b[0m\u001b[1;33m(\u001b[0m\u001b[1;34m\"가방속 손수건 유무: %s\"\u001b[0m \u001b[1;33m%\u001b[0m\u001b[0mmyBag\u001b[0m\u001b[1;33m.\u001b[0m\u001b[0mcontains\u001b[0m\u001b[1;33m(\u001b[0m\u001b[1;34m'손수건'\u001b[0m\u001b[1;33m)\u001b[0m\u001b[1;33m)\u001b[0m\u001b[1;33m\u001b[0m\u001b[1;33m\u001b[0m\u001b[0m\n\u001b[0;32m     17\u001b[0m \u001b[1;33m\u001b[0m\u001b[0m\n",
      "\u001b[1;32m<ipython-input-103-605036ca4408>\u001b[0m in \u001b[0;36mcontains\u001b[1;34m(self, e)\u001b[0m\n\u001b[0;32m      7\u001b[0m     \u001b[1;32mdef\u001b[0m \u001b[0mcontains\u001b[0m\u001b[1;33m(\u001b[0m\u001b[0mself\u001b[0m\u001b[1;33m,\u001b[0m \u001b[0me\u001b[0m\u001b[1;33m)\u001b[0m\u001b[1;33m:\u001b[0m\u001b[1;33m\u001b[0m\u001b[1;33m\u001b[0m\u001b[0m\n\u001b[0;32m      8\u001b[0m         \u001b[0mprint\u001b[0m\u001b[1;33m(\u001b[0m\u001b[1;34m'contain'\u001b[0m\u001b[1;33m)\u001b[0m\u001b[1;33m\u001b[0m\u001b[1;33m\u001b[0m\u001b[0m\n\u001b[1;32m----> 9\u001b[1;33m         \u001b[1;32mreturn\u001b[0m \u001b[0me\u001b[0m \u001b[1;32min\u001b[0m \u001b[0mself\u001b[0m\u001b[1;33m\u001b[0m\u001b[1;33m\u001b[0m\u001b[0m\n\u001b[0m\u001b[0;32m     10\u001b[0m     \u001b[1;32mdef\u001b[0m \u001b[0minsert\u001b[0m\u001b[1;33m(\u001b[0m\u001b[0mself\u001b[0m\u001b[1;33m,\u001b[0m \u001b[0me\u001b[0m\u001b[1;33m)\u001b[0m\u001b[1;33m:\u001b[0m\u001b[1;33m\u001b[0m\u001b[1;33m\u001b[0m\u001b[0m\n\u001b[0;32m     11\u001b[0m \u001b[1;33m\u001b[0m\u001b[0m\n",
      "\u001b[1;31mTypeError\u001b[0m: argument of type 'Bag' is not iterable"
     ]
    }
   ],
   "source": [
    "myBag = Bag()\n",
    "\n",
    "myBag.insert(\"휴대폰\")\n",
    "myBag.insert(\"지갑\")\n",
    "myBag.insert(\"손수건\")\n",
    "myBag.insert('빗')\n",
    "myBag.insert('연필')\n",
    "print(\"가방속 물건: \", myBag.items)\n",
    "\n",
    "myBag.insert('빗')\n",
    "myBag.remove('손수건')\n",
    "myBag.insert('자료 구조 책')\n",
    "print(\"가방속 물건: \", myBag.items)\n",
    "print(\"가방속 물건 갯수: %d\" %myBag.count())\n",
    "print(\"가방속 지갑 유무: %s\" %myBag.contains('지갑'))\n",
    "print(\"가방속 손수건 유무: %s\" %myBag.contains('손수건'))\n",
    " "
   ]
  },
  {
   "cell_type": "markdown",
   "id": "17ed8348",
   "metadata": {},
   "source": [
    "## findMinMax() 함수\n"
   ]
  },
  {
   "cell_type": "code",
   "execution_count": 42,
   "id": "42ab12a2",
   "metadata": {},
   "outputs": [],
   "source": [
    "def find_min_max(A):\n",
    "    min=A[0]\n",
    "    max=A[0]\n",
    "    for i in range(1, len(A)):\n",
    "        if max < A[i] : max = A[i]\n",
    "        if min > A[i] : min = A[i]\n",
    "    return min, max"
   ]
  },
  {
   "cell_type": "code",
   "execution_count": 43,
   "id": "e49ba38d",
   "metadata": {},
   "outputs": [
    {
     "name": "stdout",
     "output_type": "stream",
     "text": [
      "(min,max) =  (1, 9)\n"
     ]
    }
   ],
   "source": [
    "data = [5,3,2,7,6,9,8,1]\n",
    "x, y= find_min_max(data)\n",
    "print(\"(min,max) = \", (x,y))"
   ]
  },
  {
   "cell_type": "code",
   "execution_count": 114,
   "id": "da4de8de",
   "metadata": {},
   "outputs": [
    {
     "name": "stdout",
     "output_type": "stream",
     "text": [
      "2267/4/2\n",
      "2011/5/2\n",
      "2011/6/2\n",
      "2005/5/2\n",
      "2011/5/2\n",
      "2012/7/2\n",
      "2010/3/2\n",
      "2267/4/2\n"
     ]
    },
    {
     "ename": "TypeError",
     "evalue": "'<' not supported between instances of 'Date' and 'Date'",
     "output_type": "error",
     "traceback": [
      "\u001b[1;31m---------------------------------------------------------------------------\u001b[0m",
      "\u001b[1;31mTypeError\u001b[0m                                 Traceback (most recent call last)",
      "\u001b[1;32m<ipython-input-114-1435cf92d613>\u001b[0m in \u001b[0;36m<module>\u001b[1;34m\u001b[0m\n\u001b[0;32m     35\u001b[0m     \u001b[0minFile\u001b[0m\u001b[1;33m.\u001b[0m\u001b[0mclose\u001b[0m\u001b[1;33m(\u001b[0m\u001b[1;33m)\u001b[0m\u001b[1;33m\u001b[0m\u001b[1;33m\u001b[0m\u001b[0m\n\u001b[0;32m     36\u001b[0m \u001b[1;33m\u001b[0m\u001b[0m\n\u001b[1;32m---> 37\u001b[1;33m \u001b[0mmain\u001b[0m\u001b[1;33m(\u001b[0m\u001b[1;33m)\u001b[0m\u001b[1;33m\u001b[0m\u001b[1;33m\u001b[0m\u001b[0m\n\u001b[0m",
      "\u001b[1;32m<ipython-input-114-1435cf92d613>\u001b[0m in \u001b[0;36mmain\u001b[1;34m()\u001b[0m\n\u001b[0;32m     29\u001b[0m     \u001b[1;32mfor\u001b[0m \u001b[0mi\u001b[0m \u001b[1;32min\u001b[0m \u001b[0mrange\u001b[0m\u001b[1;33m(\u001b[0m\u001b[0mlen\u001b[0m\u001b[1;33m(\u001b[0m\u001b[0mlst\u001b[0m\u001b[1;33m)\u001b[0m\u001b[1;33m)\u001b[0m\u001b[1;33m:\u001b[0m\u001b[1;33m\u001b[0m\u001b[1;33m\u001b[0m\u001b[0m\n\u001b[0;32m     30\u001b[0m         \u001b[0mprint\u001b[0m\u001b[1;33m(\u001b[0m\u001b[0mlst\u001b[0m\u001b[1;33m[\u001b[0m\u001b[0mi\u001b[0m\u001b[1;33m]\u001b[0m\u001b[1;33m)\u001b[0m\u001b[1;33m\u001b[0m\u001b[1;33m\u001b[0m\u001b[0m\n\u001b[1;32m---> 31\u001b[1;33m     \u001b[0mmin\u001b[0m\u001b[1;33m,\u001b[0m \u001b[0mmax\u001b[0m \u001b[1;33m=\u001b[0m \u001b[0mfindMinMax\u001b[0m\u001b[1;33m(\u001b[0m\u001b[0mlst\u001b[0m\u001b[1;33m)\u001b[0m\u001b[1;33m\u001b[0m\u001b[1;33m\u001b[0m\u001b[0m\n\u001b[0m\u001b[0;32m     32\u001b[0m     \u001b[0mprint\u001b[0m\u001b[1;33m(\u001b[0m\u001b[1;33m)\u001b[0m\u001b[1;33m\u001b[0m\u001b[1;33m\u001b[0m\u001b[0m\n\u001b[0;32m     33\u001b[0m     \u001b[0mprint\u001b[0m\u001b[1;33m(\u001b[0m\u001b[1;34m\"earlist date:\"\u001b[0m\u001b[1;33m,\u001b[0m \u001b[0mmin\u001b[0m\u001b[1;33m)\u001b[0m\u001b[1;33m\u001b[0m\u001b[1;33m\u001b[0m\u001b[0m\n",
      "\u001b[1;32m<ipython-input-114-1435cf92d613>\u001b[0m in \u001b[0;36mfindMinMax\u001b[1;34m(lst)\u001b[0m\n\u001b[0;32m     15\u001b[0m     \u001b[0mmax\u001b[0m\u001b[1;33m=\u001b[0m\u001b[0mlst\u001b[0m\u001b[1;33m[\u001b[0m\u001b[1;36m0\u001b[0m\u001b[1;33m]\u001b[0m\u001b[1;33m\u001b[0m\u001b[1;33m\u001b[0m\u001b[0m\n\u001b[0;32m     16\u001b[0m     \u001b[1;32mfor\u001b[0m \u001b[0mi\u001b[0m \u001b[1;32min\u001b[0m \u001b[0mrange\u001b[0m\u001b[1;33m(\u001b[0m\u001b[1;36m1\u001b[0m\u001b[1;33m,\u001b[0m \u001b[0mlen\u001b[0m\u001b[1;33m(\u001b[0m\u001b[0mlst\u001b[0m\u001b[1;33m)\u001b[0m\u001b[1;33m)\u001b[0m\u001b[1;33m:\u001b[0m\u001b[1;33m\u001b[0m\u001b[1;33m\u001b[0m\u001b[0m\n\u001b[1;32m---> 17\u001b[1;33m         \u001b[1;32mif\u001b[0m \u001b[0mmax\u001b[0m \u001b[1;33m<\u001b[0m \u001b[0mlst\u001b[0m\u001b[1;33m[\u001b[0m\u001b[0mi\u001b[0m\u001b[1;33m]\u001b[0m \u001b[1;33m:\u001b[0m \u001b[0mmax\u001b[0m \u001b[1;33m=\u001b[0m \u001b[0mlst\u001b[0m\u001b[1;33m[\u001b[0m\u001b[0mi\u001b[0m\u001b[1;33m]\u001b[0m\u001b[1;33m\u001b[0m\u001b[1;33m\u001b[0m\u001b[0m\n\u001b[0m\u001b[0;32m     18\u001b[0m         \u001b[1;32mif\u001b[0m \u001b[0mmin\u001b[0m \u001b[1;33m>\u001b[0m \u001b[0mlst\u001b[0m\u001b[1;33m[\u001b[0m\u001b[0mi\u001b[0m\u001b[1;33m]\u001b[0m \u001b[1;33m:\u001b[0m \u001b[0mmin\u001b[0m \u001b[1;33m=\u001b[0m \u001b[0mlst\u001b[0m\u001b[1;33m[\u001b[0m\u001b[0mi\u001b[0m\u001b[1;33m]\u001b[0m\u001b[1;33m\u001b[0m\u001b[1;33m\u001b[0m\u001b[0m\n\u001b[0;32m     19\u001b[0m     \u001b[1;32mreturn\u001b[0m \u001b[0mmin\u001b[0m\u001b[1;33m,\u001b[0m \u001b[0mmax\u001b[0m\u001b[1;33m\u001b[0m\u001b[1;33m\u001b[0m\u001b[0m\n",
      "\u001b[1;31mTypeError\u001b[0m: '<' not supported between instances of 'Date' and 'Date'"
     ]
    }
   ],
   "source": [
    "class Date:\n",
    "    def __init__(self, year, month, day):\n",
    "        self.year = year\n",
    "        self.month = month\n",
    "        self.day = day\n",
    "    #구현해야 할 맴버 함수\n",
    "    #def __gt__(self, rhs):\n",
    "    #def __lt__(self, rhs):\n",
    "    def __str__(self):\n",
    "        return \"%d/%d/%d\" % (self.year, self.month, self.day)\n",
    "\n",
    "#수업 시간 배운 함수 사용\n",
    "def findMinMax(lst):\n",
    "    min=lst[0]\n",
    "    max=lst[0]\n",
    "    for i in range(1, len(lst)):\n",
    "        if max < lst[i] : max = lst[i]\n",
    "        if min > lst[i] : min = lst[i]\n",
    "    return min, max\n",
    "def main():\n",
    "    inFile = open(\"C:/Users/kimjunseok/Downloads/input.txt\",\"r\")\n",
    "    lst = []\n",
    "    while True:\n",
    "        line = inFile.readline()\n",
    "        if line == \"\":\n",
    "            break\n",
    "        date = [int(i) for i in line.split()]\n",
    "        lst.append(Date(date[0], date[1], data[2]))\n",
    "    for i in range(len(lst)):\n",
    "        print(lst[i])\n",
    "    min, max = findMinMax(lst)\n",
    "    print()\n",
    "    print(\"earlist date:\", min)\n",
    "    print(\"latest date:\", max)\n",
    "    inFile.close()\n",
    "    \n",
    "main()"
   ]
  },
  {
   "cell_type": "code",
   "execution_count": 113,
   "id": "8530b43a",
   "metadata": {},
   "outputs": [
    {
     "data": {
      "text/plain": [
       "2267"
      ]
     },
     "execution_count": 113,
     "metadata": {},
     "output_type": "execute_result"
    }
   ],
   "source": [
    "date"
   ]
  },
  {
   "cell_type": "code",
   "execution_count": 117,
   "id": "af2d9197",
   "metadata": {},
   "outputs": [],
   "source": [
    "inFile = open(\"C:/Users/kimjunseok/Downloads/input.txt\",\"r\")\n",
    "lst = []\n",
    "while True:\n",
    "    line = inFile.readline()\n",
    "    if line == \"\":\n",
    "        break\n",
    "    date = [int(i) for i in line.split()]\n",
    "    lst.append(Date(date[0], date[1], data[2]))"
   ]
  },
  {
   "cell_type": "code",
   "execution_count": 118,
   "id": "7735d602",
   "metadata": {},
   "outputs": [
    {
     "name": "stdout",
     "output_type": "stream",
     "text": [
      "2267/4/2\n",
      "2011/5/2\n",
      "2011/6/2\n",
      "2005/5/2\n",
      "2011/5/2\n",
      "2012/7/2\n",
      "2010/3/2\n",
      "2267/4/2\n"
     ]
    }
   ],
   "source": [
    "#print(lst)\n",
    "for i in range(len(lst)):\n",
    "    print(lst[i])"
   ]
  },
  {
   "cell_type": "code",
   "execution_count": 119,
   "id": "b984dad6",
   "metadata": {},
   "outputs": [
    {
     "data": {
      "text/plain": [
       "[<__main__.Date at 0x1be3ea41a00>,\n",
       " <__main__.Date at 0x1be3ea538b0>,\n",
       " <__main__.Date at 0x1be3ea4ddc0>,\n",
       " <__main__.Date at 0x1be3e400b50>,\n",
       " <__main__.Date at 0x1be3e400df0>,\n",
       " <__main__.Date at 0x1be3e400ca0>,\n",
       " <__main__.Date at 0x1be3e400bb0>,\n",
       " <__main__.Date at 0x1be3ea418e0>]"
      ]
     },
     "execution_count": 119,
     "metadata": {},
     "output_type": "execute_result"
    }
   ],
   "source": [
    "lst"
   ]
  },
  {
   "cell_type": "code",
   "execution_count": null,
   "id": "5af56729",
   "metadata": {},
   "outputs": [],
   "source": []
  }
 ],
 "metadata": {
  "kernelspec": {
   "display_name": "Python 3",
   "language": "python",
   "name": "python3"
  },
  "language_info": {
   "codemirror_mode": {
    "name": "ipython",
    "version": 3
   },
   "file_extension": ".py",
   "mimetype": "text/x-python",
   "name": "python",
   "nbconvert_exporter": "python",
   "pygments_lexer": "ipython3",
   "version": "3.8.10"
  }
 },
 "nbformat": 4,
 "nbformat_minor": 5
}
