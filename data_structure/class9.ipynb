{
 "cells": [
  {
   "cell_type": "markdown",
   "id": "e8e2bb92",
   "metadata": {},
   "source": [
    "## 이진트리의 표현: 링크 표현법"
   ]
  },
  {
   "cell_type": "code",
   "execution_count": 2,
   "id": "d2a7413a",
   "metadata": {},
   "outputs": [],
   "source": [
    "class TNode:\n",
    "    def __init__(self, data, left , right):\n",
    "        self.data = data\n",
    "        self.left = left\n",
    "        self.right = right"
   ]
  },
  {
   "cell_type": "markdown",
   "id": "3a38011d",
   "metadata": {},
   "source": [
    "#### 전위 순회"
   ]
  },
  {
   "cell_type": "code",
   "execution_count": 5,
   "id": "a6e3d72f",
   "metadata": {},
   "outputs": [],
   "source": [
    "def preorder(n):  #전위 순회 함수\n",
    "    if n is not None:\n",
    "        print(n.data, end = ' ')  #먼저 루트노드 처리(화면 출력)\n",
    "        preorder(n.left)   #왼쪽 서브트리 처리\n",
    "        preorder(n.right)  #오른쪽 서브트리 처리"
   ]
  },
  {
   "cell_type": "markdown",
   "id": "48eacbe0",
   "metadata": {},
   "source": [
    "#### 중위 순회"
   ]
  },
  {
   "cell_type": "code",
   "execution_count": 6,
   "id": "6cee4975",
   "metadata": {},
   "outputs": [],
   "source": [
    "def inorder(n):   #전위 순회 함수\n",
    "    if n is not None:\n",
    "        inorder(n.left)  #왼쪽 서브트리 처리\n",
    "        print(n.data , end = ' ')  #루트노드 처리(화면 출력)\n",
    "        inorder(n.right)  #오른쪽 서브트리 처리"
   ]
  },
  {
   "cell_type": "markdown",
   "id": "94d59d1e",
   "metadata": {},
   "source": [
    "#### 후위순위"
   ]
  },
  {
   "cell_type": "code",
   "execution_count": 7,
   "id": "8c4f0936",
   "metadata": {},
   "outputs": [],
   "source": [
    "def postorder(n):\n",
    "    if n is not None:\n",
    "        postorder(n.left)\n",
    "        postorder(n.right)\n",
    "        print(n.data, end = ' ')"
   ]
  },
  {
   "cell_type": "markdown",
   "id": "20e561da",
   "metadata": {},
   "source": [
    "중위, 후위, 전위 시험에 많이 나오고, 알아두어야 한다"
   ]
  },
  {
   "cell_type": "markdown",
   "id": "55234bb8",
   "metadata": {},
   "source": [
    "### 레벨 순회 알고리즘"
   ]
  },
  {
   "cell_type": "code",
   "execution_count": 8,
   "id": "61683c84",
   "metadata": {},
   "outputs": [],
   "source": [
    "def levelorder(root):\n",
    "    queue = CircularQueue()  #큐 객체 초기화\n",
    "    queue.enqueue(root)   #최초에 큐에는 루트 노드만 들어있음.\n",
    "    while not queue.isEmpty():  #큐가 공백상태가 아닌 동안, \n",
    "        n = queue.dequeue()  #큐에서 맨 앞의 노드 n을 꺼냄\n",
    "        if n is not None:\n",
    "            print(n.data, end = ' ')  #먼저 노드의 정보를 출력\n",
    "            queue.enqueue(n.left)  #n의 왼쪽 자식 노드를 큐에 삽입\n",
    "            queue.enqueue(n.right)  #n의 오른쪽 자식 노드를 큐에 삽입"
   ]
  },
  {
   "cell_type": "markdown",
   "id": "c4ec2628",
   "metadata": {},
   "source": [
    "### 이진트리연산: 노드 개수, 단말 노드의 수"
   ]
  },
  {
   "cell_type": "markdown",
   "id": "74b5369a",
   "metadata": {},
   "source": [
    "노드 개수"
   ]
  },
  {
   "cell_type": "code",
   "execution_count": 10,
   "id": "294f8549",
   "metadata": {},
   "outputs": [],
   "source": [
    "def count_node(n):  # 순환을 이용해 트리의 노드 수를 계산하는 함수\n",
    "    if n is None:  #n이 None이면 공백트리 --> 0을 반환\n",
    "        return 0\n",
    "    else:   #좌우 서브트리의 노드 수의 합 + 1을 반환(순환 이용)\n",
    "        return 1 + count_node(n.left) + count_node(n.right)\n"
   ]
  },
  {
   "cell_type": "markdown",
   "id": "9179e606",
   "metadata": {},
   "source": [
    "단말 노드의 수"
   ]
  },
  {
   "cell_type": "code",
   "execution_count": 12,
   "id": "1835ea5e",
   "metadata": {},
   "outputs": [],
   "source": [
    "def count_leaf(n):\n",
    "    if n is None:  #공백 트리 --> 0을 반환\n",
    "        return 0\n",
    "    elif n.left is None and n.right is None:  #단말노드 -->> 1을 반환\n",
    "        return 1\n",
    "    else:  #비단말 노드: 좌우 서브트리의 결과합을 반환\n",
    "        return count_leaf(n.left) + count_leaf(n.right)"
   ]
  },
  {
   "cell_type": "markdown",
   "id": "49e738a5",
   "metadata": {},
   "source": [
    "트리의 높이"
   ]
  },
  {
   "cell_type": "code",
   "execution_count": 14,
   "id": "5e9c2bc3",
   "metadata": {},
   "outputs": [],
   "source": [
    "def calc_height(n):\n",
    "    if n is None:   #공백 트리 -> 0을 반환\n",
    "        return 0\n",
    "    hLeft = calc_height(n.left)  #왼쪽 트리의 높이 --> hLeft\n",
    "    hRight = calc_height(n.right)  #오른쪽 트리의 높이 --> hRight\n",
    "    if (hLeft > hRight):  #더 높은 높이에 1을 더해 반환\n",
    "        return hLeft + 1\n",
    "    else:\n",
    "        return hRight + 1"
   ]
  },
  {
   "cell_type": "markdown",
   "id": "d39132e4",
   "metadata": {},
   "source": [
    "#### 테스트 프로그램"
   ]
  },
  {
   "cell_type": "code",
   "execution_count": 17,
   "id": "f0847aa3",
   "metadata": {},
   "outputs": [
    {
     "name": "stdout",
     "output_type": "stream",
     "text": [
      "\n",
      " In-Order : D B E A F C \n",
      " Pre-Order : A B D E C F \n",
      " Post-Order : D E B F C A \n",
      " Level-Order : "
     ]
    },
    {
     "ename": "NameError",
     "evalue": "name 'CircularQueue' is not defined",
     "output_type": "error",
     "traceback": [
      "\u001b[1;31m---------------------------------------------------------------------------\u001b[0m",
      "\u001b[1;31mNameError\u001b[0m                                 Traceback (most recent call last)",
      "\u001b[1;32mC:\\Users\\KIMJUN~1\\AppData\\Local\\Temp/ipykernel_14352/177894806.py\u001b[0m in \u001b[0;36m<module>\u001b[1;34m\u001b[0m\n\u001b[0;32m     13\u001b[0m \u001b[0mpostorder\u001b[0m\u001b[1;33m(\u001b[0m\u001b[0mroot\u001b[0m\u001b[1;33m)\u001b[0m\u001b[1;33m\u001b[0m\u001b[1;33m\u001b[0m\u001b[0m\n\u001b[0;32m     14\u001b[0m \u001b[0mprint\u001b[0m\u001b[1;33m(\u001b[0m\u001b[1;34m'\\n Level-Order : '\u001b[0m\u001b[1;33m,\u001b[0m \u001b[0mend\u001b[0m\u001b[1;33m=\u001b[0m\u001b[1;34m''\u001b[0m\u001b[1;33m)\u001b[0m\u001b[1;33m\u001b[0m\u001b[1;33m\u001b[0m\u001b[0m\n\u001b[1;32m---> 15\u001b[1;33m \u001b[0mlevelorder\u001b[0m\u001b[1;33m(\u001b[0m\u001b[0mroot\u001b[0m\u001b[1;33m)\u001b[0m\u001b[1;33m\u001b[0m\u001b[1;33m\u001b[0m\u001b[0m\n\u001b[0m\u001b[0;32m     16\u001b[0m \u001b[0mprint\u001b[0m\u001b[1;33m(\u001b[0m\u001b[1;33m)\u001b[0m\u001b[1;33m\u001b[0m\u001b[1;33m\u001b[0m\u001b[0m\n\u001b[0;32m     17\u001b[0m \u001b[1;33m\u001b[0m\u001b[0m\n",
      "\u001b[1;32mC:\\Users\\KIMJUN~1\\AppData\\Local\\Temp/ipykernel_14352/3211637392.py\u001b[0m in \u001b[0;36mlevelorder\u001b[1;34m(root)\u001b[0m\n\u001b[0;32m      1\u001b[0m \u001b[1;32mdef\u001b[0m \u001b[0mlevelorder\u001b[0m\u001b[1;33m(\u001b[0m\u001b[0mroot\u001b[0m\u001b[1;33m)\u001b[0m\u001b[1;33m:\u001b[0m\u001b[1;33m\u001b[0m\u001b[1;33m\u001b[0m\u001b[0m\n\u001b[1;32m----> 2\u001b[1;33m     \u001b[0mqueue\u001b[0m \u001b[1;33m=\u001b[0m \u001b[0mCircularQueue\u001b[0m\u001b[1;33m(\u001b[0m\u001b[1;33m)\u001b[0m  \u001b[1;31m#큐 객체 초기화\u001b[0m\u001b[1;33m\u001b[0m\u001b[1;33m\u001b[0m\u001b[0m\n\u001b[0m\u001b[0;32m      3\u001b[0m     \u001b[0mqueue\u001b[0m\u001b[1;33m.\u001b[0m\u001b[0menqueue\u001b[0m\u001b[1;33m(\u001b[0m\u001b[0mroot\u001b[0m\u001b[1;33m)\u001b[0m   \u001b[1;31m#최초에 큐에는 루트 노드만 들어있음.\u001b[0m\u001b[1;33m\u001b[0m\u001b[1;33m\u001b[0m\u001b[0m\n\u001b[0;32m      4\u001b[0m     \u001b[1;32mwhile\u001b[0m \u001b[1;32mnot\u001b[0m \u001b[0mqueue\u001b[0m\u001b[1;33m.\u001b[0m\u001b[0misEmpty\u001b[0m\u001b[1;33m(\u001b[0m\u001b[1;33m)\u001b[0m\u001b[1;33m:\u001b[0m  \u001b[1;31m#큐가 공백상태가 아닌 동안,\u001b[0m\u001b[1;33m\u001b[0m\u001b[1;33m\u001b[0m\u001b[0m\n\u001b[0;32m      5\u001b[0m         \u001b[0mn\u001b[0m \u001b[1;33m=\u001b[0m \u001b[0mqueue\u001b[0m\u001b[1;33m.\u001b[0m\u001b[0mdequeue\u001b[0m\u001b[1;33m(\u001b[0m\u001b[1;33m)\u001b[0m  \u001b[1;31m#큐에서 맨 앞의 노드 n을 꺼냄\u001b[0m\u001b[1;33m\u001b[0m\u001b[1;33m\u001b[0m\u001b[0m\n",
      "\u001b[1;31mNameError\u001b[0m: name 'CircularQueue' is not defined"
     ]
    }
   ],
   "source": [
    "d = TNode('D', None, None)\n",
    "e = TNode('E', None, None)\n",
    "b = TNode('B', d, e)\n",
    "f = TNode('F', None, None)\n",
    "c = TNode('C', f, None)\n",
    "root = TNode('A', b, c)\n",
    "\n",
    "print('\\n In-Order : ', end='')\n",
    "inorder(root)\n",
    "print('\\n Pre-Order : ', end='')\n",
    "preorder(root)\n",
    "print('\\n Post-Order : ', end='')\n",
    "postorder(root)\n",
    "print('\\n Level-Order : ', end='')\n",
    "levelorder(root)\n",
    "print()\n",
    "\n",
    "print(\" 노드의 개수 = %d개\"% count_node(root))\n",
    "print(\" 단말의 개수 = %d개\"% count_leaf(root))\n",
    "print(\" 트리의 높이 = %d\"% calc_height(root))"
   ]
  },
  {
   "cell_type": "markdown",
   "id": "af98ea20",
   "metadata": {},
   "source": [
    "### 힙으로 구현한 우선순위 큐"
   ]
  },
  {
   "cell_type": "code",
   "execution_count": 21,
   "id": "0d937835",
   "metadata": {},
   "outputs": [],
   "source": [
    "class PriorityQueue:\n",
    "    def __init__(self):\n",
    "        self.items = []\n",
    "        self.count = 0\n",
    "    def size(self):\n",
    "        return self.count\n",
    "    def isEmpty(self):\n",
    "        return self.count == 0\n",
    "    def eneque(self, item):\n",
    "        self.items.append(item)\n",
    "        self.count += 1\n",
    "        self.moveUp(0, self.count - 1)\n",
    "    def moveUp(self, first, last):\n",
    "        while last > first:\n",
    "            parent = (last - 1)//2\n",
    "            if self.items[parent] < self.items[last]:\n",
    "                self.swap(parent, last)\n",
    "                last = parent\n",
    "            else: \n",
    "                break\n",
    "    def swap(self, x, y):\n",
    "        self.items[x] , self.items[y] = self.items[y], self.items[x]\n",
    "    def dequeue(self):\n",
    "        if not self.isEmpty():\n",
    "            item = self.items[0]\n",
    "            self.count -= 1\n",
    "            self.items[0] = self.items[self.count]\n",
    "            self.moveDown(0, self.count - 1)\n",
    "            self.items.pop(-1)\n",
    "            return item\n",
    "    def moveDown(self, first, last):\n",
    "        leftChild = 2*first + 1\n",
    "        while leftChild <= last:\n",
    "            if leftChild == last:\n",
    "                maxChild = leftChild\n",
    "            else:\n",
    "                rightChild = 2* first + 2\n",
    "                if self.items[leftChild] <= self.items[rightChild]:\n",
    "                    maxChild = rightChild\n",
    "                else:\n",
    "                    maxChild = leftChild\n",
    "            if self.items[first] < self.items[maxChild]:\n",
    "                self.swap(first, maxChild)\n",
    "                first = maxChild\n",
    "                leftChild = 2 * first + 1\n",
    "            else:\n",
    "                break\n",
    "        \n",
    "           \n",
    "        "
   ]
  },
  {
   "cell_type": "markdown",
   "id": "0712b3f2",
   "metadata": {},
   "source": [
    "### 허프만 코딩 트리 생성 프로그램"
   ]
  },
  {
   "cell_type": "code",
   "execution_count": 22,
   "id": "16c65cdb",
   "metadata": {},
   "outputs": [],
   "source": [
    "def make_tree(freq):\n",
    "    heap = MinHeap()\n",
    "    for n in freq:\n",
    "        heap.insert(n)\n",
    "        \n",
    "    for i in range(0,n):\n",
    "        e1= heap.delete()\n",
    "        e2 = heap.delete()\n",
    "        heap.insert(e1 + e2)\n",
    "        print(\" (%d + %d)\" % (e1, e2))"
   ]
  },
  {
   "cell_type": "code",
   "execution_count": 23,
   "id": "db106d56",
   "metadata": {},
   "outputs": [
    {
     "ename": "NameError",
     "evalue": "name 'MinHeap' is not defined",
     "output_type": "error",
     "traceback": [
      "\u001b[1;31m---------------------------------------------------------------------------\u001b[0m",
      "\u001b[1;31mNameError\u001b[0m                                 Traceback (most recent call last)",
      "\u001b[1;32mC:\\Users\\KIMJUN~1\\AppData\\Local\\Temp/ipykernel_14352/2886462485.py\u001b[0m in \u001b[0;36m<module>\u001b[1;34m\u001b[0m\n\u001b[0;32m      1\u001b[0m \u001b[0mlabel\u001b[0m \u001b[1;33m=\u001b[0m \u001b[1;33m[\u001b[0m\u001b[1;34m'E'\u001b[0m\u001b[1;33m,\u001b[0m \u001b[1;34m'T'\u001b[0m\u001b[1;33m,\u001b[0m \u001b[1;34m'N'\u001b[0m\u001b[1;33m,\u001b[0m \u001b[1;34m'I'\u001b[0m\u001b[1;33m,\u001b[0m \u001b[1;34m'S'\u001b[0m\u001b[1;33m]\u001b[0m\u001b[1;33m\u001b[0m\u001b[1;33m\u001b[0m\u001b[0m\n\u001b[0;32m      2\u001b[0m \u001b[0mfreq\u001b[0m \u001b[1;33m=\u001b[0m \u001b[1;33m[\u001b[0m\u001b[1;36m15\u001b[0m\u001b[1;33m,\u001b[0m \u001b[1;36m12\u001b[0m\u001b[1;33m,\u001b[0m \u001b[1;36m8\u001b[0m\u001b[1;33m,\u001b[0m \u001b[1;36m6\u001b[0m\u001b[1;33m,\u001b[0m \u001b[1;36m4\u001b[0m\u001b[1;33m]\u001b[0m\u001b[1;33m\u001b[0m\u001b[1;33m\u001b[0m\u001b[0m\n\u001b[1;32m----> 3\u001b[1;33m \u001b[0mmake_tree\u001b[0m\u001b[1;33m(\u001b[0m\u001b[0mfreq\u001b[0m\u001b[1;33m)\u001b[0m\u001b[1;33m\u001b[0m\u001b[1;33m\u001b[0m\u001b[0m\n\u001b[0m",
      "\u001b[1;32mC:\\Users\\KIMJUN~1\\AppData\\Local\\Temp/ipykernel_14352/2279558045.py\u001b[0m in \u001b[0;36mmake_tree\u001b[1;34m(freq)\u001b[0m\n\u001b[0;32m      1\u001b[0m \u001b[1;32mdef\u001b[0m \u001b[0mmake_tree\u001b[0m\u001b[1;33m(\u001b[0m\u001b[0mfreq\u001b[0m\u001b[1;33m)\u001b[0m\u001b[1;33m:\u001b[0m\u001b[1;33m\u001b[0m\u001b[1;33m\u001b[0m\u001b[0m\n\u001b[1;32m----> 2\u001b[1;33m     \u001b[0mheap\u001b[0m \u001b[1;33m=\u001b[0m \u001b[0mMinHeap\u001b[0m\u001b[1;33m(\u001b[0m\u001b[1;33m)\u001b[0m\u001b[1;33m\u001b[0m\u001b[1;33m\u001b[0m\u001b[0m\n\u001b[0m\u001b[0;32m      3\u001b[0m     \u001b[1;32mfor\u001b[0m \u001b[0mn\u001b[0m \u001b[1;32min\u001b[0m \u001b[0mfreq\u001b[0m\u001b[1;33m:\u001b[0m\u001b[1;33m\u001b[0m\u001b[1;33m\u001b[0m\u001b[0m\n\u001b[0;32m      4\u001b[0m         \u001b[0mheap\u001b[0m\u001b[1;33m.\u001b[0m\u001b[0minsert\u001b[0m\u001b[1;33m(\u001b[0m\u001b[0mn\u001b[0m\u001b[1;33m)\u001b[0m\u001b[1;33m\u001b[0m\u001b[1;33m\u001b[0m\u001b[0m\n\u001b[0;32m      5\u001b[0m \u001b[1;33m\u001b[0m\u001b[0m\n",
      "\u001b[1;31mNameError\u001b[0m: name 'MinHeap' is not defined"
     ]
    }
   ],
   "source": [
    "label = ['E', 'T', 'N', 'I', 'S']\n",
    "freq = [15, 12, 8, 6, 4]\n",
    "make_tree(freq)"
   ]
  },
  {
   "cell_type": "markdown",
   "id": "7a0117f7",
   "metadata": {},
   "source": [
    "## 이진트리 용어, 3가지 순회 방법,트리에서 여러가지 연산 순환적인 방법에서 주로 해결하므로 순환적인 방법 알아두길 \n"
   ]
  },
  {
   "cell_type": "code",
   "execution_count": null,
   "id": "b83a516d",
   "metadata": {},
   "outputs": [],
   "source": []
  }
 ],
 "metadata": {
  "kernelspec": {
   "display_name": "Python 3 (ipykernel)",
   "language": "python",
   "name": "python3"
  },
  "language_info": {
   "codemirror_mode": {
    "name": "ipython",
    "version": 3
   },
   "file_extension": ".py",
   "mimetype": "text/x-python",
   "name": "python",
   "nbconvert_exporter": "python",
   "pygments_lexer": "ipython3",
   "version": "3.8.10"
  }
 },
 "nbformat": 4,
 "nbformat_minor": 5
}
