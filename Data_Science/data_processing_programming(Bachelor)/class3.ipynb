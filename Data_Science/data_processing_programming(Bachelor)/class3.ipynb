{
 "cells": [
  {
   "cell_type": "code",
   "execution_count": 1,
   "metadata": {},
   "outputs": [
    {
     "name": "stdout",
     "output_type": "stream",
     "text": [
      "apple\n",
      "banana\n",
      "orange\n",
      "a,p,p,l,e,"
     ]
    }
   ],
   "source": [
    "fruits = [\"apple\", \"banana\",\"orange\"]\n",
    "for x in fruits: #list에서 하나씩 꺼내어 출력\n",
    "    print(x)\n",
    "    \n",
    "fruit = \"apple\"\n",
    "for x in fruit:   #string에서 하나씩 꺼내어 출력\n",
    "    print(x, end=',')"
   ]
  },
  {
   "cell_type": "code",
   "execution_count": 3,
   "metadata": {},
   "outputs": [
    {
     "name": "stdout",
     "output_type": "stream",
     "text": [
      "점수 = 100 60 76 80 55 \n",
      "총점 =  371 평균 =  74.2\n"
     ]
    }
   ],
   "source": [
    "scores = [100, 60, 76, 80, 55] #점수 리스트\n",
    "t = 0         #합을 계산하기 위한 변수\n",
    "#점수 리스트에서 점수를 하나씩 꺼내어 반복하면서 합을 계산\n",
    "print(\"점수 = \", end=\"\" )\n",
    "for s in scores:\n",
    "    print(s, end = \" \")\n",
    "    t = t + s\n",
    "a = t / len(scores)\n",
    "print(\"\\n총점 = \", t, \"평균 = \", a)"
   ]
  },
  {
   "cell_type": "code",
   "execution_count": 4,
   "metadata": {},
   "outputs": [
    {
     "name": "stdout",
     "output_type": "stream",
     "text": [
      "0 1 2 3 4 \n",
      "1 3 5 7 9 \n",
      "10 8 6 4 2 \n",
      "\n",
      "x=  1 2 3 4 5 6 7 8 9 10 \n",
      "sum =  55\n"
     ]
    }
   ],
   "source": [
    "r = range(5) #연속값 0~4\n",
    "for i in r: #r에서 하나씩 꺼내어 i에 대입\n",
    "    print(i, end= ' ') #출력 마지막이 공백\n",
    "print()\n",
    "\n",
    "r = range(1,10,2) #초기값 1, 최종값 10, 증가값 2\n",
    "for i in r:\n",
    "    print(i, end=' ')\n",
    "print()\n",
    "\n",
    "r = range(10,0,-2) #초기값10, 최종값0, 증가값 -2\n",
    "for i in r:\n",
    "    print(i, end=' ')\n",
    "print()\n",
    "\n",
    "#1~10까지의 합을 계산\n",
    "x = range(1,11)\n",
    "s = 0\n",
    "print (\"\\nx= \", end=' ')\n",
    "for i in x:\n",
    "    print(i, end=' ')\n",
    "    s = s + i\n",
    "print (\"\\nsum = \", s)"
   ]
  },
  {
   "cell_type": "code",
   "execution_count": 5,
   "metadata": {},
   "outputs": [
    {
     "name": "stdout",
     "output_type": "stream",
     "text": [
      "점수 입력 ?100\n",
      "점수 입력 ?90\n",
      "점수 입력 ?80\n",
      "점수 입력 ?70\n",
      "점수 입력 ?60\n",
      "\n",
      "총점 =  400  평균 =  80.0\n"
     ]
    }
   ],
   "source": [
    "l = 5 #학생 수\n",
    "t = 0\n",
    "for i in range(l):   #l 횟수만큼 반복\n",
    "    score = int(input('점수 입력 ?'))\n",
    "    t += score  # t= t + score\n",
    "    \n",
    "a = t / l   #평균 계산\n",
    "print(\"\\n총점 = \", t, \" 평균 = \", a)"
   ]
  },
  {
   "cell_type": "code",
   "execution_count": 7,
   "metadata": {},
   "outputs": [
    {
     "name": "stdout",
     "output_type": "stream",
     "text": [
      "i =  2 , s = 2\n",
      "i =  4 , s = 6\n",
      "i =  6 , s = 12\n",
      "i =  8 , s = 20\n",
      "i =  10 , s = 30\n"
     ]
    }
   ],
   "source": [
    "# 예제 3-1, 반복문 안에서 값과 합을 출력\n",
    "s = 0\n",
    "for i in range(2,11,2):\n",
    "    s += i # s = s + i\n",
    "    print('i = ', i, ', s =', s)"
   ]
  },
  {
   "cell_type": "code",
   "execution_count": 8,
   "metadata": {},
   "outputs": [
    {
     "name": "stdout",
     "output_type": "stream",
     "text": [
      "2+4+6+8+10=30\n"
     ]
    }
   ],
   "source": [
    "# 에제 3-2, 값은 반복문안에서 출력, 합은 반복종료후 출력\n",
    "s = 0\n",
    "for i in range(2,11,2):\n",
    "    s += i  # s = s + i\n",
    "    if (i < 10):\n",
    "        print(i, end='+')\n",
    "    else:\n",
    "        print(i, end='=')\n",
    "print(s)"
   ]
  },
  {
   "cell_type": "code",
   "execution_count": 9,
   "metadata": {
    "collapsed": true
   },
   "outputs": [
    {
     "name": "stdout",
     "output_type": "stream",
     "text": [
      "짝수의 합 =  2550\n",
      "홀수의 합 =  2500\n"
     ]
    }
   ],
   "source": [
    "se = 0 # 짝수의 합\n",
    "so = 0 # 홀수의 합\n",
    "for n in range(1, 101):  #1 ~ 100 값 생성\n",
    "    if (n % 2 == 0):   #짝수\n",
    "        se += n\n",
    "    else:              #홀수\n",
    "        so += n\n",
    "        \n",
    "print(\"짝수의 합 = \", se)\n",
    "print(\"홀수의 합 = \", so)"
   ]
  },
  {
   "cell_type": "code",
   "execution_count": 11,
   "metadata": {},
   "outputs": [
    {
     "name": "stdout",
     "output_type": "stream",
     "text": [
      "짝수의 개수 =  50\n",
      "홀수의 개수 =  50\n"
     ]
    }
   ],
   "source": [
    "ce = 0 # 짝수의 개수\n",
    "co = 0 # 홀수의 개수\n",
    "for n in range(1,101): #1~100값 생성\n",
    "    if (n % 2 == 0):   #짝수\n",
    "        ce += 1\n",
    "    else:              #홀수\n",
    "        co += 1\n",
    "\n",
    "print(\"짝수의 개수 = \", ce)\n",
    "print(\"홀수의 개수 = \", co)"
   ]
  },
  {
   "cell_type": "code",
   "execution_count": 12,
   "metadata": {},
   "outputs": [
    {
     "name": "stdout",
     "output_type": "stream",
     "text": [
      "성명입력 ? lee\n",
      "성명입력 ? kim\n",
      "성명입력 ? min\n",
      "names= ['lee', 'kim', 'min']\n"
     ]
    }
   ],
   "source": [
    "#리스트에 추가\n",
    "names = [] # 빈 성명 리스트 생성\n",
    "for i in range(3):\n",
    "    name = input('성명입력 ? ')\n",
    "    names.append(name)   #성명 리스트에 입력한 성명 추가\n",
    "print(\"names=\", names)\n"
   ]
  },
  {
   "cell_type": "code",
   "execution_count": 13,
   "metadata": {},
   "outputs": [
    {
     "name": "stdout",
     "output_type": "stream",
     "text": [
      "0 : lee\n",
      "1 : kim\n",
      "2 : min\n"
     ]
    }
   ],
   "source": [
    "#리스트 인덱스 접근\n",
    "for i in range(len(names)):   #리스트 길이만큼 인덱스 생성( 0 ~ (길이-1))\n",
    "    print(i, \":\", names[i])   #names 에서 i 인덱스 값을 접근하여 출력"
   ]
  },
  {
   "cell_type": "code",
   "execution_count": 14,
   "metadata": {},
   "outputs": [
    {
     "name": "stdout",
     "output_type": "stream",
     "text": [
      "index :  0  value:  lee\n",
      "index :  1  value:  kim\n",
      "index :  2  value:  min\n"
     ]
    }
   ],
   "source": [
    "#enumerate() 함수\n",
    "#반복문 사용 시 몇 번째 반복인지를 확인할 수 있는 함수\n",
    "#인덱스 번호롸 값을 반환\n",
    "names = ['lee', 'kim', 'min']\n",
    "for i,v in enumerate(names): #for 문에서 enumerate를 이용하여 names가 가지고 있는 인덱스와 번호를 i와 v라는 변수에 저장한다\n",
    "    print(\"index : \", i, \" value: \", v)"
   ]
  },
  {
   "cell_type": "code",
   "execution_count": 16,
   "metadata": {},
   "outputs": [
    {
     "name": "stdout",
     "output_type": "stream",
     "text": [
      "numbers= [8, 4, 5, 4, 3, 10, 4, 5, 4, 9]\n",
      "index :  0  value:  8\n",
      "index :  2  value:  5\n",
      "index :  4  value:  3\n",
      "index :  6  value:  4\n",
      "index :  8  value:  4\n"
     ]
    }
   ],
   "source": [
    "import random  #랜덤값 생성을 위한 random 모듈 가져오기\n",
    "numbers = []  #빈 리스트 생성\n",
    "for i in range(10):\n",
    "    rn = random.randint(1, 10)  #1~10 랜덤값(random number) 생성 함수\n",
    "    numbers.append(rn)     #숫자 리스트에 랜덤값 추가\n",
    "print(\"numbers=\", numbers) #숫자 리스트 확인\n",
    "\n",
    "for i, n in enumerate(numbers):   #숫자리스트에서 인덱스와 값 얻기\n",
    "    if (i % 2 == 0):\n",
    "        print(\"index : \", i, \" value: \", n)"
   ]
  },
  {
   "cell_type": "code",
   "execution_count": 17,
   "metadata": {},
   "outputs": [
    {
     "name": "stdout",
     "output_type": "stream",
     "text": [
      "1 2 3 4 5 6 7 8 9 10 "
     ]
    }
   ],
   "source": [
    "# 1 ~ 10까지 출력\n",
    "i = 1\n",
    "while i <= 10:\n",
    "    print(i, end=\" \")\n",
    "    i += 1"
   ]
  },
  {
   "cell_type": "code",
   "execution_count": 18,
   "metadata": {},
   "outputs": [
    {
     "name": "stdout",
     "output_type": "stream",
     "text": [
      "2 4 6 8 10 "
     ]
    }
   ],
   "source": [
    "#2, 4, .. 10까지 출력\n",
    "# 증가값을 2로 계산\n",
    "i = 2\n",
    "while i <= 10:\n",
    "    print(i, end=\" \")\n",
    "    i += 2"
   ]
  },
  {
   "cell_type": "code",
   "execution_count": 19,
   "metadata": {},
   "outputs": [
    {
     "name": "stdout",
     "output_type": "stream",
     "text": [
      "2 4 6 8 10 "
     ]
    }
   ],
   "source": [
    "#w, 4, .. 10까지 출력\n",
    "#짝수를 조건식으로 처리\n",
    "i = 1\n",
    "while i <= 10:\n",
    "    if i % 2 ==0:\n",
    "        print(i, end=\" \")\n",
    "    i += 1"
   ]
  },
  {
   "cell_type": "code",
   "execution_count": 20,
   "metadata": {},
   "outputs": [
    {
     "name": "stdout",
     "output_type": "stream",
     "text": [
      "점수 = 100 60 76 80 55 \n",
      "총점 =  371  평균 =  74.2\n"
     ]
    }
   ],
   "source": [
    "#점수 리스트에서 점수를 하나씩 꺼내어 반복하면서 합을 계산\n",
    "scores = [100, 60, 76, 80, 55] #점수 리스트\n",
    "t = 0   #합을 계산하기 위한 변수\n",
    "print(\"점수 = \", end=\"\")  \n",
    "i = 0   #점수 리스트에서 점수를 꺼내기 위한 인덱스\n",
    "while (i < len(scores)):  #scores 길이 보다 작으면 반복\n",
    "    s = scores[i]    #scores에서 i인덱스에 해당하는 값 접근하여 s에 저장\n",
    "    print(s, end= \" \")\n",
    "    t += s\n",
    "    i += 1\n",
    "a = t / len(scores)\n",
    "print(\"\\n총점 = \", t, \" 평균 = \", a)"
   ]
  },
  {
   "cell_type": "code",
   "execution_count": 21,
   "metadata": {},
   "outputs": [
    {
     "name": "stdout",
     "output_type": "stream",
     "text": [
      "숫자입력 ? 4\n",
      "숫자입력 ? 5\n",
      "5  제외\n",
      "숫자입력 ? 10\n",
      "10  제외\n",
      "숫자입력 ? 2\n",
      "숫자입력 ? 7\n",
      "숫자입력 ? 6\n",
      "숫자입력 ? 0\n",
      "반복 종료\n",
      "합 =  19\n"
     ]
    }
   ],
   "source": [
    "# 무한 반복으로 숫자를 입력받아 합을 계산, 5의 배수는 제외, 0이면 반복 종료\n",
    "s = 0\n",
    "while True:    #조건식이 True이면 무한반복\n",
    "    n = int(input('숫자입력 ? '))\n",
    "    if (n == 0):   #0이면 반복 종료\n",
    "        print (\"반복 종료\")\n",
    "        break\n",
    "    if (n % 5 == 0):  #5의 배수는 제외\n",
    "        print(n, \" 제외\")\n",
    "        continue\n",
    "    s += n   #합 계산\n",
    "    \n",
    "print(\"합 = \", s)"
   ]
  },
  {
   "cell_type": "code",
   "execution_count": 22,
   "metadata": {},
   "outputs": [
    {
     "name": "stdout",
     "output_type": "stream",
     "text": [
      "점수입력 ? 50\n",
      "점수입력 ? 200\n",
      "입력범위오류\n",
      "점수입력 ? 60\n",
      "점수입력 ? 80\n",
      "점수입력 ? 100\n",
      "점수입력 ? 0\n",
      "점수입력 ? -1\n",
      "입력을 종료합니다\n",
      "점수리스트 :  [50, 60, 80, 100, 0]\n"
     ]
    }
   ],
   "source": [
    "scores = []  #빈 리스트 생성\n",
    "while True:\n",
    "    score = int(input(\"점수입력 ? \"))\n",
    "    if score == -1:\n",
    "        print('입력을 종료합니다')\n",
    "        break\n",
    "    if score < 0 or score > 100:\n",
    "        print('입력범위오류')\n",
    "        continue\n",
    "    else:\n",
    "        scores.append(score)\n",
    "print(\"점수리스트 : \", scores)"
   ]
  },
  {
   "cell_type": "code",
   "execution_count": 24,
   "metadata": {},
   "outputs": [
    {
     "name": "stdout",
     "output_type": "stream",
     "text": [
      "나이 입력 ? 23\n",
      "23 세는 20대입니다.\n",
      "나이 입력 ? 1\n",
      "입력범위오류\n",
      "나이 입력 ? 13\n",
      "13 세는 10대입니다.\n",
      "나이 입력 ? 45\n",
      "45 세는 기타입니다.\n",
      "나이 입력 ? 0\n",
      "입력범위오류\n",
      "나이 입력 ? 999\n",
      "입력을 종료합니다\n"
     ]
    }
   ],
   "source": [
    "while True:\n",
    "    age = int(input(\"나이 입력 ? \"))\n",
    "    if age ==999:\n",
    "        print('입력을 종료합니다')\n",
    "        break\n",
    "    if age < 10 or age >100:\n",
    "        print('입력범위오류')\n",
    "        continue\n",
    "    elif age < 20:\n",
    "        print(age, \"세는 10대입니다.\")\n",
    "    elif age < 30:\n",
    "        print(age, \"세는 20대입니다.\")\n",
    "    elif age < 40:\n",
    "        print(age, \"세는 30대입니다.\") \n",
    "    else:\n",
    "        print(age, \"세는 기타입니다.\")"
   ]
  },
  {
   "cell_type": "code",
   "execution_count": 26,
   "metadata": {},
   "outputs": [
    {
     "name": "stdout",
     "output_type": "stream",
     "text": [
      "정수입력 ? 10\n",
      "이진수 : 1010"
     ]
    }
   ],
   "source": [
    "#10진수를 입력하여 2진수로 변환\n",
    "d = int(input(\"정수입력 ? \"))\n",
    "b = []\n",
    "while d > 0:\n",
    "    r = d % 2    #d를 2로 나눈 나머지\n",
    "    d = d //2    #d를 2로 나눈 몫\n",
    "    b.append(r)   #나머지를 리스트에 추가\n",
    "    \n",
    "print('이진수 : ', end='')\n",
    "for i in b [::-1]:   #리스트 역수으로 꺼내어 출력\n",
    "    print(i, end='')"
   ]
  },
  {
   "cell_type": "code",
   "execution_count": 27,
   "metadata": {},
   "outputs": [
    {
     "name": "stdout",
     "output_type": "stream",
     "text": [
      "숫자 맞추기 (1~10) ? 5\n",
      "입력 숫자가 작다. \n",
      "숫자 맞추기 (1~10) ? 8\n",
      "입력 숫자가 크다. \n",
      "숫자 맞추기 (1~10) ? 6\n",
      "입력 숫자가 작다. \n",
      "숫자 맞추기 (1~10) ? 3\n",
      "입력 숫자가 작다. \n",
      "숫자 맞추기 (1~10) ? 2\n",
      "입력 숫자가 작다. \n",
      "숫자 맞추기 (1~10) ? 5\n",
      "입력 숫자가 작다. \n",
      "숫자 맞추기 (1~10) ? 6\n",
      "입력 숫자가 작다. \n",
      "숫자 맞추기 (1~10) ? 7\n",
      "정답 !! 생성숫자 =  7\n"
     ]
    }
   ],
   "source": [
    "import random\n",
    "\n",
    "rn = random.randint(1, 10)   # 1~ 10 랜덤값(random number) 생성 함수\n",
    "\n",
    "while True:\n",
    "    n = int(input(\"숫자 맞추기 (1~10) ? \"))\n",
    "    if n == rn :\n",
    "        print('정답 !! 생성숫자 = ', rn)\n",
    "        break\n",
    "    if n > rn:\n",
    "        print('입력 숫자가 크다. ')\n",
    "    else:\n",
    "        print('입력 숫자가 작다. ')"
   ]
  },
  {
   "cell_type": "code",
   "execution_count": null,
   "metadata": {},
   "outputs": [],
   "source": []
  }
 ],
 "metadata": {
  "kernelspec": {
   "display_name": "Python 3",
   "language": "python",
   "name": "python3"
  },
  "language_info": {
   "codemirror_mode": {
    "name": "ipython",
    "version": 3
   },
   "file_extension": ".py",
   "mimetype": "text/x-python",
   "name": "python",
   "nbconvert_exporter": "python",
   "pygments_lexer": "ipython3",
   "version": "3.8.5"
  }
 },
 "nbformat": 4,
 "nbformat_minor": 4
}
