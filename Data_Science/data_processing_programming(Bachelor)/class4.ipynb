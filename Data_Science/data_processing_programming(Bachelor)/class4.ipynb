{
 "cells": [
  {
   "cell_type": "code",
   "execution_count": 1,
   "metadata": {},
   "outputs": [
    {
     "name": "stdout",
     "output_type": "stream",
     "text": [
      "plus(100,200) =  300\n"
     ]
    }
   ],
   "source": [
    "#함수 정의 부분\n",
    "#두 수를 더하는 함수를 정의하여 호출\n",
    "def plus(v1, v2):\n",
    "    result = v1 + v2 #매개변수 v1, v2의 값을 더하여 지역변수 result에 저장\n",
    "    return result #result 변수값을 반환\n",
    "\n",
    "#메인 코드 부분\n",
    "#함수 호출\n",
    "hap = plus(100, 200) #plus()함수 호출시 100과 200을 v1, v2에 대입,\n",
    "                        #함수 처리 후 반환값을 hap변수에 대입\n",
    "print(\"plus(100,200) = \", hap) #반환 결과 출력"
   ]
  },
  {
   "cell_type": "code",
   "execution_count": 2,
   "metadata": {},
   "outputs": [],
   "source": [
    "#(1)하나의 값을 입력하여 1을 더한 결과를 반환하는 함수 정의\n",
    "#f1(x) = x + 1\n",
    "#매개변수 1개, 반환값 1개인 함수\n",
    "def f1(x):\n",
    "    y = x + 1\n",
    "    return y\n",
    "\n",
    "#(2)두 값을 입력하여 더한 결과를 반환하는 함수 정의\n",
    "#f2(x1, x2) = x1 + x2\n",
    "#매개변수 2개, 반환값 1개인 함수\n",
    "def f2(x1, x2):\n",
    "    y = x1 + x2\n",
    "    return y\n",
    "\n",
    "#(3)다음 수식에 대한 함수 정의\n",
    "#f3(x) = x^2 + 2x + 3\n",
    "#매개변수 1개, 반환값 1개인 함수\n",
    "def f3(x):\n",
    "    y = x ** 2 + x * x + 3\n",
    "    return y\n",
    "\n",
    "#(4)키와 몸무게를 입력하여 BMI를 반환하는 수식에 대한 함수 정의\n",
    "#BMI = w / (h ^ 2)\n",
    "#매개변수 2개, 반환값 1개인 함수\n",
    "def getBMI(w, h):\n",
    "    bmi = w / (h ** 2)\n",
    "    return bmi"
   ]
  },
  {
   "cell_type": "code",
   "execution_count": 3,
   "metadata": {},
   "outputs": [],
   "source": [
    "#(5)성명을 입력하여 \"Hello 성명\"을 출력하고 반환하는 함수\n",
    "#매개변수 1개, 반환값 1개인 함수\n",
    "def hello(name):\n",
    "    hname = 'Hello ' + name+ ' !!'\n",
    "    print(hname)\n",
    "    return hname\n",
    "\n",
    "#(6)매개변수로 입력된 값이 짝수인지 홀수인지를 반환하는 함수\n",
    "#매개변수 1개, 반환값 1개인 함수\n",
    "def getOddEven(n):\n",
    "    if (n % 2 == 0):\n",
    "        r = '짝수'\n",
    "    else:\n",
    "        r = '홀수'\n",
    "    return r\n",
    "\n",
    "#(7)매개변수로 입력된 문자를 옆으로 10번 반복 출력하는 함수\n",
    "#매개변수 1개인 함수\n",
    "def printChar(ch):\n",
    "    for i in range(10):\n",
    "        print(ch, end='')\n",
    "        \n",
    "#(8)'-'문자를 20번 반복 출력하는 함수\n",
    "def printBar():\n",
    "    for i in range(20):\n",
    "        print('-', end='')"
   ]
  },
  {
   "cell_type": "code",
   "execution_count": 5,
   "metadata": {},
   "outputs": [
    {
     "name": "stdout",
     "output_type": "stream",
     "text": [
      "Hello jun !!\n"
     ]
    },
    {
     "data": {
      "text/plain": [
       "'Hello jun !!'"
      ]
     },
     "execution_count": 5,
     "metadata": {},
     "output_type": "execute_result"
    }
   ],
   "source": [
    "hello('jun')"
   ]
  },
  {
   "cell_type": "code",
   "execution_count": 7,
   "metadata": {},
   "outputs": [
    {
     "name": "stdout",
     "output_type": "stream",
     "text": [
      "junjunjunjunjunjunjunjunjunjun"
     ]
    }
   ],
   "source": [
    "printChar('jun')"
   ]
  },
  {
   "cell_type": "code",
   "execution_count": 11,
   "metadata": {},
   "outputs": [
    {
     "name": "stdout",
     "output_type": "stream",
     "text": [
      "--------------------"
     ]
    }
   ],
   "source": [
    "printBar()"
   ]
  },
  {
   "cell_type": "code",
   "execution_count": 12,
   "metadata": {},
   "outputs": [
    {
     "name": "stdout",
     "output_type": "stream",
     "text": [
      "f1(10)= 11\n",
      "f1(60)= 61\n"
     ]
    }
   ],
   "source": [
    "#(1)하나으 값을 입력하여 1을 더한 결과를 반환하는 함수 정의\n",
    "def f1(x):\n",
    "    y = x + 1\n",
    "    return y\n",
    "\n",
    "#함수 호출1,\n",
    "#함수 f1을 호출할 때 값 60이 매개변수 x에 대입\n",
    "#함수안의 명령들이 처리되고 반환값을 y변수에 저장, 출력\n",
    "y = f1(10)\n",
    "print('f1(10)=', y)\n",
    "\n",
    "#함수 호출2,\n",
    "#함수 f1을 호출할때 값 60이 매개변수 x에 대입\n",
    "#함수안의 명령들이 처리되고 반환값을 y변수에 저장,출력\n",
    "y= f1(60)\n",
    "print('f1(60)=', y)"
   ]
  },
  {
   "cell_type": "code",
   "execution_count": 13,
   "metadata": {},
   "outputs": [
    {
     "name": "stdout",
     "output_type": "stream",
     "text": [
      "f2(10, 20)= 30\n",
      "x1?100\n",
      "x2?200\n",
      "f2(x), x2= 300\n"
     ]
    }
   ],
   "source": [
    "#(2)두 값을 입력하여 더한 결괄ㄹ 반환하는 함수 정의 \n",
    "def f2(x1, x2):\n",
    "    y = x1 + x2 \n",
    "    return y\n",
    "\n",
    "#함수 호출1,\n",
    "#함수 f2을 호출할 때 값 10이 매개변수 x1에 대입, 20이 매개변수 x2에 대입\n",
    "#함수안의 명령들이 처리되고 반환값을 y변수에 저장, 출력\n",
    "y = f2(10, 20)\n",
    "print('f2(10, 20)=', y)\n",
    "\n",
    "#함수 호출2,\n",
    "#x1,x2를 사용자 입력으로 저장하여\n",
    "#함수 f2을 호출할 때 변수값 x1이 매개변수 x1에 대입, x2가 매개변수 x2에 대입\n",
    "#함수안의 명령들이 처리되고 반환값을 y뱐수에 저장,출력\n",
    "x1= int(input('x1?'))\n",
    "x2= int(input('x2?'))\n",
    "y = f2(x1,x2)\n",
    "print('f2(x), x2=', y)"
   ]
  },
  {
   "cell_type": "code",
   "execution_count": 14,
   "metadata": {},
   "outputs": [
    {
     "name": "stdout",
     "output_type": "stream",
     "text": [
      "getBMI(80, 1.78)= 25.25\n",
      "몸무게 입력(kg) ? 55.5\n",
      "키입력(m) ? 1.78\n",
      "getBMI(55.50, 1.78)= 17.52\n",
      "몸무게 입력(kg) ? 60\n",
      "키입력(m) ? 1.68\n",
      "getBMI(60.00, 1.68)= 21.26\n",
      "몸무게 입력(kg) ? 71\n",
      "키입력(m) ? 1.68\n",
      "getBMI(71.00, 1.68)= 25.16\n",
      "몸무게 입력(kg) ? 0\n",
      "반복 종료\n"
     ]
    }
   ],
   "source": [
    "#(4)키와 몸무게를 입력하여 BMI를 반환하는 수식에 대한 함수 정의\n",
    "#BMI= w / (h ^ 2)\n",
    "#매개변수 2개, 반환값 1개인 함수\n",
    "def getBMI(w,h):\n",
    "    bmi = w / (h ** 2)\n",
    "    return bmi\n",
    "#함수 호출1,\n",
    "#함수 getBMI를 호출할 때 80이 몸무게 w로, 1.78이 키 h에 대입\n",
    "#함수안의 명령들이 처리되고 반환값을 bmi에 저장,출력\n",
    "bmi = getBMI(80, 1.78)\n",
    "print('getBMI(80, 1.78)= {0:.2f}'.format(bmi))\n",
    "\n",
    "#함수 호출2,\n",
    "#함수 getBMI를 호출할 떄 입력한 몸무게를 w로, 입력한 키를 h에 대입\n",
    "#함수안의 명령들이 처리되고 반환값을 bmi에 저장,출력\n",
    "while True:  #조건식이 True 이면 무한 반복\n",
    "    w = float(input('몸무게 입력(kg) ? '))\n",
    "    if ( w == 0) :    #0이면 반복 종료\n",
    "        print(\"반복 종료\")\n",
    "        break\n",
    "    h = float(input('키입력(m) ? '))\n",
    "    if (w < 0 or w > 200 or h <= 0 or h > 3):\n",
    "        print (\"몸무게 입력범위(1~200), 키 입력범위(1~3)를 확인하세요\")\n",
    "        continue\n",
    "    bmi = getBMI(w, h)\n",
    "    print('getBMI({0:.2f}, {1:.2f})= {2:.2f}'.format(w, h, bmi))"
   ]
  },
  {
   "cell_type": "code",
   "execution_count": 6,
   "metadata": {},
   "outputs": [
    {
     "name": "stdout",
     "output_type": "stream",
     "text": [
      "Hello kim !!\n",
      "hello('kim')= Hello kim !!\n"
     ]
    }
   ],
   "source": [
    "#(5)성명을 입력하여 \"Hello 성명\"을 출력하고 반환하는 함수\n",
    "#매개변수 1개, 반환값 1개인 함수\n",
    "def hello(name):\n",
    "    hname = 'Hello ' + name + ' !!'\n",
    "    print(hname)\n",
    "    return hname\n",
    "\n",
    "hname = hello('kim')\n",
    "print(\"hello('kim')=\", hname)"
   ]
  },
  {
   "cell_type": "code",
   "execution_count": 1,
   "metadata": {},
   "outputs": [
    {
     "name": "stdout",
     "output_type": "stream",
     "text": [
      "Hello kim !!\n",
      "hello('kim')= Hello kim !!\n",
      "Hello 홍길동 !!\n",
      "hello('홍길동')= Hello 홍길동 !!\n"
     ]
    }
   ],
   "source": [
    "#(5)성명을 입력하여 \"Hello 성명\"을 출력하고 반환하는 함수\n",
    "#매개변수 1개, 반환값 1개인 함수\n",
    "def hello(name):\n",
    "    hname = 'Hello ' + name + ' !!'\n",
    "    print(hname)\n",
    "    return hname\n",
    "\n",
    "#함수 호출1,\n",
    "#함수 hello를 호출할 때 'kim'이 매개변수 name에 대입\n",
    "#함수안의 명령들이 처리되고 반환값을 hname변수에 저장,출력\n",
    "hname = hello('kim')\n",
    "print(\"hello('kim')=\", hname)\n",
    "\n",
    "#함수 호출2,\n",
    "#함수 hello를 호출할 때 '홀길동'이 매개변수 name에 대입\n",
    "#함수안의 명령들이 처리되고 반혼값을 hname변수에 저장, 출력\n",
    "hname = hello('홍길동')\n",
    "print(\"hello('홍길동')=\",hname)"
   ]
  },
  {
   "cell_type": "code",
   "execution_count": 17,
   "metadata": {},
   "outputs": [
    {
     "name": "stdout",
     "output_type": "stream",
     "text": [
      "getOddEven(5)= 홀수\n",
      "getOddEven(10)= 짝수\n"
     ]
    }
   ],
   "source": [
    "#(6)매개변수로 입력된 값이 짝수인지 홀수인지를 변한하는 함수\n",
    "#매개변수 1개, 반환값 1개인 함수\n",
    "def getOddEven(n):\n",
    "    if(n % 2 == 0):\n",
    "        r = '짝수'\n",
    "    else:\n",
    "        r = '홀수'\n",
    "    return r\n",
    "\n",
    "#함수 호출1,\n",
    "#함수 getOddEven을 호출할 때 값 5가 매개변수 x에 대입\n",
    "#함수안의 명령들이 처리되고 반환값을 r변수에 저장, 출력\n",
    "\n",
    "r = getOddEven(5)\n",
    "print('getOddEven(5)=', r)\n",
    "\n",
    "#함수 호출2\n",
    "#함수 getOddEven을 호출할 때 값 10이 매개변수 x에 대입 \n",
    "#함수안의 명령들이 처리되고 반환값을 r변수에 저장,출력\n",
    "\n",
    "r = getOddEven(10)\n",
    "print('getOddEven(10)=', r)"
   ]
  },
  {
   "cell_type": "code",
   "execution_count": 18,
   "metadata": {},
   "outputs": [
    {
     "name": "stdout",
     "output_type": "stream",
     "text": [
      "printChar('*')=**********\n",
      "printChar('#')=##########\n",
      "printBar()=--------------------"
     ]
    }
   ],
   "source": [
    "#(7)매개변수로 입력된 문자를 옆으로 10번 반복 출력하는 함수\n",
    "#매개변수 1개인 함수\n",
    "def printChar(ch):\n",
    "    for i in range(10):\n",
    "        print(ch, end='')\n",
    "\n",
    "#(8)'-'문자를 20번 반복 출력하는 함수\n",
    "def printBar():\n",
    "    for i in range(20):\n",
    "        print('-', end='')\n",
    "        \n",
    "#함수 호출1,\n",
    "#함수 printChar 호출할때 '*'이 매개변수 ch에 대입\n",
    "#함수안의 명령들이 처리\n",
    "print(\"printChar('*')=\", end = '')\n",
    "printChar('*')\n",
    "\n",
    "#함수 호출2,\n",
    "#함수 printChar 호출할 때 '#'이 매개변수 ch에 대입\n",
    "#함수안의 명령들이 처리\n",
    "print(\"\\nprintChar('#')=\", end = '')\n",
    "printChar('#')\n",
    "\n",
    "#함수 호출3\n",
    "#함수 printBar 호출로 함수안의 명령들이 처리\n",
    "print('\\nprintBar()=', end = '')\n",
    "printBar()"
   ]
  },
  {
   "cell_type": "code",
   "execution_count": 7,
   "metadata": {},
   "outputs": [
    {
     "name": "stdout",
     "output_type": "stream",
     "text": [
      "f1:a= 10\n",
      "f2:a= 20\n",
      "a= 20\n"
     ]
    }
   ],
   "source": [
    "#변수 범위(scope) 예 1\n",
    "#함수 정의\n",
    "def f1():\n",
    "    a = 10  #지역변수 선언\n",
    "    print (\"f1:a=\", a)\n",
    "    \n",
    "def f2():\n",
    "    print (\"f2:a=\", a)\n",
    "    \n",
    "#메인 코드\n",
    "#전역 변수 선언\n",
    "a = 20\n",
    "f1()   #f1() 함수 호출\n",
    "f2()   #f2() 함수 호출\n",
    "print (\"a=\", a)"
   ]
  },
  {
   "cell_type": "code",
   "execution_count": 11,
   "metadata": {},
   "outputs": [
    {
     "name": "stdout",
     "output_type": "stream",
     "text": [
      "f1:a= 10\n",
      "a= 10\n"
     ]
    }
   ],
   "source": [
    "#변수범위(scope) 예2\n",
    "#함수 정의\n",
    "def f1():\n",
    "    global a    #전역변수 사용\n",
    "    a = 10      #전역변수 변경\n",
    "    print (\"f1:a=\", a)\n",
    "    \n",
    "#메인 코드\n",
    "#전역 변수 선언\n",
    "\n",
    "a = 200\n",
    "f1()   # f1() 함수 호출\n",
    "print (\"a=\", a)"
   ]
  },
  {
   "cell_type": "code",
   "execution_count": 21,
   "metadata": {},
   "outputs": [
    {
     "name": "stdout",
     "output_type": "stream",
     "text": [
      "f:v= 10\n",
      "f:r= [10, 20, 30]\n",
      "f:v= 100\n",
      "f:r= [200, 20, 30]\n",
      "x= 10\n",
      "y= [200, 20, 30]\n"
     ]
    }
   ],
   "source": [
    "#call by value & call by reference\n",
    "def f(v,r):\n",
    "    print(\"f:v=\", v)  #매개변수 v 출력\n",
    "    print(\"f:r=\", r)  #매개변수 r 출력\n",
    "    v = 100   #값 변경\n",
    "    r[0] = 200   #리스트의 0번째 요소의 값 변경\n",
    "    print(\"f:v=\", v)   #변경된 값 출력\n",
    "    print(\"f:r=\", r)\n",
    "    \n",
    "x = 10\n",
    "y = [10,20,30]\n",
    "f(x,y)    #함수호출\n",
    "            #변수 x는 y변수로 값만 대입 : call by value\n",
    "            #리스트는 y는 r로 주소를 대입 : call by reference\n",
    "print(\"x=\", x)  #함수 처리 후 x 츨력\n",
    "print (\"y=\", y)  #함수 처리 후 y 출력"
   ]
  },
  {
   "cell_type": "code",
   "execution_count": 24,
   "metadata": {},
   "outputs": [
    {
     "name": "stdout",
     "output_type": "stream",
     "text": [
      "Hello Jini\n",
      "hellojini\n",
      "Hello GilDong\n",
      "HELLO GILDONG\n"
     ]
    }
   ],
   "source": [
    "##hello 함수, 매개변수 2개(name, upper), upper 매개변수의 디폴트값 False\n",
    "def hello(name, upper=False):\n",
    "    print ('Hello', name)  #전달된 name 그대로 출력\n",
    "    if upper:\n",
    "        print ('HELLO', name.upper())  #upper 가 True이면 대문자로 변환하여 출력\n",
    "    else:\n",
    "        print ('hello' + name.lower())  #upper가 False 이면 소문자로 변환하여 출력\n",
    "        \n",
    "\n",
    "hello('Jini')    #함수호출\n",
    "hello('GilDong', True)  #함수호출"
   ]
  },
  {
   "cell_type": "code",
   "execution_count": 25,
   "metadata": {},
   "outputs": [
    {
     "name": "stdout",
     "output_type": "stream",
     "text": [
      "radius=20.50 area=1319.59\n",
      "radius=10.70 area=359.50\n"
     ]
    }
   ],
   "source": [
    "#반지름을 매개변수로 넣어 원의 넓이를 구하는 함수\n",
    "def circleArea(radius):\n",
    "    a = 3.14 * radius ** 2\n",
    "    return a\n",
    "\n",
    "#반지름 r 변수 선언\n",
    "r=20.5\n",
    "#원의 면적 구하는 호수 호출\n",
    "a = circleArea(r)\n",
    "#원의 면적 반환 값 출력\n",
    "out = 'radius={0:.2F} area={1:.2f}'\n",
    "print(out.format(r,a))\n",
    "#키워드 인수 사용\n",
    "#원의 면적 구하는 함수 호출시 매개변수에 직접 값 설정\n",
    "a = circleArea(radius=10.7)\n",
    "#원의 면적 반환 값 출력\n",
    "print(out.format(10.7, a))"
   ]
  },
  {
   "cell_type": "code",
   "execution_count": 26,
   "metadata": {},
   "outputs": [
    {
     "name": "stdout",
     "output_type": "stream",
     "text": [
      "recArea(10, 20) = 200\n",
      "recArea(h=20, w=10) = 200\n"
     ]
    }
   ],
   "source": [
    "#사각형의 폭, 높이를 매개변수로 넣어 사각형의 면적을 구하는 함수\n",
    "def recArea(w, h):\n",
    "    a = w * h\n",
    "    return a\n",
    "\n",
    "#사각형의 면적 구하는 호수 호출\n",
    "a = recArea(10,20)\n",
    "print('recArea(10, 20) =', a)\n",
    "#키워드 인수 사용\n",
    "#사각형의 면적 구하는 함수 호출 시 매개변수에 직접 값 설정\n",
    "a = recArea(h=20, w=10)\n",
    "print('recArea(h=20, w=10) =', a)"
   ]
  },
  {
   "cell_type": "code",
   "execution_count": 28,
   "metadata": {},
   "outputs": [
    {
     "name": "stdout",
     "output_type": "stream",
     "text": [
      "args= (-1,)\n",
      "args[0]= -1\n",
      "args : \n",
      "-1\n",
      "args= (1, 2)\n",
      "args[0]= 1\n",
      "args : \n",
      "1\n",
      "2\n",
      "args= (10, 20, 30)\n",
      "args[0]= 10\n",
      "args : \n",
      "10\n",
      "20\n",
      "30\n",
      "args= ([70, 80, 90, 100], 500)\n",
      "args[0]= [70, 80, 90, 100]\n",
      "args : \n",
      "[70, 80, 90, 100]\n",
      "500\n"
     ]
    }
   ],
   "source": [
    "#가변인수를 사용한 함수 정의\n",
    "def f(*args):\n",
    "    print('args=', args)\n",
    "    print('args[0]=', args[0])\n",
    "    print('args : ')\n",
    "    for i in args:\n",
    "        print(i)\n",
    "        \n",
    "#가변인수 사용 함수 호출\n",
    "f(-1)\n",
    "f(1,2)\n",
    "f(10,20,30)\n",
    "l=[70,80,90,100]\n",
    "x = 500\n",
    "f(l, x)"
   ]
  },
  {
   "cell_type": "code",
   "execution_count": 29,
   "metadata": {},
   "outputs": [
    {
     "name": "stdout",
     "output_type": "stream",
     "text": [
      "result= (300, -100, 20000, 0.5)\n"
     ]
    }
   ],
   "source": [
    "#사칙연산의 결과를 반환하는 함수 예\n",
    "def calc(x,y):\n",
    "    a = x + y\n",
    "    s = x - y\n",
    "    m = x * y\n",
    "    d = x / y\n",
    "    return a,s,m,d\n",
    "\n",
    "#함수호출\n",
    "r = calc(100,200)\n",
    "print(\"result=\", r)"
   ]
  },
  {
   "cell_type": "code",
   "execution_count": 30,
   "metadata": {},
   "outputs": [
    {
     "name": "stdout",
     "output_type": "stream",
     "text": [
      "6\n",
      "False\n"
     ]
    }
   ],
   "source": [
    "#람다 사용 예\n",
    "x = lambda a : a + 1\n",
    "print(x(5))\n",
    "\n",
    "r = lambda x,y : x > y\n",
    "print(r(5,10))"
   ]
  },
  {
   "cell_type": "code",
   "execution_count": 32,
   "metadata": {},
   "outputs": [
    {
     "name": "stdout",
     "output_type": "stream",
     "text": [
      "doubler(10)= 20\n",
      "tripler(10=)= 30\n"
     ]
    }
   ],
   "source": [
    "#람다를 이용한 함수식 반환 사용 예\n",
    "#a값에 n을 곱하는 함수식을 반환\n",
    "def func(n):\n",
    "    return lambda a : a * n\n",
    "\n",
    "#n에 2를 설정하여 doubler 함수식 반환\n",
    "doubler = func(2)\n",
    "#n에 3를 설정하여 tripler 함수식 반환\n",
    "tripler = func(3)\n",
    "#doubler, tripler 함수식으로 a 값을 설정하여 곱한 결과 반환\n",
    "print(\"doubler(10)=\", doubler(10))\n",
    "print(\"tripler(10=)=\", tripler(10))"
   ]
  },
  {
   "cell_type": "code",
   "execution_count": null,
   "metadata": {},
   "outputs": [],
   "source": []
  }
 ],
 "metadata": {
  "kernelspec": {
   "display_name": "Python 3",
   "language": "python",
   "name": "python3"
  },
  "language_info": {
   "codemirror_mode": {
    "name": "ipython",
    "version": 3
   },
   "file_extension": ".py",
   "mimetype": "text/x-python",
   "name": "python",
   "nbconvert_exporter": "python",
   "pygments_lexer": "ipython3",
   "version": "3.8.5"
  }
 },
 "nbformat": 4,
 "nbformat_minor": 4
}
