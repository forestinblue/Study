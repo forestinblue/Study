{
 "cells": [
  {
   "cell_type": "code",
   "execution_count": 1,
   "metadata": {},
   "outputs": [],
   "source": [
    "class Person(object):   #부머 클래스 Person 선언\n",
    "    def __init__(self, name, age):\n",
    "        self.name = name  #부모 클래스 속성 선언\n",
    "        self.age = age\n",
    "        \n",
    "    def print1(self):     #부모 클래스 매서드 선언\n",
    "        print(\"이름:\",self.name, \" 나이:\", str(self.age))\n",
    "        "
   ]
  },
  {
   "cell_type": "code",
   "execution_count": 2,
   "metadata": {},
   "outputs": [],
   "source": [
    "class Student(Person):  #부모 클래스 Person으로부터 상속\n",
    "    def __init__(self, name, age, dept):\n",
    "        self.name = name   #부모 클래스 속성 사용\n",
    "        self.age = age   #부모 클래스 속성 사용\n",
    "        self.dept = dept #자식 클래스 속성 추가\n",
    "    def print2(self):   #자식 클래스 메서드 추가\n",
    "        self.print1()    #부모 매서드 사용\n",
    "        print(\"성명:\", self.name, \" 학과:\", self.dept) #부모 속성, 자식 속성 사용"
   ]
  },
  {
   "cell_type": "code",
   "execution_count": 3,
   "metadata": {},
   "outputs": [
    {
     "name": "stdout",
     "output_type": "stream",
     "text": [
      "이름: 홍길동  나이: 25\n"
     ]
    }
   ],
   "source": [
    "p = Person(\"홍길동\", 25) #person 객체 생성\n",
    "p.print1()  #p1 객체의 print1() 함수(메서드) 호출"
   ]
  },
  {
   "cell_type": "code",
   "execution_count": 6,
   "metadata": {},
   "outputs": [
    {
     "name": "stdout",
     "output_type": "stream",
     "text": [
      "s.print1() = \n",
      "이름: 이순신  나이: 22\n",
      "s.print2() = \n",
      "이름: 이순신  나이: 22\n",
      "성명: 이순신  학과: 컴공\n"
     ]
    }
   ],
   "source": [
    "s = Student(\"이순신\", 22, \"컴공\")  #Student 객체 생성\n",
    "print(\"s.print1() = \")\n",
    "s.print1()  #Student 객체로 부모 객체 함수 호출\n",
    "print(\"s.print2() = \")\n",
    "s.print2()   #Student 객체함수 호출"
   ]
  },
  {
   "cell_type": "code",
   "execution_count": 7,
   "metadata": {},
   "outputs": [],
   "source": [
    "class Person(object):    #부모 클래스 Person 선언\n",
    "    def __init__(self, name , age):\n",
    "        self.name = name\n",
    "        self.age = age \n",
    "        \n",
    "    def about_me(self):  #매서드 선언\n",
    "        print(\"이름:\",self.name, \"나이:\",str(self.age))"
   ]
  },
  {
   "cell_type": "code",
   "execution_count": 8,
   "metadata": {},
   "outputs": [],
   "source": [
    "class Student(Person):  #부모 클래스 Person으로부터 상속\n",
    "    def __init__(self, name, age, dept):\n",
    "        super().__init__(name, age)   #부모 객체(super) 초기화 함수 호출\n",
    "        self.dept = dept   #속성 추가\n",
    "    def about_me(self):    #부모 클래스에서 재정의\n",
    "        super().about_me()\n",
    "        print(\"학과:\",self.dept)  #Student(학생) 클래스 관련 내용 추가"
   ]
  },
  {
   "cell_type": "code",
   "execution_count": 9,
   "metadata": {},
   "outputs": [
    {
     "name": "stdout",
     "output_type": "stream",
     "text": [
      "이름: 홍길동 나이: 25\n"
     ]
    }
   ],
   "source": [
    "p = Person(\"홍길동\", 25)  #Person 객체 생성\n",
    "p.about_me() #p1 객체의 about_me()함수(메서드) 호출 "
   ]
  },
  {
   "cell_type": "code",
   "execution_count": 10,
   "metadata": {},
   "outputs": [
    {
     "name": "stdout",
     "output_type": "stream",
     "text": [
      "이름: 이순신 나이: 22\n",
      "학과: 컴공\n"
     ]
    }
   ],
   "source": [
    "s = Student(\"이순신\", 22, \"컴공\")  #Student 객체 생성\n",
    "s.about_me()  #student 객체함수 호출"
   ]
  },
  {
   "cell_type": "code",
   "execution_count": 11,
   "metadata": {},
   "outputs": [
    {
     "name": "stdout",
     "output_type": "stream",
     "text": [
      "나비: 야옹!\n",
      "냥이: 야옹!\n",
      "바둑이: 멍! 멍!\n"
     ]
    }
   ],
   "source": [
    "class Animal:\n",
    "    def __init__(self, name):\n",
    "        self.name = name\n",
    "    def talk(self):\n",
    "        return '??'\n",
    "class Cat(Animal):\n",
    "    def talk(self):\n",
    "        return '야옹!'\n",
    "\n",
    "class Dog(Animal):\n",
    "    def talk(self):\n",
    "        return'멍! 멍!'\n",
    "    \n",
    "animals = [Cat('나비'), Cat('냥이'), Dog('바둑이')]\n",
    "for animal in animals:\n",
    "    print(animal.name + ': '+ animal.talk())"
   ]
  },
  {
   "cell_type": "code",
   "execution_count": 12,
   "metadata": {},
   "outputs": [],
   "source": [
    "class Shape:\n",
    "    def __init__(self, x, y):\n",
    "        self.name = \"Shape\"  #도형이름\n",
    "        self.x = x   #x좌표\n",
    "        self.y = y   #y좌표\n",
    "        \n",
    "    def draw(self):\n",
    "        print(self.name, \"(\" + str(self.x) + \",\" + str(self.y) + \")\")\n",
    "        \n",
    "class Circle(Shape):\n",
    "    def __init__(self, x, y, r):\n",
    "        super().__init__(x,y)\n",
    "        self.name = \"Circle\"  #도형 이름\n",
    "        self.r = r\n",
    "     \n",
    "    def getArea(self):\n",
    "        a = self.r * self.r * 3.14\n",
    "        return a\n",
    "    \n",
    "    def draw(self):\n",
    "        super().draw()\n",
    "        print(\"radius = \", str(self.r))\n",
    "        a = self.getArea()\n",
    "        print(\"area = {0:.2f}\".format(a))"
   ]
  },
  {
   "cell_type": "code",
   "execution_count": 13,
   "metadata": {},
   "outputs": [],
   "source": [
    "class Rectangle(Shape):\n",
    "    def __init__(self, x, y, w, h):\n",
    "        super().__init__(x,y)\n",
    "        self.name = \"Rectangle\"\n",
    "        self.w = w\n",
    "        self.h = h\n",
    "        \n",
    "    def getArea(self):\n",
    "        a = self.w * self.h\n",
    "        return a\n",
    "    \n",
    "    def draw(self):\n",
    "        super().draw()\n",
    "        print(\"width = \",str(self.w), \"height = \", str(self.h))\n",
    "        a = self.getArea()\n",
    "        print(\"area = {0:.2f}\".format(a))"
   ]
  },
  {
   "cell_type": "code",
   "execution_count": 14,
   "metadata": {},
   "outputs": [
    {
     "name": "stdout",
     "output_type": "stream",
     "text": [
      "Shape (30,30)\n",
      "Circle (10,20)\n",
      "radius =  20.5\n",
      "area = 1319.59\n",
      "Rectangle (5,3)\n",
      "width =  100 height =  70\n",
      "area = 7000.00\n",
      "Circle (50,40)\n",
      "radius =  50.5\n",
      "area = 8007.79\n"
     ]
    }
   ],
   "source": [
    "shapes = [Shape(30,30), Circle(10,20,20.5), Rectangle(5,3, 100, 70), Circle(50, 40, 50.5)]\n",
    "for s in shapes:\n",
    "    s.draw()"
   ]
  },
  {
   "cell_type": "code",
   "execution_count": 15,
   "metadata": {},
   "outputs": [
    {
     "name": "stdout",
     "output_type": "stream",
     "text": [
      "2.302585092994046\n"
     ]
    },
    {
     "ename": "NameError",
     "evalue": "name 'sqrt' is not defined",
     "output_type": "error",
     "traceback": [
      "\u001b[1;31m---------------------------------------------------------------------------\u001b[0m",
      "\u001b[1;31mNameError\u001b[0m                                 Traceback (most recent call last)",
      "\u001b[1;32m<ipython-input-15-d5790b886da7>\u001b[0m in \u001b[0;36m<module>\u001b[1;34m\u001b[0m\n\u001b[0;32m      2\u001b[0m \u001b[1;32mfrom\u001b[0m \u001b[0mmath\u001b[0m \u001b[1;32mimport\u001b[0m \u001b[0mlog\u001b[0m\u001b[1;33m\u001b[0m\u001b[1;33m\u001b[0m\u001b[0m\n\u001b[0;32m      3\u001b[0m \u001b[0mprint\u001b[0m\u001b[1;33m(\u001b[0m\u001b[0mlog\u001b[0m\u001b[1;33m(\u001b[0m\u001b[1;36m10\u001b[0m\u001b[1;33m)\u001b[0m\u001b[1;33m)\u001b[0m   \u001b[1;31m#log함수 직접 접근\u001b[0m\u001b[1;33m\u001b[0m\u001b[1;33m\u001b[0m\u001b[0m\n\u001b[1;32m----> 4\u001b[1;33m \u001b[0mprint\u001b[0m\u001b[1;33m(\u001b[0m\u001b[0msqrt\u001b[0m\u001b[1;33m(\u001b[0m\u001b[1;36m10\u001b[0m\u001b[1;33m)\u001b[0m\u001b[1;33m)\u001b[0m\u001b[1;33m\u001b[0m\u001b[1;33m\u001b[0m\u001b[0m\n\u001b[0m",
      "\u001b[1;31mNameError\u001b[0m: name 'sqrt' is not defined"
     ]
    }
   ],
   "source": [
    "#math 모듈의 log함수만 가져와 직접 접근\n",
    "from math import log\n",
    "print(log(10))   #log함수 직접 접근\n",
    "print(sqrt(10))"
   ]
  },
  {
   "cell_type": "code",
   "execution_count": 16,
   "metadata": {},
   "outputs": [
    {
     "name": "stdout",
     "output_type": "stream",
     "text": [
      "2.302585092994046\n",
      "3.1622776601683795\n"
     ]
    },
    {
     "ename": "NameError",
     "evalue": "name 'math' is not defined",
     "output_type": "error",
     "traceback": [
      "\u001b[1;31m---------------------------------------------------------------------------\u001b[0m",
      "\u001b[1;31mNameError\u001b[0m                                 Traceback (most recent call last)",
      "\u001b[1;32m<ipython-input-16-4eade9fa7cff>\u001b[0m in \u001b[0;36m<module>\u001b[1;34m\u001b[0m\n\u001b[0;32m      3\u001b[0m \u001b[0mprint\u001b[0m\u001b[1;33m(\u001b[0m\u001b[0mm\u001b[0m\u001b[1;33m.\u001b[0m\u001b[0mlog\u001b[0m\u001b[1;33m(\u001b[0m\u001b[1;36m10\u001b[0m\u001b[1;33m)\u001b[0m\u001b[1;33m)\u001b[0m\u001b[1;33m\u001b[0m\u001b[1;33m\u001b[0m\u001b[0m\n\u001b[0;32m      4\u001b[0m \u001b[0mprint\u001b[0m\u001b[1;33m(\u001b[0m\u001b[0mm\u001b[0m\u001b[1;33m.\u001b[0m\u001b[0msqrt\u001b[0m\u001b[1;33m(\u001b[0m\u001b[1;36m10\u001b[0m\u001b[1;33m)\u001b[0m\u001b[1;33m)\u001b[0m\u001b[1;33m\u001b[0m\u001b[1;33m\u001b[0m\u001b[0m\n\u001b[1;32m----> 5\u001b[1;33m \u001b[0mprint\u001b[0m\u001b[1;33m(\u001b[0m\u001b[0mmath\u001b[0m\u001b[1;33m.\u001b[0m\u001b[0mexp\u001b[0m\u001b[1;33m(\u001b[0m\u001b[1;36m10\u001b[0m\u001b[1;33m)\u001b[0m\u001b[1;33m)\u001b[0m\u001b[1;33m\u001b[0m\u001b[1;33m\u001b[0m\u001b[0m\n\u001b[0m",
      "\u001b[1;31mNameError\u001b[0m: name 'math' is not defined"
     ]
    }
   ],
   "source": [
    "#math 모듈을 m이란 이름으로 가져오기\n",
    "import math as m\n",
    "print(m.log(10))\n",
    "print(m.sqrt(10))\n",
    "print(math.exp(10))"
   ]
  },
  {
   "cell_type": "code",
   "execution_count": 17,
   "metadata": {},
   "outputs": [
    {
     "name": "stdout",
     "output_type": "stream",
     "text": [
      "2.302585092994046\n",
      "3.1622776601683795\n"
     ]
    }
   ],
   "source": [
    "#math 모듈의 함수, 클래스, 변수를 math로 접근\n",
    "import math\n",
    "print(math.log(10))\n",
    "print(math.sqrt(10))"
   ]
  },
  {
   "cell_type": "code",
   "execution_count": 18,
   "metadata": {},
   "outputs": [
    {
     "data": {
      "text/plain": [
       "['DirEntry',\n",
       " 'F_OK',\n",
       " 'MutableMapping',\n",
       " 'O_APPEND',\n",
       " 'O_BINARY',\n",
       " 'O_CREAT',\n",
       " 'O_EXCL',\n",
       " 'O_NOINHERIT',\n",
       " 'O_RANDOM',\n",
       " 'O_RDONLY',\n",
       " 'O_RDWR',\n",
       " 'O_SEQUENTIAL',\n",
       " 'O_SHORT_LIVED',\n",
       " 'O_TEMPORARY',\n",
       " 'O_TEXT',\n",
       " 'O_TRUNC',\n",
       " 'O_WRONLY',\n",
       " 'P_DETACH',\n",
       " 'P_NOWAIT',\n",
       " 'P_NOWAITO',\n",
       " 'P_OVERLAY',\n",
       " 'P_WAIT',\n",
       " 'PathLike',\n",
       " 'R_OK',\n",
       " 'SEEK_CUR',\n",
       " 'SEEK_END',\n",
       " 'SEEK_SET',\n",
       " 'TMP_MAX',\n",
       " 'W_OK',\n",
       " 'X_OK',\n",
       " '_AddedDllDirectory',\n",
       " '_Environ',\n",
       " '__all__',\n",
       " '__builtins__',\n",
       " '__cached__',\n",
       " '__doc__',\n",
       " '__file__',\n",
       " '__loader__',\n",
       " '__name__',\n",
       " '__package__',\n",
       " '__spec__',\n",
       " '_check_methods',\n",
       " '_execvpe',\n",
       " '_exists',\n",
       " '_exit',\n",
       " '_fspath',\n",
       " '_get_exports_list',\n",
       " '_putenv',\n",
       " '_unsetenv',\n",
       " '_wrap_close',\n",
       " 'abc',\n",
       " 'abort',\n",
       " 'access',\n",
       " 'add_dll_directory',\n",
       " 'altsep',\n",
       " 'chdir',\n",
       " 'chmod',\n",
       " 'close',\n",
       " 'closerange',\n",
       " 'cpu_count',\n",
       " 'curdir',\n",
       " 'defpath',\n",
       " 'device_encoding',\n",
       " 'devnull',\n",
       " 'dup',\n",
       " 'dup2',\n",
       " 'environ',\n",
       " 'error',\n",
       " 'execl',\n",
       " 'execle',\n",
       " 'execlp',\n",
       " 'execlpe',\n",
       " 'execv',\n",
       " 'execve',\n",
       " 'execvp',\n",
       " 'execvpe',\n",
       " 'extsep',\n",
       " 'fdopen',\n",
       " 'fsdecode',\n",
       " 'fsencode',\n",
       " 'fspath',\n",
       " 'fstat',\n",
       " 'fsync',\n",
       " 'ftruncate',\n",
       " 'get_exec_path',\n",
       " 'get_handle_inheritable',\n",
       " 'get_inheritable',\n",
       " 'get_terminal_size',\n",
       " 'getcwd',\n",
       " 'getcwdb',\n",
       " 'getenv',\n",
       " 'getlogin',\n",
       " 'getpid',\n",
       " 'getppid',\n",
       " 'isatty',\n",
       " 'kill',\n",
       " 'linesep',\n",
       " 'link',\n",
       " 'listdir',\n",
       " 'lseek',\n",
       " 'lstat',\n",
       " 'makedirs',\n",
       " 'mkdir',\n",
       " 'name',\n",
       " 'open',\n",
       " 'pardir',\n",
       " 'path',\n",
       " 'pathsep',\n",
       " 'pipe',\n",
       " 'popen',\n",
       " 'putenv',\n",
       " 'read',\n",
       " 'readlink',\n",
       " 'remove',\n",
       " 'removedirs',\n",
       " 'rename',\n",
       " 'renames',\n",
       " 'replace',\n",
       " 'rmdir',\n",
       " 'scandir',\n",
       " 'sep',\n",
       " 'set_handle_inheritable',\n",
       " 'set_inheritable',\n",
       " 'spawnl',\n",
       " 'spawnle',\n",
       " 'spawnv',\n",
       " 'spawnve',\n",
       " 'st',\n",
       " 'startfile',\n",
       " 'stat',\n",
       " 'stat_result',\n",
       " 'statvfs_result',\n",
       " 'strerror',\n",
       " 'supports_bytes_environ',\n",
       " 'supports_dir_fd',\n",
       " 'supports_effective_ids',\n",
       " 'supports_fd',\n",
       " 'supports_follow_symlinks',\n",
       " 'symlink',\n",
       " 'sys',\n",
       " 'system',\n",
       " 'terminal_size',\n",
       " 'times',\n",
       " 'times_result',\n",
       " 'truncate',\n",
       " 'umask',\n",
       " 'uname_result',\n",
       " 'unlink',\n",
       " 'urandom',\n",
       " 'utime',\n",
       " 'waitpid',\n",
       " 'walk',\n",
       " 'write']"
      ]
     },
     "execution_count": 18,
     "metadata": {},
     "output_type": "execute_result"
    }
   ],
   "source": [
    "#운영체제 동작 관련 모듈\n",
    "import os\n",
    "dir(os)   #os 모듈에 포함된 변수, 함수, 클래스 확인"
   ]
  },
  {
   "cell_type": "code",
   "execution_count": 19,
   "metadata": {},
   "outputs": [
    {
     "data": {
      "text/plain": [
       "'C:\\\\Users\\\\김준석\\\\데이터처리프로그래밍'"
      ]
     },
     "execution_count": 19,
     "metadata": {},
     "output_type": "execute_result"
    }
   ],
   "source": [
    "os.getcwd()   # Return the current working directory\n",
    "\n",
    "#현재 작업 디렉토리를 확인할 수 있게 해주는 함수"
   ]
  },
  {
   "cell_type": "code",
   "execution_count": null,
   "metadata": {},
   "outputs": [],
   "source": [
    "os.chdir ()  #디렉토리를 바꾸는 함수\n",
    "os.gercwd()"
   ]
  },
  {
   "cell_type": "code",
   "execution_count": 21,
   "metadata": {},
   "outputs": [
    {
     "data": {
      "text/plain": [
       "'C:\\\\Users\\\\김준석\\\\데이터처리프로그래밍\\\\today\\\\today'"
      ]
     },
     "execution_count": 21,
     "metadata": {},
     "output_type": "execute_result"
    }
   ],
   "source": [
    "import os\n",
    "os.system('mkdir today')   #시스템 명령 처리  (디렉토리 생성 명령, mkdir)\n",
    "os.chdir('./today')\n",
    "os.getcwd()   #현재 작업 디렉터리 확인"
   ]
  },
  {
   "cell_type": "code",
   "execution_count": 22,
   "metadata": {},
   "outputs": [
    {
     "data": {
      "text/plain": [
       "'C:\\\\Users\\\\김준석\\\\데이터처리프로그래밍\\\\today'"
      ]
     },
     "execution_count": 22,
     "metadata": {},
     "output_type": "execute_result"
    }
   ],
   "source": [
    "os.chdir('..')  #이전 디렉토리로 이동\n",
    "os.getcwd()   #현재 작업 디렉토리 확인"
   ]
  },
  {
   "cell_type": "code",
   "execution_count": 23,
   "metadata": {},
   "outputs": [
    {
     "data": {
      "text/plain": [
       "['today']"
      ]
     },
     "execution_count": 23,
     "metadata": {},
     "output_type": "execute_result"
    }
   ],
   "source": [
    "os.listdir()"
   ]
  },
  {
   "cell_type": "code",
   "execution_count": 24,
   "metadata": {},
   "outputs": [],
   "source": [
    "os.rmdir('today')  #디렉토리 삭제"
   ]
  },
  {
   "cell_type": "code",
   "execution_count": 25,
   "metadata": {},
   "outputs": [
    {
     "data": {
      "text/plain": [
       "[]"
      ]
     },
     "execution_count": 25,
     "metadata": {},
     "output_type": "execute_result"
    }
   ],
   "source": [
    "os.listdir()"
   ]
  },
  {
   "cell_type": "code",
   "execution_count": 26,
   "metadata": {},
   "outputs": [
    {
     "name": "stdout",
     "output_type": "stream",
     "text": [
      "36\n",
      "36\n",
      "35\n"
     ]
    }
   ],
   "source": [
    "#올림(ceil()), 내림(floor()) 함수\n",
    "import math\n",
    "x = 35.6\n",
    "x1 = round(x)   #반올림\n",
    "x2 = math.ceil(x)   #무조건 올림\n",
    "x3 = math.floor(x)   #무조건 내림\n",
    "print(x1)\n",
    "print(x2)\n",
    "print(x3)"
   ]
  },
  {
   "cell_type": "code",
   "execution_count": 27,
   "metadata": {},
   "outputs": [
    {
     "name": "stdout",
     "output_type": "stream",
     "text": [
      "0.7071067811865476\n",
      "10.0\n"
     ]
    }
   ],
   "source": [
    "#cos(), log()\n",
    "print(math.cos(math.pi  /  4))\n",
    "print(math.log(1024, 2))"
   ]
  },
  {
   "cell_type": "code",
   "execution_count": 28,
   "metadata": {},
   "outputs": [
    {
     "name": "stdout",
     "output_type": "stream",
     "text": [
      "['apple', 'cherry', 'banana']\n",
      "['cherry', 'banana', 'apple']\n",
      "cherry\n",
      "[73, 37, 75, 93, 94, 80, 12, 6, 76, 3]\n",
      "random.random()\n",
      "0.5785872237432486 0.5042044065885717 0.46845385731882294 0.2179280911684608 0.15814993593743065 \n",
      "random.randrange(1, 7)\n",
      "3 4 4 2 1 "
     ]
    }
   ],
   "source": [
    "import random\n",
    "l = ['apple','cherry', 'banana']\n",
    "print(l)\n",
    "random.shuffle(l)   #리스트의 순서를 랜덤으로 섞기\n",
    "print(l)\n",
    "c = random.choice(l)  #리스트에서 임의로 1개 선택\n",
    "print(c)\n",
    "s = random.sample(range(100), 10)  #중복없이 샘플링, 0-99 사이에 10개를 랜덤 추출\n",
    "print(s)\n",
    "print(\"random.random()\")\n",
    "for i in range(5):\n",
    "    r = random.random()   #random float, 0~1 사이의 랜덤 실수값\n",
    "    print(r, end=\" \")\n",
    "print(\"\\nrandom.randrange(1, 7)\")\n",
    "for i in range(5):\n",
    "    r = random.randrange(1, 7)  #range(1,7): 1~6 범위의 랜덤 정수 값\n",
    "    print(r, end= \" \")"
   ]
  },
  {
   "cell_type": "code",
   "execution_count": 29,
   "metadata": {},
   "outputs": [
    {
     "name": "stdout",
     "output_type": "stream",
     "text": [
      "[(1, 22), (2, 11), (3, 10), (4, 18), (5, 19), (6, 20)]\n",
      "[(1, 0.22), (2, 0.11), (3, 0.1), (4, 0.18), (5, 0.19), (6, 0.2)]\n"
     ]
    }
   ],
   "source": [
    "from collections import Counter\n",
    "t = 100\n",
    "n = [ random.randrange(1,7) for i in range(t)]   #1~6사이의 랜덤 정수를 100번 추출하여 리스트로 생성\n",
    "c = Counter(n)  #리스트의 값을 카운팅\n",
    "sc = sorted(c.items())  #정렬된 카운팅 결과 확인\n",
    "print(sc)\n",
    "p={}\n",
    "for k, v in c.items():   #리스트의 카운팅 값으로 각 키의 확률 계산\n",
    "    p[k] = v / t    #각 개수를 전체 개수로 나누어 확률 계산\n",
    "sp = sorted(p.items())  #정렬된 확률 확인\n",
    "print(sp)"
   ]
  },
  {
   "cell_type": "code",
   "execution_count": 30,
   "metadata": {},
   "outputs": [
    {
     "name": "stdout",
     "output_type": "stream",
     "text": [
      "radius=83.29 area=21793.43\n",
      "radius=37.49 area=4415.61\n",
      "radius=30.87 area=2993.49\n",
      "radius=10.16 area=323.98\n",
      "radius=29.20 area=2678.01\n"
     ]
    }
   ],
   "source": [
    "import math\n",
    "import random\n",
    "\n",
    "def circleArea(r):\n",
    "    a = math.pi * r ** 2\n",
    "    return a \n",
    "\n",
    "for i in range(5):\n",
    "    r = random.random() * 100\n",
    "    a = circleArea(r)\n",
    "    out = 'radius={0:.2F} area={1:.2f}'\n",
    "    print(out.format(r, a))"
   ]
  },
  {
   "cell_type": "code",
   "execution_count": 31,
   "metadata": {},
   "outputs": [
    {
     "name": "stdout",
     "output_type": "stream",
     "text": [
      "today =  2021-05-27\n",
      "today =  2021-05-27\n",
      "d =  21/05/26\n",
      "d =  2021 May 26 Wednesday\n",
      "now =  2021-05-27T20:11:29.570672\n",
      "now =  21-05-27, 20:11:$S\n",
      "dt =  2021-05-26, 12:10:25\n"
     ]
    }
   ],
   "source": [
    "#datetime 모듈의 datetime, date, time 클래스 이용\n",
    "from datetime import datetime, date, time\n",
    "\n",
    "#날짜형 데이터 생성 \n",
    "today = date.today()\n",
    "print(\"today = \", today)\n",
    "print(\"today = \", today.isoformat())\n",
    "d = date(year=2021, month=5, day=26)\n",
    "print(\"d = \", d.strftime(\"%y/%m/%d\"))  # 형식 문자열로 날짜 표현, 2자리 년도, 2자리 월, 일\n",
    "print(\"d = \", d.strftime(\"%Y %B %d %A\"))  #4자리 년도, 월 문자열, 일, 요일 문자열\n",
    "\n",
    "#날짜 시간형데이터 생성\n",
    "now = datetime.now()\n",
    "print(\"now = \", now.isoformat())\n",
    "print(\"now = \", now.strftime(\"%y-%m-%d, %H:%M:$S\"))\n",
    "dt = datetime(2021, 5, 26, 12, 10, 25, 0)\n",
    "print(\"dt = \", dt.strftime(\"%Y-%m-%d, %H:%M:%S\"))"
   ]
  },
  {
   "cell_type": "code",
   "execution_count": 33,
   "metadata": {},
   "outputs": [
    {
     "name": "stdout",
     "output_type": "stream",
     "text": [
      "년:  2021 월:  5 일:  27\n",
      "시:  20 분:  11 초:  29\n",
      "microsecond:  570672\n",
      "dt2 =  2021-05-26T13:30:00\n",
      "dt2.date() =  2021-05-26\n",
      "dt2.time() =  13:30:00\n",
      "d2 =  2021-06-01T00:00:00\n",
      "d3 =  2021-06-15T13:10:30\n"
     ]
    }
   ],
   "source": [
    "#날짜, 시간 속성\n",
    "print(\"년: \",now.year, \"월: \", now.month, \"일: \",now.day)\n",
    "print(\"시: \",now.hour, \"분: \",now.minute, \"초: \",now.second)\n",
    "print(\"microsecond: \",now.microsecond)\n",
    "\n",
    "#시간형 데이터\n",
    "t = time(13, 30)\n",
    "dt2 = datetime.combine(d, t)   #날짜, 시간을 결합하여 날짜시간형 생성\n",
    "print(\"dt2 = \", dt2.isoformat())\n",
    "print(\"dt2.date() = \", dt2.date())  #날짜형 반환\n",
    "print(\"dt2.time() = \", dt2.time())  #시간형 반환\n",
    "\n",
    "#dateutil 모듈을 사용하여 다양한 문자열 형식의 날짜를 분석\n",
    "from dateutil import parser\n",
    "d2 = parser.parse(\"1th of June, 2021\")\n",
    "print(\"d2 = \", d2.isoformat())\n",
    "d3 = parser.parse(\"2021-6-15, 1:10:30 PM\")\n",
    "print(\"d3 = \", d3.isoformat())"
   ]
  },
  {
   "cell_type": "code",
   "execution_count": 35,
   "metadata": {},
   "outputs": [
    {
     "name": "stdout",
     "output_type": "stream",
     "text": [
      "today =:  2021-05-27\n",
      "주민등록번호 7자리 입력 (0: 종료) ? 9704281\n",
      "970428   1\n",
      "Birthday =  1997-04-28\n",
      "Birth weekday =  Monday\n",
      "Age =  25\n",
      "Gender =  남자\n",
      "주민등록번호 7자리 입력 (0: 종료) ? 0\n"
     ]
    }
   ],
   "source": [
    "from datetime import date\n",
    "\n",
    "today = date.today()\n",
    "print(\"today =: \", today)\n",
    "while True:\n",
    "    idnum = input(\"주민등록번호 7자리 입력 (0: 종료) ? \")\n",
    "    if (idnum == '0'):\n",
    "            break\n",
    "    bd = idnum[:6]\n",
    "    s = idnum[6]\n",
    "    print(bd, \" \", s)\n",
    "    if s == \"1\" :\n",
    "        y = \"19\"\n",
    "        gender = \"남자\"\n",
    "    elif s == \"2\":\n",
    "        y = \"19\"\n",
    "        gender = \"여자\"\n",
    "    elif s == \"3\" :\n",
    "        y = \"20\"\n",
    "        gender = \"남자\"\n",
    "    elif s == \"4\":\n",
    "        y = \"20\"\n",
    "        gender = \"여자\"\n",
    "        \n",
    "    else:\n",
    "        print(\"주민번호 입력 오류 입니다.\")\n",
    "        continue\n",
    "        \n",
    "    yy = int(y+bd[:2])\n",
    "    mm = int(bd[2:4])\n",
    "    dd = int(bd[4:])\n",
    "    birthday = date(yy, mm, dd)\n",
    "    print(\"Birthday = \", birthday)\n",
    "    print(\"Birth weekday = \", birthday.strftime(\"%A\"))\n",
    "    age = today.year - birthday.year + 1\n",
    "    print(\"Age = \", age)\n",
    "    print(\"Gender = \", gender)"
   ]
  },
  {
   "cell_type": "code",
   "execution_count": null,
   "metadata": {},
   "outputs": [],
   "source": []
  }
 ],
 "metadata": {
  "kernelspec": {
   "display_name": "Python 3",
   "language": "python",
   "name": "python3"
  },
  "language_info": {
   "codemirror_mode": {
    "name": "ipython",
    "version": 3
   },
   "file_extension": ".py",
   "mimetype": "text/x-python",
   "name": "python",
   "nbconvert_exporter": "python",
   "pygments_lexer": "ipython3",
   "version": "3.8.5"
  }
 },
 "nbformat": 4,
 "nbformat_minor": 4
}
