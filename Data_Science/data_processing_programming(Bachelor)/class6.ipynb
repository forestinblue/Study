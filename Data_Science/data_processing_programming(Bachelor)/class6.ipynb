{
 "cells": [
  {
   "cell_type": "code",
   "execution_count": 1,
   "metadata": {},
   "outputs": [
    {
     "name": "stdout",
     "output_type": "stream",
     "text": [
      "s=  [1, 5, 3]\n",
      "s= [1, 5, 3, 10, 20]\n",
      "s= [1, 5, 3, 10]\n",
      "p= 20\n"
     ]
    }
   ],
   "source": [
    "#stack push, pop\n",
    "s=[1, 5, 3]\n",
    "print('s= ',s)\n",
    "s.append(10) #push 처리\n",
    "s.append(20)\n",
    "print('s=', s)\n",
    "p = s.pop() #pop 처리\n",
    "print('s=',s)\n",
    "print('p=',p)"
   ]
  },
  {
   "cell_type": "code",
   "execution_count": 2,
   "metadata": {},
   "outputs": [
    {
     "name": "stdout",
     "output_type": "stream",
     "text": [
      "s= []\n",
      "r= [2, 9, 3, 5, 1]\n"
     ]
    }
   ],
   "source": [
    "#stack pop을 이용한 reverse\n",
    "s=[1,5,3,9,2]\n",
    "r=[]\n",
    "l= range(len(s)) #s의 길이 만큼 반복\n",
    "for i in l:\n",
    "    p = s.pop()\n",
    "    r.append(p)\n",
    "print('s=', s)\n",
    "print('r=', r)"
   ]
  },
  {
   "cell_type": "code",
   "execution_count": 4,
   "metadata": {},
   "outputs": [
    {
     "name": "stdout",
     "output_type": "stream",
     "text": [
      "다음을 선택하세요. (0.종료  1.주차  2.출차   3.주차공간확인) ?1\n",
      "차량번호를 입력하세요 ?2134\n",
      "차량번호  2134  주차완료!  주차대수 :  1\n",
      "다음을 선택하세요. (0.종료  1.주차  2.출차   3.주차공간확인) ?1\n",
      "차량번호를 입력하세요 ?2412\n",
      "차량번호  2412  주차완료!  주차대수 :  2\n",
      "다음을 선택하세요. (0.종료  1.주차  2.출차   3.주차공간확인) ?2\n",
      "차량번호를 입력하세요 ? 222\n",
      "차량번호 222 은 주차 차량이 아닙니다.\n",
      "다음을 선택하세요. (0.종료  1.주차  2.출차   3.주차공간확인) ?2134\n",
      "입력값은 0,1,2,3 만 가능합니다. \n",
      "다음을 선택하세요. (0.종료  1.주차  2.출차   3.주차공간확인) ?2\n",
      "차량번호를 입력하세요 ? 2134\n",
      "차량번호  2134  출차합니다.\n",
      "1 대 차량 재주차 완료!\n",
      "다음을 선택하세요. (0.종료  1.주차  2.출차   3.주차공간확인) ?1\n",
      "차량번호를 입력하세요 ?1234214\n",
      "차량번호  1234214  주차완료!  주차대수 :  2\n",
      "다음을 선택하세요. (0.종료  1.주차  2.출차   3.주차공간확인) ?0\n",
      "종료합니다.\n"
     ]
    }
   ],
   "source": [
    "parking = []  #주차 공간(stack)\n",
    "m = 5  #최대 주차 대수\n",
    "c = 0   #현재 주차 대수\n",
    "\n",
    "while True:\n",
    "    s = input(\"다음을 선택하세요. (0.종료  1.주차  2.출차   3.주차공간확인) ?\")\n",
    "    if (s== '0'):\n",
    "        print(\"종료합니다.\")\n",
    "        break\n",
    "    elif (s=='1'):  #주차 처리\n",
    "        if (c==m):\n",
    "            print(\"주차공간이 없습니다.\")\n",
    "        else:\n",
    "            n=input(\"차량번호를 입력하세요 ?\")\n",
    "            parking.append(n)  #주차공간에 추가\n",
    "            c += 1   #주차 대수 증가\n",
    "            print(\"차량번호 \",n, \" 주차완료!\", \" 주차대수 : \", c)\n",
    "    elif (s == '2'):\n",
    "        if (c == 0):\n",
    "            print(\"주차 차량이 없습니다\")\n",
    "        else:  #출차 처리\n",
    "            n = input(\"차량번호를 입력하세요 ? \")\n",
    "            tmp = []\n",
    "            if (n in parking):   #차량번호가 parking안에 있다면\n",
    "                p = parking.pop()   #주차 공간에서 차량 1대 추출\n",
    "                c -= 1\n",
    "                while(p != n):   #차량번호가 같을 때까지 반복\n",
    "                    tmp.append(p)  #꺼낸 차량을 임시 공간에 저장\n",
    "                    p= parking.pop() #주차 공간에서 다음 차량 추출\n",
    "                    c -= 1\n",
    "                print(\"차량번호 \", n, \" 출차합니다.\"  )\n",
    "                #임시공간에 저장된 차량 재주차, 마지막 꺼낸 차량을 먼저 주차 (임시 공간도 srack)\n",
    "                l = len(tmp)\n",
    "                for i in range(l):\n",
    "                    parking.append(tmp.pop())   #temp 임시공간 차량을 꺼내어 주차공간에 저장\n",
    "                    c += 1\n",
    "                print(l, \"대 차량 재주차 완료!\")\n",
    "            else:   #차량번호가 parking안에 없다면\n",
    "                print(\"차량번호\", n, \"은 주차 차량이 아닙니다.\")\n",
    "                \n",
    "    elif s == '3':\n",
    "        print(\" * 주차공간 현황*\")\n",
    "        print(\"주차가능 공간 : \",m - c)\n",
    "        print(\"주차차량 대수 : \", c)\n",
    "        print(\"주차차량 : \")\n",
    "        for t in parking:\n",
    "            print(t)\n",
    "    else:\n",
    "        print(\"입력값은 0,1,2,3 만 가능합니다. \")"
   ]
  },
  {
   "cell_type": "code",
   "execution_count": 6,
   "metadata": {},
   "outputs": [
    {
     "name": "stdout",
     "output_type": "stream",
     "text": [
      "s= []\n",
      "s= ['A', 'B', 'C']\n",
      "s= ['B', 'C']\n",
      "p= A\n",
      "s= ['B', 'C', 'D']\n",
      "s= ['C', 'D']\n",
      "p= B\n"
     ]
    }
   ],
   "source": [
    "#queue put, get\n",
    "s=[]\n",
    "print('s=',s)\n",
    "s.append('A')  #put 처리\n",
    "s.append('B')  #put 처리\n",
    "s.append('C')  #put 처리\n",
    "print('s=',s)\n",
    "p = s.pop(0)  #get 처리, pop(0) : 맨 앞의 데이터 추출 후 삭제\n",
    "print('s=',s)\n",
    "print('p=',p)\n",
    "s.append('D')  #put 처리\n",
    "print('s=',s)\n",
    "p= s.pop(0)   # get 처리, pop(0) : 맨앞의 데이터 추출후 삭제\n",
    "print('s=',s)\n",
    "print('p=',p)"
   ]
  },
  {
   "cell_type": "code",
   "execution_count": 7,
   "metadata": {},
   "outputs": [
    {
     "name": "stdout",
     "output_type": "stream",
     "text": [
      "s1= {1, 2, 4, 5}\n",
      "s2= {2, 3, 4, 7}\n"
     ]
    }
   ],
   "source": [
    "#리스트, 튜플을 이용ㄹ하여 세트 생성\n",
    "s1=set([1,2,5,4,2])  #리스트의 중복을 제거하고 세트가 생성\n",
    "print('s1=', s1)\n",
    "s2=set((3,7,2,4,2))  #튜플의 중보긍ㄹ 제거하고 세트가 생성\n",
    "print('s2=', s2)"
   ]
  },
  {
   "cell_type": "code",
   "execution_count": 8,
   "metadata": {},
   "outputs": [
    {
     "name": "stdout",
     "output_type": "stream",
     "text": [
      "s1= {1, 2, 4, 5, 10}\n",
      "s1= {1, 2, 4, 5}\n",
      "s1= {1, 2, 3, 4, 5, 7}\n",
      "s1= {1, 2, 3, 4, 5, 7, 9}\n",
      "s1= set()\n"
     ]
    }
   ],
   "source": [
    "# set 함수\n",
    "s1.add(10)   #추가\n",
    "print('s1=',s1)\n",
    "s1.remove(10)  #삭제\n",
    "print('s1=', s1)\n",
    "s1.update(s2)   #수정, set s2 추가, 중복제거\n",
    "print('s1=', s1)\n",
    "s1.update([5,9])  #수정, list 추가, 중복제거\n",
    "print('s1=', s1)\n",
    "s1.clear()  #모두 삭제\n",
    "print('s1=',s1)"
   ]
  },
  {
   "cell_type": "code",
   "execution_count": 9,
   "metadata": {},
   "outputs": [
    {
     "name": "stdout",
     "output_type": "stream",
     "text": [
      "s1= {1, 2, 3}\n",
      "s2= {3, 4, 5}\n",
      "union= {1, 2, 3, 4, 5}\n",
      "intersection= {3}\n",
      "difference= {1, 2}\n"
     ]
    }
   ],
   "source": [
    "#집합연산\n",
    "s1=set([1,2,3])  #리스트로 세트 생성\n",
    "s2=set([3,4,5])  #리스트로 세트 생성\n",
    "u = s1 | s2  #합집합, union\n",
    "i = s1 & s2  #교집합, intersection\n",
    "d = s1 - s2  #차집합, difference\n",
    "print('s1=', s1)\n",
    "print('s2=', s2)\n",
    "print('union=',u)\n",
    "print('intersection=',i)\n",
    "print('difference=',d)"
   ]
  },
  {
   "cell_type": "code",
   "execution_count": 10,
   "metadata": {},
   "outputs": [
    {
     "name": "stdout",
     "output_type": "stream",
     "text": [
      "tel= {'홍길동': '233-1010', '이순신': '111-2323', '황진이': '565-4848'}\n",
      "tel['홍길동']= 233-1010\n",
      "tel= {'홍길동': '233-1010', '이순신': '111-2323', '황진이': '565-4848', '이몽룡': '344-9191'}\n"
     ]
    }
   ],
   "source": [
    "#dictionary 선언 {키1: 값1, ...}\n",
    "tel = {'홍길동':'233-1010', '이순신':'111-2323','황진이':'565-4848'}\n",
    "print('tel=', tel)\n",
    "\n",
    "#키로 접근하여 값을 추출\n",
    "print(\"tel['홍길동']=\", tel['홍길동'])\n",
    "\n",
    "#새로운 키로 값을 추가\n",
    "tel['이몽룡']='344-9191'\n",
    "\n",
    "print('tel=',tel)"
   ]
  },
  {
   "cell_type": "code",
   "execution_count": 11,
   "metadata": {},
   "outputs": [
    {
     "name": "stdout",
     "output_type": "stream",
     "text": [
      "info= {'성명': '홍길동', '전화번호': '233-1010', '학과': '컴공'}\n",
      "info= {'성명': '홍길동', '전화번호': '233-1010', '학과': '데이터 과학', '나이': 22, '점수': [100, 80, 70]}\n"
     ]
    }
   ],
   "source": [
    "#개인정보 디셔너리 생성 예\n",
    "info = {'성명':'홍길동', '전화번호':'233-1010', '학과':'컴공'}\n",
    "print('info=', info)\n",
    "\n",
    "#새로운 항목 추가\n",
    "info['나이']= 22   #숫자형\n",
    "\n",
    "#새로운 항목 추가\n",
    "info['점수'] = [100, 80, 70]  #리스트형\n",
    "\n",
    "#항목 변경\n",
    "info['학과']='데이터 과학'\n",
    "\n",
    "print('info=', info)"
   ]
  },
  {
   "cell_type": "code",
   "execution_count": 12,
   "metadata": {},
   "outputs": [
    {
     "name": "stdout",
     "output_type": "stream",
     "text": [
      "items =  dict_items([('성명', '홍길동'), ('전화번호', '233-1010'), ('학과', '데이터 과학'), ('나이', 22), ('점수', [100, 80, 70])])\n",
      "keys =  dict_keys(['성명', '전화번호', '학과', '나이', '점수'])\n",
      "values =  dict_values(['홍길동', '233-1010', '데이터 과학', 22, [100, 80, 70]])\n",
      "('성명', '홍길동')\n",
      "('전화번호', '233-1010')\n",
      "('학과', '데이터 과학')\n",
      "('나이', 22)\n",
      "('점수', [100, 80, 70])\n"
     ]
    }
   ],
   "source": [
    "#key, value 추출\n",
    "items = info.items() #키-값 쌍을 튜플의 리스트로 반환 \n",
    "keys = info.keys()  #키들만 추출하여 리스트로 반환\n",
    "values = info.values()  #키들만 추출하여 리스트로 반환\n",
    "\n",
    "print('items = ', items)\n",
    "print('keys = ', keys)\n",
    "print('values = ', values)\n",
    "\n",
    "for i in items:   #items 리스트를 반복하여 키-값 튜플을 출력\n",
    "    print(i)"
   ]
  },
  {
   "cell_type": "code",
   "execution_count": 13,
   "metadata": {},
   "outputs": [
    {
     "name": "stdout",
     "output_type": "stream",
     "text": [
      "* items *\n",
      "성명 홍길동\n",
      "전화번호 233-1010\n",
      "학과 데이터 과학\n",
      "나이 22\n",
      "점수 [100, 80, 70]\n",
      "* keys *\n",
      "성명 홍길동\n",
      "전화번호 233-1010\n",
      "학과 데이터 과학\n",
      "나이 22\n",
      "점수 [100, 80, 70]\n"
     ]
    }
   ],
   "source": [
    "#key,value 추출\n",
    "print('* items *')\n",
    "for k,v in items:  #items의 키와 값을 추출하여 출력\n",
    "    print(k, v)\n",
    "    \n",
    "print('* keys *')\n",
    "for k in keys:\n",
    "    print(k, info[k])  #keys로 value를 접근"
   ]
  },
  {
   "cell_type": "code",
   "execution_count": null,
   "metadata": {},
   "outputs": [],
   "source": []
  }
 ],
 "metadata": {
  "kernelspec": {
   "display_name": "Python 3",
   "language": "python",
   "name": "python3"
  },
  "language_info": {
   "codemirror_mode": {
    "name": "ipython",
    "version": 3
   },
   "file_extension": ".py",
   "mimetype": "text/x-python",
   "name": "python",
   "nbconvert_exporter": "python",
   "pygments_lexer": "ipython3",
   "version": "3.8.5"
  }
 },
 "nbformat": 4,
 "nbformat_minor": 4
}
