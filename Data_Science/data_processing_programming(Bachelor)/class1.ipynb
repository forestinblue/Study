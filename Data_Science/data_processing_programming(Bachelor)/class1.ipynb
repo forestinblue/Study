{
 "cells": [
  {
   "cell_type": "code",
   "execution_count": 1,
   "metadata": {},
   "outputs": [
    {
     "name": "stdout",
     "output_type": "stream",
     "text": [
      "성명입력 ?김준석\n",
      "성명: 김준석\n"
     ]
    }
   ],
   "source": [
    "name = input(\"성명입력 ?\")\n",
    "print(\"성명: \" + name)"
   ]
  },
  {
   "cell_type": "code",
   "execution_count": 3,
   "metadata": {},
   "outputs": [
    {
     "name": "stdout",
     "output_type": "stream",
     "text": [
      "점수입력 ? 100\n",
      "입력점수= 100 점\n"
     ]
    }
   ],
   "source": [
    "score = int(input(\"점수입력 ? \"))\n",
    "print (\"입력점수=\", score, \"점\")"
   ]
  },
  {
   "cell_type": "code",
   "execution_count": 4,
   "metadata": {},
   "outputs": [
    {
     "name": "stdout",
     "output_type": "stream",
     "text": [
      "반지름 ? 56.78\n",
      "반지름 =  56.78\n",
      "원둘레 =  356.57840000000004\n",
      "원넓이 =  10123.260776000001\n"
     ]
    }
   ],
   "source": [
    "r = float(input(\"반지름 ? \"))\n",
    "print (\"반지름 = \", r)\n",
    "pi = 3.14\n",
    "cir = 2 * pi * r\n",
    "area = pi * r ** 2\n",
    "print(\"원둘레 = \", cir)\n",
    "print(\"원넓이 = \", area)"
   ]
  },
  {
   "cell_type": "code",
   "execution_count": 7,
   "metadata": {},
   "outputs": [
    {
     "name": "stdout",
     "output_type": "stream",
     "text": [
      "국어 ? 90\n",
      "영어 ? 90\n",
      "수학 ? 90\n",
      "총점 =  270.0\n",
      "평균 =  90.0\n"
     ]
    }
   ],
   "source": [
    "k = float(input(\"국어 ? \"))\n",
    "e = float(input(\"영어 ? \"))\n",
    "m = float(input(\"수학 ? \"))\n",
    "s = k + e + m\n",
    "a = s / 3\n",
    "print (\"총점 = \", s)\n",
    "print (\"평균 = \", a)"
   ]
  },
  {
   "cell_type": "code",
   "execution_count": 8,
   "metadata": {},
   "outputs": [
    {
     "name": "stdout",
     "output_type": "stream",
     "text": [
      "100 -1.5 abc\n",
      "100:-1.5:abc\n",
      "100 -1.5 abc\t100 -1.5 abc\n",
      "100,-1.5,abc..."
     ]
    }
   ],
   "source": [
    "x = 100\n",
    "y= -1.5\n",
    "z = 'abc'\n",
    "print(x,y,z)\n",
    "print(x,y,z, sep=':')\n",
    "print(x,y,z, end='\\t')\n",
    "print(x,y,z)\n",
    "print(x,y,z, sep=',', end='...')"
   ]
  },
  {
   "cell_type": "code",
   "execution_count": 11,
   "metadata": {},
   "outputs": [
    {
     "name": "stdout",
     "output_type": "stream",
     "text": [
      "100 -1.5 abc\n",
      "y=-1.5 x=100 z=abc\n",
      "123456789123456789123456789\n",
      "  100,     -1.50,abc  \n",
      "100  ,  -1.50   ,  abc\n"
     ]
    }
   ],
   "source": [
    "print(\"{0} {1} {2}\".format(x,y,z))\n",
    "print(\"y={1} x={0} z={2}\".format(x,y,z))\n",
    "print(\"123456789123456789123456789\")\n",
    "print(\"{0:5d},{1:10.2f},{2:5s}\".format(x,y,z)) #{0:5d}: 인덱스 0에 해당하며, 5자리 정수형\n",
    "#{1:10.2f} : 인덱스 1에 해당하며, 10자리, 소수점 2자리 실수형\n",
    "#{2:5s} : 익덱스 2에 해당하며 5자리 문자형\n",
    "\n",
    "print(\"{0:<5d},{1:^10.2f},{2:>5s}\".format(x,y,z))"
   ]
  },
  {
   "cell_type": "code",
   "execution_count": 13,
   "metadata": {},
   "outputs": [
    {
     "name": "stdout",
     "output_type": "stream",
     "text": [
      "_____+2,500.330_____\n"
     ]
    }
   ],
   "source": [
    "a = 2500.33\n",
    "print(\"{0:_^+20,.3f}\".format(a)) #채움문자:_, 가운데 정렬:^, 부호:+, 자리수 20, 천단위 콤마 :, \n",
    "#소수 이하 3자리: .3, 실수형: f\n"
   ]
  },
  {
   "cell_type": "code",
   "execution_count": 14,
   "metadata": {},
   "outputs": [
    {
     "name": "stdout",
     "output_type": "stream",
     "text": [
      "키 (cm) ? 168\n",
      "몸무게(kg) ? 60\n",
      "키    =   1.7 m\n",
      "몸무게=  60.0 kg\n",
      "BMI   =   21.26\n"
     ]
    }
   ],
   "source": [
    "h = float(input(\"키 (cm) ? \"))\n",
    "w = float(input(\"몸무게(kg) ? \"))\n",
    "hm = h / 100\n",
    "bmi = w / (hm ** 2)\n",
    "print('키    = {0:5.1f} m'.format(hm))\n",
    "print('몸무게= {0:5.1f} kg'.format(w))\n",
    "print(\"BMI   = {0:7.2f}\".format(bmi))"
   ]
  },
  {
   "cell_type": "code",
   "execution_count": 18,
   "metadata": {},
   "outputs": [
    {
     "name": "stdout",
     "output_type": "stream",
     "text": [
      "[1, 2, 3, 4]\n",
      "['red', 'green', 'blue']\n",
      "[95.4, 60, 80, 77, 99]\n",
      "['홍길동', 22, 185.3, 77.2]\n"
     ]
    }
   ],
   "source": [
    "l=[1, 2, 3, 4]\n",
    "print(l)\n",
    "colors = ['red', 'green', 'blue']\n",
    "print(colors)\n",
    "scores = [95.4, 60, 80, 77, 99]\n",
    "print(scores)\n",
    "info = [\"홍길동\", 22, 185.3, 77.2]\n",
    "print(info)"
   ]
  },
  {
   "cell_type": "code",
   "execution_count": 19,
   "metadata": {},
   "outputs": [
    {
     "name": "stdout",
     "output_type": "stream",
     "text": [
      "colors= ['red', 'green', 'blue']\n",
      "colors[0]= red\n",
      "colors[1]= green\n",
      "colors[2]= blue\n"
     ]
    },
    {
     "ename": "IndexError",
     "evalue": "list index out of range",
     "output_type": "error",
     "traceback": [
      "\u001b[1;31m---------------------------------------------------------------------------\u001b[0m",
      "\u001b[1;31mIndexError\u001b[0m                                Traceback (most recent call last)",
      "\u001b[1;32m<ipython-input-19-41366ddee3f8>\u001b[0m in \u001b[0;36m<module>\u001b[1;34m\u001b[0m\n\u001b[0;32m      4\u001b[0m \u001b[0mprint\u001b[0m\u001b[1;33m(\u001b[0m\u001b[1;34m'colors[1]='\u001b[0m\u001b[1;33m,\u001b[0m \u001b[0mcolors\u001b[0m\u001b[1;33m[\u001b[0m\u001b[1;36m1\u001b[0m\u001b[1;33m]\u001b[0m\u001b[1;33m)\u001b[0m\u001b[1;33m\u001b[0m\u001b[1;33m\u001b[0m\u001b[0m\n\u001b[0;32m      5\u001b[0m \u001b[0mprint\u001b[0m\u001b[1;33m(\u001b[0m\u001b[1;34m'colors[2]='\u001b[0m\u001b[1;33m,\u001b[0m \u001b[0mcolors\u001b[0m\u001b[1;33m[\u001b[0m\u001b[1;36m2\u001b[0m\u001b[1;33m]\u001b[0m\u001b[1;33m)\u001b[0m\u001b[1;33m\u001b[0m\u001b[1;33m\u001b[0m\u001b[0m\n\u001b[1;32m----> 6\u001b[1;33m \u001b[0mprint\u001b[0m\u001b[1;33m(\u001b[0m\u001b[1;34m'colors[3]='\u001b[0m\u001b[1;33m,\u001b[0m \u001b[0mcolors\u001b[0m\u001b[1;33m[\u001b[0m\u001b[1;36m3\u001b[0m\u001b[1;33m]\u001b[0m\u001b[1;33m)\u001b[0m\u001b[1;33m\u001b[0m\u001b[1;33m\u001b[0m\u001b[0m\n\u001b[0m",
      "\u001b[1;31mIndexError\u001b[0m: list index out of range"
     ]
    }
   ],
   "source": [
    "#list indexing\n",
    "print('colors=', colors)\n",
    "print('colors[0]=', colors[0])\n",
    "print('colors[1]=', colors[1])\n",
    "print('colors[2]=', colors[2])\n",
    "print('colors[3]=', colors[3])"
   ]
  },
  {
   "cell_type": "code",
   "execution_count": 20,
   "metadata": {},
   "outputs": [
    {
     "name": "stdout",
     "output_type": "stream",
     "text": [
      "color[0:2]= ['red', 'green']\n",
      "color[:2]= ['red', 'green']\n",
      "color[1:]= ['green', 'blue']\n",
      "color[:]= ['red', 'green', 'blue']\n",
      "color[-2:]= ['green', 'blue']\n"
     ]
    }
   ],
   "source": [
    "#slicing\n",
    "print('color[0:2]=', colors[0:2])\n",
    "print('color[:2]=', colors[:2])\n",
    "print('color[1:]=', colors[1:])\n",
    "print('color[:]=', colors[:])\n",
    "print('color[-2:]=', colors[-2:]) #끝에서 두번째부터 끝까지 범위 값들"
   ]
  },
  {
   "cell_type": "code",
   "execution_count": 21,
   "metadata": {},
   "outputs": [
    {
     "name": "stdout",
     "output_type": "stream",
     "text": [
      "[1, 2, 3, 4]\n",
      "1\n",
      "3\n",
      "4\n",
      "3\n",
      "[2, 3]\n",
      "[1, 2, 3]\n",
      "[4]\n",
      "[2, 3, 4]\n",
      "[1, 2, 3, 4]\n"
     ]
    }
   ],
   "source": [
    "#list indexing, slicing\n",
    "print(l)\n",
    "print(l[0])\n",
    "print(l[2])\n",
    "print(l[-1])\n",
    "print(l[-2])\n",
    "print(l[1:3])\n",
    "print(l[:3])\n",
    "print(l[3:])\n",
    "print(l[-3:])\n",
    "print(l[0:6])"
   ]
  },
  {
   "cell_type": "code",
   "execution_count": 23,
   "metadata": {},
   "outputs": [
    {
     "name": "stdout",
     "output_type": "stream",
     "text": [
      "colors= ['red', 'green', 'blue']\n",
      "colors[::2]= ['red', 'blue']\n",
      "colors[::-1]= ['blue', 'green', 'red']\n"
     ]
    }
   ],
   "source": [
    "#slicing step\n",
    "print('colors=', colors)\n",
    "print('colors[::2]=', colors[::2]) #시작부터 끝까지 2씩 증가하여 값들 추출\n",
    "print('colors[::-1]=', colors[::-1]) #끝부터 시작까지 역으로 1씩 감소하여 값들 추출"
   ]
  },
  {
   "cell_type": "code",
   "execution_count": 26,
   "metadata": {},
   "outputs": [
    {
     "name": "stdout",
     "output_type": "stream",
     "text": [
      "[1, 2, 3, 4, 5, 6, 7, 8, 9]\n",
      "[1, 2, 3, 4, 5, 1, 2, 3, 4, 5]\n"
     ]
    }
   ],
   "source": [
    "l1 = [1,2,3,4,5]\n",
    "l2 = [6,7,8,9]\n",
    "l3 = l1 + l2\n",
    "print(l3)\n",
    "l4 = l1 * 2\n",
    "print(l4)"
   ]
  },
  {
   "cell_type": "code",
   "execution_count": 27,
   "metadata": {},
   "outputs": [
    {
     "name": "stdout",
     "output_type": "stream",
     "text": [
      "['a', 'b', 'c', 'd', 'e', 'f', 'g']\n",
      "7\n",
      "<class 'list'>\n",
      "<class 'str'>\n",
      "['male', 1, 'female', 2]\n",
      "4\n",
      "<class 'str'>\n",
      "<class 'int'>\n"
     ]
    }
   ],
   "source": [
    "letters = ['a', 'b', 'c', 'd', 'e', 'f', 'g']\n",
    "print(letters)\n",
    "print(len(letters))\n",
    "print(type(letters))\n",
    "print(type(letters[0]))\n",
    "\n",
    "s=['male', 1, 'female', 2]\n",
    "print(s)\n",
    "print(len(s))\n",
    "print(type(s[0]))\n",
    "print(type(s[1]))"
   ]
  },
  {
   "cell_type": "code",
   "execution_count": 28,
   "metadata": {},
   "outputs": [
    {
     "name": "stdout",
     "output_type": "stream",
     "text": [
      "['a', 'b', 'c', 'd', 'e', 'f', 'g']\n",
      "['a', 'b', 'c', 'D', 'E', 'f', 'F']\n",
      "['a', 'b', 'E', 'f', 'F']\n",
      "['x', 'a', 'b', 'E', 'f', 'F']\n",
      "['x', 'a', 'b', 'E', 'f', 'F', 'h']\n",
      "['a', 'b', 'E', 'f', 'F', 'h']\n",
      "['b', 'E', 'f', 'F', 'h']\n",
      "[]\n"
     ]
    }
   ],
   "source": [
    "letters =['a', 'b', 'c', 'd', 'e', 'f', 'g']\n",
    "print(letters)\n",
    "#replace\n",
    "letters[3:5] = ['D', 'E']\n",
    "letters[6] = 'F'\n",
    "print(letters)\n",
    "#remove\n",
    "letters[2:4] = []\n",
    "print(letters)\n",
    "#insert\n",
    "letters.insert(0, 'x')\n",
    "print(letters)\n",
    "#append\n",
    "letters.append('h')\n",
    "print(letters)\n",
    "#remove\n",
    "letters.remove('x')\n",
    "print(letters)\n",
    "#del\n",
    "del letters[0]\n",
    "print(letters)\n",
    "#clear the list\n",
    "letters[:] = []\n",
    "print(letters)"
   ]
  },
  {
   "cell_type": "code",
   "execution_count": 29,
   "metadata": {},
   "outputs": [
    {
     "name": "stdout",
     "output_type": "stream",
     "text": [
      "red green blue\n"
     ]
    },
    {
     "ename": "ValueError",
     "evalue": "not enough values to unpack (expected 4, got 3)",
     "output_type": "error",
     "traceback": [
      "\u001b[1;31m---------------------------------------------------------------------------\u001b[0m",
      "\u001b[1;31mValueError\u001b[0m                                Traceback (most recent call last)",
      "\u001b[1;32m<ipython-input-29-af9a3df17c27>\u001b[0m in \u001b[0;36m<module>\u001b[1;34m\u001b[0m\n\u001b[0;32m      2\u001b[0m \u001b[0mr\u001b[0m\u001b[1;33m,\u001b[0m\u001b[0mg\u001b[0m\u001b[1;33m,\u001b[0m\u001b[0mb\u001b[0m \u001b[1;33m=\u001b[0m \u001b[0mcolors\u001b[0m\u001b[1;33m\u001b[0m\u001b[1;33m\u001b[0m\u001b[0m\n\u001b[0;32m      3\u001b[0m \u001b[0mprint\u001b[0m\u001b[1;33m(\u001b[0m\u001b[0mr\u001b[0m\u001b[1;33m,\u001b[0m\u001b[0mg\u001b[0m\u001b[1;33m,\u001b[0m\u001b[0mb\u001b[0m\u001b[1;33m)\u001b[0m\u001b[1;33m\u001b[0m\u001b[1;33m\u001b[0m\u001b[0m\n\u001b[1;32m----> 4\u001b[1;33m \u001b[0mr\u001b[0m\u001b[1;33m,\u001b[0m\u001b[0mb\u001b[0m\u001b[1;33m,\u001b[0m\u001b[0mg\u001b[0m\u001b[1;33m,\u001b[0m\u001b[0mo\u001b[0m \u001b[1;33m=\u001b[0m \u001b[0mcolors\u001b[0m\u001b[1;33m\u001b[0m\u001b[1;33m\u001b[0m\u001b[0m\n\u001b[0m",
      "\u001b[1;31mValueError\u001b[0m: not enough values to unpack (expected 4, got 3)"
     ]
    }
   ],
   "source": [
    "#unpacking 예\n",
    "r,g,b = colors \n",
    "print(r,g,b)\n",
    "r,b,g,o = colors"
   ]
  },
  {
   "cell_type": "code",
   "execution_count": 30,
   "metadata": {},
   "outputs": [
    {
     "data": {
      "text/plain": [
       "['red', 'green', 'blue']"
      ]
     },
     "execution_count": 30,
     "metadata": {},
     "output_type": "execute_result"
    }
   ],
   "source": [
    "colors"
   ]
  },
  {
   "cell_type": "code",
   "execution_count": 31,
   "metadata": {},
   "outputs": [
    {
     "name": "stdout",
     "output_type": "stream",
     "text": [
      "['kim', 'lee', 'min']\n",
      "['kim', 'lee']\n",
      "['kim', 'lee', 'park', 'min']\n",
      "['park', 'min']\n",
      "['shin', 'lee', 'park', 'min', 'song']\n",
      "['shin', 'lee', 'park']\n"
     ]
    }
   ],
   "source": [
    "names = ['kim', 'lee', 'min']\n",
    "print(names)\n",
    "print(names[:2])\n",
    "names.insert(2,'park')\n",
    "print(names)\n",
    "print(names[-2:])\n",
    "names.append('song')\n",
    "names[0] = 'shin'\n",
    "print(names)\n",
    "del names[-2:]\n",
    "print(names)"
   ]
  },
  {
   "cell_type": "code",
   "execution_count": 33,
   "metadata": {},
   "outputs": [
    {
     "name": "stdout",
     "output_type": "stream",
     "text": [
      "[[100, 80, 60], [99, 77, 100], [88, 55, 81], [70, 80, 90], [100, 95, 98]]\n",
      "A학생 국어점수 =  100\n",
      "C학생 수학점수 =  81\n",
      "D학생 전체점수 =  [70, 80, 90]\n"
     ]
    }
   ],
   "source": [
    "#2차원 리스트 생성 및 접근 예\n",
    "# A~E 학생의 국, 영, 수 점수 테이블\n",
    "A = [100, 80, 60]\n",
    "B = [99, 77, 100]\n",
    "C = [88, 55, 81]\n",
    "D = [70, 80, 90]\n",
    "E = [100, 95, 98]\n",
    "scores = [A,B,C,D,E]\n",
    "print(scores)\n",
    "\n",
    "#2차원 리스트 접근\n",
    "print (\"A학생 국어점수 = \", scores[0][0])\n",
    "print (\"C학생 수학점수 = \", scores[2][2])\n",
    "print (\"D학생 전체점수 = \", scores[3])"
   ]
  },
  {
   "cell_type": "code",
   "execution_count": 35,
   "metadata": {},
   "outputs": [
    {
     "name": "stdout",
     "output_type": "stream",
     "text": [
      "과목 수 = 3\n",
      "A학생의 점수 =  [100, 80, 60]\n",
      "A학생의 평균점수 =  80.0\n",
      "학생 수 = 5\n",
      "국어 평균점수= 91.40\n"
     ]
    }
   ],
   "source": [
    "#A학생의 평균점수 계산\n",
    "clen = len(scores[0])\n",
    "print(\"과목 수 =\", clen)\n",
    "m = (scores[0][0] + scores[0][1] + scores[0][2]) / clen\n",
    "print(\"A학생의 점수 = \", scores[0])\n",
    "print(\"A학생의 평균점수 = \", m)\n",
    "\n",
    "#국어의 평균 점수 계산\n",
    "rlen = len(scores)\n",
    "m = (scores[0][0] + scores[1][0] + scores[2][0] + scores[3][0] + scores[4][0]) / rlen\n",
    "print(\"학생 수 =\", rlen)\n",
    "print(\"국어 평균점수= {0:.2f}\".format(m)) #소수 이하 자리수 2개, 실수형"
   ]
  },
  {
   "cell_type": "code",
   "execution_count": 36,
   "metadata": {},
   "outputs": [
    {
     "name": "stdout",
     "output_type": "stream",
     "text": [
      "a= [5, 4, 3, 2, 1]\n",
      "b= [1, 2, 3, 4, 5]\n",
      "a= [5, 4, 3, 2, 1]\n",
      "b= [5, 4, 3, 2, 1]\n",
      "a= [5, 4, 3, 100, 1]\n",
      "b= [5, 4, 3, 100, 1]\n",
      "a= [5, 4, 3, 100, 1]\n",
      "b= [10, 20, 30]\n"
     ]
    }
   ],
   "source": [
    "#리스트 대입, 리스트의 주소를 대입\n",
    "a = [5,4,3,2,1]\n",
    "b = [1,2,3,4,5]\n",
    "print ('a=', a)\n",
    "print ('b=', b)\n",
    "b = a\n",
    "print ('a=', a)\n",
    "print ('b=', b)\n",
    "a[3] = 100\n",
    "print ('a=', a)\n",
    "print ('b=', b)\n",
    "b = [10,20,30]\n",
    "print ('a=', a)\n",
    "print ('b=', b)"
   ]
  },
  {
   "cell_type": "code",
   "execution_count": null,
   "metadata": {},
   "outputs": [],
   "source": []
  }
 ],
 "metadata": {
  "kernelspec": {
   "display_name": "Python 3",
   "language": "python",
   "name": "python3"
  },
  "language_info": {
   "codemirror_mode": {
    "name": "ipython",
    "version": 3
   },
   "file_extension": ".py",
   "mimetype": "text/x-python",
   "name": "python",
   "nbconvert_exporter": "python",
   "pygments_lexer": "ipython3",
   "version": "3.8.5"
  }
 },
 "nbformat": 4,
 "nbformat_minor": 4
}
