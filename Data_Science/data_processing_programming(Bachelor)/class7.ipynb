{
 "cells": [
  {
   "cell_type": "code",
   "execution_count": 2,
   "metadata": {},
   "outputs": [
    {
     "name": "stdout",
     "output_type": "stream",
     "text": [
      "[1, 2, 3, 4]\n",
      "[1, 2, 3, 4]\n",
      "[1, 2, 3, 4]\n"
     ]
    }
   ],
   "source": [
    "#1~4 연속값으로 리스트를 생성하는 방법\n",
    "#(1)#4개의 수치 나열하여 리스틑로 정의\n",
    "l1 = [1, 2, 3, 4]\n",
    "print(l1)\n",
    "#(2)빈 리스트에 반복문으로 생성된 데이터를 추가\n",
    "l2 = []\n",
    "for i in range(1,5):\n",
    "    l2.append(i)\n",
    "print(l2)\n",
    "#(3)list comprehension 사용\n",
    "#리스트 안에서 반복문으로 값을 생성\n",
    "l = [i for i in range(1,5)]\n",
    "print(l)"
   ]
  },
  {
   "cell_type": "code",
   "execution_count": 5,
   "metadata": {},
   "outputs": [
    {
     "name": "stdout",
     "output_type": "stream",
     "text": [
      "[2, 4, 6, 8]\n",
      "[1, 4, 9, 25]\n",
      "['RED', 'BLUE', 'GREEN']\n"
     ]
    }
   ],
   "source": [
    "#list comprehension 사용 예\n",
    "l = [2*i for i in range(1,5)]  #반복문으로 생성된 값을 연산한 결과로 리스트 생성\n",
    "print(l)\n",
    "\n",
    "nums = [1,2,3,5]\n",
    "squares = [ x ** 2 for x in nums ]\n",
    "print(squares)\n",
    "\n",
    "colors = ['red', 'blue', 'green']\n",
    "ucolors = [c.upper() for c in colors ]\n",
    "print(ucolors)"
   ]
  },
  {
   "cell_type": "code",
   "execution_count": 6,
   "metadata": {},
   "outputs": [
    {
     "name": "stdout",
     "output_type": "stream",
     "text": [
      "['apple', 'banana', 'mango']\n",
      "['apple', 'banana', 'mango']\n"
     ]
    }
   ],
   "source": [
    "#list comprehension 사용 예\n",
    "#반복문으로 생성된 값을 조건으로 필터링한 결과로 리스트 생성\n",
    "\n",
    "#'a'글자가 들어간 과일명으로 리스트 생성\n",
    "fruits = [\"apple\", \"banana\", \"cherry\", \"kiwi\", \"mango\"]\n",
    "newlist = []\n",
    "\n",
    "#반복문, 조건문 사용\n",
    "for x in fruits:\n",
    "    if \"a\" in x:\n",
    "        newlist.append(x)\n",
    "print(newlist)\n",
    "\n",
    "#list comprehension 사용\n",
    "newlist = [x for x in fruits if \"a\" in x]\n",
    "print(newlist)"
   ]
  },
  {
   "cell_type": "code",
   "execution_count": 7,
   "metadata": {},
   "outputs": [
    {
     "name": "stdout",
     "output_type": "stream",
     "text": [
      "[10, 20, 30, 40, 50, 60, 70, 80, 90, 100]\n",
      "[4, 8]\n",
      "[3, 6, 12, 15, 21, 24, 30]\n",
      "['apple', 'orange', 'cherry', 'kiwi', 'mango']\n"
     ]
    }
   ],
   "source": [
    "#(1) 1에서 100 사이의 10의 배수만 리스트로 생성\n",
    "list10 = [ i for i in range(1, 101) if i % 10 == 0]\n",
    "print(list10)\n",
    "\n",
    "#(2)1~5 사이의 짝수만 2배하여 리스트 생성\n",
    "elist = [2*i for i in range(1,6) if i % 2 == 0]\n",
    "print(elist)\n",
    "\n",
    "#(3)1~10 사이의 3의배수만 제외시켜서 3배한 값을 리스트 생성\n",
    "list3 = [3*i for i in range(1,11) if i % 3 != 0]\n",
    "print(list3)\n",
    "\n",
    "#(4)fruits에서 banana가 아니면 그대로, banana이면 orange로 리스트 생성\n",
    "flist = [x if x != \"banana\" else \"orange\" for x in fruits]\n",
    "print(flist)"
   ]
  },
  {
   "cell_type": "code",
   "execution_count": 10,
   "metadata": {},
   "outputs": [
    {
     "name": "stdout",
     "output_type": "stream",
     "text": [
      "{'year': 2021, 'month': 5, 'day': 12, 'season': 'spring'}\n",
      "{'year': 2021, 'month': 5, 'day': 12}\n"
     ]
    }
   ],
   "source": [
    "#dictionary comprehension\n",
    "#두 리스트로 딕셔너리 생성\n",
    "t = ['year','month','day','season']\n",
    "d = [2021, 5, 12, 'spring']\n",
    "date1=dict(zip(t,d))\n",
    "print(date1)\n",
    "#두 리스트로 딕셔너리 생성시 조건에 따라 처리(season 제외)\n",
    "date2 = {k:v for k,v in zip(t,d) if k != 'season'}\n",
    "print(date2)"
   ]
  },
  {
   "cell_type": "code",
   "execution_count": 11,
   "metadata": {},
   "outputs": [
    {
     "name": "stdout",
     "output_type": "stream",
     "text": [
      "{'apple': 3, 'banana': 5, 'cherry': 4, 'kiwi': 2, 'mango': 1}\n",
      "{'Apple': 3, 'Banana': 5, 'Cherry': 4}\n"
     ]
    }
   ],
   "source": [
    "#fruits 디셔너리에서 수량이 3개 이상인 과일만 이름을 첫글자만 대문자로 변경한 딕셔너리 생성\n",
    "f = [(\"apple\", 3), (\"banana\", 5), (\"cherry\", 4), (\"kiwi\", 2), (\"mango\", 1)]\n",
    "fruits = dict(f)\n",
    "ufruits = {k.title():v for k, v in fruits.items() if v >= 3}\n",
    "print(fruits)\n",
    "print(ufruits)"
   ]
  },
  {
   "cell_type": "code",
   "execution_count": 13,
   "metadata": {},
   "outputs": [
    {
     "name": "stdout",
     "output_type": "stream",
     "text": [
      "deque([1, 2, 3])\n",
      "deque(['1', '2', '3'])\n",
      "sd[0] = 1\n",
      "sd[-1] = 3\n",
      " 'h' in sd =  False\n"
     ]
    }
   ],
   "source": [
    "#deque 사용을 위해 모듈 가져오기\n",
    "from collections import deque\n",
    "\n",
    "#deque 생성\n",
    "nd = deque([1,2,3])  #리스트로 생성\n",
    "print(nd)\n",
    "sd=deque(\"123\")  #문자열로 생성\n",
    "print(sd)\n",
    "\n",
    "#요소 접근 \n",
    "print('sd[0] =', sd[0])   #왼쪽 요소 접근\n",
    "print('sd[-1] =', sd[-1])  #오른쪽 요소 접근\n",
    "\n",
    "#search \n",
    "print(\" 'h' in sd = \", 'h' in sd )   #'h'를 deque에서 검색, 못찾으면 True"
   ]
  },
  {
   "cell_type": "code",
   "execution_count": 14,
   "metadata": {},
   "outputs": [
    {
     "name": "stdout",
     "output_type": "stream",
     "text": [
      "sd.append(2) =  deque([2])\n",
      "sd.appendleft('l') =  deque(['l', 2])\n",
      "sd.extend('xyz') =  deque(['l', 2, 'x', 'y', 'z'])\n",
      "sd.extendleft('abc') =  deque(['c', 'b', 'a', 'l', 2, 'x', 'y', 'z'])\n",
      "sd.pop() = z\n",
      "sd.pop() = deque(['c', 'b', 'a', 'l', 2, 'x', 'y'])\n",
      "sd.popleft() = c\n",
      "sd,popleft() = deque(['b', 'a', 'l', 2, 'x', 'y'])\n"
     ]
    }
   ],
   "source": [
    "sd = deque()\n",
    "#추가\n",
    "sd.append(2)   #오른쪽에 요소 추가\n",
    "print('sd.append(2) = ', sd)\n",
    "sd.appendleft('l')\n",
    "print(\"sd.appendleft('l') = \",sd)\n",
    "\n",
    "#확장 \n",
    "sd.extend('xyz')  #여러 요소를 오른쪽에 추가하여 확장\n",
    "print(\"sd.extend('xyz') = \", sd)\n",
    "sd.extendleft('abc')\n",
    "print(\"sd.extendleft('abc') = \", sd)\n",
    "\n",
    "#삭제\n",
    "r = sd.pop()   #오른쪽 요소 삭제\n",
    "print('sd.pop() =', r)\n",
    "print('sd.pop() =', sd)\n",
    "\n",
    "r = sd.popleft()   #왼쪽 요소 삭제\n",
    "print('sd.popleft() =', r)\n",
    "print('sd,popleft() =', sd)"
   ]
  },
  {
   "cell_type": "code",
   "execution_count": 15,
   "metadata": {},
   "outputs": [
    {
     "name": "stdout",
     "output_type": "stream",
     "text": [
      "sd.reverse() =  deque(['y', 'x', 2, 'l', 'a', 'b'])\n",
      "sd.rotate(1) =  deque(['b', 'y', 'x', 2, 'l', 'a'])\n",
      "sd.rotate(-1) =  deque(['y', 'x', 2, 'l', 'a', 'b'])\n",
      "sd.clear() =  deque([])\n"
     ]
    },
    {
     "ename": "IndexError",
     "evalue": "pop from an empty deque",
     "output_type": "error",
     "traceback": [
      "\u001b[1;31m---------------------------------------------------------------------------\u001b[0m",
      "\u001b[1;31mIndexError\u001b[0m                                Traceback (most recent call last)",
      "\u001b[1;32m<ipython-input-15-03386f6b5721>\u001b[0m in \u001b[0;36m<module>\u001b[1;34m\u001b[0m\n\u001b[0;32m     12\u001b[0m \u001b[0msd\u001b[0m\u001b[1;33m.\u001b[0m\u001b[0mclear\u001b[0m\u001b[1;33m(\u001b[0m\u001b[1;33m)\u001b[0m\u001b[1;33m\u001b[0m\u001b[1;33m\u001b[0m\u001b[0m\n\u001b[0;32m     13\u001b[0m \u001b[0mprint\u001b[0m\u001b[1;33m(\u001b[0m\u001b[1;34m'sd.clear() = '\u001b[0m\u001b[1;33m,\u001b[0m \u001b[0msd\u001b[0m\u001b[1;33m)\u001b[0m\u001b[1;33m\u001b[0m\u001b[1;33m\u001b[0m\u001b[0m\n\u001b[1;32m---> 14\u001b[1;33m \u001b[0msd\u001b[0m\u001b[1;33m.\u001b[0m\u001b[0mpop\u001b[0m\u001b[1;33m(\u001b[0m\u001b[1;33m)\u001b[0m    \u001b[1;31m#cannot pop from as empty deque\u001b[0m\u001b[1;33m\u001b[0m\u001b[1;33m\u001b[0m\u001b[0m\n\u001b[0m",
      "\u001b[1;31mIndexError\u001b[0m: pop from an empty deque"
     ]
    }
   ],
   "source": [
    "#reverse\n",
    "sd.reverse()\n",
    "print('sd.reverse() = ', sd)\n",
    "\n",
    "#rotate\n",
    "sd.rotate(1)     # right rotation\n",
    "print (\"sd.rotate(1) = \", sd)\n",
    "sd.rotate(-1)    # left rotation\n",
    "print (\"sd.rotate(-1) = \", sd)\n",
    "\n",
    "#empthy\n",
    "sd.clear()\n",
    "print('sd.clear() = ', sd)\n",
    "sd.pop()    #cannot pop from as empty deque"
   ]
  },
  {
   "cell_type": "code",
   "execution_count": 17,
   "metadata": {},
   "outputs": [
    {
     "name": "stdout",
     "output_type": "stream",
     "text": [
      "{'X': 1, 'B': 2, 'C': 3}\n",
      "OrderedDict([('X', 1), ('B', 2), ('C', 3)])\n",
      "OrderedDict([('X', 1), ('B', 2), ('C', 3)])\n"
     ]
    }
   ],
   "source": [
    "from collections import OrderedDict\n",
    "\n",
    "#파이썬 내장 dict 생성\n",
    "dic = {}\n",
    "dic['X'] = 1\n",
    "dic['B'] = 2\n",
    "dic['C'] = 3\n",
    "print(dic)\n",
    "\n",
    "#collections 모듈내의 OrderedDict 객체 생성\n",
    "od = OrderedDict()\n",
    "od['X'] = 1\n",
    "od['B'] = 2\n",
    "od['C'] = 3\n",
    "print(od)\n",
    "\n",
    "#dict로 rderedDict 객체 생성\n",
    "od2 = OrderedDict(dic)\n",
    "print(od2)"
   ]
  },
  {
   "cell_type": "code",
   "execution_count": 18,
   "metadata": {},
   "outputs": [
    {
     "name": "stdout",
     "output_type": "stream",
     "text": [
      "{'kim': 22, 'lee': 30, 'min': 40}\n",
      "OrderedDict([('kim', 22), ('lee', 30), ('min', 40)])\n",
      "items =  odict_items([('kim', 22), ('lee', 30), ('min', 40)])\n",
      "keys =  odict_keys(['kim', 'lee', 'min'])\n",
      "values =  odict_values([22, 30, 40])\n"
     ]
    }
   ],
   "source": [
    "#튜플리스트로 딕셔너리 생성\n",
    "ages= [('kim', 22), ('lee', 30), ('min', 40)]  #튜플리스트\n",
    "agedic = dict(ages)   #파이썬 내장 dict 생성\n",
    "ageodic = OrderedDict(ages)  #OrderedDict 객체 생성\n",
    "print(agedic)\n",
    "print(ageodic)\n",
    "\n",
    "#key, value 추출\n",
    "items = ageodic.items()   #키-값 쌍을 튜플의 리스트로 반환\n",
    "keys = ageodic.keys()  #키들만 추출하여 리스트로 반환\n",
    "values = ageodic.values()  #값들만 추출하여 리스트로 반환\n",
    "\n",
    "print('items = ', items )\n",
    "print('keys = ', keys)\n",
    "print('values = ', values)"
   ]
  },
  {
   "cell_type": "code",
   "execution_count": 19,
   "metadata": {},
   "outputs": [
    {
     "name": "stdout",
     "output_type": "stream",
     "text": [
      "성적 dict =  OrderedDict([('kim', [100, 50, 70]), ('lee', [90, 80, 88]), ('min', [60, 70, 8])])\n",
      "평균 dict =  OrderedDict([('kim', 73.33333333333333), ('lee', 86.0), ('min', 46.0)])\n"
     ]
    }
   ],
   "source": [
    "#성명과 3개의 점수로 구성된 성적 튜플 리스트\n",
    "scores =[('kim', [100, 50, 70]), ('lee', [90,80,88]), ('min', [60,70,8])]\n",
    "\n",
    "#성적 튜플 리스트로 성적 딕셔너리 생성\n",
    "sdic = OrderedDict(scores)   #OrderedDict 객체 생성\n",
    "#성명과 평균 점수로 구성된 평균 딕셔너리 생성\n",
    "adic = OrderedDict()\n",
    "\n",
    "#성적 딕셔너리의 아이템들을 추출하여 평균을 계산하여 평균 딕셔너리에 추가\n",
    "for k,v in sdic.items():\n",
    "    a = sum(v) / len(v)\n",
    "    adic[k] = a   #평균 딕셔너리에 성명키에 해당하는 평균점수 추가\n",
    "    \n",
    "#결과 출력\n",
    "print(\"성적 dict = \", sdic)\n",
    "print(\"평균 dict = \", adic)"
   ]
  },
  {
   "cell_type": "code",
   "execution_count": 20,
   "metadata": {},
   "outputs": [
    {
     "name": "stdout",
     "output_type": "stream",
     "text": [
      "defaultdict(<class 'int'>, {'X': 1, 'B': 0, 'C': 3})\n"
     ]
    }
   ],
   "source": [
    "from collections import defaultdict\n",
    "dd = defaultdict(int)  #값의 디폴트 자료형을 지정(int)하여 디폴트 딕셔너리 생성\n",
    "dd['X'] = 1\n",
    "dd['B']   #값을 설정하지 않으면 디폴트 자료형의 초기값으로 설정 (int형 0)\n",
    "dd['C'] = 3\n",
    "print(dd)"
   ]
  },
  {
   "cell_type": "code",
   "execution_count": 22,
   "metadata": {},
   "outputs": [
    {
     "name": "stdout",
     "output_type": "stream",
     "text": [
      "defaultdict(<class 'list'>, {'yellow': [1, 3], 'blue': [2, 4], 'red': [1], 'green': []})\n",
      "[('blue', [2, 4]), ('green', []), ('red', [1]), ('yellow', [1, 3])]\n"
     ]
    }
   ],
   "source": [
    "#list dictionary'\n",
    "s = [('yellow', 1),('blue', 2), ('yellow', 3),('blue', 4), ('red', 1)]\n",
    "d = defaultdict(list)  #list 자료향으로 디폴트 딕셔너리 생성\n",
    "for k,v in s:\n",
    "    d[k].append(v)  #리스트 형식의 값에 요소 추가\n",
    "d['green']         #value로 리스트 초기화\n",
    "print(d)    #딕셔너리 값 확인\n",
    "print(sorted(d.items()))  #키의 가나다 순으로 정렬"
   ]
  },
  {
   "cell_type": "code",
   "execution_count": 23,
   "metadata": {},
   "outputs": [
    {
     "name": "stdout",
     "output_type": "stream",
     "text": [
      "defaultdict(None, {'kim': 25, 'min': 22, 'jin': 23})\n",
      "defaultdict(<class 'int'>, {'kim': 25, 'min': 22, 'jin': 23})\n",
      "25\n"
     ]
    }
   ],
   "source": [
    "#defaultdict로 초기값 설정\n",
    "d = defaultdict(kim=25, min=22, jin=23)\n",
    "print(d)\n",
    "d = defaultdict(int, kim=25, min=22, jin=23)\n",
    "print(d)\n",
    "print(d['kim'])\n",
    "d = defaultdict(list, kim=[100, 50, 70], min=[88, 87, 80], jin=[90, 89, 97])"
   ]
  },
  {
   "cell_type": "code",
   "execution_count": 24,
   "metadata": {},
   "outputs": [
    {
     "name": "stdout",
     "output_type": "stream",
     "text": [
      "defaultdict(<class 'int'>, {'a': 3, 'b': 1, 'c': 3, 'd': 1})\n",
      "[('a', 3), ('b', 1), ('c', 3), ('d', 1)]\n"
     ]
    }
   ],
   "source": [
    "#각 문자의 개수를 value로 저장하는 딕셔너리 생성\n",
    "s = 'abcdaacc'\n",
    "d = defaultdict(int)\n",
    "for k in s:\n",
    "    d[k] += 1 #key에 대한 값이 없을 때 value가 0으로 초기화되어 카운팅 가능\n",
    "print(d)\n",
    "print(sorted(d.items()))"
   ]
  },
  {
   "cell_type": "code",
   "execution_count": 2,
   "metadata": {},
   "outputs": [
    {
     "name": "stdout",
     "output_type": "stream",
     "text": [
      "Counter({'blue': 3, 'red': 2, 'green': 1})\n",
      "Counter({'a': 3, 'd': 3, 'c': 2, 'b': 1})\n",
      "dict_keys(['a', 'b', 'c', 'd'])\n",
      "dict_values([3, 1, 2, 3])\n",
      "a 3\n",
      "b 1\n",
      "c 2\n",
      "d 3\n"
     ]
    }
   ],
   "source": [
    "from collections import Counter\n",
    "words = ['red', 'blue', 'red', 'green', 'blue', 'blue']\n",
    "cnt = Counter(words)  #list counting\n",
    "print(cnt)\n",
    "\n",
    "st = \"aabccdadd\"\n",
    "cnt = Counter(st)   #string counting\n",
    "print(cnt)\n",
    "\n",
    "print(cnt.keys())\n",
    "print(cnt.values())\n",
    "for k,v in cnt.items():\n",
    "    print(k,v)"
   ]
  },
  {
   "cell_type": "code",
   "execution_count": 3,
   "metadata": {},
   "outputs": [
    {
     "name": "stdout",
     "output_type": "stream",
     "text": [
      "Counter({'a': 3, 'd': 3, 'c': 2, 'b': 1})\n",
      "['a', 'a', 'a', 'b', 'c', 'c', 'd', 'd', 'd']\n",
      "Counter({'a': 4, 'd': 4, 'b': 2, 'c': 2, 'e': 1})\n",
      "Counter({'a': 3, 'd': 3, 'c': 2, 'b': 1, 'e': 0})\n",
      "[('a', 3), ('d', 3), ('c', 2)]\n"
     ]
    }
   ],
   "source": [
    "#Counter의 함수(메소드)\n",
    "a1 = \"aabccdadd\"\n",
    "a2 = \"abde\"\n",
    "cnt = Counter(a1)  #a1으로 카운터 객체 생성\n",
    "print(cnt)\n",
    "print(sorted(cnt.elements())) #요소들 확인\n",
    "cnt.update(a2)    #a2를 추가하여 수정\n",
    "print(cnt)\n",
    "cnt.subtract(a2)   #a2의 값을 뺀 결과\n",
    "print(cnt)\n",
    "mc = cnt.most_common(3)   #개수가 큰 값에서 작은 값 순으로 3개만 추출\n",
    "print(mc)\n"
   ]
  },
  {
   "cell_type": "code",
   "execution_count": 4,
   "metadata": {},
   "outputs": [
    {
     "name": "stdout",
     "output_type": "stream",
     "text": [
      "x =  Counter({'a': 3, 'd': 3, 'c': 2, 'b': 1})\n",
      "y =  Counter({'a': 1, 'b': 1, 'd': 1})\n",
      "x + y =  Counter({'a': 4, 'd': 4, 'b': 2, 'c': 2})\n",
      "x - y =  Counter({'a': 2, 'c': 2, 'd': 2})\n",
      "x & y =  Counter({'a': 1, 'b': 1, 'd': 1})\n",
      "x | y =  Counter({'a': 3, 'd': 3, 'c': 2, 'b': 1})\n"
     ]
    }
   ],
   "source": [
    "a1 = \"aabccdadd\"\n",
    "a2 = \"abd\"\n",
    "x = Counter(a1)\n",
    "y = Counter(a2)\n",
    "print(\"x = \", x)\n",
    "print(\"y = \", y)\n",
    "print(\"x + y = \", x + y)\n",
    "print(\"x - y = \", x - y)\n",
    "print(\"x & y = \", x & y) #교집합\n",
    "print(\"x | y = \", x | y)  #합집합"
   ]
  },
  {
   "cell_type": "code",
   "execution_count": null,
   "metadata": {},
   "outputs": [],
   "source": []
  }
 ],
 "metadata": {
  "kernelspec": {
   "display_name": "Python 3",
   "language": "python",
   "name": "python3"
  },
  "language_info": {
   "codemirror_mode": {
    "name": "ipython",
    "version": 3
   },
   "file_extension": ".py",
   "mimetype": "text/x-python",
   "name": "python",
   "nbconvert_exporter": "python",
   "pygments_lexer": "ipython3",
   "version": "3.8.5"
  }
 },
 "nbformat": 4,
 "nbformat_minor": 4
}
