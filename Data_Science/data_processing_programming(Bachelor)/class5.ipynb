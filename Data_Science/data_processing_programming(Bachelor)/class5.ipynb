{
 "cells": [
  {
   "cell_type": "markdown",
   "metadata": {},
   "source": [
    "### 문자열 인덱싱으로 문자추출 예"
   ]
  },
  {
   "cell_type": "code",
   "execution_count": 2,
   "metadata": {},
   "outputs": [
    {
     "name": "stdout",
     "output_type": "stream",
     "text": [
      "P t\n",
      "P y t h o n \n",
      "P y t h o n \n",
      "yt\n",
      "Py\n",
      "on\n",
      "Pto\n",
      "n\n",
      "hon\n",
      "Pyth\n",
      "nohtyP\n",
      "성명 :  홍길동  년도 :  2002\n"
     ]
    }
   ],
   "source": [
    "\n",
    "word='Python'\n",
    "\n",
    "print(word[0], word[2]) #word문자열에서 0,2 위치의 문자 추출\n",
    "for i in word:\n",
    "    print(i, end=\" \")\n",
    "print()\n",
    "\n",
    "for i in range(6):   #0~5 범위의 인덱스를 반복하여 word 문자열의 문자를 인덱스로 접근하여 출력\n",
    "    print (word[i], end=\" \")\n",
    "print()\n",
    "\n",
    "#slicing index, 인덱스로 범위 지정, 시작~(끝-1)\n",
    "print(word[1:3])  #slice index (1에서 (3-1)) 인덱스 범위의 문자 추출\n",
    "print(word[:2])  #앞에서 (2-1) 인덱스 범위 문자 추출\n",
    "print(word[4:])  #4에서 끝까지 인덱스 범위 문자 추출\n",
    "print(word[::2])  #처음부터 끝까지 2씩 증가하면서 문자 추출\n",
    "\n",
    "#reverse index, 마지막 인덱스부터 -를 붙여 접근\n",
    "print(word[-1])   #마지막 인덱스에 해당하는 문자 추출\n",
    "print(word[-3:])   #-3에서 끝까지\n",
    "print(word[:-2])   #처음부터 -2이전까지\n",
    "print(word[::-1])  #끝에서 처음까지 -1(1씩 감소)하면서 문자 추출\n",
    "\n",
    "#성명과 년도를 분리, 3을 기준으로 분리\n",
    "s = '홍길동2002'\n",
    "name = s[:3]\n",
    "y = s[3:]\n",
    "print(\"성명 : \", name, \" 년도 : \", y)\n"
   ]
  },
  {
   "cell_type": "markdown",
   "metadata": {},
   "source": [
    "#### 예제1. 주민등록번호 앞 6자리를 입력하여 생년,월,일을 추출하는 프로그램\n",
    "생년(year), 월(month), 일(day)을 추출하는 함수 정의"
   ]
  },
  {
   "cell_type": "code",
   "execution_count": 4,
   "metadata": {},
   "outputs": [
    {
     "name": "stdout",
     "output_type": "stream",
     "text": [
      "성명 입력 ? 김준석\n",
      "주민등록번호 앞자리 입력 ? 970428\n",
      "김준석님은97년04월28일에 태여났습니다\n",
      "성명 입력 ? ㅛ\n",
      "주민등록번호 앞자리 입력 ? y\n",
      "ㅛ님은y년월일에 태여났습니다\n",
      "성명 입력 ? y\n",
      "주민등록번호 앞자리 입력 ? y\n",
      "y님은y년월일에 태여났습니다\n",
      "성명 입력 ? q\n",
      "정말 종료하시겠습니까 (y/n) ?y\n"
     ]
    }
   ],
   "source": [
    "def year(num):\n",
    "        return (num[:2])\n",
    "    \n",
    "def month(num):\n",
    "    return (num[2:4])\n",
    "def day(num):\n",
    "    return (num[4:])\n",
    "\n",
    "while True:\n",
    "    name = input(\"성명 입력 ? \")\n",
    "    if (name == 'q'):\n",
    "        q = input(\"정말 종료하시겠습니까 (y/n) ?\")\n",
    "        if (q == 'y'):\n",
    "            break\n",
    "        else:\n",
    "            continue\n",
    "            \n",
    "    num = input(\"주민등록번호 앞자리 입력 ? \")\n",
    "    y = year(num)\n",
    "    m = month(num)\n",
    "    d = day(num)\n",
    "    r = name +\"님은\" + y + \"년\" + m + '월' + d+ '일에 태여났습니다'\n",
    "    print (r)"
   ]
  },
  {
   "cell_type": "code",
   "execution_count": 7,
   "metadata": {},
   "outputs": [
    {
     "name": "stdout",
     "output_type": "stream",
     "text": [
      "i have a dream\n",
      "i have a dream\n",
      "\n",
      "i have adream\n"
     ]
    }
   ],
   "source": [
    "s7=('i '\n",
    "   'have '\n",
    "   'a '\n",
    "   'dream')\n",
    "s8 = ('i ' 'have ' 'a '\n",
    "         'dream\\n') #\\n으로, s8과s9사이에 한개 빈줄이 생겼다\n",
    "s9 = 'i '+'have '+'a'+'dream'\n",
    "\n",
    "print(s7)\n",
    "print(s8)\n",
    "print(s9)"
   ]
  },
  {
   "cell_type": "code",
   "execution_count": 8,
   "metadata": {},
   "outputs": [
    {
     "name": "stdout",
     "output_type": "stream",
     "text": [
      "pythonpythonpython\n",
      "happyhappy!!!\n",
      "----------\n",
      "* title *\n",
      "----------\n"
     ]
    }
   ],
   "source": [
    "#문자열 반복\n",
    "p = 'python'\n",
    "s10 = p * 3 #p에 저장된 문자열을 곱하는 횟수만큼 반복\n",
    "print(s10)\n",
    "\n",
    "s = 2*\"happy\" + 3 * \"!\"\n",
    "print(s)\n",
    "\n",
    "bar = 10 * '-'\n",
    "print(bar)\n",
    "print(\"* title *\")\n",
    "print(bar)"
   ]
  },
  {
   "cell_type": "markdown",
   "metadata": {},
   "source": [
    "### 문자열 안에 특정 값을 삽입하는 처리\n",
    "    (1) %서식을 이용하여 특정 값을 형식에 맞추어 포함\n",
    "    (2) format() 함수를 이용하여 특정 값을 형식에 맞추어 포함"
   ]
  },
  {
   "cell_type": "code",
   "execution_count": 9,
   "metadata": {},
   "outputs": [
    {
     "name": "stdout",
     "output_type": "stream",
     "text": [
      "height : 170.57 cm\n",
      "height : 170.57 cm weight : 56.91 kg\n",
      "height : 170.567 cm weight : 56.91 kg\n",
      "height : 170.57 cm weight : 56.9 kg\n"
     ]
    }
   ],
   "source": [
    "h = 170.567\n",
    "w = 56.91\n",
    "out1 = 'height : %.2f cm' %h    #하나의 값만 삽입\n",
    "out2 = 'height : %.2f cm weight : %.2f kg' %(h, w) #두 개 이상값 삽입\n",
    "out3 = 'height : {0} cm weight : {1} kg'\n",
    "print (out1)\n",
    "print (out2)\n",
    "print (out3.format(h, w))  #위치값으로 삽입\n",
    "#h변수는 {0}에 소수점 2자리로, w변수는 {1}에 소수점 1자리로 출력\n",
    "out4 = 'height : {0:.2f} cm weight : {1:.1f} kg'\n",
    "print (out4.format(h,w))\n"
   ]
  },
  {
   "cell_type": "markdown",
   "metadata": {},
   "source": [
    "### 문자열(string)\n",
    "    -큰따옴표(\"\")나 작은따옴표('')안에 묶여있는 문자들\n",
    "    'hello', \"hello\",'I have a dream', '123'"
   ]
  },
  {
   "cell_type": "code",
   "execution_count": 10,
   "metadata": {},
   "outputs": [
    {
     "name": "stdout",
     "output_type": "stream",
     "text": [
      "python python\n",
      "1234\n"
     ]
    }
   ],
   "source": [
    "s1='python'\n",
    "s2='python'\n",
    "n1 = '1234'\n",
    "print(s1,s2)\n",
    "print(n1)"
   ]
  },
  {
   "cell_type": "code",
   "execution_count": 11,
   "metadata": {},
   "outputs": [
    {
     "name": "stdout",
     "output_type": "stream",
     "text": [
      "Apple Orange Banana\n",
      "Apple Apple Apple\n"
     ]
    }
   ],
   "source": [
    "f1, f2, f3 = \"Apple\", \"Orange\", \"Banana\"  #여러변수에 값 할당\n",
    "print(f1, f2, f3)\n",
    "f1 = f2 = f3 = \"Apple\"  #동일한 값 할당\n",
    "print(f1,f2,f3)"
   ]
  },
  {
   "cell_type": "code",
   "execution_count": 12,
   "metadata": {},
   "outputs": [
    {
     "name": "stdout",
     "output_type": "stream",
     "text": [
      "i\n",
      "have\n",
      "a\n",
      "dream\n"
     ]
    }
   ],
   "source": [
    "#삼중 따옴표 (\"\"\"를 사용하여 여러 줄 문자열 할당 )\n",
    "s6 = \"\"\"i\n",
    "have\n",
    "a\n",
    "dream\"\"\"\n",
    "print(s6)"
   ]
  },
  {
   "cell_type": "markdown",
   "metadata": {},
   "source": [
    "### 문자열\n",
    "    - 문자열에 큰 따옴표(\"\")나 작은 따옴표('') 표현\n",
    "        문자열에 작은 따옴표가 있고 큰 따옴표로 묶어처리\n",
    "        문자열에 큰 따옴표가 있고 작은 따옴표가 없으면 작은 따옴표로 묶어처리"
   ]
  },
  {
   "cell_type": "code",
   "execution_count": 13,
   "metadata": {},
   "outputs": [
    {
     "name": "stdout",
     "output_type": "stream",
     "text": [
      "python's string python \"string\"\n"
     ]
    }
   ],
   "source": [
    "s3=\"python's string\"\n",
    "s4='python \"string\"'\n",
    "print(s3, s4)"
   ]
  },
  {
   "cell_type": "markdown",
   "metadata": {},
   "source": [
    "    -제어문자\n",
    "        백 슬래시(\\) 뒤에 제어용 문자 사용\n",
    "        \\n : newline, \\t:tab, \\\\:backslash, \\': single quote"
   ]
  },
  {
   "cell_type": "code",
   "execution_count": 14,
   "metadata": {},
   "outputs": [
    {
     "name": "stdout",
     "output_type": "stream",
     "text": [
      "\\First \t line.\n",
      "Second line. \t I'm happy!!\n"
     ]
    }
   ],
   "source": [
    "s5='\\\\First \\t line.\\nSecond line. \\t I\\'m happy!!'\n",
    "print(s5)"
   ]
  },
  {
   "cell_type": "markdown",
   "metadata": {},
   "source": [
    "### 유니코드(Unicode) 사용\n",
    "    -문자와 대응되는 유니코드를 '\\u','\\U'로 표현\n",
    "            '\\uAC00'  : 16-bit hex value (16진수 4자리)\n",
    "            '\\U00002665': 32-bit hex value (16진수 8자리)\n",
    "    -코드 변환 함수\n",
    "        chr(): 코드(숫자)를 입력하여 문자로 반환\n",
    "        ord(): 문자를 코드(숫자)로 반환\n",
    "        "
   ]
  },
  {
   "cell_type": "code",
   "execution_count": 15,
   "metadata": {},
   "outputs": [
    {
     "name": "stdout",
     "output_type": "stream",
     "text": [
      "A 가 😊 💎 ♥\n",
      "42 0x2a *\n",
      "chs =  ['%', 'b', 'B', '나', 'Ⅸ']\n",
      "37 0x25 %\n",
      "98 0x62 b\n",
      "66 0x42 B\n",
      "45208 0xb098 나\n",
      "8552 0x2168 Ⅸ\n"
     ]
    }
   ],
   "source": [
    "#유니코드로 문자표현\n",
    "a = '\\u0041'      #16bit 16진수, 2바이트 코드\n",
    "b = '\\uAC00'\n",
    "c = '\\U0001F60A'  #32bit 16진수, 4바이트 코드\n",
    "d = '\\U0001F48E'\n",
    "e = '\\U00002665'\n",
    "\n",
    "print(a,b,c,d,e)\n",
    "\n",
    "#하나의 문자 코드 확인\n",
    "ch = '*'\n",
    "a1 = ord(ch) #문자를 숫자로 변환\n",
    "a2 = chr(a1) #숫자를 문자로 변환\n",
    "print(a1, hex(a1), a2)  #카드값을 1-진수, 16진수로 출력\n",
    "\n",
    "#리스트에 감긴 여러 문자를 확인\n",
    "chs = ['%', 'b', '\\u0042', '\\uB098', '\\U00002168']\n",
    "print('chs = ', chs)\n",
    "for ch in chs:\n",
    "    a1 = ord(ch)\n",
    "    a2 = chr(a1)\n",
    "    print(a1, hex(a1), a2)"
   ]
  },
  {
   "cell_type": "markdown",
   "metadata": {},
   "source": [
    "### 문자열 인코딩\n",
    "-문자열.encode(인코딩 방식): 문자열을 바이트 코드로 변환\n",
    "\n",
    " 인코딩 방식:\n",
    " \n",
    "     - utf-8 : 유니코드로 인코딩\n",
    "     -euc-kr : 8bit 방식 인코딩, 완성형 한글\n",
    "     - ansi(ascii): 미국표준(ascii)코드로 인코딩\n",
    "     \n",
    "-문자열.decode() : 바이트 코드를 문자열로 변환"
   ]
  },
  {
   "cell_type": "code",
   "execution_count": 24,
   "metadata": {},
   "outputs": [
    {
     "name": "stdout",
     "output_type": "stream",
     "text": [
      "s =  가나다\n",
      "utf-8 : b'\\xea\\xb0\\x80\\xeb\\x82\\x98\\xeb\\x8b\\xa4'\n",
      "euc-kr :  b'\\xb0\\xa1\\xb3\\xaa\\xb4\\xd9'\n",
      "ansi :  b'\\xb0\\xa1\\xb3\\xaa\\xb4\\xd9'\n",
      "가나다\n",
      "가나다\n",
      "가나다\n"
     ]
    }
   ],
   "source": [
    "s='가나다'\n",
    "e1 = s.encode('utf-8')  #utf-8 방식으로 인코딩\n",
    "e2 = s.encode('euc-kr')  #euc-kr 방식으로 인코딩\n",
    "e3 = s.encode('ansi')  #ansi(ascii) 방식으로 인코딩\n",
    "print ('s = ', s)\n",
    "print ('utf-8 :', e1)\n",
    "print ('euc-kr : ', e2)\n",
    "print ('ansi : ',e3)\n",
    "\n",
    "s1 = e1.decode()   #default값으로 UTF-8이 적용된다\n",
    "s2 = e2.decode('euc-kr')\n",
    "s3 = e3.decode('ansi')\n",
    "print (s1)\n",
    "print (s2)\n",
    "print (s3)"
   ]
  },
  {
   "cell_type": "markdown",
   "metadata": {},
   "source": [
    "### 문자열 함수\n",
    "\n",
    "len(): 문자열 길이, str(): 문자열 변환 \n",
    "split(): 문자열 분리, join(): 문자열 결합"
   ]
  },
  {
   "cell_type": "code",
   "execution_count": 26,
   "metadata": {},
   "outputs": [
    {
     "name": "stdout",
     "output_type": "stream",
     "text": [
      "s= i have a dream\n",
      "s100= i have a dream100\n",
      "len(s)= 14\n",
      "len(s100)= 17\n",
      "s.count(' ')= 3\n",
      "s.count('e')= 2\n",
      "['i', 'have', 'a', 'dream']\n",
      "i,have,a,dream\n",
      "['i', 'have', 'a', 'dream']\n"
     ]
    }
   ],
   "source": [
    "s = 'i have a dream'\n",
    "n=100\n",
    "s100 = s + str(n)   #100을 문자열로 변환하여 결합\n",
    "print('s=', s)\n",
    "print('s100=', s100)\n",
    "print('len(s)=', len(s))  #s문자열의 길이\n",
    "print('len(s100)=', len(s100))\n",
    "c1 = s.count(' ') #s의 빈공백 개수 반환\n",
    "c2 = s.count('e') #s의 'e'문자 개수 반환\n",
    "print('s.count(\\' \\')=', c1)\n",
    "print('s.count(\\'e\\')=', c2)\n",
    "slist = s.split(' ') #s문자열을 빈공백으로 분리하여 리스트에 대입\n",
    "print(slist)\n",
    "sjoin = \",\".join(slist) #slist를 콤마로 결합\n",
    "print(sjoin)\n",
    "slist2 = sjoin.split(',') #s를 콤마로 분리\n",
    "print(slist2)"
   ]
  },
  {
   "cell_type": "markdown",
   "metadata": {},
   "source": [
    "### 문자열 함수\n",
    "\n",
    "    -find(): 문자의 위치를 찾아서 반환, 찾는 문자나 문자열이 존재하지 않는다면 -1을 반환\n",
    "    -rfind(): 문자의 위치를 오른쪽에서부터 찾아서 반환\n",
    "    -index(): 문자의 위치를 찾아서 반환, 찾는 문자나 문자열이 존재하지 않는다면 오류발생\n",
    "    -upper(): 대문자로 변환, title() 단어 첫 글자만 대문자로 변환\n",
    "    -startswith(): 특정 단어로 시작하는지 확인, endswith() 특정 단어로 끝나는지 확인"
   ]
  },
  {
   "cell_type": "code",
   "execution_count": 27,
   "metadata": {},
   "outputs": [
    {
     "name": "stdout",
     "output_type": "stream",
     "text": [
      "s.finf('a')= 3\n",
      "s.rfind('a')= 12\n",
      "s.index('a')= 3\n",
      "s.upper()= I HAVE A DREAM\n",
      "s.title()= I Have A Dream\n",
      "s.startswith(\"dream\")= False\n",
      "s.endswith(\"dream\")= True\n"
     ]
    }
   ],
   "source": [
    "s = 'i have a dream'\n",
    "f1 = s.find('a')    #'a'문자의 위치를 찾아서 반환\n",
    "f2 = s.rfind('a')   #'a'문자의 위치를 오른쪽에서부터 찾아서 반환\n",
    "i = s.index('a')\n",
    "print(\"s.finf('a')=\", f1)\n",
    "print(\"s.rfind('a')=\", f2)\n",
    "print(\"s.index('a')=\", i)\n",
    "print(\"s.upper()=\", s.upper())  #대문자로 변환\n",
    "print(\"s.title()=\", s.title())  #단어 첫글자만 대문자로 변환\n",
    "print(\"s.startswith(\\\"dream\\\")=\", s.startswith(\"dream\"))  #'dream'으로 시작하는지 확인\n",
    "print(\"s.endswith(\\\"dream\\\")=\", s.endswith(\"dream\"))  #'dream'으로 끝나는지 확인"
   ]
  },
  {
   "cell_type": "markdown",
   "metadata": {},
   "source": [
    "### 문자열 함수\n",
    "\n",
    "예제2. 문자를 반복 입력하여 숫자끼리, 소문자 끼리 결합"
   ]
  },
  {
   "cell_type": "code",
   "execution_count": 29,
   "metadata": {},
   "outputs": [
    {
     "name": "stdout",
     "output_type": "stream",
     "text": [
      "문자 입력 ?1\n",
      "문자 입력 ?d\n",
      "문자 입력 ?a\n",
      "문자 입력 ?A\n",
      "문자 입력 ?q\n",
      "종료합니다.\n",
      "n= 1\n",
      "c= da\n"
     ]
    }
   ],
   "source": [
    "#문자를 입력받아 숫자이면 숫자변수에 결합, 소문자이면 문자변수에 결합하여 출력\n",
    "#반복 입력 q이면 종료\n",
    "n =\"\"\n",
    "c =\"\"\n",
    "while True:\n",
    "    ch = input(\"문자 입력 ?\")\n",
    "    if (ch == 'q'):\n",
    "        print(\"종료합니다.\")\n",
    "        break\n",
    "    if (ch.isdigit()):   #숫자인지 확인\n",
    "        n += ch\n",
    "    elif (ch.islower()):  #소문자인지 확인\n",
    "        c += ch\n",
    "        \n",
    "print(\"n=\", n)\n",
    "print(\"c=\", c)"
   ]
  },
  {
   "cell_type": "markdown",
   "metadata": {},
   "source": [
    "### 문자열 함수\n",
    "예제3. '홍'을 찾아서 '김'으로 변환한 문자열"
   ]
  },
  {
   "cell_type": "code",
   "execution_count": 30,
   "metadata": {},
   "outputs": [
    {
     "name": "stdout",
     "output_type": "stream",
     "text": [
      "화이팅 김길동\n",
      "화이팅 홍길동\n",
      "aeapple\n"
     ]
    }
   ],
   "source": [
    "#문자열에서 문자를 찾아서 해당위치를 기준으로 분리하여 새로운 글자를 결합\n",
    "name = \"화이팅 홍길동\"\n",
    "i = name.find('홍')\n",
    "name = name[:i] + '김' + name[i+1:]\n",
    "print(name)\n",
    "\n",
    "#replace()함수를 사용하여 문자열 변환\n",
    "name = name.replace('김', '홍')\n",
    "print(name)\n",
    "\n",
    "#문자 패턴은 생성하여 패턴에 따라 변환\n",
    "#1은 a로, 2는 b로 ... 5는 e로 변환하도록 패턴생성\n",
    "table = str.maketrans('12345', 'abcde')\n",
    "s = '15apple'\n",
    "s = s.translate(table)  #s문자열에서 table패턴에 속하는 문자를 변환\n",
    "print(s)"
   ]
  },
  {
   "cell_type": "markdown",
   "metadata": {},
   "source": [
    "### 문자열 함수\n",
    " -strip() 좌우 공백 제거\n",
    " -rstrip() 우 공백 제거\n",
    " -lstrip() 좌 공백 제거\n",
    " "
   ]
  },
  {
   "cell_type": "code",
   "execution_count": 31,
   "metadata": {},
   "outputs": [
    {
     "name": "stdout",
     "output_type": "stream",
     "text": [
      "(    홍길동    )\n",
      "strip() = ( 홍길동 )\n",
      "rstrip()= (    홍길동 )\n",
      "lstrip()= ( 홍길동    )\n"
     ]
    }
   ],
   "source": [
    "name = \"   홍길동   \"\n",
    "print(\"(\",  name,  \")\")\n",
    "print(\"strip() =\", \"(\", name.strip() , \")\")\n",
    "print(\"rstrip()=\",\"(\", name.rstrip()  ,  \")\")\n",
    "print(\"lstrip()=\", \"(\", name.lstrip(), \")\")"
   ]
  },
  {
   "cell_type": "markdown",
   "metadata": {},
   "source": [
    "### 문자열 함수\n",
    "\n",
    "예제4. 문장을 입력하고, 새로운 단어를 입력하여 문장내 검색, 문장을 대문자로 변환하여 단어 리스트에 저장, 단어의 수를 출력하는 프로그램"
   ]
  },
  {
   "cell_type": "code",
   "execution_count": 32,
   "metadata": {},
   "outputs": [
    {
     "name": "stdout",
     "output_type": "stream",
     "text": [
      "문장 입력 ? i have a dream\n",
      "단어 입력 ? dream\n",
      "단어 dream는 문장에 포함되어 있습니다.\n",
      "단어 입력 ? have\n",
      "단어 have는 문장에 포함되어 있습니다.\n",
      "단어 입력 ? sky\n",
      "단어 sky는 문장에 포함되어 있지 않습니다.\n",
      "단어 입력 ? q\n",
      "종료합니다.\n",
      "words = ['I', 'HAVE', 'A', 'DREAM']\n",
      "단어 개수  = 4\n"
     ]
    }
   ],
   "source": [
    "# 문장 입력\n",
    "s = input(\"문장 입력 ? \")\n",
    "# 찾는 단어\n",
    "while True:\n",
    "    w = input(\"단어 입력 ? \")\n",
    "    if (w == 'q'):\n",
    "        print(\"종료합니다.\")\n",
    "        break\n",
    "    if (w in s): #입력 단어가 문장에 포함여부 확인\n",
    "        print(\"단어 \" + w + \"는 문장에 포함되어 있습니다.\")\n",
    "    else:\n",
    "        print(\"단어 \" + w + \"는 문장에 포함되어 있지 않습니다.\")\n",
    "        \n",
    "#대문자로 변환\n",
    "s = s.upper()\n",
    "\n",
    "#문장에서 단어를 분리하여 리스트에 저장\n",
    "words = s.split(\" \")\n",
    "print(\"words =\", words)\n",
    "print(\"단어 개수  =\", len(words))"
   ]
  },
  {
   "cell_type": "markdown",
   "metadata": {},
   "source": [
    "### 문자열 함수\n",
    "예제 5. 문자패턴을 생성하여 암호화 하는 프로그램 작성\n",
    "\n",
    "<암호화 처리 조건>\n",
    "(1) 'abcdef'는 '!@#$%&' 패턴으로 변환\n",
    "(2) 문자를 뒤집기\n",
    "\n"
   ]
  },
  {
   "cell_type": "code",
   "execution_count": 33,
   "metadata": {},
   "outputs": [
    {
     "name": "stdout",
     "output_type": "stream",
     "text": [
      "s= i have a dream\n",
      "code =  m!%r$ ! %v!h i\n",
      "decode =  i have a dream\n"
     ]
    }
   ],
   "source": [
    "#문자 패턴을 생성하여 암호화 하는 프로그램 작성\n",
    "x = 'abcdef'\n",
    "y = '!@#$%&'\n",
    "code = str.maketrans(x, y) #암호화 패턴\n",
    "decode =str.maketrans(y, x) #복호화 패턴\n",
    "\n",
    "#문장 입력\n",
    "s = 'i have a dream'\n",
    "print(\"s=\", s)\n",
    "\n",
    "#(1)암호화 처리\n",
    "cod = s.translate(code)  #code 패턴으로 암호화\n",
    "cod = cod[::-1]   #문자열 뒤집기\n",
    "print(\"code = \", cod)\n",
    "#(2)복호화 처리\n",
    "cod = cod[::-1]  #문자열 뒤집기\n",
    "dcod = cod.translate(decode)  #decode 패턴으로 복호화\n",
    "print(\"decode = \", dcod)\n"
   ]
  }
 ],
 "metadata": {
  "kernelspec": {
   "display_name": "Python 3",
   "language": "python",
   "name": "python3"
  },
  "language_info": {
   "codemirror_mode": {
    "name": "ipython",
    "version": 3
   },
   "file_extension": ".py",
   "mimetype": "text/x-python",
   "name": "python",
   "nbconvert_exporter": "python",
   "pygments_lexer": "ipython3",
   "version": "3.8.5"
  }
 },
 "nbformat": 4,
 "nbformat_minor": 4
}
