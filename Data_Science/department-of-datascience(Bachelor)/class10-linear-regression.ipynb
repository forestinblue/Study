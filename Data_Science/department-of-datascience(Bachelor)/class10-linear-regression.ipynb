{
 "cells": [
  {
   "cell_type": "markdown",
   "metadata": {},
   "source": [
    "선형회귀\n",
    "==\n",
    "다루는 내용\n",
    "--\n",
    "- 머신러닝 개념\n",
    "- 경사하강법"
   ]
  },
  {
   "cell_type": "code",
   "execution_count": 15,
   "metadata": {},
   "outputs": [
    {
     "data": {
      "text/plain": [
       "<matplotlib.collections.PathCollection at 0x2dfb1013280>"
      ]
     },
     "execution_count": 15,
     "metadata": {},
     "output_type": "execute_result"
    },
    {
     "data": {
      "image/png": "[encoded data removed]",
      "text/plain": [
       "<Figure size 432x288 with 1 Axes>"
      ]
     },
     "metadata": {
      "needs_background": "light"
     },
     "output_type": "display_data"
    }
   ],
   "source": [
    "import numpy as np\n",
    "import pandas as pd\n",
    "import matplotlib.pyplot as plt\n",
    "%matplotlib inline\n",
    "\n",
    "n_samples = 200\n",
    "x = np.random.randn(n_samples)\n",
    "\n",
    "# 계수 및 절편\n",
    "w = 2\n",
    "b = 3\n",
    "# 노이지 \n",
    "y = w*x + b + np.random.randn(n_samples)\n",
    "plt.scatter(x,y, s=10)"
   ]
  },
  {
   "cell_type": "code",
   "execution_count": 16,
   "metadata": {},
   "outputs": [
    {
     "data": {
      "text/plain": [
       "array([[1.        , 0.89085622],\n",
       "       [0.89085622, 1.        ]])"
      ]
     },
     "execution_count": 16,
     "metadata": {},
     "output_type": "execute_result"
    }
   ],
   "source": [
    "np.corrcoef(x,y)"
   ]
  },
  {
   "cell_type": "code",
   "execution_count": 17,
   "metadata": {},
   "outputs": [
    {
     "name": "stdout",
     "output_type": "stream",
     "text": [
      "[2.09427975]\n",
      "2.8882833881464323\n"
     ]
    }
   ],
   "source": [
    "from sklearn.linear_model import LinearRegression\n",
    "leg = LinearRegression()\n",
    "leg.fit(x.reshape(-1,1), y)\n",
    "\n",
    "print(leg.coef_)\n",
    "print(leg.intercept_)"
   ]
  },
  {
   "cell_type": "markdown",
   "metadata": {},
   "source": [
    "변수가 2개인 경우\n",
    "--"
   ]
  },
  {
   "cell_type": "code",
   "execution_count": 18,
   "metadata": {},
   "outputs": [
    {
     "name": "stdout",
     "output_type": "stream",
     "text": [
      "[2.010652   3.03201971]\n",
      "4.220533379964729\n"
     ]
    }
   ],
   "source": [
    "n_samples = 200\n",
    "x1 = np.random.randn(n_samples)\n",
    "x2 = np.random.randn(n_samples)\n",
    "\n",
    "y = 2 * x1 + 3 * x2 + 4 + np.random.randn(n_samples)\n",
    "\n",
    "leg = LinearRegression()\n",
    "X = pd.DataFrame({'x1':x1, 'x2':x2})\n",
    "leg.fit(X, y)\n",
    "\n",
    "print(leg.coef_)\n",
    "print(leg.intercept_)"
   ]
  },
  {
   "cell_type": "markdown",
   "metadata": {},
   "source": [
    "경사하강법\n",
    "--"
   ]
  },
  {
   "cell_type": "code",
   "execution_count": 19,
   "metadata": {
    "scrolled": false
   },
   "outputs": [
    {
     "name": "stdout",
     "output_type": "stream",
     "text": [
      " 0 w1 = 0.749100,  w2 = 0.500826, b = 0.140256 , error = 4.433777\n",
      " 1 w1 = 1.966916,  w2 = 2.250313, b = 3.066097 , error = 1.487571\n",
      " 2 w1 = 2.090396,  w2 = 2.766535, b = 3.883715 , error = 0.953762\n",
      " 3 w1 = 2.062326,  w2 = 2.935002, b = 4.119438 , error = 0.876559\n",
      " 4 w1 = 2.035087,  w2 = 2.994844, b = 4.189405 , error = 0.864847\n",
      " 5 w1 = 2.021050,  w2 = 3.017388, b = 4.210728 , error = 0.862218\n",
      " 6 w1 = 2.014878,  w2 = 3.026184, b = 4.217381 , error = 0.861327\n",
      " 7 w1 = 2.012333,  w2 = 3.029679, b = 4.219501 , error = 0.860980\n",
      " 8 w1 = 2.011315,  w2 = 3.031080, b = 4.220189 , error = 0.860842\n",
      " 9 w1 = 2.010912,  w2 = 3.031642, b = 4.220417 , error = 0.860793\n"
     ]
    }
   ],
   "source": [
    "num_epoch = 10\n",
    "lr = 0.7\n",
    "\n",
    "w1 = np.random.uniform()\n",
    "w2 = np.random.uniform()\n",
    "b = np.random.uniform()\n",
    "\n",
    "for epoch in range(num_epoch):\n",
    "    y_pred = w1*x1 + w2*x2 + b\n",
    "    error = np.abs(y_pred - y).mean()\n",
    "    print(f\"{epoch:2} w1 = {w1:.6f},  w2 = {w2:.6f}, b = {b:.6f} , error = {error:.6f}\")\n",
    "\n",
    "    w1 = w1 - lr*((y_pred - y)* x1).mean()\n",
    "    w2 = w2 - lr*((y_pred - y)* x2).mean()\n",
    "    b = b - lr*((y_pred - y)).mean()"
   ]
  },
  {
   "cell_type": "code",
   "execution_count": 20,
   "metadata": {},
   "outputs": [
    {
     "data": {
      "text/plain": [
       "0.9180717150847808"
      ]
     },
     "execution_count": 20,
     "metadata": {},
     "output_type": "execute_result"
    }
   ],
   "source": [
    "leg.score(X,y)"
   ]
  },
  {
   "cell_type": "markdown",
   "metadata": {},
   "source": [
    "## 연습장"
   ]
  },
  {
   "cell_type": "code",
   "execution_count": 1,
   "metadata": {},
   "outputs": [],
   "source": [
    "import numpy as np\n",
    "import pandas as pd\n",
    "import matplotlib.pyplot as plt\n",
    "%matplotlib inline\n",
    "\n",
    "n_samples = 200\n",
    "x = np.random.randn(n_samples)\n"
   ]
  },
  {
   "cell_type": "code",
   "execution_count": null,
   "metadata": {},
   "outputs": [],
   "source": []
  },
  {
   "cell_type": "code",
   "execution_count": 2,
   "metadata": {
    "scrolled": false
   },
   "outputs": [
    {
     "data": {
      "text/plain": [
       "(200,)"
      ]
     },
     "execution_count": 2,
     "metadata": {},
     "output_type": "execute_result"
    }
   ],
   "source": [
    "x.shape"
   ]
  },
  {
   "cell_type": "code",
   "execution_count": 32,
   "metadata": {
    "scrolled": true
   },
   "outputs": [
    {
     "data": {
      "text/plain": [
       "array([-0.57029348,  0.93129818, -0.29359968,  0.87129802,  0.60890358,\n",
       "        1.38329649,  1.76652942,  1.79764827,  0.93737868, -1.63732613,\n",
       "        0.12783668, -1.08696558,  1.43825196, -1.43824053,  0.96778159,\n",
       "        0.61476915,  1.34283744,  1.25922705,  0.1140958 ,  0.76838654,\n",
       "       -0.46929726,  0.9517556 ,  0.16868684, -1.56501707,  0.70887371,\n",
       "       -1.73310994, -0.29990524,  1.22177305, -0.06351693,  0.19964273,\n",
       "        0.0812524 , -1.08003122,  0.71485156,  0.53521292,  1.16951976,\n",
       "        0.14284398, -0.19128141, -3.63127976,  0.07816208,  0.46306831,\n",
       "       -0.11903776,  0.35803203, -1.18892   , -0.06094348,  0.70452211,\n",
       "       -0.01647193, -0.54007148,  0.93022505,  1.4138257 , -0.35515332,\n",
       "        1.13729284, -1.30266083,  0.54020192, -0.34235175,  1.37946424,\n",
       "        0.05815185, -0.32722957, -0.65215426,  0.94466207, -1.16510185,\n",
       "       -0.39764685, -1.28891801, -0.04238259, -0.09959842, -0.56314244,\n",
       "       -1.67449002,  2.42614583,  0.3347162 , -1.12133293,  0.76079559,\n",
       "        1.52788277, -0.3511127 ,  1.97163699, -0.7206776 , -0.12222515,\n",
       "       -1.56594293, -1.25943689, -0.35237093,  0.93909942,  1.21972634,\n",
       "        0.76916856,  0.83937123,  0.72029502, -0.59032923,  0.3176033 ,\n",
       "       -0.74524324,  0.06209916, -1.58069129,  0.45246811, -1.44036463,\n",
       "        0.96013266,  1.00611334, -1.71787342,  0.17487261,  0.13771402,\n",
       "       -0.89605852,  0.16347314, -0.82554547, -0.59097447,  1.29028286,\n",
       "        1.6612659 , -0.31427366, -0.30789955,  0.01793454,  0.92913358,\n",
       "        0.16863593,  1.1967433 ,  1.69228204,  0.91304171,  0.78867164,\n",
       "       -0.26506613,  1.24488601,  2.62423817,  1.44590497,  0.92608498,\n",
       "        0.38361414, -0.96570698, -2.05795214,  0.0160254 , -1.07388349,\n",
       "       -1.09842583, -0.54754556,  1.60572146, -0.99642281,  0.32981897,\n",
       "       -0.02488401,  0.6649871 , -0.40573865,  0.4434927 ,  0.26353639,\n",
       "        0.90125228,  0.68504974,  0.37867077,  0.38273261,  0.23944513,\n",
       "       -0.44002854,  0.68699956,  0.17573132,  0.09511412,  0.3248137 ,\n",
       "        1.16296711,  1.83700705,  0.49294668, -0.16335806, -0.52224537,\n",
       "       -1.19630075,  2.02810185,  2.23242919,  1.1706263 , -0.35978016,\n",
       "       -0.91519809, -0.06428955, -1.50727485,  1.60951763,  0.29184305,\n",
       "        1.55787402,  2.71587962,  0.66926895, -1.18400368, -0.93286702,\n",
       "        0.24015408, -0.96472823,  0.70294713,  0.30500809, -1.95590807,\n",
       "       -2.22751613,  0.15358461, -1.43646663, -0.60256312, -1.17632847,\n",
       "       -0.99865951,  0.52071178,  0.07283839, -0.55165207,  0.11952291,\n",
       "        0.11677901,  0.75279828,  0.29128744,  1.03509433,  0.25211118,\n",
       "        0.91706419, -2.36206082, -0.15651546,  1.31515257, -0.813392  ,\n",
       "        0.76157396, -0.75086559, -1.21865963, -0.09673878,  0.61210535,\n",
       "       -1.75709231,  0.24624869, -0.69896458,  0.7547752 , -0.62846931,\n",
       "       -0.94316268, -0.42303759, -0.03115406, -0.44221286, -1.14513442])"
      ]
     },
     "execution_count": 32,
     "metadata": {},
     "output_type": "execute_result"
    }
   ],
   "source": [
    "x"
   ]
  },
  {
   "cell_type": "code",
   "execution_count": 30,
   "metadata": {},
   "outputs": [
    {
     "data": {
      "text/plain": [
       "array([[-0.57029348],\n",
       "       [ 0.93129818],\n",
       "       [-0.29359968],\n",
       "       [ 0.87129802],\n",
       "       [ 0.60890358],\n",
       "       [ 1.38329649],\n",
       "       [ 1.76652942],\n",
       "       [ 1.79764827],\n",
       "       [ 0.93737868],\n",
       "       [-1.63732613],\n",
       "       [ 0.12783668],\n",
       "       [-1.08696558],\n",
       "       [ 1.43825196],\n",
       "       [-1.43824053],\n",
       "       [ 0.96778159],\n",
       "       [ 0.61476915],\n",
       "       [ 1.34283744],\n",
       "       [ 1.25922705],\n",
       "       [ 0.1140958 ],\n",
       "       [ 0.76838654],\n",
       "       [-0.46929726],\n",
       "       [ 0.9517556 ],\n",
       "       [ 0.16868684],\n",
       "       [-1.56501707],\n",
       "       [ 0.70887371],\n",
       "       [-1.73310994],\n",
       "       [-0.29990524],\n",
       "       [ 1.22177305],\n",
       "       [-0.06351693],\n",
       "       [ 0.19964273],\n",
       "       [ 0.0812524 ],\n",
       "       [-1.08003122],\n",
       "       [ 0.71485156],\n",
       "       [ 0.53521292],\n",
       "       [ 1.16951976],\n",
       "       [ 0.14284398],\n",
       "       [-0.19128141],\n",
       "       [-3.63127976],\n",
       "       [ 0.07816208],\n",
       "       [ 0.46306831],\n",
       "       [-0.11903776],\n",
       "       [ 0.35803203],\n",
       "       [-1.18892   ],\n",
       "       [-0.06094348],\n",
       "       [ 0.70452211],\n",
       "       [-0.01647193],\n",
       "       [-0.54007148],\n",
       "       [ 0.93022505],\n",
       "       [ 1.4138257 ],\n",
       "       [-0.35515332],\n",
       "       [ 1.13729284],\n",
       "       [-1.30266083],\n",
       "       [ 0.54020192],\n",
       "       [-0.34235175],\n",
       "       [ 1.37946424],\n",
       "       [ 0.05815185],\n",
       "       [-0.32722957],\n",
       "       [-0.65215426],\n",
       "       [ 0.94466207],\n",
       "       [-1.16510185],\n",
       "       [-0.39764685],\n",
       "       [-1.28891801],\n",
       "       [-0.04238259],\n",
       "       [-0.09959842],\n",
       "       [-0.56314244],\n",
       "       [-1.67449002],\n",
       "       [ 2.42614583],\n",
       "       [ 0.3347162 ],\n",
       "       [-1.12133293],\n",
       "       [ 0.76079559],\n",
       "       [ 1.52788277],\n",
       "       [-0.3511127 ],\n",
       "       [ 1.97163699],\n",
       "       [-0.7206776 ],\n",
       "       [-0.12222515],\n",
       "       [-1.56594293],\n",
       "       [-1.25943689],\n",
       "       [-0.35237093],\n",
       "       [ 0.93909942],\n",
       "       [ 1.21972634],\n",
       "       [ 0.76916856],\n",
       "       [ 0.83937123],\n",
       "       [ 0.72029502],\n",
       "       [-0.59032923],\n",
       "       [ 0.3176033 ],\n",
       "       [-0.74524324],\n",
       "       [ 0.06209916],\n",
       "       [-1.58069129],\n",
       "       [ 0.45246811],\n",
       "       [-1.44036463],\n",
       "       [ 0.96013266],\n",
       "       [ 1.00611334],\n",
       "       [-1.71787342],\n",
       "       [ 0.17487261],\n",
       "       [ 0.13771402],\n",
       "       [-0.89605852],\n",
       "       [ 0.16347314],\n",
       "       [-0.82554547],\n",
       "       [-0.59097447],\n",
       "       [ 1.29028286],\n",
       "       [ 1.6612659 ],\n",
       "       [-0.31427366],\n",
       "       [-0.30789955],\n",
       "       [ 0.01793454],\n",
       "       [ 0.92913358],\n",
       "       [ 0.16863593],\n",
       "       [ 1.1967433 ],\n",
       "       [ 1.69228204],\n",
       "       [ 0.91304171],\n",
       "       [ 0.78867164],\n",
       "       [-0.26506613],\n",
       "       [ 1.24488601],\n",
       "       [ 2.62423817],\n",
       "       [ 1.44590497],\n",
       "       [ 0.92608498],\n",
       "       [ 0.38361414],\n",
       "       [-0.96570698],\n",
       "       [-2.05795214],\n",
       "       [ 0.0160254 ],\n",
       "       [-1.07388349],\n",
       "       [-1.09842583],\n",
       "       [-0.54754556],\n",
       "       [ 1.60572146],\n",
       "       [-0.99642281],\n",
       "       [ 0.32981897],\n",
       "       [-0.02488401],\n",
       "       [ 0.6649871 ],\n",
       "       [-0.40573865],\n",
       "       [ 0.4434927 ],\n",
       "       [ 0.26353639],\n",
       "       [ 0.90125228],\n",
       "       [ 0.68504974],\n",
       "       [ 0.37867077],\n",
       "       [ 0.38273261],\n",
       "       [ 0.23944513],\n",
       "       [-0.44002854],\n",
       "       [ 0.68699956],\n",
       "       [ 0.17573132],\n",
       "       [ 0.09511412],\n",
       "       [ 0.3248137 ],\n",
       "       [ 1.16296711],\n",
       "       [ 1.83700705],\n",
       "       [ 0.49294668],\n",
       "       [-0.16335806],\n",
       "       [-0.52224537],\n",
       "       [-1.19630075],\n",
       "       [ 2.02810185],\n",
       "       [ 2.23242919],\n",
       "       [ 1.1706263 ],\n",
       "       [-0.35978016],\n",
       "       [-0.91519809],\n",
       "       [-0.06428955],\n",
       "       [-1.50727485],\n",
       "       [ 1.60951763],\n",
       "       [ 0.29184305],\n",
       "       [ 1.55787402],\n",
       "       [ 2.71587962],\n",
       "       [ 0.66926895],\n",
       "       [-1.18400368],\n",
       "       [-0.93286702],\n",
       "       [ 0.24015408],\n",
       "       [-0.96472823],\n",
       "       [ 0.70294713],\n",
       "       [ 0.30500809],\n",
       "       [-1.95590807],\n",
       "       [-2.22751613],\n",
       "       [ 0.15358461],\n",
       "       [-1.43646663],\n",
       "       [-0.60256312],\n",
       "       [-1.17632847],\n",
       "       [-0.99865951],\n",
       "       [ 0.52071178],\n",
       "       [ 0.07283839],\n",
       "       [-0.55165207],\n",
       "       [ 0.11952291],\n",
       "       [ 0.11677901],\n",
       "       [ 0.75279828],\n",
       "       [ 0.29128744],\n",
       "       [ 1.03509433],\n",
       "       [ 0.25211118],\n",
       "       [ 0.91706419],\n",
       "       [-2.36206082],\n",
       "       [-0.15651546],\n",
       "       [ 1.31515257],\n",
       "       [-0.813392  ],\n",
       "       [ 0.76157396],\n",
       "       [-0.75086559],\n",
       "       [-1.21865963],\n",
       "       [-0.09673878],\n",
       "       [ 0.61210535],\n",
       "       [-1.75709231],\n",
       "       [ 0.24624869],\n",
       "       [-0.69896458],\n",
       "       [ 0.7547752 ],\n",
       "       [-0.62846931],\n",
       "       [-0.94316268],\n",
       "       [-0.42303759],\n",
       "       [-0.03115406],\n",
       "       [-0.44221286],\n",
       "       [-1.14513442]])"
      ]
     },
     "execution_count": 30,
     "metadata": {},
     "output_type": "execute_result"
    }
   ],
   "source": [
    "x.reshape(-1,1)"
   ]
  },
  {
   "cell_type": "code",
   "execution_count": 7,
   "metadata": {},
   "outputs": [
    {
     "data": {
      "text/plain": [
       "<matplotlib.collections.PathCollection at 0x22fbbc58fa0>"
      ]
     },
     "execution_count": 7,
     "metadata": {},
     "output_type": "execute_result"
    },
    {
     "data": {
      "image/png": "[encoded data removed]",
      "text/plain": [
       "<Figure size 432x288 with 1 Axes>"
      ]
     },
     "metadata": {
      "needs_background": "light"
     },
     "output_type": "display_data"
    }
   ],
   "source": [
    "\n",
    "# 계수 및 절편\n",
    "w = 2 #입력값의 가중치\n",
    "b = 3  #절편\n",
    "# 노이지\n",
    "y = w*x + b + np.random.randn(n_samples) #\n",
    "plt.scatter(x,y, s=10)"
   ]
  },
  {
   "cell_type": "code",
   "execution_count": 62,
   "metadata": {},
   "outputs": [
    {
     "data": {
      "text/plain": [
       "<matplotlib.collections.PathCollection at 0x2dfb205bc40>"
      ]
     },
     "execution_count": 62,
     "metadata": {},
     "output_type": "execute_result"
    },
    {
     "data": {
      "image/png": "[encoded data removed]",
      "text/plain": [
       "<Figure size 432x288 with 1 Axes>"
      ]
     },
     "metadata": {
      "needs_background": "light"
     },
     "output_type": "display_data"
    }
   ],
   "source": [
    "\n",
    "# 계수 및 절편\n",
    "w = 2 #입력값의 가중치\n",
    "b = 3  #절편\n",
    "# 노이지\n",
    "y = w*x + b + 2*np.random.randn(n_samples) #np.random.randn(n_samples): 표준편차가 1, 평균이 0\n",
    "plt.scatter(x,y, s=10)"
   ]
  },
  {
   "cell_type": "code",
   "execution_count": 8,
   "metadata": {},
   "outputs": [
    {
     "data": {
      "text/plain": [
       "array([[1.        , 0.89783949],\n",
       "       [0.89783949, 1.        ]])"
      ]
     },
     "execution_count": 8,
     "metadata": {},
     "output_type": "execute_result"
    }
   ],
   "source": [
    "np.corrcoef(x,y)  #직선의 상관관계"
   ]
  },
  {
   "cell_type": "code",
   "execution_count": 9,
   "metadata": {},
   "outputs": [
    {
     "name": "stdout",
     "output_type": "stream",
     "text": [
      "[1.97429845]\n",
      "3.0227490396780987\n"
     ]
    }
   ],
   "source": [
    "from sklearn.linear_model import LinearRegression\n",
    "leg = LinearRegression() #모델의 생성자 만들다, 지금부터 모델을 쓰겠다는 뜻이다\n",
    "leg.fit(x.reshape(-1,1), y) #linearegression모델이 입력을 받을때, 2차원 벡터로 모양을 바꾸어서 넣어주다\n",
    "\n",
    "print(leg.coef_)#leg가 제공하는 coef_함수값 출력(=w값예측)\n",
    "print(leg.intercept_)# b값을 예측"
   ]
  },
  {
   "cell_type": "markdown",
   "metadata": {},
   "source": [
    "#### 변수가 2개인 경우"
   ]
  },
  {
   "cell_type": "code",
   "execution_count": 10,
   "metadata": {},
   "outputs": [
    {
     "name": "stdout",
     "output_type": "stream",
     "text": [
      "[1.81575183 3.01110285]\n",
      "4.012924743843561\n"
     ]
    }
   ],
   "source": [
    "n_samples = 200\n",
    "x1 = np.random.randn(n_samples)\n",
    "x2 = np.random.randn(n_samples)\n",
    "\n",
    "y = 2 * x1 + 3 * x2 + 4 + 2* np.random.randn(n_samples)  #y에는 실제값이 들어있다\n",
    "\n",
    "leg = LinearRegression()\n",
    "X = pd.DataFrame({'x1': x1, 'x2':x2})\n",
    "leg.fit(X, y)\n",
    "\n",
    "print(leg.coef_)  #계수가 2개 나오다 #[2.0695434  3.00412134] ->   2 * x1 + 3 * x2 에서 x1의 2를 예측한 것이다\n",
    "print(leg.intercept_)"
   ]
  },
  {
   "cell_type": "markdown",
   "metadata": {},
   "source": [
    "#### 경사하강법"
   ]
  },
  {
   "cell_type": "code",
   "execution_count": 18,
   "metadata": {},
   "outputs": [
    {
     "data": {
      "text/plain": [
       "(0.5560781902320429, 0.7201076235874334, 0.6356207508159468)"
      ]
     },
     "execution_count": 18,
     "metadata": {},
     "output_type": "execute_result"
    }
   ],
   "source": [
    "#횟수를 몇번 하냐 개수를 설정할 수 있다\n",
    "num_epoch = 30  #몇번 학습 시킬거냐\n",
    "lr = 0.5   #학습속도 learning rate\n",
    "\n",
    "w1 = np.random.uniform()  #0~1사이의 랜덤한 값이 나온다\n",
    "w2 = np.random.uniform()\n",
    "b = np.random.uniform()\n",
    "\n",
    "w1, w2, b,"
   ]
  },
  {
   "cell_type": "code",
   "execution_count": null,
   "metadata": {},
   "outputs": [],
   "source": []
  },
  {
   "cell_type": "code",
   "execution_count": 16,
   "metadata": {},
   "outputs": [
    {
     "name": "stdout",
     "output_type": "stream",
     "text": [
      " 0) w1 = 0.0669, w2 = 0.8274,b = 0.1274, error = 4.685595\n",
      " 1) w1 = 1.1230, w2 = 2.1773,b = 2.2372, error = 2.410450\n",
      " 2) w1 = 1.5427, w2 = 2.7136,b = 3.1890, error = 1.736368\n",
      " 3) w1 = 1.7086, w2 = 2.9188,b = 3.6240, error = 1.607383\n",
      " 4) w1 = 1.7738, w2 = 2.9922,b = 3.8258, error = 1.576050\n",
      " 5) w1 = 1.7993, w2 = 3.0151,b = 3.9210, error = 1.568522\n",
      " 6) w1 = 1.8093, w2 = 3.0199,b = 3.9668, error = 1.566662\n",
      " 7) w1 = 1.8131, w2 = 3.0190,b = 3.9893, error = 1.566395\n",
      " 8) w1 = 1.8147, w2 = 3.0169,b = 4.0006, error = 1.566370\n",
      " 9) w1 = 1.8153, w2 = 3.0150,b = 4.0064, error = 1.566425\n",
      "10) w1 = 1.8155, w2 = 3.0136,b = 4.0094, error = 1.566492\n",
      "11) w1 = 1.8156, w2 = 3.0127,b = 4.0110, error = 1.566532\n",
      "12) w1 = 1.8157, w2 = 3.0121,b = 4.0118, error = 1.566555\n",
      "13) w1 = 1.8157, w2 = 3.0117,b = 4.0123, error = 1.566568\n",
      "14) w1 = 1.8157, w2 = 3.0114,b = 4.0126, error = 1.566576\n",
      "15) w1 = 1.8157, w2 = 3.0113,b = 4.0127, error = 1.566580\n",
      "16) w1 = 1.8157, w2 = 3.0112,b = 4.0128, error = 1.566583\n",
      "17) w1 = 1.8157, w2 = 3.0112,b = 4.0129, error = 1.566584\n",
      "18) w1 = 1.8157, w2 = 3.0111,b = 4.0129, error = 1.566585\n",
      "19) w1 = 1.8158, w2 = 3.0111,b = 4.0129, error = 1.566585\n",
      "20) w1 = 1.8158, w2 = 3.0111,b = 4.0129, error = 1.566586\n",
      "21) w1 = 1.8158, w2 = 3.0111,b = 4.0129, error = 1.566586\n",
      "22) w1 = 1.8158, w2 = 3.0111,b = 4.0129, error = 1.566586\n",
      "23) w1 = 1.8158, w2 = 3.0111,b = 4.0129, error = 1.566586\n",
      "24) w1 = 1.8158, w2 = 3.0111,b = 4.0129, error = 1.566586\n",
      "25) w1 = 1.8158, w2 = 3.0111,b = 4.0129, error = 1.566586\n",
      "26) w1 = 1.8158, w2 = 3.0111,b = 4.0129, error = 1.566586\n",
      "27) w1 = 1.8158, w2 = 3.0111,b = 4.0129, error = 1.566586\n",
      "28) w1 = 1.8158, w2 = 3.0111,b = 4.0129, error = 1.566586\n",
      "29) w1 = 1.8158, w2 = 3.0111,b = 4.0129, error = 1.566586\n"
     ]
    }
   ],
   "source": [
    "for epoch in range(num_epoch):\n",
    "    y_pred = w1*x1 + w2*x2 + b  #예상치를 먼저 구하다, 내 모델이 예상한 값 #모델의 출력\n",
    "    error = np.abs(y_pred - y).mean() #예측값 - 실제값의 평균 = 오차\n",
    "    print(f\"{epoch:2}) w1 = {w1:.4f}, w2 = {w2:.4f},b = {b:.4f}, error = {error:.6f}\") #{epoch:2}-> epoch는 두자리 숫자만 적어라\n",
    "    \n",
    "    w1 = w1 - lr*((y_pred - y)* x1).mean() #오차에 x1과 x2를 각각 곱한것 평균내다\n",
    "    w2 = w2 - lr*((y_pred - y)* x2).mean() #계수를 업데이트 하다, 학습하다 이젠의 w1,w2값을 새로운 w1,w2로 학습시키다\n",
    "    b = b - lr*((y_pred- y)).mean()  #3개 요소) lr: 학습속도, "
   ]
  },
  {
   "cell_type": "code",
   "execution_count": 19,
   "metadata": {},
   "outputs": [
    {
     "name": "stdout",
     "output_type": "stream",
     "text": [
      " 0 w1 = 0.657345,  w2 = 0.975253, b = 0.529174 , error = 4.194092\n",
      " 1 w1 = 2.090986,  w2 = 3.456588, b = 4.316810 , error = 1.599259\n",
      " 2 w1 = 1.759951,  w2 = 2.977180, b = 3.946084 , error = 1.568886\n",
      " 3 w1 = 1.825219,  w2 = 3.021007, b = 4.018566 , error = 1.566189\n",
      " 4 w1 = 1.814094,  w2 = 3.010391, b = 4.011386 , error = 1.566632\n",
      " 5 w1 = 1.816016,  w2 = 3.011346, b = 4.013051 , error = 1.566575\n",
      " 6 w1 = 1.815707,  w2 = 3.011086, b = 4.012886 , error = 1.566587\n",
      " 7 w1 = 1.815759,  w2 = 3.011109, b = 4.012928 , error = 1.566586\n",
      " 8 w1 = 1.815751,  w2 = 3.011102, b = 4.012924 , error = 1.566586\n",
      " 9 w1 = 1.815752,  w2 = 3.011103, b = 4.012925 , error = 1.566586\n",
      "10 w1 = 1.815752,  w2 = 3.011103, b = 4.012925 , error = 1.566586\n",
      "11 w1 = 1.815752,  w2 = 3.011103, b = 4.012925 , error = 1.566586\n",
      "12 w1 = 1.815752,  w2 = 3.011103, b = 4.012925 , error = 1.566586\n",
      "13 w1 = 1.815752,  w2 = 3.011103, b = 4.012925 , error = 1.566586\n",
      "14 w1 = 1.815752,  w2 = 3.011103, b = 4.012925 , error = 1.566586\n",
      "15 w1 = 1.815752,  w2 = 3.011103, b = 4.012925 , error = 1.566586\n",
      "16 w1 = 1.815752,  w2 = 3.011103, b = 4.012925 , error = 1.566586\n",
      "17 w1 = 1.815752,  w2 = 3.011103, b = 4.012925 , error = 1.566586\n",
      "18 w1 = 1.815752,  w2 = 3.011103, b = 4.012925 , error = 1.566586\n",
      "19 w1 = 1.815752,  w2 = 3.011103, b = 4.012925 , error = 1.566586\n",
      "20 w1 = 1.815752,  w2 = 3.011103, b = 4.012925 , error = 1.566586\n",
      "21 w1 = 1.815752,  w2 = 3.011103, b = 4.012925 , error = 1.566586\n",
      "22 w1 = 1.815752,  w2 = 3.011103, b = 4.012925 , error = 1.566586\n",
      "23 w1 = 1.815752,  w2 = 3.011103, b = 4.012925 , error = 1.566586\n",
      "24 w1 = 1.815752,  w2 = 3.011103, b = 4.012925 , error = 1.566586\n",
      "25 w1 = 1.815752,  w2 = 3.011103, b = 4.012925 , error = 1.566586\n",
      "26 w1 = 1.815752,  w2 = 3.011103, b = 4.012925 , error = 1.566586\n",
      "27 w1 = 1.815752,  w2 = 3.011103, b = 4.012925 , error = 1.566586\n",
      "28 w1 = 1.815752,  w2 = 3.011103, b = 4.012925 , error = 1.566586\n",
      "29 w1 = 1.815752,  w2 = 3.011103, b = 4.012925 , error = 1.566586\n"
     ]
    }
   ],
   "source": [
    "num_epoch = 30\n",
    "lr = 1\n",
    "\n",
    "w1 = np.random.uniform()\n",
    "w2 = np.random.uniform()\n",
    "b = np.random.uniform()\n",
    "\n",
    "\n",
    "for epoch in range(num_epoch):\n",
    "    y_pred = w1*x1 + w2*x2 + b\n",
    "    error = np.abs(y_pred - y).mean()\n",
    "    print(f\"{epoch:2} w1 = {w1:.6f},  w2 = {w2:.6f}, b = {b:.6f} , error = {error:.6f}\")\n",
    "\n",
    "    w1 = w1 - lr*((y_pred - y)* x1).mean()  #y_pred - y: 오차가 크면 빨리 조절하라는 뜻\n",
    "    w2 = w2 - lr*((y_pred - y)* x2).mean()  #()*x1: x1크기에 맞게 가중치를 할당해 주어라\n",
    "    b = b - lr*((y_pred - y)).mean()    #lr: 속도 조절을 해라"
   ]
  },
  {
   "cell_type": "code",
   "execution_count": 20,
   "metadata": {},
   "outputs": [
    {
     "data": {
      "text/plain": [
       "0.7797224440580502"
      ]
     },
     "execution_count": 20,
     "metadata": {},
     "output_type": "execute_result"
    }
   ],
   "source": [
    "leg.score(X,y)  # R square < 1   예측모델의 score (정확성), 결정계수 구하다"
   ]
  },
  {
   "cell_type": "code",
   "execution_count": null,
   "metadata": {},
   "outputs": [],
   "source": []
  }
 ],
 "metadata": {
  "kernelspec": {
   "display_name": "Python 3",
   "language": "python",
   "name": "python3"
  },
  "language_info": {
   "codemirror_mode": {
    "name": "ipython",
    "version": 3
   },
   "file_extension": ".py",
   "mimetype": "text/x-python",
   "name": "python",
   "nbconvert_exporter": "python",
   "pygments_lexer": "ipython3",
   "version": "3.8.5"
  }
 },
 "nbformat": 4,
 "nbformat_minor": 2
}
