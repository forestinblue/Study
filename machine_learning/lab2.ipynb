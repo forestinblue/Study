{
  "cells": [
    {
      "cell_type": "markdown",
      "metadata": {
        "id": "sVMZSR_bohK6"
      },
      "source": [
        "# Machine Learning - Lab Session 2\n",
        "\n",
        "This material is for educational uses only. Some contents are based on the material provided by other paper/book authors and may be copyrighted by them. \n",
        "\n",
        "**Note**: certain details are missing or ambiguous on purpose, in order to test your knowledge on the related materials. However, if you really feel that something essential is missing and cannot proceed to the next step, then contact the teaching staff with clear description of your problem.\n",
        "\n",
        "### Submitting your work:\n",
        "- <font color=red>**DO NOT clear the final outputs**</font> so that TAs can grade both your code and results.\n",
        "- Commit the `.ipynb` file on your github repository and submit URL on E-Ruri"
      ]
    },
    {
      "cell_type": "markdown",
      "metadata": {
        "id": "nbPO7auSohLA"
      },
      "source": [
        "## Load `diabetes` dataset for Linear Regression"
      ]
    },
    {
      "cell_type": "code",
      "execution_count": 4,
      "metadata": {
        "id": "KKMg-XaUohLB"
      },
      "outputs": [],
      "source": [
        "import numpy as np\n",
        "from sklearn import datasets\n",
        "from sklearn.metrics import mean_squared_error, r2_score\n",
        "\n",
        "# Load the diabetes dataset\n",
        "X, y = datasets.load_diabetes(return_X_y=True)\n",
        "\n",
        "# Use only one feature\n",
        "X = X[:, np.newaxis, 2]\n",
        "\n",
        "# Split the data into training/testing sets\n",
        "X_train = X[:-20]\n",
        "X_test = X[-20:]\n",
        "\n",
        "# Split the targets into training/testing sets\n",
        "y_train = y[:-20]\n",
        "y_test = y[-20:]"
      ]
    },
    {
      "cell_type": "code",
      "execution_count": 5,
      "metadata": {
        "colab": {
          "base_uri": "https://localhost:8080/"
        },
        "id": "ErNryUFKqfT2",
        "outputId": "7d481a30-44c4-4bcd-fe8d-8268bf85acda"
      },
      "outputs": [
        {
          "name": "stdout",
          "output_type": "stream",
          "text": [
            "X: (442, 1)\n",
            "y: (442,)\n",
            "X_train: (422, 1)\n",
            "y_train: (422,)\n",
            "X_test: (20, 1)\n",
            "y_test: (20,)\n"
          ]
        }
      ],
      "source": [
        "# Show data size\n",
        "print('X: ' + str(X.shape))\n",
        "print('y: ' + str(y.shape))\n",
        "\n",
        "print('X_train: ' + str(X_train.shape))\n",
        "print('y_train: ' + str(y_train.shape))\n",
        "\n",
        "print('X_test: ' + str(X_test.shape))\n",
        "print('y_test: ' + str(y_test.shape))"
      ]
    },
    {
      "cell_type": "markdown",
      "metadata": {
        "id": "tb3fmRd2ohLD"
      },
      "source": [
        "### <font color=blue>[Lab #2-1]</font>  Linear regression with sklearn (20 points)\n",
        "\n",
        "Use **linear_model** from Scikit-Learn [[reference](https://scikit-learn.org/stable/auto_examples/linear_model/plot_ols.html)]"
      ]
    },
    {
      "cell_type": "code",
      "execution_count": 6,
      "metadata": {
        "colab": {
          "base_uri": "https://localhost:8080/"
        },
        "id": "S8cxUo75ohLD",
        "outputId": "8476c335-e27c-4987-d741-e381631a8e54"
      },
      "outputs": [
        {
          "name": "stdout",
          "output_type": "stream",
          "text": [
            "SK Parameters: 152.9189, 938.2379\n",
            "SK train MSE: 3955.0199\n",
            "SK test MSE: 2548.0724\n"
          ]
        }
      ],
      "source": [
        "from sklearn import linear_model\n",
        "import matplotlib.pyplot as plt\n",
        "%matplotlib inline\n",
        "\n",
        "# create model  \n",
        "sk_lin_regr = linear_model.LinearRegression()\n",
        "#reference에 거의 비슷한 예제가 있다\n",
        "\n",
        "# train model\n",
        "sk_lin_regr.fit(X_train, y_train)\n",
        "print('SK Parameters: %.4f, %.4f' %\n",
        "      (sk_lin_regr.intercept_, np.squeeze(sk_lin_regr.coef_, axis=0)))\n",
        "\n",
        "# inferece with train data\n",
        "y_train_pred = sk_lin_regr.predict(X_train)\n",
        "print('SK train MSE: %.4f' %\n",
        "      mean_squared_error(y_train, y_train_pred) )\n",
        "\n",
        "# inferece with test data\n",
        "y_test_pred = sk_lin_regr.predict(X_test)\n",
        "print('SK test MSE: %.4f' %\n",
        "      mean_squared_error(y_test, y_test_pred) )\n",
        "\n",
        "\n"
      ]
    },
    {
      "cell_type": "code",
      "execution_count": 7,
      "metadata": {
        "colab": {
          "base_uri": "https://localhost:8080/",
          "height": 262
        },
        "id": "pVCczHKNsJFl",
        "outputId": "becaae0e-9cdf-4f5e-b7e5-6096bab746e3"
      },
      "outputs": [
        {
          "data": {
            "image/png": "[encoded data removed]",
            "text/plain": [
              "<Figure size 432x288 with 1 Axes>"
            ]
          },
          "metadata": {},
          "output_type": "display_data"
        }
      ],
      "source": [
        "# plot outputs\n",
        "plt.scatter(X_test, y_test, color='black')\n",
        "plt.plot(X_test, y_test_pred, color='blue', linewidth=3)\n",
        "\n",
        "plt.xlabel('X')\n",
        "plt.ylabel('y')\n",
        "\n",
        "plt.xticks(())\n",
        "plt.yticks(())\n",
        "\n",
        "plt.show()"
      ]
    },
    {
      "cell_type": "markdown",
      "metadata": {
        "id": "q2PInhrLohLE"
      },
      "source": [
        "### <font color=blue>[Lab #2-2]</font> Linear regression without sklearn (20 points)\n",
        "1. Complete the following class definition.  \n",
        "2. You can write your code only within the marked with comments.\n",
        "\n",
        "**[hint]** You can use `numpy.linalg.inv` for inverse and `np.matmul` for matrix multiplication.\n",
        "$$\n",
        "\\mathbf{X}^\\dagger = (\\mathbf{X}^\\top\\mathbf{X})^{-1}\\mathbf{X}^\\top\n",
        "\\\\\n",
        "\\mathbf{w}_{\\textrm{lin}}=\\mathbf{X}^\\dagger y\n",
        "$$\n",
        "\n"
      ]
    },
    {
      "cell_type": "code",
      "execution_count": 8,
      "metadata": {
        "id": "hJxgV0hmohLF"
      },
      "outputs": [],
      "source": [
        "from numpy.linalg import inv\n",
        "\n",
        "class LinearRegression():\n",
        "    def fit(self, X, y):\n",
        "        #linear regression\n",
        "        self.X_psuedo_inv =  np.matmul(np.linalg.inv(np.matmul(X.T,X)), X.T)\n",
        "        self.w = np.matmul(self.X_psuedo_inv, y)\n",
        "\n",
        "    def predict(self, X):\n",
        "        return  X @ self.w\n",
        "    \n",
        "    def get_weights(self):\n",
        "        return self.w\n"
      ]
    },
    {
      "cell_type": "markdown",
      "metadata": {
        "id": "60qrz1hPohLG"
      },
      "source": [
        "Extend $\\mathbf{X}$ with $\\mathbf{1}_d=(1,1,…,1)∈\\mathbb{R}^d$ using `add_one_column` method which we used in Lab 1.\n",
        "$$\n",
        "\\mathbf{X} = \\begin{bmatrix} x_1 \\\\\n",
        "x_2 \\\\\n",
        "\\vdots  \\\\\n",
        "x_d \\\\\n",
        "\\end{bmatrix}\n",
        "\\Rightarrow\n",
        "\\mathbf{X} = \\begin{bmatrix}\n",
        "1 & x_1 \\\\\n",
        "1 & x_2 \\\\\n",
        "\\vdots  & \\vdots  \\\\\n",
        "1 & x_d \\\\\n",
        "\\end{bmatrix}\n",
        "$$\n",
        "\n",
        "By using X, you should compute optimal weight, `w_lin`.\n",
        "\n",
        "**[hint]** compute pseudo-inverse of $\\mathbf{X}$"
      ]
    },
    {
      "cell_type": "code",
      "execution_count": 9,
      "metadata": {
        "id": "CgZcg-uqvrDk"
      },
      "outputs": [],
      "source": [
        "def add_one_column(data):\n",
        "    # number of data records\n",
        "    N = len(data) \n",
        "\n",
        "    # add column of ones for x_0\n",
        "    return np.c_[np.ones(N), data] "
      ]
    },
    {
      "cell_type": "code",
      "execution_count": 10,
      "metadata": {
        "colab": {
          "base_uri": "https://localhost:8080/"
        },
        "id": "DxJOCbLyohLG",
        "outputId": "e29d9bbe-5602-4246-d80d-2c2cc5ea3fb0"
      },
      "outputs": [
        {
          "name": "stdout",
          "output_type": "stream",
          "text": [
            "X_train_extneded:  (422, 2)\n",
            "X_test_extneded:  (20, 2)\n"
          ]
        }
      ],
      "source": [
        "X_train_extended = add_one_column(X_train)\n",
        "X_test_extended = add_one_column(X_test)\n",
        "print('X_train_extneded: ', str(X_train_extended.shape))\n",
        "print('X_test_extneded: ', str(X_test_extended.shape))"
      ]
    },
    {
      "cell_type": "code",
      "execution_count": 11,
      "metadata": {
        "colab": {
          "base_uri": "https://localhost:8080/"
        },
        "id": "4Pk4DGrCzcPK",
        "outputId": "e00086b7-3c6a-43be-f24c-efdd9dc3e7b2"
      },
      "outputs": [
        {
          "name": "stdout",
          "output_type": "stream",
          "text": [
            "Numpy Parameters: 152.9189, 938.2379\n"
          ]
        }
      ],
      "source": [
        "# create model\n",
        "np_lin_regr = LinearRegression()\n",
        "\n",
        "# train model\n",
        "np_lin_regr.fit(X_train_extended, y_train)\n",
        "\n",
        "print('Numpy Parameters: %.4f, %.4f' %\n",
        "      (np_lin_regr.get_weights()[0], np_lin_regr.get_weights()[1]))\n",
        "\n",
        "#sklearn 썼을때와 동일한 결과가 나올 것이다."
      ]
    },
    {
      "cell_type": "code",
      "execution_count": 12,
      "metadata": {
        "colab": {
          "base_uri": "https://localhost:8080/"
        },
        "id": "VRs3NU6mzeWj",
        "outputId": "9f5b4a71-743f-4562-f1b8-f5220be5e49a"
      },
      "outputs": [
        {
          "name": "stdout",
          "output_type": "stream",
          "text": [
            "NP train MSE: 3955.0199\n",
            "NP test MSE: 2548.0724\n"
          ]
        }
      ],
      "source": [
        "# inferece with train data\n",
        "y_train_pred = np_lin_regr.predict(X_train_extended)\n",
        "print('NP train MSE: %.4f' %\n",
        "      mean_squared_error(y_train, y_train_pred) )\n",
        "\n",
        "# inferece with test data\n",
        "y_test_pred = np_lin_regr.predict(X_test_extended)\n",
        "print('NP test MSE: %.4f' %\n",
        "      mean_squared_error(y_test, y_test_pred) )"
      ]
    },
    {
      "cell_type": "code",
      "execution_count": 13,
      "metadata": {
        "colab": {
          "base_uri": "https://localhost:8080/",
          "height": 262
        },
        "id": "pl9GvuSHziIa",
        "outputId": "c3d2db32-cfb6-4198-d538-ca1662ccf731"
      },
      "outputs": [
        {
          "data": {
            "image/png": "[encoded data removed]",
            "text/plain": [
              "<Figure size 432x288 with 1 Axes>"
            ]
          },
          "metadata": {},
          "output_type": "display_data"
        }
      ],
      "source": [
        "# plot outputs\n",
        "plt.scatter(X_test, y_test, color='black')\n",
        "plt.plot(X_test, y_test_pred, color='blue', linewidth=3)\n",
        "\n",
        "plt.xlabel('X')\n",
        "plt.ylabel('y')\n",
        "\n",
        "plt.xticks(())\n",
        "plt.yticks(())\n",
        "\n",
        "plt.show()"
      ]
    },
    {
      "cell_type": "markdown",
      "metadata": {
        "id": "iIIDaTRoDzXR"
      },
      "source": [
        "## Load `breast_cancer` data for Logistic Regression"
      ]
    },
    {
      "cell_type": "code",
      "execution_count": 14,
      "metadata": {
        "colab": {
          "base_uri": "https://localhost:8080/"
        },
        "id": "G4_Aksny2s6j",
        "outputId": "9909ee40-72ef-4ecd-ef9c-522f9fc026ea"
      },
      "outputs": [
        {
          "name": "stdout",
          "output_type": "stream",
          "text": [
            "X: (569, 2)\n",
            "y: (569,)\n"
          ]
        }
      ],
      "source": [
        "from sklearn.datasets import load_breast_cancer\n",
        "\n",
        "data = load_breast_cancer()\n",
        "\n",
        "X = data.data[:, [0, 6]]  #2개 dimension만 사용\n",
        "y = data.target\n",
        "\n",
        "# show data size\n",
        "print('X: ' + str(X.shape))\n",
        "print('y: ' + str(y.shape))"
      ]
    },
    {
      "cell_type": "markdown",
      "metadata": {
        "id": "oiKAGoHkE43J"
      },
      "source": [
        "Split data into train and test set."
      ]
    },
    {
      "cell_type": "code",
      "execution_count": 15,
      "metadata": {
        "colab": {
          "base_uri": "https://localhost:8080/"
        },
        "id": "rnqtj6zV2yX6",
        "outputId": "bf291cb8-4918-4c4c-ca6f-a6d6a7380e88"
      },
      "outputs": [
        {
          "name": "stdout",
          "output_type": "stream",
          "text": [
            "X_train: (381, 2)\n",
            "y_train: (381,)\n",
            "X_test: (188, 2)\n",
            "y_test: (188,)\n"
          ]
        }
      ],
      "source": [
        "from sklearn.model_selection import train_test_split\n",
        "\n",
        "# Split the data into training/testing sets\n",
        "X_train, X_test, y_train, y_test = train_test_split(\n",
        "    X, y, test_size=0.33, random_state=42)\n",
        "\n",
        "# Show data size\n",
        "print('X_train: ' + str(X_train.shape))\n",
        "print('y_train: ' + str(y_train.shape))\n",
        "\n",
        "print('X_test: ' + str(X_test.shape))\n",
        "print('y_test: ' + str(y_test.shape))"
      ]
    },
    {
      "cell_type": "markdown",
      "metadata": {
        "id": "K3r5414b1oXq"
      },
      "source": [
        "### <font color=blue>[Lab #2-3]</font> Logisitic regression with sklearn (20 points)\n",
        "Use **linear_model** from Scikit-Learn."
      ]
    },
    {
      "cell_type": "code",
      "execution_count": 16,
      "metadata": {
        "colab": {
          "base_uri": "https://localhost:8080/"
        },
        "id": "PV97BjCP3Zem",
        "outputId": "46fc1ab4-6945-4f4a-b238-96e92a1e3adc"
      },
      "outputs": [
        {
          "name": "stdout",
          "output_type": "stream",
          "text": [
            "SK Parameters: 12.9441, -0.8589, -2.7129\n"
          ]
        }
      ],
      "source": [
        "# create model\n",
        "sk_logis_regr =linear_model.LogisticRegression()\n",
        "\n",
        "# train model\n",
        "sk_logis_regr.fit(X_train, y_train)\n",
        "\n",
        "print('SK Parameters: %.4f, %.4f, %.4f' %\n",
        "      (sk_logis_regr.intercept_,\n",
        "       sk_logis_regr.coef_[0, 0], sk_logis_regr.coef_[0, 1]))\n",
        "\n",
        "\n",
        "\n"
      ]
    },
    {
      "cell_type": "code",
      "execution_count": 17,
      "metadata": {
        "colab": {
          "base_uri": "https://localhost:8080/"
        },
        "id": "BlLUz6FS51g-",
        "outputId": "bd89a241-1fc9-4256-d67a-623e14fe34e7"
      },
      "outputs": [
        {
          "name": "stdout",
          "output_type": "stream",
          "text": [
            "SK train accuracy: 0.8714\n",
            "SK test accuracy: 0.9149\n"
          ]
        }
      ],
      "source": [
        "from sklearn.metrics import accuracy_score\n",
        "\n",
        "# inferece with train data\n",
        "y_train_pred = sk_logis_regr.predict(X_train)\n",
        "print('SK train accuracy: %.4f' %\n",
        "      accuracy_score(y_train, y_train_pred) )\n",
        "\n",
        "# inferece with test data\n",
        "y_test_pred = sk_logis_regr.predict(X_test)\n",
        "print('SK test accuracy: %.4f' %\n",
        "      accuracy_score(y_test, y_test_pred) )"
      ]
    },
    {
      "cell_type": "markdown",
      "metadata": {
        "id": "Ud6F-YyO1ymU"
      },
      "source": [
        "### <font color=blue>[Lab #2-4]</font> Logisitic regression with PyTorch (20 points)\n"
      ]
    },
    {
      "cell_type": "markdown",
      "metadata": {
        "id": "AIv8_PMg_u1d"
      },
      "source": [
        "Import `PyTorch` packages"
      ]
    },
    {
      "cell_type": "code",
      "execution_count": 3,
      "metadata": {
        "id": "juou7sgD1mrl"
      },
      "outputs": [
        {
          "ename": "ModuleNotFoundError",
          "evalue": "No module named 'torch'",
          "output_type": "error",
          "traceback": [
            "\u001b[1;31m---------------------------------------------------------------------------\u001b[0m",
            "\u001b[1;31mModuleNotFoundError\u001b[0m                       Traceback (most recent call last)",
            "\u001b[1;32mC:\\Users\\KIMJUN~1\\AppData\\Local\\Temp/ipykernel_22956/4265195184.py\u001b[0m in \u001b[0;36m<module>\u001b[1;34m\u001b[0m\n\u001b[1;32m----> 1\u001b[1;33m \u001b[1;32mimport\u001b[0m \u001b[0mtorch\u001b[0m\u001b[1;33m\u001b[0m\u001b[1;33m\u001b[0m\u001b[0m\n\u001b[0m",
            "\u001b[1;31mModuleNotFoundError\u001b[0m: No module named 'torch'"
          ]
        }
      ],
      "source": [
        "import torch"
      ]
    },
    {
      "cell_type": "markdown",
      "metadata": {
        "id": "5PoDfjiP_0ih"
      },
      "source": [
        "Convert data into `Tensor`, the inherence data type for `Pytorch`."
      ]
    },
    {
      "cell_type": "code",
      "execution_count": null,
      "metadata": {
        "id": "vGiWZoK49b5U"
      },
      "outputs": [],
      "source": [
        "X_train_tensor = torch.FloatTensor(X_train)\n",
        "y_train_tensor = torch.FloatTensor(y_train)\n",
        "\n",
        "X_test_tensor = torch.FloatTensor(X_test)\n",
        "y_test_tensor = torch.FloatTensor(y_test)"
      ]
    },
    {
      "cell_type": "markdown",
      "metadata": {
        "id": "n2zaGmJCAKSL"
      },
      "source": [
        "Define LogisiticRegression with [`nn.Linear`](https://pytorch.org/docs/stable/generated/torch.nn.Linear.html) and [`sigmoid`](https://pytorch.org/docs/stable/generated/torch.sigmoid.html?highlight=sigmoid#torch.sigmoid)."
      ]
    },
    {
      "cell_type": "code",
      "execution_count": null,
      "metadata": {
        "id": "v_ESKjIY6IYM"
      },
      "outputs": [],
      "source": [
        "from torch import sigmoid\n",
        "\n",
        "class LogsiticRegression(torch.nn.Module):\n",
        "    def __init__(self):\n",
        "        super().__init__()\n",
        "        self.linear = torch.nn.Linear(2, 1) \n",
        "    \n",
        "    def forward(self, x):\n",
        "        y_pred = torch.sigmoid(self.linear(x))\n",
        "        return y_pred\n",
        "    \n",
        "    \n",
        "\n",
        "    "
      ]
    },
    {
      "cell_type": "code",
      "execution_count": null,
      "metadata": {
        "id": "y_3EJQdlCHsl"
      },
      "outputs": [],
      "source": [
        "# set hyper-parameter\n",
        "NUM_EPOCH = 20000\n",
        "LEARNING_RATE = 0.1"
      ]
    },
    {
      "cell_type": "markdown",
      "metadata": {
        "id": "2bluWKDVJq_W"
      },
      "source": [
        "Construct your learning precedure\n",
        "\n",
        "1.   Create model with your own model class `LogisticRegression`\n",
        "2.   Define error term with Binary Cross Entropy [[ref](https://pytorch.org/docs/stable/generated/torch.nn.BCELoss.html)]\n",
        "3.   Define optimizer with Stochastic Gradient Descent [[ref](https://pytorch.org/docs/stable/generated/torch.optim.SGD.html?highlight=sgd#torch.optim.SGD)]\n",
        "\n"
      ]
    },
    {
      "cell_type": "code",
      "execution_count": null,
      "metadata": {
        "id": "OjnFJoem2Es6"
      },
      "outputs": [],
      "source": [
        "# create model\n",
        "torch_logis_regr =LogsiticRegression()\n",
        "\n",
        "# define error term  nn.BCentropy 쓰겠다고 선언\n",
        "criterion =torch.nn.BCELoss()\n",
        "\n",
        "# define optimizer technique   torch.optim.SGD()\n",
        "optimizer = torch.optim.SGD(torch_logis_regr.parameters(), lr=LEARNING_RATE, momentum=0.9)\n",
        "\n",
        "\n"
      ]
    },
    {
      "cell_type": "code",
      "execution_count": null,
      "metadata": {
        "colab": {
          "base_uri": "https://localhost:8080/"
        },
        "id": "EkdxBiwm6z08",
        "outputId": "48096372-a570-42e4-cb95-3074660f69dc"
      },
      "outputs": [
        {
          "name": "stdout",
          "output_type": "stream",
          "text": [
            "epoch [    0 / 20000] 2.5907\n",
            "epoch [  500 / 20000] 1.4742\n",
            "epoch [ 1000 / 20000] 1.5600\n",
            "epoch [ 1500 / 20000] 1.1449\n",
            "epoch [ 2000 / 20000] 0.2950\n",
            "epoch [ 2500 / 20000] 0.2863\n",
            "epoch [ 3000 / 20000] 0.2841\n",
            "epoch [ 3500 / 20000] 0.2819\n",
            "epoch [ 4000 / 20000] 0.2798\n",
            "epoch [ 4500 / 20000] 0.2778\n",
            "epoch [ 5000 / 20000] 0.2759\n",
            "epoch [ 5500 / 20000] 0.2740\n",
            "epoch [ 6000 / 20000] 0.2722\n",
            "epoch [ 6500 / 20000] 0.2705\n",
            "epoch [ 7000 / 20000] 0.2689\n",
            "epoch [ 7500 / 20000] 0.2672\n",
            "epoch [ 8000 / 20000] 0.2657\n",
            "epoch [ 8500 / 20000] 0.2642\n",
            "epoch [ 9000 / 20000] 0.2628\n",
            "epoch [ 9500 / 20000] 0.2614\n",
            "epoch [10000 / 20000] 0.2600\n",
            "epoch [10500 / 20000] 0.2588\n",
            "epoch [11000 / 20000] 0.2575\n",
            "epoch [11500 / 20000] 0.2563\n",
            "epoch [12000 / 20000] 0.2552\n",
            "epoch [12500 / 20000] 0.2540\n",
            "epoch [13000 / 20000] 0.2530\n",
            "epoch [13500 / 20000] 0.2519\n",
            "epoch [14000 / 20000] 0.2509\n",
            "epoch [14500 / 20000] 0.2500\n",
            "epoch [15000 / 20000] 0.2490\n",
            "epoch [15500 / 20000] 0.2481\n",
            "epoch [16000 / 20000] 0.2473\n",
            "epoch [16500 / 20000] 0.2465\n",
            "epoch [17000 / 20000] 0.2457\n",
            "epoch [17500 / 20000] 0.2449\n",
            "epoch [18000 / 20000] 0.2441\n",
            "epoch [18500 / 20000] 0.2434\n",
            "epoch [19000 / 20000] 0.2427\n",
            "epoch [19500 / 20000] 0.2421\n"
          ]
        }
      ],
      "source": [
        "for epoch in range(NUM_EPOCH):\n",
        "    # inference\n",
        "    prob = torch_logis_regr(X_train_tensor)\n",
        "\n",
        "    # compute loss\n",
        "    loss = criterion(prob.squeeze(), y_train_tensor)\n",
        "   \n",
        "    # remove previous gradient\n",
        "    optimizer.zero_grad()  #초기화\n",
        "    \n",
        "    # compute gradient\n",
        "    loss.backward()  #계산\n",
        "\n",
        "    # run optimizer\n",
        "    optimizer.step() #반영\n",
        "\n",
        "    if not (epoch % 500):\n",
        "      print('epoch [%5d / %5d] %.4f' %\n",
        "            (epoch, NUM_EPOCH, loss.item()))"
      ]
    },
    {
      "cell_type": "code",
      "execution_count": null,
      "metadata": {
        "colab": {
          "base_uri": "https://localhost:8080/"
        },
        "id": "pYsPsh8d8TA1",
        "outputId": "1fe0a30a-565a-4495-a9a0-0db01e261fc5"
      },
      "outputs": [
        {
          "name": "stdout",
          "output_type": "stream",
          "text": [
            "Troch train accuracy: 0.9003\n",
            "Torch train accuracy: 0.9255\n"
          ]
        }
      ],
      "source": [
        "# inferece with train data\n",
        "y_train_prob = torch_logis_regr(X_train_tensor)\n",
        "y_train_pred = y_train_prob > 0.5\n",
        "print('Torch train accuracy: %.4f' %\n",
        "      accuracy_score(y_train, y_train_pred) )\n",
        "\n",
        "# inferece with test data\n",
        "y_test_prob = torch_logis_regr(X_test_tensor)\n",
        "y_test_pred = y_test_prob > 0.5\n",
        "print('Torch train accuracy: %.4f' %\n",
        "      accuracy_score(y_test, y_test_pred) )"
      ]
    }
  ],
  "metadata": {
    "colab": {
      "collapsed_sections": [],
      "name": "lab2.ipynb",
      "provenance": []
    },
    "kernelspec": {
      "display_name": "Python 3",
      "language": "python",
      "name": "python3"
    },
    "language_info": {
      "codemirror_mode": {
        "name": "ipython",
        "version": 3
      },
      "file_extension": ".py",
      "mimetype": "text/x-python",
      "name": "python",
      "nbconvert_exporter": "python",
      "pygments_lexer": "ipython3",
      "version": "3.8.10"
    }
  },
  "nbformat": 4,
  "nbformat_minor": 0
}
